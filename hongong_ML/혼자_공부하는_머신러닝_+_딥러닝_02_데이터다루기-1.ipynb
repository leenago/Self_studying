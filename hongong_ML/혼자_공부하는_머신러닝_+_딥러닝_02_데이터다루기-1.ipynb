{
  "nbformat": 4,
  "nbformat_minor": 0,
  "metadata": {
    "colab": {
      "name": "혼자_공부하는_머신러닝_+_딥러닝_02_데이터다루기.ipynb",
      "provenance": [],
      "collapsed_sections": [],
      "authorship_tag": "ABX9TyMF05zP2YG+w6qAquT96p/9",
      "include_colab_link": true
    },
    "kernelspec": {
      "name": "python3",
      "display_name": "Python 3"
    }
  },
  "cells": [
    {
      "cell_type": "markdown",
      "metadata": {
        "id": "view-in-github",
        "colab_type": "text"
      },
      "source": [
        "<a href=\"https://colab.research.google.com/github/leenago/Self_studying/blob/master/hongong_ML/%ED%98%BC%EC%9E%90_%EA%B3%B5%EB%B6%80%ED%95%98%EB%8A%94_%EB%A8%B8%EC%8B%A0%EB%9F%AC%EB%8B%9D_%2B_%EB%94%A5%EB%9F%AC%EB%8B%9D_02_%EB%8D%B0%EC%9D%B4%ED%84%B0%EB%8B%A4%EB%A3%A8%EA%B8%B0.ipynb\" target=\"_parent\"><img src=\"https://colab.research.google.com/assets/colab-badge.svg\" alt=\"Open In Colab\"/></a>"
      ]
    },
    {
      "cell_type": "markdown",
      "metadata": {
        "id": "zjBRY3E6hPeH"
      },
      "source": [
        "# 02-1 훈련 세트와 테스트 세트"
      ]
    },
    {
      "cell_type": "markdown",
      "metadata": {
        "id": "03hKICEQhoWS"
      },
      "source": [
        "## 1. 지도 학습과 비지도 학습\r\n",
        "- 지도 학습\r\n",
        "  - 지도 학습에서는 데이터를 **입력**, 정답을 **타깃**이라고 한다.\r\n",
        "  - *입력*과 *타깃*을 합쳐서 **훈련 데이터(training data)**라고 한다.\r\n",
        "  - 입력으로 사용된 길이와 무게를 **특성**이라고 한다.\r\n",
        "\r\n",
        "\r\n",
        "- 비지도 학습\r\n",
        "  - 비지도 학습은 타깃 없이 입력 데이터만 사용한다.\r\n",
        "  - 정답 데이터를 사용하지 않으므로, 비지도 학습은 무언가를 맞힐 수 없다.\r\n",
        "  - 반면, 데이터를 잘 파악하거나 변형하는 데 사용된다."
      ]
    },
    {
      "cell_type": "markdown",
      "metadata": {
        "id": "bFMrWV2Qi4vk"
      },
      "source": [
        "## 2. 훈련 세트와 테스트 세트\r\n",
        "- 머신러닝 알고리즘의 성능을 제대로 평가하기 위해서, 훈련 데이터와 평가 데이터는 달라야 한다.\r\n",
        "- **테스트 세트(test set)** : 평가에 사용되는 데이터\r\n",
        "- **훈련 세트(train set)** : 훈련에 사용되는 데이터"
      ]
    },
    {
      "cell_type": "code",
      "metadata": {
        "id": "tzeD9yPlhB5W"
      },
      "source": [
        "fish_length = [25.4, 26.3, 26.5, 29.0, 29.0, 29.7, 29.7, 30.0, 30.0, 30.7, 31.0, 31.0, \r\n",
        "                31.5, 32.0, 32.0, 32.0, 33.0, 33.0, 33.5, 33.5, 34.0, 34.0, 34.5, 35.0, \r\n",
        "                35.0, 35.0, 35.0, 36.0, 36.0, 37.0, 38.5, 38.5, 39.5, 41.0, 41.0, 9.8, \r\n",
        "                10.5, 10.6, 11.0, 11.2, 11.3, 11.8, 11.8, 12.0, 12.2, 12.4, 13.0, 14.3, 15.0]\r\n",
        "fish_weight = [242.0, 290.0, 340.0, 363.0, 430.0, 450.0, 500.0, 390.0, 450.0, 500.0, 475.0, 500.0, \r\n",
        "                500.0, 340.0, 600.0, 600.0, 700.0, 700.0, 610.0, 650.0, 575.0, 685.0, 620.0, 680.0, \r\n",
        "                700.0, 725.0, 720.0, 714.0, 850.0, 1000.0, 920.0, 955.0, 925.0, 975.0, 950.0, 6.7, \r\n",
        "                7.5, 7.0, 9.7, 9.8, 8.7, 10.0, 9.9, 9.8, 12.2, 13.4, 12.2, 19.7, 19.9]"
      ],
      "execution_count": null,
      "outputs": []
    },
    {
      "cell_type": "code",
      "metadata": {
        "id": "sykIP9Jajyke"
      },
      "source": [
        "#두 리스트를 가지고 생선의 길이와 무게를 하나의 리스트로 담은 2차원 리스트 만들기\r\n",
        "fish_data = [[l,w] for l,w in zip(fish_length, fish_weight)]\r\n",
        "fish_target = [1]*35 + [0]*14"
      ],
      "execution_count": null,
      "outputs": []
    },
    {
      "cell_type": "code",
      "metadata": {
        "id": "LQQ3v-QjkHsE"
      },
      "source": [
        "from sklearn.neighbors import KNeighborsClassifier\r\n",
        "kn = KNeighborsClassifier()"
      ],
      "execution_count": null,
      "outputs": []
    },
    {
      "cell_type": "code",
      "metadata": {
        "id": "Hyi2rXHaSMoN"
      },
      "source": [
        "#훈련 세트로 입력값(데이터) 중 0부터 34까지 사용\r\n",
        "train_input = fish_data[:35]\r\n",
        "#훈련 세트로 타깃값(정답) 중 0부터 34까지 사용\r\n",
        "train_target = fish_target[:35]\r\n",
        "\r\n",
        "#테스트 세트로 입력값 중 35번째부터 마지막 인덱스까지 사용\r\n",
        "test_input = fish_data[35:]\r\n",
        "#테스트 세트로 타깃값 중 35번째부터 마지막 인덱스까지 사용\r\n",
        "test_target = fish_target[35:]"
      ],
      "execution_count": null,
      "outputs": []
    },
    {
      "cell_type": "markdown",
      "metadata": {
        "id": "AQmpfCQnUWjI"
      },
      "source": [
        "- train set과 test set을 만들었으므로, train set으로 fit()을 시키고, test set으로 score()을 해본다."
      ]
    },
    {
      "cell_type": "code",
      "metadata": {
        "colab": {
          "base_uri": "https://localhost:8080/"
        },
        "id": "ZS_6EEbLUSUD",
        "outputId": "04a819f3-f223-459b-f668-dbff1228e656"
      },
      "source": [
        "kn = kn.fit(train_input, train_target)\r\n",
        "kn.score(test_input, test_target)"
      ],
      "execution_count": null,
      "outputs": [
        {
          "output_type": "execute_result",
          "data": {
            "text/plain": [
              "0.0"
            ]
          },
          "metadata": {
            "tags": []
          },
          "execution_count": 9
        }
      ]
    },
    {
      "cell_type": "markdown",
      "metadata": {
        "id": "UZ3ArMgIV8zB"
      },
      "source": [
        "- train set과 test set을 이렇게 나누면 *샘플링 편향*이 일어나게 된다.\r\n",
        "- **샘플링 편향**: train set과 test set에 샘플이 골고루 섞여 있지 않아 샘플링이 한쪽으로 치우친 경우\r\n",
        "---\r\n",
        "- 이 문제를 해결하기 위해 배열 라이브러리인 **넘파이(numpy)**를 사용한다."
      ]
    },
    {
      "cell_type": "code",
      "metadata": {
        "id": "_1vUe9eHU6bh"
      },
      "source": [
        "import numpy as np"
      ],
      "execution_count": null,
      "outputs": []
    },
    {
      "cell_type": "code",
      "metadata": {
        "id": "X_m4BurGWlgb"
      },
      "source": [
        "input_array = np.array(fish_data)\r\n",
        "target_array = np.array(fish_target)"
      ],
      "execution_count": null,
      "outputs": []
    },
    {
      "cell_type": "code",
      "metadata": {
        "colab": {
          "base_uri": "https://localhost:8080/"
        },
        "id": "sAY3eyCGWxEp",
        "outputId": "c6ae30f3-9edf-4f7c-bdbf-bb4e8d9a8a4d"
      },
      "source": [
        "input_array"
      ],
      "execution_count": null,
      "outputs": [
        {
          "output_type": "execute_result",
          "data": {
            "text/plain": [
              "array([[  25.4,  242. ],\n",
              "       [  26.3,  290. ],\n",
              "       [  26.5,  340. ],\n",
              "       [  29. ,  363. ],\n",
              "       [  29. ,  430. ],\n",
              "       [  29.7,  450. ],\n",
              "       [  29.7,  500. ],\n",
              "       [  30. ,  390. ],\n",
              "       [  30. ,  450. ],\n",
              "       [  30.7,  500. ],\n",
              "       [  31. ,  475. ],\n",
              "       [  31. ,  500. ],\n",
              "       [  31.5,  500. ],\n",
              "       [  32. ,  340. ],\n",
              "       [  32. ,  600. ],\n",
              "       [  32. ,  600. ],\n",
              "       [  33. ,  700. ],\n",
              "       [  33. ,  700. ],\n",
              "       [  33.5,  610. ],\n",
              "       [  33.5,  650. ],\n",
              "       [  34. ,  575. ],\n",
              "       [  34. ,  685. ],\n",
              "       [  34.5,  620. ],\n",
              "       [  35. ,  680. ],\n",
              "       [  35. ,  700. ],\n",
              "       [  35. ,  725. ],\n",
              "       [  35. ,  720. ],\n",
              "       [  36. ,  714. ],\n",
              "       [  36. ,  850. ],\n",
              "       [  37. , 1000. ],\n",
              "       [  38.5,  920. ],\n",
              "       [  38.5,  955. ],\n",
              "       [  39.5,  925. ],\n",
              "       [  41. ,  975. ],\n",
              "       [  41. ,  950. ],\n",
              "       [   9.8,    6.7],\n",
              "       [  10.5,    7.5],\n",
              "       [  10.6,    7. ],\n",
              "       [  11. ,    9.7],\n",
              "       [  11.2,    9.8],\n",
              "       [  11.3,    8.7],\n",
              "       [  11.8,   10. ],\n",
              "       [  11.8,    9.9],\n",
              "       [  12. ,    9.8],\n",
              "       [  12.2,   12.2],\n",
              "       [  12.4,   13.4],\n",
              "       [  13. ,   12.2],\n",
              "       [  14.3,   19.7],\n",
              "       [  15. ,   19.9]])"
            ]
          },
          "metadata": {
            "tags": []
          },
          "execution_count": 13
        }
      ]
    },
    {
      "cell_type": "code",
      "metadata": {
        "colab": {
          "base_uri": "https://localhost:8080/"
        },
        "id": "bPvPmYfNWxw7",
        "outputId": "34015828-968d-4e4b-83c2-2a156e2a29d8"
      },
      "source": [
        "target_array"
      ],
      "execution_count": null,
      "outputs": [
        {
          "output_type": "execute_result",
          "data": {
            "text/plain": [
              "array([1, 1, 1, 1, 1, 1, 1, 1, 1, 1, 1, 1, 1, 1, 1, 1, 1, 1, 1, 1, 1, 1,\n",
              "       1, 1, 1, 1, 1, 1, 1, 1, 1, 1, 1, 1, 1, 0, 0, 0, 0, 0, 0, 0, 0, 0,\n",
              "       0, 0, 0, 0, 0])"
            ]
          },
          "metadata": {
            "tags": []
          },
          "execution_count": 14
        }
      ]
    },
    {
      "cell_type": "code",
      "metadata": {
        "colab": {
          "base_uri": "https://localhost:8080/"
        },
        "id": "xfKL8EMGWz74",
        "outputId": "3faff65a-1b1f-4026-97e8-239cd604e85c"
      },
      "source": [
        "input_array.shape #이 명령을 사용하면 (샘플 수, 특성 수)를 출력한다."
      ],
      "execution_count": null,
      "outputs": [
        {
          "output_type": "execute_result",
          "data": {
            "text/plain": [
              "(49, 2)"
            ]
          },
          "metadata": {
            "tags": []
          },
          "execution_count": 15
        }
      ]
    },
    {
      "cell_type": "code",
      "metadata": {
        "colab": {
          "base_uri": "https://localhost:8080/"
        },
        "id": "7tDNhENsXJ46",
        "outputId": "c6a74285-d4fb-4afb-d849-f33a4a32bd2c"
      },
      "source": [
        "target_array.shape #1차원 데이터"
      ],
      "execution_count": null,
      "outputs": [
        {
          "output_type": "execute_result",
          "data": {
            "text/plain": [
              "(49,)"
            ]
          },
          "metadata": {
            "tags": []
          },
          "execution_count": 16
        }
      ]
    },
    {
      "cell_type": "markdown",
      "metadata": {
        "id": "KF9HLmzAXTSa"
      },
      "source": [
        "- 가지고 있는 데이터를 넘파이 배열로 만들어주고, 무작위로 train set과 test set을 추출한다.\r\n",
        "- 대신, input_array와 target_array에서 같은 row에 있는 값들은 함께 따라와야 한다는 것이다. (target이 sample과 함께 이동해야 한다.)\r\n",
        "- 위 방법을 사용하려면, 인덱스 값을 무작위로 추출한 다음, 그 인덱스에 해당하는 값을 가지고 오면 된다!"
      ]
    },
    {
      "cell_type": "code",
      "metadata": {
        "id": "qyZ_zZnOXLyg"
      },
      "source": [
        "np.random.seed(42)\r\n",
        "index = np.arange(49) #0부터 n-1까지 1씩 증가하는 배열을 만든다!\r\n",
        "np.random.shuffle(index) #주어진 배열을 무작위로 섞는 작업"
      ],
      "execution_count": null,
      "outputs": []
    },
    {
      "cell_type": "code",
      "metadata": {
        "colab": {
          "base_uri": "https://localhost:8080/"
        },
        "id": "8YXkSNuoYQyU",
        "outputId": "f7c451de-f32f-40be-ff55-b06435900e6f"
      },
      "source": [
        "#잘 섞인 index\r\n",
        "index"
      ],
      "execution_count": null,
      "outputs": [
        {
          "output_type": "execute_result",
          "data": {
            "text/plain": [
              "array([13, 45, 47, 44, 17, 27, 26, 25, 31, 19, 12,  4, 34,  8,  3,  6, 40,\n",
              "       41, 46, 15,  9, 16, 24, 33, 30,  0, 43, 32,  5, 29, 11, 36,  1, 21,\n",
              "        2, 37, 35, 23, 39, 10, 22, 18, 48, 20,  7, 42, 14, 28, 38])"
            ]
          },
          "metadata": {
            "tags": []
          },
          "execution_count": 19
        }
      ]
    },
    {
      "cell_type": "markdown",
      "metadata": {
        "id": "nbvfaOUFZfvU"
      },
      "source": [
        "- cf) **배열 인덱싱(array indexing)**: 여러 개의 인덱스로 한 번에 여러 개의 원소를 선택할 수 있다. "
      ]
    },
    {
      "cell_type": "code",
      "metadata": {
        "colab": {
          "base_uri": "https://localhost:8080/"
        },
        "id": "dzkgBrutYmcY",
        "outputId": "a29add71-2249-42a2-a073-25e79dbb41b7"
      },
      "source": [
        "#배열 인덱싱을 사용하여 두 번째와 네 번째 샘플 출력하기\r\n",
        "input_array[[1,3]]"
      ],
      "execution_count": null,
      "outputs": [
        {
          "output_type": "execute_result",
          "data": {
            "text/plain": [
              "array([[ 26.3, 290. ],\n",
              "       [ 29. , 363. ]])"
            ]
          },
          "metadata": {
            "tags": []
          },
          "execution_count": 20
        }
      ]
    },
    {
      "cell_type": "code",
      "metadata": {
        "id": "3MtO7mSSaE7j"
      },
      "source": [
        "#train set 만들기\r\n",
        "train_input = input_array[index[:35]]\r\n",
        "train_target = target_array[index[:35]]"
      ],
      "execution_count": null,
      "outputs": []
    },
    {
      "cell_type": "code",
      "metadata": {
        "colab": {
          "base_uri": "https://localhost:8080/"
        },
        "id": "tr2GX3Qfa-Hw",
        "outputId": "ef4778a8-a267-4fab-972a-62ac321eef0c"
      },
      "source": [
        "#위의 랜덤하게 섞인 index를 보면, 맨 처음 index가 13이다. 그렇기 때문에, input_array의 13번째와 train_input의 1번째 값은 동일하다.\r\n",
        "print(input_array[13], train_input[0])"
      ],
      "execution_count": null,
      "outputs": [
        {
          "output_type": "stream",
          "text": [
            "[ 32. 340.] [ 32. 340.]\n"
          ],
          "name": "stdout"
        }
      ]
    },
    {
      "cell_type": "code",
      "metadata": {
        "id": "DAH3MjTbbK3_"
      },
      "source": [
        "#test set 만들기\r\n",
        "test_input = input_array[index[35:]]\r\n",
        "test_target = target_array[index[35:]]"
      ],
      "execution_count": null,
      "outputs": []
    },
    {
      "cell_type": "markdown",
      "metadata": {
        "id": "U2sFe1mGbtB_"
      },
      "source": [
        "- 랜덤한 배열을 사용하여 만든 train set / test set이 잘 섞여있는지 산점도로 확인해보자."
      ]
    },
    {
      "cell_type": "code",
      "metadata": {
        "id": "J87DHELXbqfJ"
      },
      "source": [
        "import matplotlib.pyplot as plt"
      ],
      "execution_count": null,
      "outputs": []
    },
    {
      "cell_type": "code",
      "metadata": {
        "colab": {
          "base_uri": "https://localhost:8080/",
          "height": 279
        },
        "id": "evtOlGxxc9E9",
        "outputId": "230d4e61-6c46-4dff-abc3-815b7a83e839"
      },
      "source": [
        "plt.scatter(train_input[:,0], train_input[:,1]) #[;,0]은 전체 index 중, length 값을 가지고 오라는 것이고, [;,1]은 전체 index 중, weight 값을 가지고 오라는 것! (train_input[32.0, 340.0]) 32가 length, 340이 weight\r\n",
        "plt.scatter(test_input[:,0], test_input[:,1])\r\n",
        "plt.xlabel('length')\r\n",
        "plt.ylabel('weight')\r\n",
        "plt.show()"
      ],
      "execution_count": null,
      "outputs": [
        {
          "output_type": "display_data",
          "data": {
            "image/png": "[encoded data removed]",
            "text/plain": [
              "<Figure size 432x288 with 1 Axes>"
            ]
          },
          "metadata": {
            "tags": [],
            "needs_background": "light"
          }
        }
      ]
    },
    {
      "cell_type": "markdown",
      "metadata": {
        "id": "lTk4NG6Jg5SW"
      },
      "source": [
        "## 3. 두 번째 머신러닝 프로그램"
      ]
    },
    {
      "cell_type": "code",
      "metadata": {
        "id": "tyC2YPXVdUwy"
      },
      "source": [
        "kn_new = KNeighborsClassifier()"
      ],
      "execution_count": null,
      "outputs": []
    },
    {
      "cell_type": "code",
      "metadata": {
        "id": "74UQAOK5f7tE"
      },
      "source": [
        "kn_new = kn_new.fit(train_input, train_target) #(입력 데이터 , 정답 데이터)"
      ],
      "execution_count": null,
      "outputs": []
    },
    {
      "cell_type": "code",
      "metadata": {
        "colab": {
          "base_uri": "https://localhost:8080/"
        },
        "id": "gfceFsXigBmr",
        "outputId": "8fd7ded8-f709-444d-d100-c0ccecd9620a"
      },
      "source": [
        "kn_new.score(test_input, test_target)"
      ],
      "execution_count": null,
      "outputs": [
        {
          "output_type": "execute_result",
          "data": {
            "text/plain": [
              "1.0"
            ]
          },
          "metadata": {
            "tags": []
          },
          "execution_count": 35
        }
      ]
    },
    {
      "cell_type": "markdown",
      "metadata": {
        "id": "uQjW9gbUg-mM"
      },
      "source": [
        "- **predict()**: 새로운 데이터의 정답을 예측하는 메서드로, 리스트의 리스트를 전달해야 한다.\r\n",
        "- test set의 예측 결과와 실제 타깃(정답)을 확인해보자."
      ]
    },
    {
      "cell_type": "code",
      "metadata": {
        "colab": {
          "base_uri": "https://localhost:8080/"
        },
        "id": "hfHKQolpgFWe",
        "outputId": "fcf8891e-eeb8-4724-8234-2a0b8ac72edf"
      },
      "source": [
        "kn_new.predict(test_input) \r\n",
        "#사이킷런 모델의 입출력은 모두 넘파이 배열이다."
      ],
      "execution_count": null,
      "outputs": [
        {
          "output_type": "execute_result",
          "data": {
            "text/plain": [
              "array([0, 0, 1, 0, 1, 1, 1, 0, 1, 1, 0, 1, 1, 0])"
            ]
          },
          "metadata": {
            "tags": []
          },
          "execution_count": 36
        }
      ]
    },
    {
      "cell_type": "code",
      "metadata": {
        "colab": {
          "base_uri": "https://localhost:8080/"
        },
        "id": "xDvTOGQwgTR3",
        "outputId": "0fe37f4d-75ed-4c4b-ea09-16c352491cd8"
      },
      "source": [
        "test_target"
      ],
      "execution_count": null,
      "outputs": [
        {
          "output_type": "execute_result",
          "data": {
            "text/plain": [
              "array([0, 0, 1, 0, 1, 1, 1, 0, 1, 1, 0, 1, 1, 0])"
            ]
          },
          "metadata": {
            "tags": []
          },
          "execution_count": 37
        }
      ]
    },
    {
      "cell_type": "markdown",
      "metadata": {
        "id": "qxTpTBmnhoDR"
      },
      "source": [
        "- test set에 대한 예측 결과가 정답과 일치한다."
      ]
    }
  ]
}
