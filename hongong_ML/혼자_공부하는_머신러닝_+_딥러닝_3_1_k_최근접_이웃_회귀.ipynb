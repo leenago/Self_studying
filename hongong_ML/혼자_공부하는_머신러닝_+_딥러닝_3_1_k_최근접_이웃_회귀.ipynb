{
  "nbformat": 4,
  "nbformat_minor": 0,
  "metadata": {
    "colab": {
      "name": "혼자_공부하는_머신러닝_+_딥러닝_3-1 k-최근접 이웃 회귀.ipynb",
      "provenance": [],
      "collapsed_sections": [],
      "authorship_tag": "ABX9TyOCog7+XVzygbAQ0jn3a3Mq",
      "include_colab_link": true
    },
    "kernelspec": {
      "name": "python3",
      "display_name": "Python 3"
    },
    "language_info": {
      "name": "python"
    }
  },
  "cells": [
    {
      "cell_type": "markdown",
      "metadata": {
        "id": "view-in-github",
        "colab_type": "text"
      },
      "source": [
        "<a href=\"https://colab.research.google.com/github/leenago/Self_studying/blob/master/hongong_ML/%ED%98%BC%EC%9E%90_%EA%B3%B5%EB%B6%80%ED%95%98%EB%8A%94_%EB%A8%B8%EC%8B%A0%EB%9F%AC%EB%8B%9D_%2B_%EB%94%A5%EB%9F%AC%EB%8B%9D_3_1_k_%EC%B5%9C%EA%B7%BC%EC%A0%91_%EC%9D%B4%EC%9B%83_%ED%9A%8C%EA%B7%80.ipynb\" target=\"_parent\"><img src=\"https://colab.research.google.com/assets/colab-badge.svg\" alt=\"Open In Colab\"/></a>"
      ]
    },
    {
      "cell_type": "markdown",
      "metadata": {
        "id": "5kWBfYTPATRO"
      },
      "source": [
        "# k-최근접 이웃 회귀"
      ]
    },
    {
      "cell_type": "markdown",
      "metadata": {
        "id": "hqh7y8IG2UOk"
      },
      "source": [
        "\n",
        "## 1. 데이터 준비\n",
        "- 지도 학습 알고리즘은 크게 **분류**와 **회귀**로 나뉜다.\n",
        "   - 회귀는 임의의 어떤 숫자를 예측하는 문제이며, 두 변수 사이의 상관관계를 분석하는 방법이다.\n",
        "   - ex) 내년도 경제 성장률 예측, 배달 도착 시간 예측"
      ]
    },
    {
      "cell_type": "code",
      "metadata": {
        "id": "Uss320EvE2Bf"
      },
      "source": [
        "import numpy as np\n",
        "import matplotlib.pyplot as plt"
      ],
      "execution_count": 1,
      "outputs": []
    },
    {
      "cell_type": "code",
      "metadata": {
        "id": "msce7CBkE4Cp"
      },
      "source": [
        "perch_length = np.array([8.4, 13.7, 15.0, 16.2, 17.4, 18.0, 18.7, 19.0, 19.6, 20.0, 21.0,\n",
        "       21.0, 21.0, 21.3, 22.0, 22.0, 22.0, 22.0, 22.0, 22.5, 22.5, 22.7,\n",
        "       23.0, 23.5, 24.0, 24.0, 24.6, 25.0, 25.6, 26.5, 27.3, 27.5, 27.5,\n",
        "       27.5, 28.0, 28.7, 30.0, 32.8, 34.5, 35.0, 36.5, 36.0, 37.0, 37.0,\n",
        "       39.0, 39.0, 39.0, 40.0, 40.0, 40.0, 40.0, 42.0, 43.0, 43.0, 43.5,\n",
        "       44.0])\n",
        "perch_weight = np.array([5.9, 32.0, 40.0, 51.5, 70.0, 100.0, 78.0, 80.0, 85.0, 85.0, 110.0,\n",
        "       115.0, 125.0, 130.0, 120.0, 120.0, 130.0, 135.0, 110.0, 130.0,\n",
        "       150.0, 145.0, 150.0, 170.0, 225.0, 145.0, 188.0, 180.0, 197.0,\n",
        "       218.0, 300.0, 260.0, 265.0, 250.0, 250.0, 300.0, 320.0, 514.0,\n",
        "       556.0, 840.0, 685.0, 700.0, 700.0, 690.0, 900.0, 650.0, 820.0,\n",
        "       850.0, 900.0, 1015.0, 820.0, 1100.0, 1000.0, 1100.0, 1000.0,\n",
        "       1000.0])"
      ],
      "execution_count": 2,
      "outputs": []
    },
    {
      "cell_type": "code",
      "metadata": {
        "colab": {
          "base_uri": "https://localhost:8080/",
          "height": 279
        },
        "id": "OQgMMNqa3Jwz",
        "outputId": "40fd1a48-e221-4372-f633-6841457f7bd0"
      },
      "source": [
        "#데이터가 어떤 모양을 띠고 있는지 산점도로 확인\n",
        "plt.scatter(perch_length, perch_weight)\n",
        "plt.xlabel('length')\n",
        "plt.ylabel('weight')\n",
        "plt.show()"
      ],
      "execution_count": 3,
      "outputs": [
        {
          "output_type": "display_data",
          "data": {
            "image/png": "[encoded data removed]",
            "text/plain": [
              "<Figure size 432x288 with 1 Axes>"
            ]
          },
          "metadata": {
            "tags": [],
            "needs_background": "light"
          }
        }
      ]
    },
    {
      "cell_type": "markdown",
      "metadata": {
        "id": "Jy2-4qJp3fjL"
      },
      "source": [
        "- 위 산점도를 통해, 농어의 길이가 길어질수록 농어의 무게도 늘어나는 것을 알 수 있다.\n",
        "---\n",
        "- train set과 test set으로 데이터를 나눠주자.\n",
        "  - **input data(입력 데이터)**: 모델이 규칙을 찾아야 할 대상\n",
        "  - **target data(타깃 데이터)**: 모델이 맞춰야 할 정답"
      ]
    },
    {
      "cell_type": "code",
      "metadata": {
        "id": "lq7m2tyW3cYc"
      },
      "source": [
        "from sklearn.model_selection import train_test_split\n",
        "\n",
        "# 농어의 길이를 통해 무게를 예측하는 작업이기 때문에, 데이터가 1차원 배열이다.\n",
        "#train_test_split(X,y)\n",
        "train_input, test_input, train_target, test_target = train_test_split(perch_length, perch_weight, random_state = 42)"
      ],
      "execution_count": 4,
      "outputs": []
    },
    {
      "cell_type": "code",
      "metadata": {
        "colab": {
          "base_uri": "https://localhost:8080/"
        },
        "id": "Ey6psry7364-",
        "outputId": "151d143b-defc-4a38-cf9b-ccc16a179dfe"
      },
      "source": [
        "train_input"
      ],
      "execution_count": 5,
      "outputs": [
        {
          "output_type": "execute_result",
          "data": {
            "text/plain": [
              "array([19.6, 22. , 18.7, 17.4, 36. , 25. , 40. , 39. , 43. , 22. , 20. ,\n",
              "       22. , 24. , 27.5, 43. , 40. , 24. , 21. , 27.5, 40. , 32.8, 26.5,\n",
              "       36.5, 13.7, 22.7, 15. , 37. , 35. , 28.7, 23.5, 39. , 21. , 23. ,\n",
              "       22. , 44. , 22.5, 19. , 37. , 22. , 25.6, 42. , 34.5])"
            ]
          },
          "metadata": {
            "tags": []
          },
          "execution_count": 5
        }
      ]
    },
    {
      "cell_type": "code",
      "metadata": {
        "colab": {
          "base_uri": "https://localhost:8080/"
        },
        "id": "TpLV5GRo5FeS",
        "outputId": "ced09c2a-583a-442a-9d49-7f6ebb772017"
      },
      "source": [
        "test_input"
      ],
      "execution_count": 6,
      "outputs": [
        {
          "output_type": "execute_result",
          "data": {
            "text/plain": [
              "array([ 8.4, 18. , 27.5, 21.3, 22.5, 40. , 30. , 24.6, 39. , 21. , 43.5,\n",
              "       16.2, 28. , 27.3])"
            ]
          },
          "metadata": {
            "tags": []
          },
          "execution_count": 6
        }
      ]
    },
    {
      "cell_type": "markdown",
      "metadata": {
        "id": "aGBhkASc80hz"
      },
      "source": [
        "- 1차원 배열을 2차원으로 변경해야 하므로, **reshape()** 메서드를 사용해준다."
      ]
    },
    {
      "cell_type": "code",
      "metadata": {
        "id": "NWpJtCC_5Hmr",
        "colab": {
          "base_uri": "https://localhost:8080/"
        },
        "outputId": "8f76264f-4756-4a59-d06e-226928170133"
      },
      "source": [
        "print(train_input.shape, test_input.shape)"
      ],
      "execution_count": 7,
      "outputs": [
        {
          "output_type": "stream",
          "text": [
            "(42,) (14,)\n"
          ],
          "name": "stdout"
        }
      ]
    },
    {
      "cell_type": "markdown",
      "metadata": {
        "id": "7xI7d5FXucIG"
      },
      "source": [
        "- 위 데이터들을 2차원 배열로 바꿔주자.\n",
        "- **reshape(-1,1)**을 해주면, '첫 번째 크기를 전체 원소로 채워주고, 두 번째 크기를 1로 채우라는 의미'이다.\n",
        "- 원본 배열의 원소가 배열을 하려는 수와 같아야 한다."
      ]
    },
    {
      "cell_type": "code",
      "metadata": {
        "colab": {
          "base_uri": "https://localhost:8080/"
        },
        "id": "WsxmbK06uUwT",
        "outputId": "f0ad9b31-6bc7-4475-ea25-23d2a0858990"
      },
      "source": [
        "a = np.array([1,2,3,4,5,6])\n",
        "a.reshape(-1,1)"
      ],
      "execution_count": 8,
      "outputs": [
        {
          "output_type": "execute_result",
          "data": {
            "text/plain": [
              "array([[1],\n",
              "       [2],\n",
              "       [3],\n",
              "       [4],\n",
              "       [5],\n",
              "       [6]])"
            ]
          },
          "metadata": {
            "tags": []
          },
          "execution_count": 8
        }
      ]
    },
    {
      "cell_type": "code",
      "metadata": {
        "colab": {
          "base_uri": "https://localhost:8080/"
        },
        "id": "XtKBj5ugu7Kc",
        "outputId": "c45b5369-99e0-4a6e-e7bb-b3b01c36c126"
      },
      "source": [
        "a.reshape(3,2)"
      ],
      "execution_count": 9,
      "outputs": [
        {
          "output_type": "execute_result",
          "data": {
            "text/plain": [
              "array([[1, 2],\n",
              "       [3, 4],\n",
              "       [5, 6]])"
            ]
          },
          "metadata": {
            "tags": []
          },
          "execution_count": 9
        }
      ]
    },
    {
      "cell_type": "code",
      "metadata": {
        "colab": {
          "base_uri": "https://localhost:8080/"
        },
        "id": "qfVh-JtWwI-i",
        "outputId": "a51a9e8e-f30b-4b96-d3b3-f0dbb8041a89"
      },
      "source": [
        "a.reshape(-1,3)"
      ],
      "execution_count": 10,
      "outputs": [
        {
          "output_type": "execute_result",
          "data": {
            "text/plain": [
              "array([[1, 2, 3],\n",
              "       [4, 5, 6]])"
            ]
          },
          "metadata": {
            "tags": []
          },
          "execution_count": 10
        }
      ]
    },
    {
      "cell_type": "code",
      "metadata": {
        "colab": {
          "base_uri": "https://localhost:8080/"
        },
        "id": "uXbsKbNowLlT",
        "outputId": "27f1e52c-c84f-43b3-c6c8-36aecf71e45d"
      },
      "source": [
        "# train_input, test_input을 2차원 배열로 만들어주기\n",
        "train_input = train_input.reshape(-1,1)\n",
        "test_input = test_input.reshape(-1, 1)\n",
        "print(train_input, test_input)"
      ],
      "execution_count": 11,
      "outputs": [
        {
          "output_type": "stream",
          "text": [
            "[[19.6]\n",
            " [22. ]\n",
            " [18.7]\n",
            " [17.4]\n",
            " [36. ]\n",
            " [25. ]\n",
            " [40. ]\n",
            " [39. ]\n",
            " [43. ]\n",
            " [22. ]\n",
            " [20. ]\n",
            " [22. ]\n",
            " [24. ]\n",
            " [27.5]\n",
            " [43. ]\n",
            " [40. ]\n",
            " [24. ]\n",
            " [21. ]\n",
            " [27.5]\n",
            " [40. ]\n",
            " [32.8]\n",
            " [26.5]\n",
            " [36.5]\n",
            " [13.7]\n",
            " [22.7]\n",
            " [15. ]\n",
            " [37. ]\n",
            " [35. ]\n",
            " [28.7]\n",
            " [23.5]\n",
            " [39. ]\n",
            " [21. ]\n",
            " [23. ]\n",
            " [22. ]\n",
            " [44. ]\n",
            " [22.5]\n",
            " [19. ]\n",
            " [37. ]\n",
            " [22. ]\n",
            " [25.6]\n",
            " [42. ]\n",
            " [34.5]] [[ 8.4]\n",
            " [18. ]\n",
            " [27.5]\n",
            " [21.3]\n",
            " [22.5]\n",
            " [40. ]\n",
            " [30. ]\n",
            " [24.6]\n",
            " [39. ]\n",
            " [21. ]\n",
            " [43.5]\n",
            " [16.2]\n",
            " [28. ]\n",
            " [27.3]]\n"
          ],
          "name": "stdout"
        }
      ]
    },
    {
      "cell_type": "markdown",
      "metadata": {
        "id": "LwIvGTSExIG3"
      },
      "source": [
        "## 2. 결정계수(R²)\n",
        "- k-최근접 이웃 회귀 알고리즘을 구현한 클래스는 KNeighborsRegressor이다.\n",
        "- 회귀에서는 정확한 숫자를 맞힐 수가 없기 때문에(예측값이나 타깃 모두 임의의 수치이기 때문), 결정계수(coefficient of determination)을 이용하여 평가를 한다.\n",
        "---\n",
        "\n",
        "* R² = 1- {(타깃 - 예측값)²/ (타깃 - 타깃평균)²}\n",
        "- 회귀문제에서, KNeighborsRegressor 클래스의 score() 메서드는 결정계수인 R²값을 반환한다!\n"
      ]
    },
    {
      "cell_type": "code",
      "metadata": {
        "id": "J9CEzPn5w5PO"
      },
      "source": [
        "from sklearn.neighbors import KNeighborsRegressor"
      ],
      "execution_count": 12,
      "outputs": []
    },
    {
      "cell_type": "code",
      "metadata": {
        "colab": {
          "base_uri": "https://localhost:8080/"
        },
        "id": "mzB2nmaaxu83",
        "outputId": "f137ec55-b864-434e-fb57-1ce6513585ec"
      },
      "source": [
        "knr = KNeighborsRegressor() #기본 neighbors는 5\n",
        "knr.fit(train_input, train_target) #훈련 데이터의 입력데이터와, 훈련 데이터의 타깃 데이터를 활용하여 규칙을 찾는다."
      ],
      "execution_count": 13,
      "outputs": [
        {
          "output_type": "execute_result",
          "data": {
            "text/plain": [
              "KNeighborsRegressor(algorithm='auto', leaf_size=30, metric='minkowski',\n",
              "                    metric_params=None, n_jobs=None, n_neighbors=5, p=2,\n",
              "                    weights='uniform')"
            ]
          },
          "metadata": {
            "tags": []
          },
          "execution_count": 13
        }
      ]
    },
    {
      "cell_type": "code",
      "metadata": {
        "colab": {
          "base_uri": "https://localhost:8080/"
        },
        "id": "ClPVIFZrx4eS",
        "outputId": "7932f259-1cd1-45f4-ac83-83c4f4d5a860"
      },
      "source": [
        "#테스트 데이터의 입력데이터와, 테스트 데이터의 타깃 데이터를 활용하여 얼마나 정답을 맞췄는지 확인한다.\n",
        "print(knr.score(test_input, test_target))"
      ],
      "execution_count": 14,
      "outputs": [
        {
          "output_type": "stream",
          "text": [
            "0.9928094061010639\n"
          ],
          "name": "stdout"
        }
      ]
    },
    {
      "cell_type": "markdown",
      "metadata": {
        "id": "IVB2mPdu3Emk"
      },
      "source": [
        "- 타깃과 예측한 값 사이의 차이를 구해보면, 어느 정도 예측이 벗어났는지 가늠할 수 있다.\n",
        "- **mean_absolute_error**는 타깃과 예측의 절댓값 오차를 평균하여 반환한다."
      ]
    },
    {
      "cell_type": "code",
      "metadata": {
        "colab": {
          "base_uri": "https://localhost:8080/"
        },
        "id": "uLCk9Ny5yC69",
        "outputId": "974e44cd-2d30-4c4a-9f02-27e088a091fd"
      },
      "source": [
        "from sklearn.metrics import mean_absolute_error\n",
        "\n",
        "#테스트 세트에 대한 예측 만들기\n",
        "test_prediction = knr.predict(test_input)\n",
        "\n",
        "#테스트 세트에 대한 평균 절댓값 오차를 계산\n",
        "mae = mean_absolute_error(test_target, test_prediction)\n",
        "mae"
      ],
      "execution_count": 15,
      "outputs": [
        {
          "output_type": "execute_result",
          "data": {
            "text/plain": [
              "19.157142857142862"
            ]
          },
          "metadata": {
            "tags": []
          },
          "execution_count": 15
        }
      ]
    },
    {
      "cell_type": "markdown",
      "metadata": {
        "id": "z-n7Zqd86Mr4"
      },
      "source": [
        "- 여기서, 예측이 평균적으로 19g 정도 타깃값과 다르다는 것을 알 수 있다."
      ]
    },
    {
      "cell_type": "markdown",
      "metadata": {
        "id": "1xXoUBlb7AYm"
      },
      "source": [
        "## 3. 과대적합 vs 과소적합\n",
        "- 과대적합(overfitting): 테스트 세트보다 훈련 세트의 점수가 높은 경우\n",
        "  - 훈련 세트에만 잘 맞는 모델이라, 새로운 샘플에 대한 예측 시 잘 맞지 않음\n",
        "\n",
        "- 과소적합(underfitting): 훈련 세트보다 테스트 세트의 점수가 높거나 두 점수 모두 낮은 경우\n",
        "  - 모델이 너무 단순하여 훈련 세트에 적절히 훈련되지 않은 경우\n",
        "  - 훈련 세트와 테스트 세트의 크기가 매우 작으면 발생하기도 한다."
      ]
    },
    {
      "cell_type": "code",
      "metadata": {
        "colab": {
          "base_uri": "https://localhost:8080/"
        },
        "id": "FOZ2pPMl6B1_",
        "outputId": "e2f5df54-16db-4012-f353-9df7c14c6aeb"
      },
      "source": [
        "print(knr.score(test_input, test_target), knr.score(train_input, train_target))\n",
        "#훈련 세트보다 테스트 세트의 점수가 높게 나왔으므로, 과소적합이 일어났다고 볼 수 있다."
      ],
      "execution_count": 16,
      "outputs": [
        {
          "output_type": "stream",
          "text": [
            "0.9928094061010639 0.9698823289099255\n"
          ],
          "name": "stdout"
        }
      ]
    },
    {
      "cell_type": "markdown",
      "metadata": {
        "id": "ea8akzhw9VPs"
      },
      "source": [
        "- 훈련 세트보다 테스트 세트의 점수가 높게 나왔으므로, 과소적합이 일어났다고 볼 수 있다.\n",
        "- 이를 해결하기 위해서는, 훈련 세트에 더 잘 맞게 모델을 만들면 된다. \n",
        "---\n",
        "- k-최근접 이웃 알고리즘으로 모델을 더 복잡하게 만들기 위해서는, *이웃의 개수를 줄이면* 된다."
      ]
    },
    {
      "cell_type": "code",
      "metadata": {
        "id": "vGi6x09F8oi8"
      },
      "source": [
        "knr.n_neighbors = 3"
      ],
      "execution_count": 17,
      "outputs": []
    },
    {
      "cell_type": "code",
      "metadata": {
        "colab": {
          "base_uri": "https://localhost:8080/"
        },
        "id": "U6AmNW538tgE",
        "outputId": "5ac0f66b-86f1-4584-f450-450b1d9bf393"
      },
      "source": [
        "#이웃의 개수를 3으로 줄이고, 모델을 다시 훈련시켜본다.\n",
        "\n",
        "knr.fit(train_input, train_target)\n",
        "print(knr.score(train_input, train_target), knr.score(test_input, test_target))"
      ],
      "execution_count": 18,
      "outputs": [
        {
          "output_type": "stream",
          "text": [
            "0.9804899950518966 0.974645996398761\n"
          ],
          "name": "stdout"
        }
      ]
    },
    {
      "cell_type": "markdown",
      "metadata": {
        "id": "Tk6Bsm1y8ukb"
      },
      "source": [
        "- 테스트 세트의 점수가 훈련세트보다 낮아졌고, 두 점수의 차이가 크지 않으므로 과대적합 문제가 해결되었다."
      ]
    }
  ]
}