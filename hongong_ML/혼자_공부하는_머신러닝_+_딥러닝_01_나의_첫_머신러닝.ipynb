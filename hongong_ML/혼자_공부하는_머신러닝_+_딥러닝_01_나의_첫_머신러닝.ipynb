{
  "nbformat": 4,
  "nbformat_minor": 0,
  "metadata": {
    "colab": {
      "name": "혼자 공부하는 머신러닝 + 딥러닝 - 01. 나의 첫 머신러닝.ipynb",
      "provenance": [],
      "collapsed_sections": [],
      "toc_visible": true,
      "authorship_tag": "ABX9TyMBnMakssu5j1sAmVFGGKrp",
      "include_colab_link": true
    },
    "kernelspec": {
      "name": "python3",
      "display_name": "Python 3"
    }
  },
  "cells": [
    {
      "cell_type": "markdown",
      "metadata": {
        "id": "view-in-github",
        "colab_type": "text"
      },
      "source": [
        "<a href=\"https://colab.research.google.com/github/leenago/Self_studying/blob/master/hongong_ML/%ED%98%BC%EC%9E%90_%EA%B3%B5%EB%B6%80%ED%95%98%EB%8A%94_%EB%A8%B8%EC%8B%A0%EB%9F%AC%EB%8B%9D_%2B_%EB%94%A5%EB%9F%AC%EB%8B%9D_01_%EB%82%98%EC%9D%98_%EC%B2%AB_%EB%A8%B8%EC%8B%A0%EB%9F%AC%EB%8B%9D.ipynb\" target=\"_parent\"><img src=\"https://colab.research.google.com/assets/colab-badge.svg\" alt=\"Open In Colab\"/></a>"
      ]
    },
    {
      "cell_type": "markdown",
      "metadata": {
        "id": "rcoTej8Tb9eM"
      },
      "source": [
        "# 01. "
      ]
    },
    {
      "cell_type": "code",
      "metadata": {
        "id": "6oCRDGsdqHas"
      },
      "source": [
        "import matplotlib.pyplot as plt"
      ],
      "execution_count": 67,
      "outputs": []
    },
    {
      "cell_type": "code",
      "metadata": {
        "id": "lhKNJuPZb9Jf"
      },
      "source": [
        ""
      ],
      "execution_count": 67,
      "outputs": []
    },
    {
      "cell_type": "markdown",
      "metadata": {
        "id": "Z5MRbjchqHuM"
      },
      "source": [
        "## 01-3 마켓과 머신러닝\r\n",
        "\r\n",
        "- 머신러닝에서 여러 개의 종류(= 클래스, class) 중 하나를 구별해 내는 문제를 '분류(classification)'라고 한다. 2개의 클래스 중 하나를 고르는 문제를 '이진 분류(binary classification)'라고 한다.\r\n",
        "- Python 프로그램의 'class'와는 다른 개념!"
      ]
    },
    {
      "cell_type": "code",
      "metadata": {
        "id": "Tz3XCgHMpl9d"
      },
      "source": [
        "#도미 데이터 준비하기\r\n",
        "bream_length = [25.4, 26.3, 26.5, 29.0, 29.0, 29.7, 29.7, 30.0, 30.0, 30.7, 31.0, 31.0, \r\n",
        "                31.5, 32.0, 32.0, 32.0, 33.0, 33.0, 33.5, 33.5, 34.0, 34.0, 34.5, 35.0, \r\n",
        "                35.0, 35.0, 35.0, 36.0, 36.0, 37.0, 38.5, 38.5, 39.5, 41.0, 41.0]\r\n",
        "bream_weight = [242.0, 290.0, 340.0, 363.0, 430.0, 450.0, 500.0, 390.0, 450.0, 500.0, 475.0, 500.0, \r\n",
        "                500.0, 340.0, 600.0, 600.0, 700.0, 700.0, 610.0, 650.0, 575.0, 685.0, 620.0, 680.0, \r\n",
        "                700.0, 725.0, 720.0, 714.0, 850.0, 1000.0, 920.0, 955.0, 925.0, 975.0, 950.0]"
      ],
      "execution_count": 68,
      "outputs": []
    },
    {
      "cell_type": "markdown",
      "metadata": {
        "id": "yQkHhMSpqoU7"
      },
      "source": [
        "- 특성: 데이터의 특징\r\n",
        "  - ex) 각 도미의 특징 (무게, 길이)"
      ]
    },
    {
      "cell_type": "code",
      "metadata": {
        "colab": {
          "base_uri": "https://localhost:8080/",
          "height": 279
        },
        "id": "kKMFNIfkpuZh",
        "outputId": "7512adec-9e94-48fd-ad7d-59776c656e41"
      },
      "source": [
        "plt.scatter(bream_length, bream_weight)\r\n",
        "plt.xlabel('length') \r\n",
        "plt.ylabel('weight')\r\n",
        "plt.show()"
      ],
      "execution_count": 69,
      "outputs": [
        {
          "output_type": "display_data",
          "data": {
            "image/png": "[encoded data removed]",
            "text/plain": [
              "<Figure size 432x288 with 1 Axes>"
            ]
          },
          "metadata": {
            "tags": [],
            "needs_background": "light"
          }
        }
      ]
    },
    {
      "cell_type": "markdown",
      "metadata": {
        "id": "Bzrl-_7nrQrK"
      },
      "source": [
        " - 산점도 그래프가 일직선에 가까운 형태로 나타나는 경우를 **선형**적이라고 한다."
      ]
    },
    {
      "cell_type": "code",
      "metadata": {
        "id": "lxkSQVlNrIjf"
      },
      "source": [
        "#빙어 데이터 준비하기\r\n",
        "smelt_length = [9.8, 10.5, 10.6, 11.0, 11.2, 11.3, 11.8, 11.8, 12.0, 12.2, 12.4, 13.0, 14.3, 15.0]\r\n",
        "smelt_weight = [6.7, 7.5, 7.0, 9.7, 9.8, 8.7, 10.0, 9.9, 9.8, 12.2, 13.4, 12.2, 19.7, 19.9]"
      ],
      "execution_count": 70,
      "outputs": []
    },
    {
      "cell_type": "code",
      "metadata": {
        "colab": {
          "base_uri": "https://localhost:8080/",
          "height": 279
        },
        "id": "gKy6bMbfr6b2",
        "outputId": "705d75f6-8ce2-4f12-aa83-4ab158e90863"
      },
      "source": [
        "#2개의 산점도를 함께 표현하기\r\n",
        "plt.scatter(bream_length, bream_weight)\r\n",
        "plt.scatter(smelt_length, smelt_weight)\r\n",
        "plt.xlabel('length')\r\n",
        "plt.ylabel('weight')\r\n",
        "plt.show()"
      ],
      "execution_count": 71,
      "outputs": [
        {
          "output_type": "display_data",
          "data": {
            "image/png": "[encoded data removed]",
            "text/plain": [
              "<Figure size 432x288 with 1 Axes>"
            ]
          },
          "metadata": {
            "tags": [],
            "needs_background": "light"
          }
        }
      ]
    },
    {
      "cell_type": "markdown",
      "metadata": {
        "id": "W4AB9qP5bghk"
      },
      "source": [
        "### k-최근접 이웃 알고리즘\r\n",
        "- 어떤 데이터에 대한 답을 구할 때, 주위의 다른 데이터를 보고 다수를 차지하는 것을 정답으로 사용한다.\r\n",
        "\r\n",
        "---\r\n",
        "> *KNeighborsClassifier((n_neighbors=5, weights='uniform', algorithm='auto', leaf_size=30, p=2, metric='minkowski', metric_params=None, n_jobs=None, **kwargs))\r\n",
        "\r\n",
        "- **n_neighbors** : *int, optional (default = 5)*\r\n",
        "    \r\n",
        "    Number of neighbors to use by default for kneighbors queries.\r\n",
        "\r\n",
        "\r\n",
        " - **weights** : *str or callable, optional (default = 'uniform')*\r\n",
        "    \r\n",
        "    weight function used in prediction.  Possible values:\r\n",
        "\r\n",
        "  - 'uniform' : uniform weights.  All points in each neighborhood\r\n",
        "  are weighted equally.\r\n",
        "- 'distance' : weight points by the inverse of their distance.\r\n",
        "  in this case, closer neighbors of a query point will have a\r\n",
        "  greater influence than neighbors which are further away.\r\n",
        "- [callable] : a user-defined function which accepts an\r\n",
        "  array of distances, and returns an array of the same shape\r\n",
        "  containing the weights.\r\n",
        "\r\n",
        "- **algorithm** : {'auto', 'ball_tree', 'kd_tree', 'brute'}, optional\r\n",
        "    \r\n",
        "    Algorithm used to compute the nearest neighbors:\r\n",
        "\r\n",
        "  - 'ball_tree' will use `BallTree`\r\n",
        "  - 'kd_tree' will use `KDTree`\r\n",
        "  - 'brute' will use a `brute-force search`.\r\n",
        "    - brute-force: A method of computation wherein the computer is let to try all permutations of a problem until one is found that provides a solution, in contrast to the implementation of a more intelligent algorithm.\r\n",
        "  - 'auto' will attempt to decide the most appropriate algorithm\r\n",
        "    based on the values passed to `fit` method.\r\n",
        "\r\n",
        "    * Note: fitting on sparse input will override the setting of\r\n",
        "this parameter, using brute force.\r\n",
        "\r\n",
        "\r\n",
        "- **leaf_size** : *int, optional (default = 30)*\r\n",
        "   \r\n",
        "    Leaf size passed to BallTree or KDTree.  This can affect the\r\n",
        "    speed of the construction and query, as well as the memory\r\n",
        "    required to store the tree.  The optimal value depends on the\r\n",
        "    nature of the problem.\r\n",
        "\r\n",
        "- **p** : *integer, optional (default = 2)*\r\n",
        "\r\n",
        "    : Power parameter for the Minkowski metric. When p = 1, this is\r\n",
        "    equivalent to using manhattan_distance (l1), and euclidean_distance\r\n",
        "    (l2) for p = 2. For arbitrary p, minkowski_distance (l_p) is used. (매개변수로 거리를 재는 방법, 1은 맨해튼거리, 2는 유클리디안 거리 사용)\r\n",
        "\r\n",
        "- **metric** : *string or callable, default 'minkowski'*\r\n",
        "\r\n",
        "    the distance metric to use for the tree.  The default metric is\r\n",
        "    minkowski, and with p=2 is equivalent to the standard Euclidean\r\n",
        "    metric. See the documentation of the DistanceMetric class for a\r\n",
        "    list of available metrics.\r\n",
        "    If metric is \"precomputed\", X is assumed to be a distance matrix and\r\n",
        "    must be square during fit. X may be a Glossary <sparse graph>,\r\n",
        "    in which case only \"nonzero\" elements may be considered neighbors.\r\n",
        "\r\n",
        "- **metric_params** : *dict, optional (default = None)*\r\n",
        "\r\n",
        "    Additional keyword arguments for the metric function.\r\n",
        "\r\n",
        "- **n_jobs** : *int or None, optional (default=None)*\r\n",
        "\r\n",
        "    : The number of parallel jobs to run for neighbors search.\r\n",
        "    None means 1 unless in a joblib.parallel_backend context.\r\n",
        "    -1 means using all processors. Doesn't affect fit method.(매개변수로 사용할 CPU 코어를 지정한다.)\r\n",
        "\r\n",
        "\r\n",
        "---\r\n",
        "\r\n",
        "- 위 알고리즘을 이용하여 도미와 빙어 데이터를 구분해본다."
      ]
    },
    {
      "cell_type": "code",
      "metadata": {
        "colab": {
          "base_uri": "https://localhost:8080/"
        },
        "id": "5pdmIrUn3xmb",
        "outputId": "d3fdfa56-be26-42cf-f08d-36f63322f48e"
      },
      "source": [
        "KNeighborsClassifier"
      ],
      "execution_count": 72,
      "outputs": [
        {
          "output_type": "execute_result",
          "data": {
            "text/plain": [
              "sklearn.neighbors._classification.KNeighborsClassifier"
            ]
          },
          "metadata": {
            "tags": []
          },
          "execution_count": 72
        }
      ]
    },
    {
      "cell_type": "code",
      "metadata": {
        "id": "sH39FkD5sMYv"
      },
      "source": [
        "#도미 데이터와 빙어 데이터 합치기\r\n",
        "length = bream_length + smelt_length\r\n",
        "weight = bream_weight + smelt_weight"
      ],
      "execution_count": 73,
      "outputs": []
    },
    {
      "cell_type": "markdown",
      "metadata": {
        "id": "qxg4CxOdcPwa"
      },
      "source": [
        "- 위 데이터의 형식은 이러하다.\r\n",
        "  > length = [25.4, 26.3, ... , 9.8, ... , 15.0] / \r\n",
        "  > weight = [242.0, 290.0, ... , 6.7, ... , 19.9]\r\n",
        "\r\n",
        "- 저 형식을 이제 2차원 리스트로 변경해주어야 한다.\r\n",
        "  > [[25.4, 242.0] , [26.3, 290.0], ... , [length, weight]]"
      ]
    },
    {
      "cell_type": "code",
      "metadata": {
        "colab": {
          "base_uri": "https://localhost:8080/"
        },
        "id": "hkat_8A-b4HJ",
        "outputId": "e302b364-8fba-4195-ee56-f2092cba9d8f"
      },
      "source": [
        "fish_data = [[l, w] for l, w in zip(length, weight)] ; fish_data[:5]\r\n",
        "#for문은 zip()함수로 length와 weight를 하나씩 꺼내서 l과 w에 할당해준다."
      ],
      "execution_count": 74,
      "outputs": [
        {
          "output_type": "execute_result",
          "data": {
            "text/plain": [
              "[[25.4, 242.0], [26.3, 290.0], [26.5, 340.0], [29.0, 363.0], [29.0, 430.0]]"
            ]
          },
          "metadata": {
            "tags": []
          },
          "execution_count": 74
        }
      ]
    },
    {
      "cell_type": "markdown",
      "metadata": {
        "id": "7BHScaQid3r6"
      },
      "source": [
        "---\r\n",
        "- 2차원 리스트 (리스트의 리스트)가 생성되었으니, 정답데이터를 만들어야 한다.\r\n",
        "- 머신러닝에서 2개를 구분하는 경우, **찾는 대상**을 **1**로 설정하고, **그 외에는 0**으로 설정한다.\r\n"
      ]
    },
    {
      "cell_type": "code",
      "metadata": {
        "colab": {
          "base_uri": "https://localhost:8080/"
        },
        "id": "-vhbyNV-cLKH",
        "outputId": "136bfbf6-9db2-4394-e207-57964f32dbfa"
      },
      "source": [
        "fish_target = [1] * 35 + [0] * 14 ; fish_target\r\n",
        "#도미와 빙어를 순서대로 나열했기 때문에, 앞의 데이터는 도미, 뒤의 데이터는 빙어이다.\r\n",
        "#그렇기 때문에 1을 35개, 0을 14개 놓음으로써, 도미와 빙어를 1과 0으로 나누어주었다."
      ],
      "execution_count": 75,
      "outputs": [
        {
          "output_type": "execute_result",
          "data": {
            "text/plain": [
              "[1,\n",
              " 1,\n",
              " 1,\n",
              " 1,\n",
              " 1,\n",
              " 1,\n",
              " 1,\n",
              " 1,\n",
              " 1,\n",
              " 1,\n",
              " 1,\n",
              " 1,\n",
              " 1,\n",
              " 1,\n",
              " 1,\n",
              " 1,\n",
              " 1,\n",
              " 1,\n",
              " 1,\n",
              " 1,\n",
              " 1,\n",
              " 1,\n",
              " 1,\n",
              " 1,\n",
              " 1,\n",
              " 1,\n",
              " 1,\n",
              " 1,\n",
              " 1,\n",
              " 1,\n",
              " 1,\n",
              " 1,\n",
              " 1,\n",
              " 1,\n",
              " 1,\n",
              " 0,\n",
              " 0,\n",
              " 0,\n",
              " 0,\n",
              " 0,\n",
              " 0,\n",
              " 0,\n",
              " 0,\n",
              " 0,\n",
              " 0,\n",
              " 0,\n",
              " 0,\n",
              " 0,\n",
              " 0]"
            ]
          },
          "metadata": {
            "tags": []
          },
          "execution_count": 75
        }
      ]
    },
    {
      "cell_type": "markdown",
      "metadata": {
        "id": "JvWqsV67lZIC"
      },
      "source": [
        "- 이제 사이킷런 패키지에서 k-최근접 이웃 알고리즘을 구현한 **KNeighborsClassifier**를 가져온다."
      ]
    },
    {
      "cell_type": "code",
      "metadata": {
        "id": "soIreUjMlJsZ"
      },
      "source": [
        "from sklearn.neighbors import KNeighborsClassifier\r\n",
        "#import sklearn\r\n",
        "#model = sklearn.neighbors.KNeighborsClassifier() 이렇게 불러와도 된다."
      ],
      "execution_count": 76,
      "outputs": []
    },
    {
      "cell_type": "code",
      "metadata": {
        "id": "WAQfOOdDllWf"
      },
      "source": [
        "#객체(= 모델)를 먼저 만들어준다.\r\n",
        "kn = KNeighborsClassifier()"
      ],
      "execution_count": 77,
      "outputs": []
    },
    {
      "cell_type": "markdown",
      "metadata": {
        "id": "sfmtPQgZmAav"
      },
      "source": [
        "- kn 객체에 fish_data와 fish_target을 전달, 도미를 찾기 위한 기준을 학습시킨다.\r\n",
        "- 위와 같이, 모델에 데이터를 전달하여 규칙을 학습하는 과정을 **훈련(training)** 이라고 한다.\r\n",
        "- 사이킷런에서는 **fit()** 메서드를 이용하여, 주어진 데이터로 알고리즘을 훈련시킨다."
      ]
    },
    {
      "cell_type": "code",
      "metadata": {
        "colab": {
          "base_uri": "https://localhost:8080/"
        },
        "id": "Xb_1LI72l9Jm",
        "outputId": "bbd033ca-45e8-4764-9b25-28c9c60af38e"
      },
      "source": [
        "kn.fit(fish_data, fish_target)"
      ],
      "execution_count": 78,
      "outputs": [
        {
          "output_type": "execute_result",
          "data": {
            "text/plain": [
              "KNeighborsClassifier(algorithm='auto', leaf_size=30, metric='minkowski',\n",
              "                     metric_params=None, n_jobs=None, n_neighbors=5, p=2,\n",
              "                     weights='uniform')"
            ]
          },
          "metadata": {
            "tags": []
          },
          "execution_count": 78
        }
      ]
    },
    {
      "cell_type": "markdown",
      "metadata": {
        "id": "1iBVEVV9nJnc"
      },
      "source": [
        "- 객체(=모델)이 얼마나 잘 훈련되었는지 평가해보기 위해, score() 메서드를 사용한다.\r\n",
        "- 이 메서드는 0과 1 사이의 값을 반환한다. (= **정확도**)\r\n",
        "- 1에 가까워질수록 데이터를 정확히 맞혔다는 뜻이다.   "
      ]
    },
    {
      "cell_type": "code",
      "metadata": {
        "colab": {
          "base_uri": "https://localhost:8080/"
        },
        "id": "J1I-KcPrmmDQ",
        "outputId": "61da6192-27a5-4b6b-ef50-29322cf1cc99"
      },
      "source": [
        "kn.score(fish_data, fish_target)"
      ],
      "execution_count": 79,
      "outputs": [
        {
          "output_type": "execute_result",
          "data": {
            "text/plain": [
              "1.0"
            ]
          },
          "metadata": {
            "tags": []
          },
          "execution_count": 79
        }
      ]
    },
    {
      "cell_type": "markdown",
      "metadata": {
        "id": "bcIVTglcptGO"
      },
      "source": [
        "- predict() 메서드는 새로운 데이터의 정답을 예측한다. \r\n",
        "- fit()과 마찬가지로, 리스트의 리스트를 전달해야한다."
      ]
    },
    {
      "cell_type": "code",
      "metadata": {
        "colab": {
          "base_uri": "https://localhost:8080/",
          "height": 279
        },
        "id": "YaTRNCm8xIo4",
        "outputId": "5bda0f4c-df43-45be-b917-1dbfa4a49416"
      },
      "source": [
        "plt.scatter(bream_length, bream_weight)\r\n",
        "plt.scatter(smelt_length, smelt_weight)\r\n",
        "plt.scatter(20,600, marker = '^')\r\n",
        "plt.xlabel('length')\r\n",
        "plt.ylabel('weight')\r\n",
        "plt.show()"
      ],
      "execution_count": 80,
      "outputs": [
        {
          "output_type": "display_data",
          "data": {
            "image/png": "[encoded data removed]",
            "text/plain": [
              "<Figure size 432x288 with 1 Axes>"
            ]
          },
          "metadata": {
            "tags": [],
            "needs_background": "light"
          }
        }
      ]
    },
    {
      "cell_type": "code",
      "metadata": {
        "colab": {
          "base_uri": "https://localhost:8080/"
        },
        "id": "yMLowzV9qLBj",
        "outputId": "3a1f5c71-3f08-4116-b550-ad91a98bd4d0"
      },
      "source": [
        "kn.predict([[20,600]])"
      ],
      "execution_count": 81,
      "outputs": [
        {
          "output_type": "execute_result",
          "data": {
            "text/plain": [
              "array([1])"
            ]
          },
          "metadata": {
            "tags": []
          },
          "execution_count": 81
        }
      ]
    },
    {
      "cell_type": "code",
      "metadata": {
        "colab": {
          "base_uri": "https://localhost:8080/",
          "height": 394
        },
        "id": "CDzkwcYvm6DU",
        "outputId": "45f11379-d668-4748-9d74-b3cba914a949"
      },
      "source": [
        "#리스트를 감싸지 않은 경우\r\n",
        "kn.predict([20,600])"
      ],
      "execution_count": 82,
      "outputs": [
        {
          "output_type": "error",
          "ename": "ValueError",
          "evalue": "ignored",
          "traceback": [
            "\u001b[0;31m---------------------------------------------------------------------------\u001b[0m",
            "\u001b[0;31mValueError\u001b[0m                                Traceback (most recent call last)",
            "\u001b[0;32m<ipython-input-82-7e38df8d75aa>\u001b[0m in \u001b[0;36m<module>\u001b[0;34m()\u001b[0m\n\u001b[1;32m      1\u001b[0m \u001b[0;31m#리스트를 감싸지 않은 경우\u001b[0m\u001b[0;34m\u001b[0m\u001b[0;34m\u001b[0m\u001b[0;34m\u001b[0m\u001b[0m\n\u001b[0;32m----> 2\u001b[0;31m \u001b[0mkn\u001b[0m\u001b[0;34m.\u001b[0m\u001b[0mpredict\u001b[0m\u001b[0;34m(\u001b[0m\u001b[0;34m[\u001b[0m\u001b[0;36m20\u001b[0m\u001b[0;34m,\u001b[0m\u001b[0;36m600\u001b[0m\u001b[0;34m]\u001b[0m\u001b[0;34m)\u001b[0m\u001b[0;34m\u001b[0m\u001b[0;34m\u001b[0m\u001b[0m\n\u001b[0m",
            "\u001b[0;32m/usr/local/lib/python3.7/dist-packages/sklearn/neighbors/_classification.py\u001b[0m in \u001b[0;36mpredict\u001b[0;34m(self, X)\u001b[0m\n\u001b[1;32m    169\u001b[0m             \u001b[0mClass\u001b[0m \u001b[0mlabels\u001b[0m \u001b[0;32mfor\u001b[0m \u001b[0meach\u001b[0m \u001b[0mdata\u001b[0m \u001b[0msample\u001b[0m\u001b[0;34m.\u001b[0m\u001b[0;34m\u001b[0m\u001b[0;34m\u001b[0m\u001b[0m\n\u001b[1;32m    170\u001b[0m         \"\"\"\n\u001b[0;32m--> 171\u001b[0;31m         \u001b[0mX\u001b[0m \u001b[0;34m=\u001b[0m \u001b[0mcheck_array\u001b[0m\u001b[0;34m(\u001b[0m\u001b[0mX\u001b[0m\u001b[0;34m,\u001b[0m \u001b[0maccept_sparse\u001b[0m\u001b[0;34m=\u001b[0m\u001b[0;34m'csr'\u001b[0m\u001b[0;34m)\u001b[0m\u001b[0;34m\u001b[0m\u001b[0;34m\u001b[0m\u001b[0m\n\u001b[0m\u001b[1;32m    172\u001b[0m \u001b[0;34m\u001b[0m\u001b[0m\n\u001b[1;32m    173\u001b[0m         \u001b[0mneigh_dist\u001b[0m\u001b[0;34m,\u001b[0m \u001b[0mneigh_ind\u001b[0m \u001b[0;34m=\u001b[0m \u001b[0mself\u001b[0m\u001b[0;34m.\u001b[0m\u001b[0mkneighbors\u001b[0m\u001b[0;34m(\u001b[0m\u001b[0mX\u001b[0m\u001b[0;34m)\u001b[0m\u001b[0;34m\u001b[0m\u001b[0;34m\u001b[0m\u001b[0m\n",
            "\u001b[0;32m/usr/local/lib/python3.7/dist-packages/sklearn/utils/validation.py\u001b[0m in \u001b[0;36mcheck_array\u001b[0;34m(array, accept_sparse, accept_large_sparse, dtype, order, copy, force_all_finite, ensure_2d, allow_nd, ensure_min_samples, ensure_min_features, warn_on_dtype, estimator)\u001b[0m\n\u001b[1;32m    554\u001b[0m                     \u001b[0;34m\"Reshape your data either using array.reshape(-1, 1) if \"\u001b[0m\u001b[0;34m\u001b[0m\u001b[0;34m\u001b[0m\u001b[0m\n\u001b[1;32m    555\u001b[0m                     \u001b[0;34m\"your data has a single feature or array.reshape(1, -1) \"\u001b[0m\u001b[0;34m\u001b[0m\u001b[0;34m\u001b[0m\u001b[0m\n\u001b[0;32m--> 556\u001b[0;31m                     \"if it contains a single sample.\".format(array))\n\u001b[0m\u001b[1;32m    557\u001b[0m \u001b[0;34m\u001b[0m\u001b[0m\n\u001b[1;32m    558\u001b[0m         \u001b[0;31m# in the future np.flexible dtypes will be handled like object dtypes\u001b[0m\u001b[0;34m\u001b[0m\u001b[0;34m\u001b[0m\u001b[0;34m\u001b[0m\u001b[0m\n",
            "\u001b[0;31mValueError\u001b[0m: Expected 2D array, got 1D array instead:\narray=[ 20 600].\nReshape your data either using array.reshape(-1, 1) if your data has a single feature or array.reshape(1, -1) if it contains a single sample."
          ]
        }
      ]
    },
    {
      "cell_type": "markdown",
      "metadata": {
        "id": "IcVDhHSOqgZA"
      },
      "source": [
        "---\r\n",
        "- 새로운 데이터에 대해 예측할 때는 가장 가까운 직선거리에 어떤 데이터가 있는지 살펴봐야 한다.\r\n",
        "- 단점은, 데이터가 아주 많은 경우, 이 모델을 사용하기 어렵다는 것이다.\r\n",
        "  >데이터가 크고, 직선거리 계산에 많은 시간이 소요\r\n",
        "\r\n",
        "\r\n",
        "\r\n",
        "- k-최근접 이웃 알고리즘은 fit() 메서드에 전달받은 데이터를 모두 가지고 있다가, 새로운 데이터가 등장하면 가장 가까운 데이터를 참고하여 도미인지 빙어인지 구분한다."
      ]
    },
    {
      "cell_type": "code",
      "metadata": {
        "colab": {
          "base_uri": "https://localhost:8080/"
        },
        "id": "U3ikq8OUpkdm",
        "outputId": "3d39b02f-b922-4c83-e55b-dc46ef579c28"
      },
      "source": [
        "print(kn._fit_X)\r\n",
        "print('-'*8)\r\n",
        "print(kn._y)"
      ],
      "execution_count": 83,
      "outputs": [
        {
          "output_type": "stream",
          "text": [
            "[[  25.4  242. ]\n",
            " [  26.3  290. ]\n",
            " [  26.5  340. ]\n",
            " [  29.   363. ]\n",
            " [  29.   430. ]\n",
            " [  29.7  450. ]\n",
            " [  29.7  500. ]\n",
            " [  30.   390. ]\n",
            " [  30.   450. ]\n",
            " [  30.7  500. ]\n",
            " [  31.   475. ]\n",
            " [  31.   500. ]\n",
            " [  31.5  500. ]\n",
            " [  32.   340. ]\n",
            " [  32.   600. ]\n",
            " [  32.   600. ]\n",
            " [  33.   700. ]\n",
            " [  33.   700. ]\n",
            " [  33.5  610. ]\n",
            " [  33.5  650. ]\n",
            " [  34.   575. ]\n",
            " [  34.   685. ]\n",
            " [  34.5  620. ]\n",
            " [  35.   680. ]\n",
            " [  35.   700. ]\n",
            " [  35.   725. ]\n",
            " [  35.   720. ]\n",
            " [  36.   714. ]\n",
            " [  36.   850. ]\n",
            " [  37.  1000. ]\n",
            " [  38.5  920. ]\n",
            " [  38.5  955. ]\n",
            " [  39.5  925. ]\n",
            " [  41.   975. ]\n",
            " [  41.   950. ]\n",
            " [   9.8    6.7]\n",
            " [  10.5    7.5]\n",
            " [  10.6    7. ]\n",
            " [  11.     9.7]\n",
            " [  11.2    9.8]\n",
            " [  11.3    8.7]\n",
            " [  11.8   10. ]\n",
            " [  11.8    9.9]\n",
            " [  12.     9.8]\n",
            " [  12.2   12.2]\n",
            " [  12.4   13.4]\n",
            " [  13.    12.2]\n",
            " [  14.3   19.7]\n",
            " [  15.    19.9]]\n",
            "--------\n",
            "[1 1 1 1 1 1 1 1 1 1 1 1 1 1 1 1 1 1 1 1 1 1 1 1 1 1 1 1 1 1 1 1 1 1 1 0 0\n",
            " 0 0 0 0 0 0 0 0 0 0 0 0]\n"
          ],
          "name": "stdout"
        }
      ]
    },
    {
      "cell_type": "markdown",
      "metadata": {
        "id": "PD2dpU3SrcTl"
      },
      "source": [
        "- KNeighborsClassifier 클래스의 데이터 참고 기본값은 5인데, 이는 설정하기 나름이다. "
      ]
    },
    {
      "cell_type": "code",
      "metadata": {
        "id": "Z_iiCOiEq5nu"
      },
      "source": [
        "#참고 데이터를 49개로 한 kn49 모델\r\n",
        "kn49 = KNeighborsClassifier(n_neighbors = 49)"
      ],
      "execution_count": 84,
      "outputs": []
    },
    {
      "cell_type": "code",
      "metadata": {
        "colab": {
          "base_uri": "https://localhost:8080/"
        },
        "id": "5sE7rYFcrrHt",
        "outputId": "330b0530-80ac-4537-f2f7-257ffbb51967"
      },
      "source": [
        "kn49.fit(fish_data, fish_target) \r\n",
        "#앞이 training data, 뒤가 정답 데이터"
      ],
      "execution_count": 85,
      "outputs": [
        {
          "output_type": "execute_result",
          "data": {
            "text/plain": [
              "KNeighborsClassifier(algorithm='auto', leaf_size=30, metric='minkowski',\n",
              "                     metric_params=None, n_jobs=None, n_neighbors=49, p=2,\n",
              "                     weights='uniform')"
            ]
          },
          "metadata": {
            "tags": []
          },
          "execution_count": 85
        }
      ]
    },
    {
      "cell_type": "code",
      "metadata": {
        "colab": {
          "base_uri": "https://localhost:8080/"
        },
        "id": "77b3HBBRshRu",
        "outputId": "b53e1235-2178-4329-c646-9bcbf20746b7"
      },
      "source": [
        "kn49.score(fish_data, fish_target)"
      ],
      "execution_count": 86,
      "outputs": [
        {
          "output_type": "execute_result",
          "data": {
            "text/plain": [
              "0.7142857142857143"
            ]
          },
          "metadata": {
            "tags": []
          },
          "execution_count": 86
        }
      ]
    },
    {
      "cell_type": "code",
      "metadata": {
        "colab": {
          "base_uri": "https://localhost:8080/"
        },
        "id": "1_nwkphps1p5",
        "outputId": "f4d15c33-70b8-4c68-8541-5d265ea07350"
      },
      "source": [
        "#이것은 fish_data의 데이터 49개 중, 도미 35개가 다수를 차지하기 때문에, 어떤 데이터를 넣어도 무조건 도미라고 예측하게 된다.\r\n",
        "print(35/49)  #정확도 = (정확히 맞힌 개수) / (전체 데이터 개수)"
      ],
      "execution_count": 87,
      "outputs": [
        {
          "output_type": "stream",
          "text": [
            "0.7142857142857143\n"
          ],
          "name": "stdout"
        }
      ]
    }
  ]
}