{
  "nbformat": 4,
  "nbformat_minor": 0,
  "metadata": {
    "colab": {
      "name": "API_medical_devices.ipynb",
      "provenance": [],
      "authorship_tag": "ABX9TyOnB/muGAn8o+U8f7ywYDIG",
      "include_colab_link": true
    },
    "kernelspec": {
      "name": "python3",
      "display_name": "Python 3"
    }
  },
  "cells": [
    {
      "cell_type": "markdown",
      "metadata": {
        "id": "view-in-github",
        "colab_type": "text"
      },
      "source": [
        "<a href=\"https://colab.research.google.com/github/leenago/Self_studying/blob/master/API_medical_devices.ipynb\" target=\"_parent\"><img src=\"https://colab.research.google.com/assets/colab-badge.svg\" alt=\"Open In Colab\"/></a>"
      ]
    },
    {
      "cell_type": "code",
      "metadata": {
        "id": "b9ciRbGyxodU"
      },
      "source": [
        "import pandas as pd\r\n",
        "# from pandas.io.json import json_normalize\r\n",
        "from bs4 import BeautifulSoup as bs\r\n",
        "import requests\r\n",
        "import urllib.request\r\n",
        "import json"
      ],
      "execution_count": 8,
      "outputs": []
    },
    {
      "cell_type": "code",
      "metadata": {
        "id": "fRqJafxyxxqi"
      },
      "source": [
        "key = 'zsQ%2F3KJhCCpXZDpnSvALNd4%2BUj%2Biop3ADioCfr7%2Fl%2BwU0b7vvw5nvjE2D0nzSZ%2FPrZTUYjS6fAJPTa6IDi%2F9yQ%3D%3D'"
      ],
      "execution_count": 2,
      "outputs": []
    },
    {
      "cell_type": "markdown",
      "metadata": {
        "id": "JddEm8CKx3Sx"
      },
      "source": [
        "## 1번째\r\n",
        "- https://www.data.go.kr/iim/api/selectAPIAcountView.do"
      ]
    },
    {
      "cell_type": "code",
      "metadata": {
        "colab": {
          "base_uri": "https://localhost:8080/",
          "height": 53
        },
        "id": "4dH5mzD8x04t",
        "outputId": "ca63368a-af93-44c3-a880-343c926233c1"
      },
      "source": [
        "#default값이 xml이라, json으로 바꿔준다.\r\n",
        "#맛보기로 페이지에 나오는 값을 5로 설정해준다.\r\n",
        "url1 = 'http://apis.data.go.kr/1471000/MdeqPlcRlatDocCtgryInfoService/getMdeqPlcRlatDocCtgryInfoInq?ServiceKey='+str(key)+ '&numOfRows=5&pageNo=11&type=json'\r\n",
        "url1"
      ],
      "execution_count": 13,
      "outputs": [
        {
          "output_type": "execute_result",
          "data": {
            "application/vnd.google.colaboratory.intrinsic+json": {
              "type": "string"
            },
            "text/plain": [
              "'http://apis.data.go.kr/1471000/MdeqPlcRlatDocCtgryInfoService/getMdeqPlcRlatDocCtgryInfoInq?ServiceKey=zsQ%2F3KJhCCpXZDpnSvALNd4%2BUj%2Biop3ADioCfr7%2Fl%2BwU0b7vvw5nvjE2D0nzSZ%2FPrZTUYjS6fAJPTa6IDi%2F9yQ%3D%3D&numOfRows=5&pageNo=11&type=json'"
            ]
          },
          "metadata": {
            "tags": []
          },
          "execution_count": 13
        }
      ]
    },
    {
      "cell_type": "code",
      "metadata": {
        "colab": {
          "base_uri": "https://localhost:8080/"
        },
        "id": "-_veycYTyCAd",
        "outputId": "92aabd4e-27c9-4761-aa89-996edce4e285"
      },
      "source": [
        "req = urllib.request.urlopen(url1)\r\n",
        "req"
      ],
      "execution_count": 14,
      "outputs": [
        {
          "output_type": "execute_result",
          "data": {
            "text/plain": [
              "<http.client.HTTPResponse at 0x7fa5ef65ef60>"
            ]
          },
          "metadata": {
            "tags": []
          },
          "execution_count": 14
        }
      ]
    },
    {
      "cell_type": "code",
      "metadata": {
        "colab": {
          "base_uri": "https://localhost:8080/"
        },
        "id": "zL2B46sAyUwf",
        "outputId": "a2b20f47-6090-4556-9255-81457f881fd4"
      },
      "source": [
        "json_str = req.read()\r\n",
        "json_str"
      ],
      "execution_count": 15,
      "outputs": [
        {
          "output_type": "execute_result",
          "data": {
            "text/plain": [
              "b'{\"header\":{\"resultCode\":\"00\",\"resultMsg\":\"NORMAL SERVICE.\"},\"body\":{\"pageNo\":11,\"totalCount\":1044,\"numOfRows\":5,\"items\":[{\"MDEQ_CLSF_NO\":\"A27100.01\",\"DOC_CTGRY_ID\":\"4\",\"DOC_CTGRY_NM\":\"\\xec\\x8b\\xac\\xec\\x82\\xac\\xec\\xa7\\x80\\xec\\xb9\\xa8\\xec\\x84\\x9c\"},{\"MDEQ_CLSF_NO\":\"A37010.03\",\"DOC_CTGRY_ID\":\"1\",\"DOC_CTGRY_NM\":\"\\xea\\xb8\\xb0\\xec\\xa4\\x80\\xea\\xb7\\x9c\\xea\\xb2\\xa9\"},{\"MDEQ_CLSF_NO\":\"A31190.07\",\"DOC_CTGRY_ID\":\"1\",\"DOC_CTGRY_NM\":\"\\xea\\xb8\\xb0\\xec\\xa4\\x80\\xea\\xb7\\x9c\\xea\\xb2\\xa9\"},{\"MDEQ_CLSF_NO\":\"A31080.01\",\"DOC_CTGRY_ID\":\"1\",\"DOC_CTGRY_NM\":\"\\xea\\xb8\\xb0\\xec\\xa4\\x80\\xea\\xb7\\x9c\\xea\\xb2\\xa9\"},{\"MDEQ_CLSF_NO\":\"A27110.01\",\"DOC_CTGRY_ID\":\"4\",\"DOC_CTGRY_NM\":\"\\xec\\x8b\\xac\\xec\\x82\\xac\\xec\\xa7\\x80\\xec\\xb9\\xa8\\xec\\x84\\x9c\"}]}}'"
            ]
          },
          "metadata": {
            "tags": []
          },
          "execution_count": 15
        }
      ]
    },
    {
      "cell_type": "code",
      "metadata": {
        "colab": {
          "base_uri": "https://localhost:8080/"
        },
        "id": "SI_vNPvSyX0F",
        "outputId": "7b019ab2-f31c-43e2-a118-1007fb53cd08"
      },
      "source": [
        "#Deserialize json_str to a Python object - To parse (serialized data) so as to reconstruct the original object\r\n",
        "json_object = json.loads(json_str)\r\n",
        "json_object"
      ],
      "execution_count": 16,
      "outputs": [
        {
          "output_type": "execute_result",
          "data": {
            "text/plain": [
              "{'body': {'items': [{'DOC_CTGRY_ID': '4',\n",
              "    'DOC_CTGRY_NM': '심사지침서',\n",
              "    'MDEQ_CLSF_NO': 'A27100.01'},\n",
              "   {'DOC_CTGRY_ID': '1', 'DOC_CTGRY_NM': '기준규격', 'MDEQ_CLSF_NO': 'A37010.03'},\n",
              "   {'DOC_CTGRY_ID': '1', 'DOC_CTGRY_NM': '기준규격', 'MDEQ_CLSF_NO': 'A31190.07'},\n",
              "   {'DOC_CTGRY_ID': '1', 'DOC_CTGRY_NM': '기준규격', 'MDEQ_CLSF_NO': 'A31080.01'},\n",
              "   {'DOC_CTGRY_ID': '4',\n",
              "    'DOC_CTGRY_NM': '심사지침서',\n",
              "    'MDEQ_CLSF_NO': 'A27110.01'}],\n",
              "  'numOfRows': 5,\n",
              "  'pageNo': 11,\n",
              "  'totalCount': 1044},\n",
              " 'header': {'resultCode': '00', 'resultMsg': 'NORMAL SERVICE.'}}"
            ]
          },
          "metadata": {
            "tags": []
          },
          "execution_count": 16
        }
      ]
    },
    {
      "cell_type": "code",
      "metadata": {
        "colab": {
          "base_uri": "https://localhost:8080/"
        },
        "id": "b7oTMoMnynK2",
        "outputId": "cadac7d1-8b03-41b1-bf58-627780cc7169"
      },
      "source": [
        "#우리가 필요한 정보는 'body' 안에 'items'\r\n",
        "json_object['body']['items']"
      ],
      "execution_count": 17,
      "outputs": [
        {
          "output_type": "execute_result",
          "data": {
            "text/plain": [
              "[{'DOC_CTGRY_ID': '4', 'DOC_CTGRY_NM': '심사지침서', 'MDEQ_CLSF_NO': 'A27100.01'},\n",
              " {'DOC_CTGRY_ID': '1', 'DOC_CTGRY_NM': '기준규격', 'MDEQ_CLSF_NO': 'A37010.03'},\n",
              " {'DOC_CTGRY_ID': '1', 'DOC_CTGRY_NM': '기준규격', 'MDEQ_CLSF_NO': 'A31190.07'},\n",
              " {'DOC_CTGRY_ID': '1', 'DOC_CTGRY_NM': '기준규격', 'MDEQ_CLSF_NO': 'A31080.01'},\n",
              " {'DOC_CTGRY_ID': '4', 'DOC_CTGRY_NM': '심사지침서', 'MDEQ_CLSF_NO': 'A27110.01'}]"
            ]
          },
          "metadata": {
            "tags": []
          },
          "execution_count": 17
        }
      ]
    },
    {
      "cell_type": "code",
      "metadata": {
        "colab": {
          "base_uri": "https://localhost:8080/",
          "height": 419
        },
        "id": "88ZgPslPza9X",
        "outputId": "0bd60bfc-399e-4f34-e637-624e17c59f33"
      },
      "source": [
        "#page 수가 11장이기 때문에, for loop을 사용해준다.\r\n",
        "\r\n",
        "df_json1 = pd.DataFrame(columns = ['MDEQ_CLSF_NO','DOC_CTGRY_ID','DOC_CTGRY_NM'])\r\n",
        "\r\n",
        "for i in range(1,12):\r\n",
        "  url1 =  'http://apis.data.go.kr/1471000/MdeqPlcRlatDocCtgryInfoService/getMdeqPlcRlatDocCtgryInfoInq?ServiceKey='+str(key)+ '&numOfRows=100&pageNo='+str(i) + '&type=json'\r\n",
        "\r\n",
        "  req = urllib.request.urlopen(url1)\r\n",
        "  json_str = req.read()\r\n",
        "  json_object = json.loads(json_str)\r\n",
        "\r\n",
        "  df_json1 = pd.concat([df_json1, pd.json_normalize(json_object['body']['items'])])\r\n",
        "\r\n",
        "\r\n",
        "df_json1"
      ],
      "execution_count": 20,
      "outputs": [
        {
          "output_type": "execute_result",
          "data": {
            "text/html": [
              "<div>\n",
              "<style scoped>\n",
              "    .dataframe tbody tr th:only-of-type {\n",
              "        vertical-align: middle;\n",
              "    }\n",
              "\n",
              "    .dataframe tbody tr th {\n",
              "        vertical-align: top;\n",
              "    }\n",
              "\n",
              "    .dataframe thead th {\n",
              "        text-align: right;\n",
              "    }\n",
              "</style>\n",
              "<table border=\"1\" class=\"dataframe\">\n",
              "  <thead>\n",
              "    <tr style=\"text-align: right;\">\n",
              "      <th></th>\n",
              "      <th>MDEQ_CLSF_NO</th>\n",
              "      <th>DOC_CTGRY_ID</th>\n",
              "      <th>DOC_CTGRY_NM</th>\n",
              "    </tr>\n",
              "  </thead>\n",
              "  <tbody>\n",
              "    <tr>\n",
              "      <th>0</th>\n",
              "      <td>A31170.02</td>\n",
              "      <td>1</td>\n",
              "      <td>기준규격</td>\n",
              "    </tr>\n",
              "    <tr>\n",
              "      <th>1</th>\n",
              "      <td>A31010.39</td>\n",
              "      <td>4</td>\n",
              "      <td>심사지침서</td>\n",
              "    </tr>\n",
              "    <tr>\n",
              "      <th>2</th>\n",
              "      <td>A26410.01</td>\n",
              "      <td>1</td>\n",
              "      <td>기준규격</td>\n",
              "    </tr>\n",
              "    <tr>\n",
              "      <th>3</th>\n",
              "      <td>A35010.01</td>\n",
              "      <td>1</td>\n",
              "      <td>기준규격</td>\n",
              "    </tr>\n",
              "    <tr>\n",
              "      <th>4</th>\n",
              "      <td>A31170.03</td>\n",
              "      <td>1</td>\n",
              "      <td>기준규격</td>\n",
              "    </tr>\n",
              "    <tr>\n",
              "      <th>...</th>\n",
              "      <td>...</td>\n",
              "      <td>...</td>\n",
              "      <td>...</td>\n",
              "    </tr>\n",
              "    <tr>\n",
              "      <th>39</th>\n",
              "      <td>A16030.01</td>\n",
              "      <td>6</td>\n",
              "      <td>성능시험가이던스</td>\n",
              "    </tr>\n",
              "    <tr>\n",
              "      <th>40</th>\n",
              "      <td>A11110.04</td>\n",
              "      <td>1</td>\n",
              "      <td>기준규격</td>\n",
              "    </tr>\n",
              "    <tr>\n",
              "      <th>41</th>\n",
              "      <td>A04090.04</td>\n",
              "      <td>4</td>\n",
              "      <td>심사지침서</td>\n",
              "    </tr>\n",
              "    <tr>\n",
              "      <th>42</th>\n",
              "      <td>A23010.01</td>\n",
              "      <td>1</td>\n",
              "      <td>기준규격</td>\n",
              "    </tr>\n",
              "    <tr>\n",
              "      <th>43</th>\n",
              "      <td>A16030.01</td>\n",
              "      <td>5</td>\n",
              "      <td>가이드라인</td>\n",
              "    </tr>\n",
              "  </tbody>\n",
              "</table>\n",
              "<p>1044 rows × 3 columns</p>\n",
              "</div>"
            ],
            "text/plain": [
              "   MDEQ_CLSF_NO DOC_CTGRY_ID DOC_CTGRY_NM\n",
              "0     A31170.02            1         기준규격\n",
              "1     A31010.39            4        심사지침서\n",
              "2     A26410.01            1         기준규격\n",
              "3     A35010.01            1         기준규격\n",
              "4     A31170.03            1         기준규격\n",
              "..          ...          ...          ...\n",
              "39    A16030.01            6     성능시험가이던스\n",
              "40    A11110.04            1         기준규격\n",
              "41    A04090.04            4        심사지침서\n",
              "42    A23010.01            1         기준규격\n",
              "43    A16030.01            5        가이드라인\n",
              "\n",
              "[1044 rows x 3 columns]"
            ]
          },
          "metadata": {
            "tags": []
          },
          "execution_count": 20
        }
      ]
    },
    {
      "cell_type": "code",
      "metadata": {
        "colab": {
          "base_uri": "https://localhost:8080/",
          "height": 419
        },
        "id": "TE8MYWN-0MT7",
        "outputId": "747ceef0-aab3-467e-e11e-4a40260afca0"
      },
      "source": [
        "#우리가 보기 편하게, 컬럼 이름을 바꾸어준다.\r\n",
        "df_json1 = df_json1.rename(columns = {'MDEQ_CLSF_NO':'품목분류번호','DOC_CTGRY_ID':'문서카테고리아이디','DOC_CTGRY_NM':'문서카테고리이름'}).reset_index(drop=True)\r\n",
        "df_json1"
      ],
      "execution_count": 22,
      "outputs": [
        {
          "output_type": "execute_result",
          "data": {
            "text/html": [
              "<div>\n",
              "<style scoped>\n",
              "    .dataframe tbody tr th:only-of-type {\n",
              "        vertical-align: middle;\n",
              "    }\n",
              "\n",
              "    .dataframe tbody tr th {\n",
              "        vertical-align: top;\n",
              "    }\n",
              "\n",
              "    .dataframe thead th {\n",
              "        text-align: right;\n",
              "    }\n",
              "</style>\n",
              "<table border=\"1\" class=\"dataframe\">\n",
              "  <thead>\n",
              "    <tr style=\"text-align: right;\">\n",
              "      <th></th>\n",
              "      <th>품목분류번호</th>\n",
              "      <th>문서카테고리아이디</th>\n",
              "      <th>문서카테고리이름</th>\n",
              "    </tr>\n",
              "  </thead>\n",
              "  <tbody>\n",
              "    <tr>\n",
              "      <th>0</th>\n",
              "      <td>A31170.02</td>\n",
              "      <td>1</td>\n",
              "      <td>기준규격</td>\n",
              "    </tr>\n",
              "    <tr>\n",
              "      <th>1</th>\n",
              "      <td>A31010.39</td>\n",
              "      <td>4</td>\n",
              "      <td>심사지침서</td>\n",
              "    </tr>\n",
              "    <tr>\n",
              "      <th>2</th>\n",
              "      <td>A26410.01</td>\n",
              "      <td>1</td>\n",
              "      <td>기준규격</td>\n",
              "    </tr>\n",
              "    <tr>\n",
              "      <th>3</th>\n",
              "      <td>A35010.01</td>\n",
              "      <td>1</td>\n",
              "      <td>기준규격</td>\n",
              "    </tr>\n",
              "    <tr>\n",
              "      <th>4</th>\n",
              "      <td>A31170.03</td>\n",
              "      <td>1</td>\n",
              "      <td>기준규격</td>\n",
              "    </tr>\n",
              "    <tr>\n",
              "      <th>...</th>\n",
              "      <td>...</td>\n",
              "      <td>...</td>\n",
              "      <td>...</td>\n",
              "    </tr>\n",
              "    <tr>\n",
              "      <th>1039</th>\n",
              "      <td>A16030.01</td>\n",
              "      <td>6</td>\n",
              "      <td>성능시험가이던스</td>\n",
              "    </tr>\n",
              "    <tr>\n",
              "      <th>1040</th>\n",
              "      <td>A11110.04</td>\n",
              "      <td>1</td>\n",
              "      <td>기준규격</td>\n",
              "    </tr>\n",
              "    <tr>\n",
              "      <th>1041</th>\n",
              "      <td>A04090.04</td>\n",
              "      <td>4</td>\n",
              "      <td>심사지침서</td>\n",
              "    </tr>\n",
              "    <tr>\n",
              "      <th>1042</th>\n",
              "      <td>A23010.01</td>\n",
              "      <td>1</td>\n",
              "      <td>기준규격</td>\n",
              "    </tr>\n",
              "    <tr>\n",
              "      <th>1043</th>\n",
              "      <td>A16030.01</td>\n",
              "      <td>5</td>\n",
              "      <td>가이드라인</td>\n",
              "    </tr>\n",
              "  </tbody>\n",
              "</table>\n",
              "<p>1044 rows × 3 columns</p>\n",
              "</div>"
            ],
            "text/plain": [
              "         품목분류번호 문서카테고리아이디  문서카테고리이름\n",
              "0     A31170.02         1      기준규격\n",
              "1     A31010.39         4     심사지침서\n",
              "2     A26410.01         1      기준규격\n",
              "3     A35010.01         1      기준규격\n",
              "4     A31170.03         1      기준규격\n",
              "...         ...       ...       ...\n",
              "1039  A16030.01         6  성능시험가이던스\n",
              "1040  A11110.04         1      기준규격\n",
              "1041  A04090.04         4     심사지침서\n",
              "1042  A23010.01         1      기준규격\n",
              "1043  A16030.01         5     가이드라인\n",
              "\n",
              "[1044 rows x 3 columns]"
            ]
          },
          "metadata": {
            "tags": []
          },
          "execution_count": 22
        }
      ]
    },
    {
      "cell_type": "markdown",
      "metadata": {
        "id": "GWTuxlaA0yat"
      },
      "source": [
        "- 이 작업을 3개의 API에다가 더 해주면 끝!\r\n",
        "- xml 형식은 어떻게 불러오는지 더 해보아야 할 것 같다."
      ]
    }
  ]
}