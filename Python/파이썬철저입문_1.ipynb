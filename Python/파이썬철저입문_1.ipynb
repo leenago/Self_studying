{
  "nbformat": 4,
  "nbformat_minor": 0,
  "metadata": {
    "colab": {
      "name": "파이썬철저입문 - 1.ipynb",
      "provenance": [],
      "collapsed_sections": [],
      "authorship_tag": "ABX9TyPFeNVmAWnAJ3OcIL9oJOjs",
      "include_colab_link": true
    },
    "kernelspec": {
      "name": "python3",
      "display_name": "Python 3"
    }
  },
  "cells": [
    {
      "cell_type": "markdown",
      "metadata": {
        "id": "view-in-github",
        "colab_type": "text"
      },
      "source": [
        "<a href=\"https://colab.research.google.com/github/leenago/Self_studying/blob/master/Python/%ED%8C%8C%EC%9D%B4%EC%8D%AC%EC%B2%A0%EC%A0%80%EC%9E%85%EB%AC%B8_1.ipynb\" target=\"_parent\"><img src=\"https://colab.research.google.com/assets/colab-badge.svg\" alt=\"Open In Colab\"/></a>"
      ]
    },
    {
      "cell_type": "markdown",
      "metadata": {
        "id": "i7FutxgvpuuD"
      },
      "source": [
        "##1. 제어문과 입출력 \r\n",
        "###1) List comprehension"
      ]
    },
    {
      "cell_type": "code",
      "metadata": {
        "id": "xCeV6B1mojZY"
      },
      "source": [
        "numbers = [1,2,3,4,5]\r\n",
        "square = []"
      ],
      "execution_count": null,
      "outputs": []
    },
    {
      "cell_type": "code",
      "metadata": {
        "colab": {
          "base_uri": "https://localhost:8080/"
        },
        "id": "D2dNyAjGp7ln",
        "outputId": "cf54f717-b7b5-4dbe-bca4-24405b144ab4"
      },
      "source": [
        "for i in numbers:\r\n",
        "  square.append(i**2)\r\n",
        "\r\n",
        "print(square)"
      ],
      "execution_count": null,
      "outputs": [
        {
          "output_type": "stream",
          "text": [
            "[1, 4, 9, 16, 25]\n"
          ],
          "name": "stdout"
        }
      ]
    },
    {
      "cell_type": "code",
      "metadata": {
        "colab": {
          "base_uri": "https://localhost:8080/"
        },
        "id": "WX_RFAf_qIE7",
        "outputId": "6a701bd5-3982-472a-cb99-5652d4b7cfed"
      },
      "source": [
        "square = [(i**2) for i in numbers]\r\n",
        "square"
      ],
      "execution_count": null,
      "outputs": [
        {
          "output_type": "execute_result",
          "data": {
            "text/plain": [
              "[1, 4, 9, 16, 25]"
            ]
          },
          "metadata": {
            "tags": []
          },
          "execution_count": 6
        }
      ]
    },
    {
      "cell_type": "code",
      "metadata": {
        "colab": {
          "base_uri": "https://localhost:8080/"
        },
        "id": "sEkd8MHaqUwT",
        "outputId": "12bc3f73-97f7-4307-a482-c35ee2995e59"
      },
      "source": [
        "#조건문을 포함한 List comprehension\r\n",
        "numbers = [6,7,8,9]\r\n",
        "square = []\r\n",
        "\r\n",
        "for i in numbers:\r\n",
        "  if i>=3:\r\n",
        "    square.append(i**2)\r\n",
        "\r\n",
        "square"
      ],
      "execution_count": null,
      "outputs": [
        {
          "output_type": "execute_result",
          "data": {
            "text/plain": [
              "[36, 49, 64, 81]"
            ]
          },
          "metadata": {
            "tags": []
          },
          "execution_count": 8
        }
      ]
    },
    {
      "cell_type": "code",
      "metadata": {
        "colab": {
          "base_uri": "https://localhost:8080/"
        },
        "id": "b1y4Ks9Kqml4",
        "outputId": "7aae9b6f-0150-4d29-dbfd-51d20b8cc4c4"
      },
      "source": [
        "square = [i**2 for i in numbers if i>=3] ; square"
      ],
      "execution_count": null,
      "outputs": [
        {
          "output_type": "execute_result",
          "data": {
            "text/plain": [
              "[36, 49, 64, 81]"
            ]
          },
          "metadata": {
            "tags": []
          },
          "execution_count": 10
        }
      ]
    },
    {
      "cell_type": "code",
      "metadata": {
        "colab": {
          "base_uri": "https://localhost:8080/"
        },
        "id": "9FgwAzTAq0MM",
        "outputId": "57bb9eb9-76da-4750-b656-02f599a37dc3"
      },
      "source": [
        "#print\r\n",
        "print('Welcome to')\r\n",
        "print('Python!')"
      ],
      "execution_count": null,
      "outputs": [
        {
          "output_type": "stream",
          "text": [
            "Welcome to\n",
            "Python!\n"
          ],
          "name": "stdout"
        }
      ]
    },
    {
      "cell_type": "code",
      "metadata": {
        "colab": {
          "base_uri": "https://localhost:8080/"
        },
        "id": "yFNLfig_rRdM",
        "outputId": "15af1050-2124-49d9-fb14-a8279b5fa493"
      },
      "source": [
        "print('Welcome to ', end='') #print 함수 안에 라인 끝의 값을 지정할 수 있는 end 인자 / print는 줄바꿈이 default이지만, end 인자를 추가하게 되면 줄바꿈 없이 연결되어 추가가 된다.\r\n",
        "print('Python!')\r\n",
        "print('Welcome to ', end='happy ')\r\n",
        "print('Python!')"
      ],
      "execution_count": null,
      "outputs": [
        {
          "output_type": "stream",
          "text": [
            "Welcome to Python!\n",
            "Welcome to happy Python!\n"
          ],
          "name": "stdout"
        }
      ]
    },
    {
      "cell_type": "markdown",
      "metadata": {
        "id": "3yohKME3sLRl"
      },
      "source": [
        "### 2) 형식 지정 출력\r\n",
        "- 기본: print('%type' %data)\r\n",
        "  - data가 문자열인 경우: **%s**\r\n",
        "  - data가 정수인 경우: **%d**, **%i**\r\n",
        "  - data가 실수인 경우: **%f**\r\n",
        "\r\n",
        "- data가 2개 이상인 경우: print('%type %type' %(data1, data2))"
      ]
    },
    {
      "cell_type": "code",
      "metadata": {
        "colab": {
          "base_uri": "https://localhost:8080/"
        },
        "id": "c3P44hWTrVSE",
        "outputId": "3f4e19d7-3b0f-4555-8525-b7a31b16ac6d"
      },
      "source": [
        "r = 3\r\n",
        "PI = 3.14159265358979\r\n",
        "\r\n",
        "print('반지름: %d, 원주율 %f' %(r, PI))\r\n",
        "print('반지름: %d, 원주율 %f' %(PI, r)) #정수인 경우, 실수인 경우 나눠서 값을 지정해줘야 함!\r\n",
        "print('반지름: %f, 원주율 %d' %(PI, r)) #위치에 따라 값이 달라짐 "
      ],
      "execution_count": null,
      "outputs": [
        {
          "output_type": "stream",
          "text": [
            "반지름: 3, 원주율 3.141593\n",
            "반지름: 3, 원주율 3.000000\n",
            "반지름: 3.141593, 원주율 3\n"
          ],
          "name": "stdout"
        }
      ]
    },
    {
      "cell_type": "markdown",
      "metadata": {
        "id": "yahQBGHnuG6D"
      },
      "source": [
        "### 3) 형식 지정 문자열에서 출력 위치 지정\r\n",
        " - string.format() 사용하기\r\n",
        "  - print('{0},{1},{2} ... {n}'.format(data_0, data_1, data_2, ..., data_n)"
      ]
    },
    {
      "cell_type": "code",
      "metadata": {
        "colab": {
          "base_uri": "https://localhost:8080/"
        },
        "id": "SjlVNNOhsVmS",
        "outputId": "349c692c-7273-4cf6-f9ba-3fb0ccef086e"
      },
      "source": [
        "animal_0 = 'cat'\r\n",
        "animal_1 = 'dog'\r\n",
        "animal_2 = 'fox'\r\n",
        "\r\n",
        "print('Animal: {0}'.format(animal_0))\r\n",
        "print('Animal: {0},{1},{2}'.format(animal_0, animal_1, animal_2))\r\n",
        "print('Animal: {0}, {1}, {2}'.format(animal_2, animal_0, animal_1)) #앞에 띄어쓰기가 있으면 결과값도 띄어쓰기가 포함이 되는구나!\r\n",
        "print('Animal: {},{}'.format(animal_1, animal_0, animal_2)) #format 안에 다 있더라도, 앞에서 2개만 "
      ],
      "execution_count": null,
      "outputs": [
        {
          "output_type": "stream",
          "text": [
            "Animal: cat\n",
            "Animal: cat,dog,fox\n",
            "Animal: fox, cat, dog\n",
            "Animal: dog,cat\n"
          ],
          "name": "stdout"
        }
      ]
    },
    {
      "cell_type": "code",
      "metadata": {
        "colab": {
          "base_uri": "https://localhost:8080/"
        },
        "id": "tozlk0qIu7-J",
        "outputId": "ae52cdb5-9988-40cc-b74d-826da1135880"
      },
      "source": [
        "name = 'Leena'\r\n",
        "age = 26\r\n",
        "tall = 174.6\r\n",
        "\r\n",
        "fmt_string = 'String: {}, Integer Number: {}, Floating Number: {}'\r\n",
        "print(fmt_string.format(name, age, tall)) #여기서 지정하는 순서대로 print 된다"
      ],
      "execution_count": null,
      "outputs": [
        {
          "output_type": "stream",
          "text": [
            "String: Leena, Integer Number: 26, Floating Number: 174.6\n"
          ],
          "name": "stdout"
        }
      ]
    },
    {
      "cell_type": "markdown",
      "metadata": {
        "id": "qdk8Lsp9xAGo"
      },
      "source": [
        "### 4) 형식 지정 문자열에서 숫자 출력 형식 지정\r\n",
        "\r\n",
        "|데이터|출력형식|출력결과|설명|\r\n",
        "|  :---:  | :---: | :---: | :---|\r\n",
        "|3|{N:2d}|_3|정수를 공백 포함하여 두 자리로 표시|\r\n",
        "|3|{N:05d}|00003 | 정수를 다섯자리로 표시, 앞의 공백은 0으로 채움|\r\n",
        "|12|{N:>5d}|___12| 정수를 다섯자리로 표시, 숫자는 오른쪽으로 정렬|\r\n",
        "|0.123456|{N:.3f}|0.123|실수를 소수점 셋째 자리까지 표시|\r\n",
        "|7456000|{N:,}|7,456,000|끝에서 셋째 자리까지 표시|\r\n",
        "|0.3258|{N:.1%}|32.6%|소수를 퍼센트(%)로 표시, 퍼센트 표시에서 소수점 자리 수는 '.' 다음 수로 표시|\r\n",
        "|925000000000|{N:.2e}|9.25e+10|숫자를 지수로 표시, 지수 표시에서 소수점 자리 수는 '.' 다음 수로 표시|\r\n",
        "|16|{N:#x}|0x10| 숫자를 16진수로 표시, #기호가 없으면 0x 없이 출력됨|\r\n",
        "|8|{N: #o}|0o10| 숫자를 8진수로 표시, #기호가 없으면 0o 없이 출력됨|\r\n",
        "|2|{N: #b}|0b10| 숫자를 2진수로 표시, #기호가 없으면 0b 없이 출력됨|\r\n"
      ]
    },
    {
      "cell_type": "code",
      "metadata": {
        "colab": {
          "base_uri": "https://localhost:8080/"
        },
        "id": "3rhizlopwvpC",
        "outputId": "1405d701-1119-4150-97b5-b4d902a5bfa4"
      },
      "source": [
        "a = 0.123456789123456789\r\n",
        "b = 123456789123456789\r\n",
        "\r\n",
        "print('{0:.2f}, {0:.3f}, {0:.4f}, {0:.5f}'.format(a))"
      ],
      "execution_count": null,
      "outputs": [
        {
          "output_type": "stream",
          "text": [
            "0.12, 0.123, 0.1235, 0.12346\n"
          ],
          "name": "stdout"
        }
      ]
    },
    {
      "cell_type": "code",
      "metadata": {
        "colab": {
          "base_uri": "https://localhost:8080/"
        },
        "id": "8pZ4rNY7xmiv",
        "outputId": "96931583-9c5d-4e93-fb5e-0ca6ededdf26"
      },
      "source": [
        "print('{0:,}'.format(b))\r\n",
        "print('{0:#o}'.format(b))\r\n",
        "print('{0:b}'.format(b))\r\n",
        "print('{0:.5%}'.format(a)) #format하는 자리에 *100 한 후, 소수점 아래 n번째 자리까지 표시"
      ],
      "execution_count": null,
      "outputs": [
        {
          "output_type": "stream",
          "text": [
            "123,456,789,123,456,789\n",
            "0o6664664565464057425\n",
            "110110110100110110100101110101100110100000101111100010101\n",
            "12.34568%\n"
          ],
          "name": "stdout"
        }
      ]
    },
    {
      "cell_type": "markdown",
      "metadata": {
        "id": "ZHyC1INg3F25"
      },
      "source": [
        "### 5) 키보드 입력"
      ]
    },
    {
      "cell_type": "code",
      "metadata": {
        "colab": {
          "base_uri": "https://localhost:8080/"
        },
        "id": "pn6qdV3h1RNx",
        "outputId": "b4b1f4e6-3264-49fe-ec2e-1556ed66bbc6"
      },
      "source": [
        "yourName = input('당신의 이름은?')\r\n",
        "print('당신의 이름은 {}이군요.'.format(yourName)) #input된 값을 {} 사이에다 format"
      ],
      "execution_count": null,
      "outputs": [
        {
          "output_type": "stream",
          "text": [
            "당신의 이름은?Leena\n",
            "당신의 이름은 Leena이군요.\n"
          ],
          "name": "stdout"
        }
      ]
    },
    {
      "cell_type": "code",
      "metadata": {
        "colab": {
          "base_uri": "https://localhost:8080/"
        },
        "id": "n5kS6Eaw3SdT",
        "outputId": "1f12ca28-1c8a-4390-e3f1-85827cd6700d"
      },
      "source": [
        "c = input('정사각형 한 변의 길이는?')\r\n",
        "area = float(c) **2\r\n",
        "print('정사각형의 넓이: {}'.format(area))"
      ],
      "execution_count": null,
      "outputs": [
        {
          "output_type": "stream",
          "text": [
            "정사각형 한 변의 길이는?6\n",
            "정사각형의 넓이: 36.0\n"
          ],
          "name": "stdout"
        }
      ]
    },
    {
      "cell_type": "code",
      "metadata": {
        "colab": {
          "base_uri": "https://localhost:8080/"
        },
        "id": "7IC0250V3vKI",
        "outputId": "f8d522f9-ac28-47fc-c804-a84b5898c5c5"
      },
      "source": [
        "b = input('정사각형 한 변의 길이는?')\r\n",
        "area = float(b)**2\r\n",
        "print('정사각형의 넓이:{}'.format(area))"
      ],
      "execution_count": null,
      "outputs": [
        {
          "output_type": "stream",
          "text": [
            "정사각형 한 변의 길이는?1.5\n",
            "정사각형의 넓이:2.25\n"
          ],
          "name": "stdout"
        }
      ]
    },
    {
      "cell_type": "markdown",
      "metadata": {
        "id": "uCWpZ8et6SKZ"
      },
      "source": [
        "##2. 함수"
      ]
    },
    {
      "cell_type": "markdown",
      "metadata": {
        "id": "Sg6zA6Po6UCq"
      },
      "source": [
        "###1) 인자도 있고 반환값도 있는 함수\r\n",
        "- 인자에는 list, tuple, dictionary도 인자로 사용할 수 있다.\r\n",
        "- 인자를 list에 담아 함수에 호출할 수도 있고, list를 바로 인자에 담을 수도 있음"
      ]
    },
    {
      "cell_type": "code",
      "metadata": {
        "id": "IyAXcb_V4bbG"
      },
      "source": [
        "def fruits(fruit):\r\n",
        "  print('My favorite fruit is ', fruit[0],'.')\r\n",
        "  print('Amy likes ', fruit[1],'.')\r\n",
        "  print(\"But I don't like \", fruit[2],'.')"
      ],
      "execution_count": null,
      "outputs": []
    },
    {
      "cell_type": "code",
      "metadata": {
        "id": "0kjAXPoX7CNx"
      },
      "source": [
        "fruit = ['cherry','apple', 'mango']"
      ],
      "execution_count": null,
      "outputs": []
    },
    {
      "cell_type": "code",
      "metadata": {
        "colab": {
          "base_uri": "https://localhost:8080/"
        },
        "id": "3jTHjh3_7G1H",
        "outputId": "db703d9b-da48-4787-93ea-8baa30ae9d43"
      },
      "source": [
        "#list에 담은 인자들을 함수에 불러오는 경우\r\n",
        "fruits(fruit)"
      ],
      "execution_count": null,
      "outputs": [
        {
          "output_type": "stream",
          "text": [
            "My favorite fruit is  cherry .\n",
            "Amy likes  apple .\n",
            "But I don't like  mango .\n"
          ],
          "name": "stdout"
        }
      ]
    },
    {
      "cell_type": "code",
      "metadata": {
        "colab": {
          "base_uri": "https://localhost:8080/"
        },
        "id": "erOZ9Io07I5U",
        "outputId": "ac72715e-00f5-4e91-f2ab-b18f0cc2365b"
      },
      "source": [
        "#인자를 직접 함수에 담는 경우\r\n",
        "fruits(['strawberry','pineapple','durian'])"
      ],
      "execution_count": null,
      "outputs": [
        {
          "output_type": "stream",
          "text": [
            "My favorite fruit is  strawberry .\n",
            "Amy likes  pineapple .\n",
            "But I don't like  durian .\n"
          ],
          "name": "stdout"
        }
      ]
    },
    {
      "cell_type": "markdown",
      "metadata": {
        "id": "7A4dZMHxHII1"
      },
      "source": [
        "### 2) 변수의 유효범위\r\n",
        " - 함수 안에서 정의·생성한 변수는 함수 안에서만 사용 가능 (= 지역 변수, local variable)\r\n",
        " - 지역 영역(local scope): 지역 변수를 저장하는 이름 공간 \r\n",
        "\r\n",
        "\r\n",
        " - 코드 내 어디서나 사용 가능 (= 전역 변수, global variable)\r\n",
        " - 전역 영역(global scope): 전역 변수를 저장하는 이름 공간"
      ]
    },
    {
      "cell_type": "code",
      "metadata": {
        "id": "K8J8TkQT7U4Y"
      },
      "source": [
        "a = 5 #전역 변수\r\n",
        "\r\n",
        "def func1():\r\n",
        "  a = 1 #지역 변수, func1()에서만 사용\r\n",
        "  print('[func1]의 지역변수  a = ', a)\r\n",
        "\r\n",
        "def func2():\r\n",
        "  a = 2 #지역 변수, func2()에서만 사용\r\n",
        "  print('[func2]의 지역변수 a = ', a)\r\n",
        "\r\n",
        "def func3():\r\n",
        "  print('[func3]의 지역변수 a = ', a)\r\n",
        "\r\n",
        "def func4():\r\n",
        "  global a #함수 내에서 전역 변수를 변경하기 위해 선언, 이걸 먼저 선언해야 전역 변수가 변경이 된다!\r\n",
        "  a = 4\r\n",
        "  print('[func4]의 지역변수 a = ', a)"
      ],
      "execution_count": null,
      "outputs": []
    },
    {
      "cell_type": "code",
      "metadata": {
        "colab": {
          "base_uri": "https://localhost:8080/"
        },
        "id": "TNW825ZiIqDH",
        "outputId": "327cd44c-e903-482f-c3a1-f16b86e1244c"
      },
      "source": [
        "func1()\r\n",
        "func2()\r\n",
        "print('전역변수 a=', a) #함수를 호출하지 않고 변수를 이용하면 전역 변수를 참조함"
      ],
      "execution_count": null,
      "outputs": [
        {
          "output_type": "stream",
          "text": [
            "[func1]의 지역변수  a =  1\n",
            "[func2]의 지역변수 a =  2\n",
            "전역변수 a= 5\n"
          ],
          "name": "stdout"
        }
      ]
    },
    {
      "cell_type": "code",
      "metadata": {
        "colab": {
          "base_uri": "https://localhost:8080/"
        },
        "id": "lbemomb6IvT6",
        "outputId": "6825ea96-ca47-484c-e2cb-1101945ea51b"
      },
      "source": [
        "func3() #func4()에서 전역 변수가 변경되기 전\r\n",
        "func4()\r\n",
        "func3() #func4()가 호출되고 나서 변수가 변경됨"
      ],
      "execution_count": null,
      "outputs": [
        {
          "output_type": "stream",
          "text": [
            "[func3]의 지역변수 a =  5\n",
            "[func4]의 지역변수 a =  4\n",
            "[func3]의 지역변수 a =  4\n"
          ],
          "name": "stdout"
        }
      ]
    },
    {
      "cell_type": "markdown",
      "metadata": {
        "id": "x-Gy-gL1JZ4c"
      },
      "source": [
        "### 3) 람다 함수\r\n",
        "- lambda <인자>: <인자 활용 수행 코드>\r\n",
        "- (lambda <인자> : <인자 활용 수행 코드>)(<인자>)\r\n",
        "\r\n",
        "- lambda_function = lambda <인자> : <인자 활용 수행 코드> ; lambda_function(<인자>)\r\n",
        "  "
      ]
    },
    {
      "cell_type": "code",
      "metadata": {
        "colab": {
          "base_uri": "https://localhost:8080/"
        },
        "id": "JKCPhDPAJFJt",
        "outputId": "0f33c322-7555-4c4c-882e-704a3295b405"
      },
      "source": [
        "(lambda x : x**2)(3) #인자: x, 인자 활용 수행 코드: x**2, x = 3"
      ],
      "execution_count": null,
      "outputs": [
        {
          "output_type": "execute_result",
          "data": {
            "text/plain": [
              "9"
            ]
          },
          "metadata": {
            "tags": []
          },
          "execution_count": 83
        }
      ]
    },
    {
      "cell_type": "code",
      "metadata": {
        "colab": {
          "base_uri": "https://localhost:8080/"
        },
        "id": "9FySz7o9KVNd",
        "outputId": "1c0bffe5-85cb-4c20-c640-3282d7833031"
      },
      "source": [
        "mySquare = lambda x : x**2\r\n",
        "print(mySquare(2))\r\n",
        "print(mySquare(5))"
      ],
      "execution_count": null,
      "outputs": [
        {
          "output_type": "stream",
          "text": [
            "4\n",
            "25\n"
          ],
          "name": "stdout"
        }
      ]
    },
    {
      "cell_type": "code",
      "metadata": {
        "colab": {
          "base_uri": "https://localhost:8080/"
        },
        "id": "ywTSR4oMKh5e",
        "outputId": "3896d071-d765-4339-9173-9690488cfd1f"
      },
      "source": [
        "mySimplefunction = lambda x, y, z : x**3 + 2*y + z\r\n",
        "mySimplefunction(3,6,9) # 27+12+9 = 48"
      ],
      "execution_count": null,
      "outputs": [
        {
          "output_type": "execute_result",
          "data": {
            "text/plain": [
              "48"
            ]
          },
          "metadata": {
            "tags": []
          },
          "execution_count": 86
        }
      ]
    },
    {
      "cell_type": "markdown",
      "metadata": {
        "id": "ZyCb3hD1LH5i"
      },
      "source": [
        "### 4) bool 함수의 활용"
      ]
    },
    {
      "cell_type": "code",
      "metadata": {
        "id": "RA72YMT-K1HG"
      },
      "source": [
        "def print_name(name):\r\n",
        "  if bool(name): #존재 여부만 체킹\r\n",
        "    print('Your name is', name,'.')\r\n",
        "  else:\r\n",
        "    print('Your name is not in the list.')"
      ],
      "execution_count": null,
      "outputs": []
    },
    {
      "cell_type": "code",
      "metadata": {
        "colab": {
          "base_uri": "https://localhost:8080/"
        },
        "id": "DEqhjl06Lg2Q",
        "outputId": "0cb35e83-d602-4d81-c92a-d8053b77ecf6"
      },
      "source": [
        "print_name('')"
      ],
      "execution_count": null,
      "outputs": [
        {
          "output_type": "stream",
          "text": [
            "Your name is not in the list.\n"
          ],
          "name": "stdout"
        }
      ]
    },
    {
      "cell_type": "code",
      "metadata": {
        "colab": {
          "base_uri": "https://localhost:8080/"
        },
        "id": "-bLuSACSLijI",
        "outputId": "0ca88410-b81a-4359-92c0-fc924864288e"
      },
      "source": [
        "print_name('Leena')"
      ],
      "execution_count": null,
      "outputs": [
        {
          "output_type": "stream",
          "text": [
            "Your name is Leena .\n"
          ],
          "name": "stdout"
        }
      ]
    },
    {
      "cell_type": "markdown",
      "metadata": {
        "id": "LwNIuYJ8LrXP"
      },
      "source": [
        "### 5) 최솟값, 최댓값, 절댓값 구하는 함수\r\n",
        "- min(), max()\r\n",
        "- abs()"
      ]
    },
    {
      "cell_type": "code",
      "metadata": {
        "colab": {
          "base_uri": "https://localhost:8080/"
        },
        "id": "d9mM7QLpLmRe",
        "outputId": "f6804720-e17f-4327-88f5-92f124d3a1ee"
      },
      "source": [
        "myStr = 'bcdazxy'\r\n",
        "print(min(myStr))\r\n",
        "print(max(myStr))"
      ],
      "execution_count": null,
      "outputs": [
        {
          "output_type": "stream",
          "text": [
            "a\n",
            "z\n"
          ],
          "name": "stdout"
        }
      ]
    },
    {
      "cell_type": "code",
      "metadata": {
        "colab": {
          "base_uri": "https://localhost:8080/"
        },
        "id": "n28occaPMDaP",
        "outputId": "27f9e07f-335c-4ac6-b1b3-c262baafad30"
      },
      "source": [
        "myNum = {'abc','Abc','aBc','efg'}\r\n",
        "[min(myNum), max(myNum)] #list에 담아주는 방법!"
      ],
      "execution_count": null,
      "outputs": [
        {
          "output_type": "execute_result",
          "data": {
            "text/plain": [
              "['Abc', 'efg']"
            ]
          },
          "metadata": {
            "tags": []
          },
          "execution_count": 98
        }
      ]
    },
    {
      "cell_type": "code",
      "metadata": {
        "colab": {
          "base_uri": "https://localhost:8080/"
        },
        "id": "92Q_Zz88MXkv",
        "outputId": "ce447bb5-ca49-4caf-a3c1-6247cb7a197d"
      },
      "source": [
        "#절댓값 구하는 함수\r\n",
        "abs(-150)"
      ],
      "execution_count": null,
      "outputs": [
        {
          "output_type": "execute_result",
          "data": {
            "text/plain": [
              "150"
            ]
          },
          "metadata": {
            "tags": []
          },
          "execution_count": 99
        }
      ]
    },
    {
      "cell_type": "markdown",
      "metadata": {
        "id": "UmprKHatM8vw"
      },
      "source": [
        "###6) sum과 len 사용하여 평균과 총점 구하기"
      ]
    },
    {
      "cell_type": "code",
      "metadata": {
        "colab": {
          "base_uri": "https://localhost:8080/"
        },
        "id": "tix-thVNMz1f",
        "outputId": "d63350e8-37fc-48e1-c94d-21819ec2c529"
      },
      "source": [
        "scores = [90, 80, 75, 60, 55, 100]\r\n",
        "\r\n",
        "print(('Total Score: {}, Average Score: {}').format(sum(scores), sum(scores)/len(scores)))"
      ],
      "execution_count": null,
      "outputs": [
        {
          "output_type": "stream",
          "text": [
            "Total Score: 460, Average Score: 76.66666666666667\n"
          ],
          "name": "stdout"
        }
      ]
    },
    {
      "cell_type": "markdown",
      "metadata": {
        "id": "bQC1tnDzQeXH"
      },
      "source": [
        "##3. 객체와 클래스"
      ]
    },
    {
      "cell_type": "markdown",
      "metadata": {
        "id": "yX4e08G_Qg2E"
      },
      "source": [
        "### 1) 객체 생성 및 활용\r\n",
        "\r\n",
        " - 자전거\r\n",
        "  - 자전거의 속성: 바퀴, 크기\r\n",
        "  - 자전거의 동작: 지정된 속도로 이동(move), 좌/우 회전(turn), 정지(stop)"
      ]
    },
    {
      "cell_type": "code",
      "metadata": {
        "id": "BjOn079PNvV4"
      },
      "source": [
        "class Bicycle(): #클래스 선언\r\n",
        "  pass"
      ],
      "execution_count": 1,
      "outputs": []
    },
    {
      "cell_type": "code",
      "metadata": {
        "id": "Id0QfsB8Q3v8"
      },
      "source": [
        "#선언된 클래스로부터 클래스의 인스턴스인 객체를 생성하는 방법은 \r\n",
        "#객체명 = 클래스명 ()\r\n",
        "my_bicycle = Bicycle() \r\n",
        "\r\n",
        "#my_bicycle 객체는 Bicycle 클래스의 인스턴스!\r\n",
        "#붕어빵 = 붕어빵틀()"
      ],
      "execution_count": 2,
      "outputs": []
    },
    {
      "cell_type": "code",
      "metadata": {
        "colab": {
          "base_uri": "https://localhost:8080/"
        },
        "id": "jh2xlgVcSSNE",
        "outputId": "b9cbe19e-a1bc-4f1a-93fd-f5f11f2aef63"
      },
      "source": [
        "my_bicycle #at 뒤의 값은 생성된 객체의 메모리 주소"
      ],
      "execution_count": 3,
      "outputs": [
        {
          "output_type": "execute_result",
          "data": {
            "text/plain": [
              "<__main__.Bicycle at 0x7f4d42e92438>"
            ]
          },
          "metadata": {
            "tags": []
          },
          "execution_count": 3
        }
      ]
    },
    {
      "cell_type": "code",
      "metadata": {
        "id": "aBaJSA0gSUqY"
      },
      "source": [
        "#객체의 변수에 접근하여 객체의 속성을 가져오는 방법은\r\n",
        "#객체명.변수명\r\n",
        "\r\n",
        "my_bicycle.wheel_size = 26\r\n",
        "my_bicycle.color = 'purple'"
      ],
      "execution_count": 4,
      "outputs": []
    },
    {
      "cell_type": "code",
      "metadata": {
        "colab": {
          "base_uri": "https://localhost:8080/"
        },
        "id": "E1xF8SiIS4Ro",
        "outputId": "10e9cfc8-7bad-4b6f-8530-b35c095a5a99"
      },
      "source": [
        "#위에서 설정한 객체의 속성값 가져오기\r\n",
        "print('바퀴 사이즈는', my_bicycle.wheel_size)\r\n",
        "print('자전거 색은', my_bicycle.color)"
      ],
      "execution_count": 5,
      "outputs": [
        {
          "output_type": "stream",
          "text": [
            "바퀴 사이즈는 26\n",
            "자전거 색은 purple\n"
          ],
          "name": "stdout"
        }
      ]
    },
    {
      "cell_type": "code",
      "metadata": {
        "id": "k2cFQGUWTFAZ"
      },
      "source": [
        "#Bicycle 클래스에 함수 추가하기\r\n",
        "\r\n",
        "class Bicycle():\r\n",
        "\r\n",
        "  def move(self, speed):\r\n",
        "    print('자전거: 시속 {0}km로 전진'.format(speed))\r\n",
        "\r\n",
        "  def turn(self, direction):\r\n",
        "    print('자전거: {}회전'.format(direction))\r\n",
        "\r\n",
        "  def stop(self):\r\n",
        "    print('자전거({0}, {1}): 정지'.format(self.wheel_size, self.color))"
      ],
      "execution_count": 10,
      "outputs": []
    },
    {
      "cell_type": "code",
      "metadata": {
        "id": "6pk30PakTyjp",
        "colab": {
          "base_uri": "https://localhost:8080/"
        },
        "outputId": "a2a010ff-0bef-48d3-971b-61525cedc7dd"
      },
      "source": [
        "bicycle1 = Bicycle() #Bicycle의 인스턴스인 bicycle1 객체 생성\r\n",
        "\r\n",
        "bicycle1.wheel_size = 30\r\n",
        "bicycle1.color = 'blackpink'\r\n",
        "\r\n",
        "bicycle1.move(30)\r\n",
        "bicycle1.turn('좌')\r\n",
        "bicycle1.stop() #인자가 self인 경우, 인자 없이 객체의 메서드를 호출한다.\r\n",
        "\r\n",
        "\r\n",
        "\r\n",
        "bicycle2 = Bicycle() #Bicycle의 인스턴스인 새로운 객체 bicycle2 생성\r\n",
        "\r\n",
        "bicycle2.wheel_size = 36\r\n",
        "bicycle2.color = 'purple'\r\n",
        "\r\n",
        "bicycle2.move(20)\r\n",
        "bicycle2.turn('우')\r\n",
        "bicycle2.stop()\r\n",
        "\r\n"
      ],
      "execution_count": 12,
      "outputs": [
        {
          "output_type": "stream",
          "text": [
            "자전거: 시속 30km로 전진\n",
            "자전거: 좌회전\n",
            "자전거(30, blackpink): 정지\n",
            "자전거: 시속 20km로 전진\n",
            "자전거: 우회전\n",
            "자전거(36, purple): 정지\n"
          ],
          "name": "stdout"
        }
      ]
    },
    {
      "cell_type": "markdown",
      "metadata": {
        "id": "Jw8ihYN_-qwq"
      },
      "source": [
        "### 2) 객체 초기화\r\n",
        "- __init--() 구현: 객체 생성과 동시에 속성값을 지정할 수 있다.\r\n",
        "- __init--() 함수에 초기화하려는 인자를 정의하면, 객체를 생성할 때 속성을 초기화할 수 있다! "
      ]
    },
    {
      "cell_type": "code",
      "metadata": {
        "id": "SoUEczpj8n9w"
      },
      "source": [
        "class my_bicycle():\r\n",
        "\r\n",
        "  def __init__(self, wheel_size, color):\r\n",
        "    self.wheel_size = wheel_size\r\n",
        "    self.color = color\r\n",
        "\r\n",
        "  def move(self, speed):\r\n",
        "    print('자전거 시속 {}km'.format(speed))\r\n",
        "\r\n",
        "  def turn(self, direction):\r\n",
        "    print('자전거 {}회전하세요!'.format(direction))\r\n",
        "\r\n",
        "  def stop(self):\r\n",
        "    print('자전거 {},{}는 정지하세요!'.format(self.wheel_size, self.color))"
      ],
      "execution_count": 13,
      "outputs": []
    },
    {
      "cell_type": "code",
      "metadata": {
        "colab": {
          "base_uri": "https://localhost:8080/"
        },
        "id": "68hVgpGiAYXS",
        "outputId": "2a8915c3-06dd-4dc3-a682-0832fccf8a80"
      },
      "source": [
        "bicycle = my_bicycle(6, 'black')\r\n",
        "bicycle.move(20)\r\n",
        "bicycle.turn('좌')\r\n",
        "bicycle.stop()"
      ],
      "execution_count": 16,
      "outputs": [
        {
          "output_type": "stream",
          "text": [
            "자전거 시속 20km\n",
            "자전거 좌회전하세요!\n",
            "자전거 6,black는 정지하세요!\n"
          ],
          "name": "stdout"
        }
      ]
    },
    {
      "cell_type": "code",
      "metadata": {
        "colab": {
          "base_uri": "https://localhost:8080/"
        },
        "id": "0ax7hnoOAfr1",
        "outputId": "9144e451-84ca-42ea-a8ff-4a7b3d6bc91a"
      },
      "source": [
        "#클래스에서 초기화 함수 '__init__()'을 구현하지 않았을 때는 객체를 생성한 후에 속성을 지정해야 하지만, \r\n",
        "#초기화 함수를 정의한 후로는 객체를 생성하면서 객체의 속성을 지정할 수 있게 됐다!\r\n",
        "bicycle = my_bicycle(25, 'pink')\r\n",
        "bicycle.move(10)\r\n",
        "bicycle.turn('우')\r\n",
        "bicycle.stop()"
      ],
      "execution_count": 17,
      "outputs": [
        {
          "output_type": "stream",
          "text": [
            "자전거 시속 10km\n",
            "자전거 우회전하세요!\n",
            "자전거 25,pink는 정지하세요!\n"
          ],
          "name": "stdout"
        }
      ]
    },
    {
      "cell_type": "markdown",
      "metadata": {
        "id": "520bS4-HCXv7"
      },
      "source": [
        "### 3) 클래스에서 사용하는 변수\r\n",
        "- 클래스에서 사용하는 변수는 위치에 따라 '클래스 변수(class variable)'와 '인스턴스 변수(instance variable)'이 있다.\r\n",
        "\r\n",
        "  - 클래스 변수\r\n",
        "    - 클래스 내에 있지만, 함수 밖에서 **'변수명 = 데이터'** 형식으로 정의한 변수\r\n",
        "    - 클래스에서 생성한 모든 객체가 공통으로 사용가능\r\n",
        "    - **'클래스명.변수명'** 형식으로 접근 가능\r\n",
        "\r\n",
        "  - 인스턴스 변수\r\n",
        "    - 클래스 내의 함수에서 **'self.변수명 = 데이터'** 형식으로 정의한 변수\r\n",
        "    - **'self.변수명**으로 접근하면 클래스 변수에 접근한다.\r\n"
      ]
    },
    {
      "cell_type": "code",
      "metadata": {
        "colab": {
          "base_uri": "https://localhost:8080/"
        },
        "id": "g_rwI7kM0wIq",
        "outputId": "2a96e631-1a16-44d4-df45-19da4d067843"
      },
      "source": [
        "class Dog:                #클래스 선언\r\n",
        "  name = 'Puppy'          #속성(attribute) 선언 [특징]\r\n",
        "  age = 3\r\n",
        "  breed = 'Bichon'\r\n",
        "\r\n",
        "  def bark(self):         #메소드(method) 선언 [행동]\r\n",
        "    print(self.name + 'is barking.')\r\n",
        "\r\n",
        "my_dog = Dog()            #인스턴스 생성\r\n",
        "print(my_dog.breed)       #인스턴스의 속성 접근\r\n",
        "my_dog.bark()             #인스턴스의 메소드 호출"
      ],
      "execution_count": 50,
      "outputs": [
        {
          "output_type": "stream",
          "text": [
            "Bichon\n",
            "Puppyis barking.\n"
          ],
          "name": "stdout"
        }
      ]
    },
    {
      "cell_type": "code",
      "metadata": {
        "id": "yT5PJe1yAz_X"
      },
      "source": [
        "class Car():\r\n",
        "  instance_count = 0 #클래스 변수 생성 및 초기화\r\n",
        "\r\n",
        "\r\n",
        "  def __init__(self, size, color):\r\n",
        "    self.size = size #\r\n",
        "    self.color = color\r\n",
        "    Car.instance_count = Car.instance_count +1  #클래스 변수 이용\r\n",
        "    print('자동차 객체의 수:{}'.format(Car.instance_count))\r\n",
        "\r\n",
        "\r\n",
        "  def move(self):\r\n",
        "    print('자동차 {}&{} is moving.'.format(self.size, self.color))"
      ],
      "execution_count": 21,
      "outputs": []
    },
    {
      "cell_type": "code",
      "metadata": {
        "colab": {
          "base_uri": "https://localhost:8080/"
        },
        "id": "TLE41toPHCUL",
        "outputId": "d60fb348-7bec-45c1-e722-14d911f38f1b"
      },
      "source": [
        "car1 = Car('small','pink')\r\n",
        "car2 = Car('big','black')\r\n",
        "car3 = Car('medium','purple')\r\n",
        "#객체가 하나씩 늘어날 때마다, 객체수가 추가됨!"
      ],
      "execution_count": 22,
      "outputs": [
        {
          "output_type": "stream",
          "text": [
            "자동차 객체의 수:1\n",
            "자동차 객체의 수:2\n",
            "자동차 객체의 수:3\n"
          ],
          "name": "stdout"
        }
      ]
    },
    {
      "cell_type": "code",
      "metadata": {
        "colab": {
          "base_uri": "https://localhost:8080/"
        },
        "id": "mhrl22rRHYlP",
        "outputId": "6e6bff00-62bb-4ebb-aae5-06e5803ebf5f"
      },
      "source": [
        "#클래스 변수는 '클래스명.변수명' 형식으로 언제든지 호출할 수 있다!\r\n",
        "\r\n",
        "print(\"Total number of Car class's instance is {}.\".format(Car.instance_count))"
      ],
      "execution_count": 23,
      "outputs": [
        {
          "output_type": "stream",
          "text": [
            "Total number of Car class's instance is 3.\n"
          ],
          "name": "stdout"
        }
      ]
    },
    {
      "cell_type": "code",
      "metadata": {
        "colab": {
          "base_uri": "https://localhost:8080/"
        },
        "id": "7YEzokjfPeBJ",
        "outputId": "e83c3c7a-5722-4bbd-e77c-a3a5be9bf754"
      },
      "source": [
        "print(\"Total number of Car class's instance is {}\".format(car1.instance_count))\r\n",
        "print(\"Total number of Car class's instance is {}\".format(car2.instance_count))\r\n",
        "#car1과 car2 객체에서 사용한 클래스 변수 instance_count는 값이 같은데, 이는 모든 객체에서 클래스 변수가 공통으로 사용되기 때문!"
      ],
      "execution_count": 24,
      "outputs": [
        {
          "output_type": "stream",
          "text": [
            "Total number of Car class's instance is 3\n",
            "Total number of Car class's instance is 3\n"
          ],
          "name": "stdout"
        }
      ]
    },
    {
      "cell_type": "code",
      "metadata": {
        "colab": {
          "base_uri": "https://localhost:8080/"
        },
        "id": "OHK54x16QVAx",
        "outputId": "09aaaa30-f43e-4e56-a1dd-a31b0a0735ee"
      },
      "source": [
        "car1.move()\r\n",
        "car2.move()\r\n",
        "#인스턴스 변수인 'self.size'와 'self.color'는 각 객체에서 별도 관리된다."
      ],
      "execution_count": 25,
      "outputs": [
        {
          "output_type": "stream",
          "text": [
            "자동차 small&pink is moving.\n",
            "자동차 big&black is moving.\n"
          ],
          "name": "stdout"
        }
      ]
    },
    {
      "cell_type": "code",
      "metadata": {
        "id": "YRmmzF1xQm3T"
      },
      "source": [
        "# 이름이 같은, 클래스 변수와 인스턴스 변수가 있는 클래스를 정의하고, 객체에서 각 변수가 어떻게 동작하는지 보자!\r\n",
        "\r\n",
        "class Car2():\r\n",
        "  count = 0 #클래스 변수 생성 및 초기화\r\n",
        "\r\n",
        "  def __init__(self, size, num):\r\n",
        "    self.size = size #인스턴스 변수 생성 및 초기화\r\n",
        "    self.count = num #인스턴스 변수 생성 및 초기화\r\n",
        "\r\n",
        "    Car2.count = Car2.count +1 #클래스 변수 이용\r\n",
        "\r\n",
        "    print('자동차 객체 수: Car2.count = {}'.format(Car2.count))\r\n",
        "    print('인스턴스 변수 초기화: self.count = {}'.format(self.count))\r\n",
        "\r\n",
        "  def move(self):\r\n",
        "    print('자동차 {},{}가 움직입니다!'.format(self.size, self.count))"
      ],
      "execution_count": 37,
      "outputs": []
    },
    {
      "cell_type": "code",
      "metadata": {
        "colab": {
          "base_uri": "https://localhost:8080/"
        },
        "id": "r1FqvOCKR-Ra",
        "outputId": "2e917d6a-9962-4f7c-979a-e6383da6a152"
      },
      "source": [
        "car3 = Car2('big',20)\r\n",
        "car4 = Car2('medium', 15)\r\n",
        "\r\n",
        "#변수 이름은 같지만, 클래스 변수와 인스턴스 변수는 별개로 동작한다!"
      ],
      "execution_count": 38,
      "outputs": [
        {
          "output_type": "stream",
          "text": [
            "자동차 객체 수: Car2.count = 1\n",
            "인스턴스 변수 초기화: self.count = 20\n",
            "자동차 객체 수: Car2.count = 2\n",
            "인스턴스 변수 초기화: self.count = 15\n"
          ],
          "name": "stdout"
        }
      ]
    },
    {
      "cell_type": "markdown",
      "metadata": {
        "id": "5SfLbVKiT1aP"
      },
      "source": [
        "- 클래스에서 사용하는 함수\r\n",
        "  - 인스턴스 메서드 (instance method)\r\n",
        "  - 정적 메서드 (static method)\r\n",
        "  - 클래스 메서드 (class method)"
      ]
    },
    {
      "cell_type": "code",
      "metadata": {
        "id": "IKgRmOKbTFwF"
      },
      "source": [
        "#① 인스턴스 메서드: 각 객체에서 개별적으로 동작하는 함수를 만들고자 할 때 사용하는 함수\r\n",
        "\r\n",
        "class Car():\r\n",
        "  instance_count = 0 #클래스 변수 생성 및 초기화\r\n",
        "\r\n",
        "  #초기화 함수(인스턴스 메서드!)\r\n",
        "  def __init__(self, size, color):\r\n",
        "    self.size = size #인스턴스 변수 생성 및 초기화\r\n",
        "    self.color = color #인스턴스 변수 생성 및 초기화\r\n",
        "\r\n",
        "    Car.instance_count = Car.instance_count +1 #클래스 변수 이용\r\n",
        "    print('자동차 객체의 수: {}'.format(Car.instance_count))\r\n",
        "\r\n",
        "  #인스턴스 메서드\r\n",
        "  def move(self, speed):\r\n",
        "    self.speed = speed\r\n",
        "    print('자동차 {} & {}가'.format(self.size, self.color), end=' ')\r\n",
        "    print('시속 {}km로 전진'.format(speed))\r\n",
        "\r\n",
        "  #인스턴스 메서드\r\n",
        "  def auto_cruise(self):\r\n",
        "    print('자율주행모드')\r\n",
        "    self.move(self.speed)  #move()함수의 인자로 인스턴스 변수 입력\r\n",
        "    #클래스 내의 함수에서 인스턴스 메서드를 호출할 때는 인자에 self는 전달하지 않는다."
      ],
      "execution_count": 47,
      "outputs": []
    },
    {
      "cell_type": "code",
      "metadata": {
        "colab": {
          "base_uri": "https://localhost:8080/"
        },
        "id": "W-692rVFV7ZA",
        "outputId": "66a4db28-512b-40f9-efba-926f92a01243"
      },
      "source": [
        "# 인스턴스 메서드인 move()와 auto_cruise()는 두 개의 객체 car1, car2에서 개별적으로 동작한다!\r\n",
        "\r\n",
        "car1 = Car('small','red') #car1 객체 생성\r\n",
        "car2 = Car('big','blue') #car2 객체 생성\r\n",
        "\r\n",
        "car1.move(80) #객체 car1의 move() 메서드 호출\r\n",
        "car2.move(50) #객체 car2의 move() 메서드 호출\r\n",
        "\r\n",
        "car1.auto_cruise() #객체 car1의 auto_cruise() 메서드 호출\r\n",
        "car2.auto_cruise() #객체 car2의 auto_cruise() 메서드 호출"
      ],
      "execution_count": 48,
      "outputs": [
        {
          "output_type": "stream",
          "text": [
            "자동차 객체의 수: 1\n",
            "자동차 객체의 수: 2\n",
            "자동차 small & red가 시속 80km로 전진\n",
            "자동차 big & blue가 시속 50km로 전진\n",
            "자율주행모드\n",
            "자동차 small & red가 시속 80km로 전진\n",
            "자율주행모드\n",
            "자동차 big & blue가 시속 50km로 전진\n"
          ],
          "name": "stdout"
        }
      ]
    },
    {
      "cell_type": "code",
      "metadata": {
        "id": "dJ-gDCoZaiUm"
      },
      "source": [
        "#②정적 메서드: 클래스나 클래스의 인스턴스(객체)와는 무관하게 독립적으로 동작하는 함수를 만들 때 사용\r\n",
        "                # 함수 정의 시, 인자로 self는 사용하지 않는다.\r\n",
        "                # 정적 메서드 안에서는 인스턴스 메서드나 인스턴스 변수에 접근할 수 없다.\r\n",
        "                # 함수 앞에 데코레이터인 '@staticmethod'를 선언하여, 정적 메서드임을 표시한다.\r\n",
        "\r\n",
        "                #날짜 및 시간 정보 제공, 환율 정보 제공, 단위 변환과 같이 객체와 관계없이 동작하는 함수를 만들 때 사용한다.\r\n",
        "\r\n",
        "class Car():\r\n",
        "  instance_count = 0 #클래스 변수 생성 및 초기화\r\n",
        "\r\n",
        "  #초기화 함수(인스턴스 메서드!)\r\n",
        "  def __init__(self, size, color):\r\n",
        "    self.size = size #인스턴스 변수 생성 및 초기화\r\n",
        "    self.color = color #인스턴스 변수 생성 및 초기화\r\n",
        "\r\n",
        "    Car.instance_count = Car.instance_count +1 #클래스 변수 이용\r\n",
        "    print('자동차 객체의 수: {}'.format(Car.instance_count))\r\n",
        "\r\n",
        "  #인스턴스 메서드\r\n",
        "  def move(self, speed):\r\n",
        "    self.speed = speed\r\n",
        "    print('자동차 {} & {}가'.format(self.size, self.color), end=' ')\r\n",
        "    print('시속 {}km로 전진'.format(speed))\r\n",
        "\r\n",
        "  #인스턴스 메서드\r\n",
        "  def auto_cruise(self):\r\n",
        "    print('자율주행모드')\r\n",
        "    self.move(self.speed)  #move()함수의 인자로 인스턴스 변수 입력\r\n",
        "    #클래스 내의 함수에서 인스턴스 메서드를 호출할 때는 인자에 self는 전달하지 않는다.\r\n",
        "\r\n",
        "\r\n",
        "  #정적 메서드\r\n",
        "  @staticmethod\r\n",
        "  def check_type(model_code):\r\n",
        "    if (model_code >= 20):\r\n",
        "      print('This is an electric car.')\r\n",
        "\r\n",
        "    elif (10 <= model_code <20):\r\n",
        "      print('This is a gasoline car.')\r\n",
        "\r\n",
        "    else:\r\n",
        "      print('This is a diesel car.')\r\n"
      ],
      "execution_count": 57,
      "outputs": []
    },
    {
      "cell_type": "code",
      "metadata": {
        "colab": {
          "base_uri": "https://localhost:8080/"
        },
        "id": "z2dK877x8Y5i",
        "outputId": "13009dd9-0d41-418d-88ab-52884ed19f3b"
      },
      "source": [
        "Car.check_type(22)\r\n",
        "Car.check_type(3)"
      ],
      "execution_count": 58,
      "outputs": [
        {
          "output_type": "stream",
          "text": [
            "This is an electric car.\n",
            "This is a diesel car.\n"
          ],
          "name": "stdout"
        }
      ]
    },
    {
      "cell_type": "code",
      "metadata": {
        "id": "-0gq_-UX-Rwi"
      },
      "source": [
        "#③클래스 메서드: \r\n",
        "\r\n",
        "\r\n",
        "\r\n",
        "class Car():\r\n",
        "  instance_count = 0 #클래스 변수 생성 및 초기화\r\n",
        "\r\n",
        "  #초기화 함수(인스턴스 메서드!)\r\n",
        "  def __init__(self, size, color):\r\n",
        "    self.size = size #인스턴스 변수 생성 및 초기화\r\n",
        "    self.color = color #인스턴스 변수 생성 및 초기화\r\n",
        "    Car.instance_count = Car.instance_count +1 \r\n",
        "\r\n",
        "    Car.instance_count = Car.instance_count +1 #클래스 변수 이용\r\n",
        "    print('자동차 객체의 수: {}'.format(Car.instance_count))\r\n",
        "\r\n",
        "  #인스턴스 메서드\r\n",
        "  def move(self, speed):\r\n",
        "    self.speed = speed\r\n",
        "    print('자동차 {} & {}가'.format(self.size, self.color), end=' ')\r\n",
        "    print('시속 {}km로 전진'.format(speed))\r\n",
        "\r\n",
        "  #인스턴스 메서드\r\n",
        "  def auto_cruise(self):\r\n",
        "    print('자율주행모드')\r\n",
        "    self.move(self.speed)  #move()함수의 인자로 인스턴스 변수 입력\r\n",
        "    #클래스 내의 함수에서 인스턴스 메서드를 호출할 때는 인자에 self는 전달하지 않는다.\r\n",
        "\r\n",
        "\r\n",
        "  #정적 메서드\r\n",
        "  @staticmethod\r\n",
        "  def check_type(model_code):\r\n",
        "    if (model_code >= 20):\r\n",
        "      print('This is an electric car.')\r\n",
        "\r\n",
        "    elif (10 <= model_code <20):\r\n",
        "      print('This is a gasoline car.')\r\n",
        "\r\n",
        "    else:\r\n",
        "      print('This is a diesel car.')\r\n",
        "\r\n",
        "  #클래스 메서드\r\n",
        "  @classmethod\r\n",
        "  def count_instance(cls):\r\n",
        "    print('자동차 객체의 개수 {}'.format(cls.instance_count))"
      ],
      "execution_count": 60,
      "outputs": []
    },
    {
      "cell_type": "code",
      "metadata": {
        "id": "AwGyQ4WYALpG"
      },
      "source": [
        ""
      ],
      "execution_count": null,
      "outputs": []
    }
  ]
}