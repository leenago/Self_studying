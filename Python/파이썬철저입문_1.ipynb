{
  "nbformat": 4,
  "nbformat_minor": 0,
  "metadata": {
    "colab": {
      "name": "파이썬철저입문 - 1.ipynb",
      "provenance": [],
      "collapsed_sections": [],
      "authorship_tag": "ABX9TyOFD9eoG0+H4z04PmNvrD+v",
      "include_colab_link": true
    },
    "kernelspec": {
      "name": "python3",
      "display_name": "Python 3"
    }
  },
  "cells": [
    {
      "cell_type": "markdown",
      "metadata": {
        "id": "view-in-github",
        "colab_type": "text"
      },
      "source": [
        "<a href=\"https://colab.research.google.com/github/leenago/Self_studying/blob/master/Python/%ED%8C%8C%EC%9D%B4%EC%8D%AC%EC%B2%A0%EC%A0%80%EC%9E%85%EB%AC%B8_1.ipynb\" target=\"_parent\"><img src=\"https://colab.research.google.com/assets/colab-badge.svg\" alt=\"Open In Colab\"/></a>"
      ]
    },
    {
      "cell_type": "markdown",
      "metadata": {
        "id": "i7FutxgvpuuD"
      },
      "source": [
        "##1. 제어문과 입출력 \r\n",
        "###1) List comprehension"
      ]
    },
    {
      "cell_type": "code",
      "metadata": {
        "id": "xCeV6B1mojZY"
      },
      "source": [
        "numbers = [1,2,3,4,5]\r\n",
        "square = []"
      ],
      "execution_count": 2,
      "outputs": []
    },
    {
      "cell_type": "code",
      "metadata": {
        "colab": {
          "base_uri": "https://localhost:8080/"
        },
        "id": "D2dNyAjGp7ln",
        "outputId": "cf54f717-b7b5-4dbe-bca4-24405b144ab4"
      },
      "source": [
        "for i in numbers:\r\n",
        "  square.append(i**2)\r\n",
        "\r\n",
        "print(square)"
      ],
      "execution_count": 4,
      "outputs": [
        {
          "output_type": "stream",
          "text": [
            "[1, 4, 9, 16, 25]\n"
          ],
          "name": "stdout"
        }
      ]
    },
    {
      "cell_type": "code",
      "metadata": {
        "colab": {
          "base_uri": "https://localhost:8080/"
        },
        "id": "WX_RFAf_qIE7",
        "outputId": "6a701bd5-3982-472a-cb99-5652d4b7cfed"
      },
      "source": [
        "square = [(i**2) for i in numbers]\r\n",
        "square"
      ],
      "execution_count": 6,
      "outputs": [
        {
          "output_type": "execute_result",
          "data": {
            "text/plain": [
              "[1, 4, 9, 16, 25]"
            ]
          },
          "metadata": {
            "tags": []
          },
          "execution_count": 6
        }
      ]
    },
    {
      "cell_type": "code",
      "metadata": {
        "colab": {
          "base_uri": "https://localhost:8080/"
        },
        "id": "sEkd8MHaqUwT",
        "outputId": "12bc3f73-97f7-4307-a482-c35ee2995e59"
      },
      "source": [
        "#조건문을 포함한 List comprehension\r\n",
        "numbers = [6,7,8,9]\r\n",
        "square = []\r\n",
        "\r\n",
        "for i in numbers:\r\n",
        "  if i>=3:\r\n",
        "    square.append(i**2)\r\n",
        "\r\n",
        "square"
      ],
      "execution_count": 8,
      "outputs": [
        {
          "output_type": "execute_result",
          "data": {
            "text/plain": [
              "[36, 49, 64, 81]"
            ]
          },
          "metadata": {
            "tags": []
          },
          "execution_count": 8
        }
      ]
    },
    {
      "cell_type": "code",
      "metadata": {
        "colab": {
          "base_uri": "https://localhost:8080/"
        },
        "id": "b1y4Ks9Kqml4",
        "outputId": "7aae9b6f-0150-4d29-dbfd-51d20b8cc4c4"
      },
      "source": [
        "square = [i**2 for i in numbers if i>=3] ; square"
      ],
      "execution_count": 10,
      "outputs": [
        {
          "output_type": "execute_result",
          "data": {
            "text/plain": [
              "[36, 49, 64, 81]"
            ]
          },
          "metadata": {
            "tags": []
          },
          "execution_count": 10
        }
      ]
    },
    {
      "cell_type": "code",
      "metadata": {
        "colab": {
          "base_uri": "https://localhost:8080/"
        },
        "id": "9FgwAzTAq0MM",
        "outputId": "57bb9eb9-76da-4750-b656-02f599a37dc3"
      },
      "source": [
        "#print\r\n",
        "print('Welcome to')\r\n",
        "print('Python!')"
      ],
      "execution_count": 11,
      "outputs": [
        {
          "output_type": "stream",
          "text": [
            "Welcome to\n",
            "Python!\n"
          ],
          "name": "stdout"
        }
      ]
    },
    {
      "cell_type": "code",
      "metadata": {
        "colab": {
          "base_uri": "https://localhost:8080/"
        },
        "id": "yFNLfig_rRdM",
        "outputId": "15af1050-2124-49d9-fb14-a8279b5fa493"
      },
      "source": [
        "print('Welcome to ', end='') #print 함수 안에 라인 끝의 값을 지정할 수 있는 end 인자 / print는 줄바꿈이 default이지만, end 인자를 추가하게 되면 줄바꿈 없이 연결되어 추가가 된다.\r\n",
        "print('Python!')\r\n",
        "print('Welcome to ', end='happy ')\r\n",
        "print('Python!')"
      ],
      "execution_count": 17,
      "outputs": [
        {
          "output_type": "stream",
          "text": [
            "Welcome to Python!\n",
            "Welcome to happy Python!\n"
          ],
          "name": "stdout"
        }
      ]
    },
    {
      "cell_type": "markdown",
      "metadata": {
        "id": "3yohKME3sLRl"
      },
      "source": [
        "### 2) 형식 지정 출력\r\n",
        "- 기본: print('%type' %data)\r\n",
        "  - data가 문자열인 경우: **%s**\r\n",
        "  - data가 정수인 경우: **%d**, **%i**\r\n",
        "  - data가 실수인 경우: **%f**\r\n",
        "\r\n",
        "- data가 2개 이상인 경우: print('%type %type' %(data1, data2))"
      ]
    },
    {
      "cell_type": "code",
      "metadata": {
        "colab": {
          "base_uri": "https://localhost:8080/"
        },
        "id": "c3P44hWTrVSE",
        "outputId": "3f4e19d7-3b0f-4555-8525-b7a31b16ac6d"
      },
      "source": [
        "r = 3\r\n",
        "PI = 3.14159265358979\r\n",
        "\r\n",
        "print('반지름: %d, 원주율 %f' %(r, PI))\r\n",
        "print('반지름: %d, 원주율 %f' %(PI, r)) #정수인 경우, 실수인 경우 나눠서 값을 지정해줘야 함!\r\n",
        "print('반지름: %f, 원주율 %d' %(PI, r)) #위치에 따라 값이 달라짐 "
      ],
      "execution_count": 24,
      "outputs": [
        {
          "output_type": "stream",
          "text": [
            "반지름: 3, 원주율 3.141593\n",
            "반지름: 3, 원주율 3.000000\n",
            "반지름: 3.141593, 원주율 3\n"
          ],
          "name": "stdout"
        }
      ]
    },
    {
      "cell_type": "markdown",
      "metadata": {
        "id": "yahQBGHnuG6D"
      },
      "source": [
        "### 3) 형식 지정 문자열에서 출력 위치 지정\r\n",
        " - string.format() 사용하기\r\n",
        "  - print('{0},{1},{2} ... {n}'.format(data_0, data_1, data_2, ..., data_n)"
      ]
    },
    {
      "cell_type": "code",
      "metadata": {
        "colab": {
          "base_uri": "https://localhost:8080/"
        },
        "id": "SjlVNNOhsVmS",
        "outputId": "349c692c-7273-4cf6-f9ba-3fb0ccef086e"
      },
      "source": [
        "animal_0 = 'cat'\r\n",
        "animal_1 = 'dog'\r\n",
        "animal_2 = 'fox'\r\n",
        "\r\n",
        "print('Animal: {0}'.format(animal_0))\r\n",
        "print('Animal: {0},{1},{2}'.format(animal_0, animal_1, animal_2))\r\n",
        "print('Animal: {0}, {1}, {2}'.format(animal_2, animal_0, animal_1)) #앞에 띄어쓰기가 있으면 결과값도 띄어쓰기가 포함이 되는구나!\r\n",
        "print('Animal: {},{}'.format(animal_1, animal_0, animal_2)) #format 안에 다 있더라도, 앞에서 2개만 "
      ],
      "execution_count": 27,
      "outputs": [
        {
          "output_type": "stream",
          "text": [
            "Animal: cat\n",
            "Animal: cat,dog,fox\n",
            "Animal: fox, cat, dog\n",
            "Animal: dog,cat\n"
          ],
          "name": "stdout"
        }
      ]
    },
    {
      "cell_type": "code",
      "metadata": {
        "colab": {
          "base_uri": "https://localhost:8080/"
        },
        "id": "tozlk0qIu7-J",
        "outputId": "ae52cdb5-9988-40cc-b74d-826da1135880"
      },
      "source": [
        "name = 'Leena'\r\n",
        "age = 26\r\n",
        "tall = 174.6\r\n",
        "\r\n",
        "fmt_string = 'String: {}, Integer Number: {}, Floating Number: {}'\r\n",
        "print(fmt_string.format(name, age, tall)) #여기서 지정하는 순서대로 print 된다"
      ],
      "execution_count": 29,
      "outputs": [
        {
          "output_type": "stream",
          "text": [
            "String: Leena, Integer Number: 26, Floating Number: 174.6\n"
          ],
          "name": "stdout"
        }
      ]
    },
    {
      "cell_type": "markdown",
      "metadata": {
        "id": "qdk8Lsp9xAGo"
      },
      "source": [
        "### 4) 형식 지정 문자열에서 숫자 출력 형식 지정\r\n",
        "\r\n",
        "|데이터|출력형식|출력결과|설명|\r\n",
        "|  :---:  | :---: | :---: | :---|\r\n",
        "|3|{N:2d}|_3|정수를 공백 포함하여 두 자리로 표시|\r\n",
        "|3|{N:05d}|00003 | 정수를 다섯자리로 표시, 앞의 공백은 0으로 채움|\r\n",
        "|12|{N:>5d}|___12| 정수를 다섯자리로 표시, 숫자는 오른쪽으로 정렬|\r\n",
        "|0.123456|{N:.3f}|0.123|실수를 소수점 셋째 자리까지 표시|\r\n",
        "|7456000|{N:,}|7,456,000|끝에서 셋째 자리까지 표시|\r\n",
        "|0.3258|{N:.1%}|32.6%|소수를 퍼센트(%)로 표시, 퍼센트 표시에서 소수점 자리 수는 '.' 다음 수로 표시|\r\n",
        "|925000000000|{N:.2e}|9.25e+10|숫자를 지수로 표시, 지수 표시에서 소수점 자리 수는 '.' 다음 수로 표시|\r\n",
        "|16|{N:#x}|0x10| 숫자를 16진수로 표시, #기호가 없으면 0x 없이 출력됨|\r\n",
        "|8|{N: #o}|0o10| 숫자를 8진수로 표시, #기호가 없으면 0o 없이 출력됨|\r\n",
        "|2|{N: #b}|0b10| 숫자를 2진수로 표시, #기호가 없으면 0b 없이 출력됨|\r\n"
      ]
    },
    {
      "cell_type": "code",
      "metadata": {
        "colab": {
          "base_uri": "https://localhost:8080/"
        },
        "id": "3rhizlopwvpC",
        "outputId": "1405d701-1119-4150-97b5-b4d902a5bfa4"
      },
      "source": [
        "a = 0.123456789123456789\r\n",
        "b = 123456789123456789\r\n",
        "\r\n",
        "print('{0:.2f}, {0:.3f}, {0:.4f}, {0:.5f}'.format(a))"
      ],
      "execution_count": 41,
      "outputs": [
        {
          "output_type": "stream",
          "text": [
            "0.12, 0.123, 0.1235, 0.12346\n"
          ],
          "name": "stdout"
        }
      ]
    },
    {
      "cell_type": "code",
      "metadata": {
        "colab": {
          "base_uri": "https://localhost:8080/"
        },
        "id": "8pZ4rNY7xmiv",
        "outputId": "96931583-9c5d-4e93-fb5e-0ca6ededdf26"
      },
      "source": [
        "print('{0:,}'.format(b))\r\n",
        "print('{0:#o}'.format(b))\r\n",
        "print('{0:b}'.format(b))\r\n",
        "print('{0:.5%}'.format(a)) #format하는 자리에 *100 한 후, 소수점 아래 n번째 자리까지 표시"
      ],
      "execution_count": 60,
      "outputs": [
        {
          "output_type": "stream",
          "text": [
            "123,456,789,123,456,789\n",
            "0o6664664565464057425\n",
            "110110110100110110100101110101100110100000101111100010101\n",
            "12.34568%\n"
          ],
          "name": "stdout"
        }
      ]
    },
    {
      "cell_type": "markdown",
      "metadata": {
        "id": "ZHyC1INg3F25"
      },
      "source": [
        "### 5) 키보드 입력"
      ]
    },
    {
      "cell_type": "code",
      "metadata": {
        "colab": {
          "base_uri": "https://localhost:8080/"
        },
        "id": "pn6qdV3h1RNx",
        "outputId": "b4b1f4e6-3264-49fe-ec2e-1556ed66bbc6"
      },
      "source": [
        "yourName = input('당신의 이름은?')\r\n",
        "print('당신의 이름은 {}이군요.'.format(yourName)) #input된 값을 {} 사이에다 format"
      ],
      "execution_count": 61,
      "outputs": [
        {
          "output_type": "stream",
          "text": [
            "당신의 이름은?Leena\n",
            "당신의 이름은 Leena이군요.\n"
          ],
          "name": "stdout"
        }
      ]
    },
    {
      "cell_type": "code",
      "metadata": {
        "colab": {
          "base_uri": "https://localhost:8080/"
        },
        "id": "n5kS6Eaw3SdT",
        "outputId": "1f12ca28-1c8a-4390-e3f1-85827cd6700d"
      },
      "source": [
        "c = input('정사각형 한 변의 길이는?')\r\n",
        "area = float(c) **2\r\n",
        "print('정사각형의 넓이: {}'.format(area))"
      ],
      "execution_count": 62,
      "outputs": [
        {
          "output_type": "stream",
          "text": [
            "정사각형 한 변의 길이는?6\n",
            "정사각형의 넓이: 36.0\n"
          ],
          "name": "stdout"
        }
      ]
    },
    {
      "cell_type": "code",
      "metadata": {
        "colab": {
          "base_uri": "https://localhost:8080/"
        },
        "id": "7IC0250V3vKI",
        "outputId": "f8d522f9-ac28-47fc-c804-a84b5898c5c5"
      },
      "source": [
        "b = input('정사각형 한 변의 길이는?')\r\n",
        "area = float(b)**2\r\n",
        "print('정사각형의 넓이:{}'.format(area))"
      ],
      "execution_count": 63,
      "outputs": [
        {
          "output_type": "stream",
          "text": [
            "정사각형 한 변의 길이는?1.5\n",
            "정사각형의 넓이:2.25\n"
          ],
          "name": "stdout"
        }
      ]
    },
    {
      "cell_type": "markdown",
      "metadata": {
        "id": "uCWpZ8et6SKZ"
      },
      "source": [
        "##2. 함수"
      ]
    },
    {
      "cell_type": "markdown",
      "metadata": {
        "id": "Sg6zA6Po6UCq"
      },
      "source": [
        "###1) 인자도 있고 반환값도 있는 함수\r\n",
        "- 인자에는 list, tuple, dictionary도 인자로 사용할 수 있다.\r\n",
        "- 인자를 list에 담아 함수에 호출할 수도 있고, list를 바로 인자에 담을 수도 있음"
      ]
    },
    {
      "cell_type": "code",
      "metadata": {
        "id": "IyAXcb_V4bbG"
      },
      "source": [
        "def fruits(fruit):\r\n",
        "  print('My favorite fruit is ', fruit[0],'.')\r\n",
        "  print('Amy likes ', fruit[1],'.')\r\n",
        "  print(\"But I don't like \", fruit[2],'.')"
      ],
      "execution_count": 72,
      "outputs": []
    },
    {
      "cell_type": "code",
      "metadata": {
        "id": "0kjAXPoX7CNx"
      },
      "source": [
        "fruit = ['cherry','apple', 'mango']"
      ],
      "execution_count": 73,
      "outputs": []
    },
    {
      "cell_type": "code",
      "metadata": {
        "colab": {
          "base_uri": "https://localhost:8080/"
        },
        "id": "3jTHjh3_7G1H",
        "outputId": "db703d9b-da48-4787-93ea-8baa30ae9d43"
      },
      "source": [
        "#list에 담은 인자들을 함수에 불러오는 경우\r\n",
        "fruits(fruit)"
      ],
      "execution_count": 74,
      "outputs": [
        {
          "output_type": "stream",
          "text": [
            "My favorite fruit is  cherry .\n",
            "Amy likes  apple .\n",
            "But I don't like  mango .\n"
          ],
          "name": "stdout"
        }
      ]
    },
    {
      "cell_type": "code",
      "metadata": {
        "colab": {
          "base_uri": "https://localhost:8080/"
        },
        "id": "erOZ9Io07I5U",
        "outputId": "ac72715e-00f5-4e91-f2ab-b18f0cc2365b"
      },
      "source": [
        "#인자를 직접 함수에 담는 경우\r\n",
        "fruits(['strawberry','pineapple','durian'])"
      ],
      "execution_count": 75,
      "outputs": [
        {
          "output_type": "stream",
          "text": [
            "My favorite fruit is  strawberry .\n",
            "Amy likes  pineapple .\n",
            "But I don't like  durian .\n"
          ],
          "name": "stdout"
        }
      ]
    },
    {
      "cell_type": "markdown",
      "metadata": {
        "id": "7A4dZMHxHII1"
      },
      "source": [
        "### 2) 변수의 유효범위\r\n",
        " - 함수 안에서 정의·생성한 변수는 함수 안에서만 사용 가능 (= 지역 변수, local variable)\r\n",
        " - 지역 영역(local scope): 지역 변수를 저장하는 이름 공간 \r\n",
        "\r\n",
        "\r\n",
        " - 코드 내 어디서나 사용 가능 (= 전역 변수, global variable)\r\n",
        " - 전역 영역(global scope): 전역 변수를 저장하는 이름 공간"
      ]
    },
    {
      "cell_type": "code",
      "metadata": {
        "id": "K8J8TkQT7U4Y"
      },
      "source": [
        "a = 5 #전역 변수\r\n",
        "\r\n",
        "def func1():\r\n",
        "  a = 1 #지역 변수, func1()에서만 사용\r\n",
        "  print('[func1]의 지역변수  a = ', a)\r\n",
        "\r\n",
        "def func2():\r\n",
        "  a = 2 #지역 변수, func2()에서만 사용\r\n",
        "  print('[func2]의 지역변수 a = ', a)\r\n",
        "\r\n",
        "def func3():\r\n",
        "  print('[func3]의 지역변수 a = ', a)\r\n",
        "\r\n",
        "def func4():\r\n",
        "  global a #함수 내에서 전역 변수를 변경하기 위해 선언, 이걸 먼저 선언해야 전역 변수가 변경이 된다!\r\n",
        "  a = 4\r\n",
        "  print('[func4]의 지역변수 a = ', a)"
      ],
      "execution_count": 80,
      "outputs": []
    },
    {
      "cell_type": "code",
      "metadata": {
        "colab": {
          "base_uri": "https://localhost:8080/"
        },
        "id": "TNW825ZiIqDH",
        "outputId": "327cd44c-e903-482f-c3a1-f16b86e1244c"
      },
      "source": [
        "func1()\r\n",
        "func2()\r\n",
        "print('전역변수 a=', a) #함수를 호출하지 않고 변수를 이용하면 전역 변수를 참조함"
      ],
      "execution_count": 81,
      "outputs": [
        {
          "output_type": "stream",
          "text": [
            "[func1]의 지역변수  a =  1\n",
            "[func2]의 지역변수 a =  2\n",
            "전역변수 a= 5\n"
          ],
          "name": "stdout"
        }
      ]
    },
    {
      "cell_type": "code",
      "metadata": {
        "colab": {
          "base_uri": "https://localhost:8080/"
        },
        "id": "lbemomb6IvT6",
        "outputId": "6825ea96-ca47-484c-e2cb-1101945ea51b"
      },
      "source": [
        "func3() #func4()에서 전역 변수가 변경되기 전\r\n",
        "func4()\r\n",
        "func3() #func4()가 호출되고 나서 변수가 변경됨"
      ],
      "execution_count": 82,
      "outputs": [
        {
          "output_type": "stream",
          "text": [
            "[func3]의 지역변수 a =  5\n",
            "[func4]의 지역변수 a =  4\n",
            "[func3]의 지역변수 a =  4\n"
          ],
          "name": "stdout"
        }
      ]
    },
    {
      "cell_type": "markdown",
      "metadata": {
        "id": "x-Gy-gL1JZ4c"
      },
      "source": [
        "### 3) 람다 함수\r\n",
        "- lambda <인자>: <인자 활용 수행 코드>\r\n",
        "- (lambda <인자> : <인자 활용 수행 코드>)(<인자>)\r\n",
        "\r\n",
        "- lambda_function = lambda <인자> : <인자 활용 수행 코드> ; lambda_function(<인자>)\r\n",
        "  "
      ]
    },
    {
      "cell_type": "code",
      "metadata": {
        "colab": {
          "base_uri": "https://localhost:8080/"
        },
        "id": "JKCPhDPAJFJt",
        "outputId": "0f33c322-7555-4c4c-882e-704a3295b405"
      },
      "source": [
        "(lambda x : x**2)(3) #인자: x, 인자 활용 수행 코드: x**2, x = 3"
      ],
      "execution_count": 83,
      "outputs": [
        {
          "output_type": "execute_result",
          "data": {
            "text/plain": [
              "9"
            ]
          },
          "metadata": {
            "tags": []
          },
          "execution_count": 83
        }
      ]
    },
    {
      "cell_type": "code",
      "metadata": {
        "colab": {
          "base_uri": "https://localhost:8080/"
        },
        "id": "9FySz7o9KVNd",
        "outputId": "1c0bffe5-85cb-4c20-c640-3282d7833031"
      },
      "source": [
        "mySquare = lambda x : x**2\r\n",
        "print(mySquare(2))\r\n",
        "print(mySquare(5))"
      ],
      "execution_count": 85,
      "outputs": [
        {
          "output_type": "stream",
          "text": [
            "4\n",
            "25\n"
          ],
          "name": "stdout"
        }
      ]
    },
    {
      "cell_type": "code",
      "metadata": {
        "colab": {
          "base_uri": "https://localhost:8080/"
        },
        "id": "ywTSR4oMKh5e",
        "outputId": "3896d071-d765-4339-9173-9690488cfd1f"
      },
      "source": [
        "mySimplefunction = lambda x, y, z : x**3 + 2*y + z\r\n",
        "mySimplefunction(3,6,9) # 27+12+9 = 48"
      ],
      "execution_count": 86,
      "outputs": [
        {
          "output_type": "execute_result",
          "data": {
            "text/plain": [
              "48"
            ]
          },
          "metadata": {
            "tags": []
          },
          "execution_count": 86
        }
      ]
    },
    {
      "cell_type": "markdown",
      "metadata": {
        "id": "ZyCb3hD1LH5i"
      },
      "source": [
        "### 4) bool 함수의 활용"
      ]
    },
    {
      "cell_type": "code",
      "metadata": {
        "id": "RA72YMT-K1HG"
      },
      "source": [
        "def print_name(name):\r\n",
        "  if bool(name): #존재 여부만 체킹\r\n",
        "    print('Your name is', name,'.')\r\n",
        "  else:\r\n",
        "    print('Your name is not in the list.')"
      ],
      "execution_count": 93,
      "outputs": []
    },
    {
      "cell_type": "code",
      "metadata": {
        "colab": {
          "base_uri": "https://localhost:8080/"
        },
        "id": "DEqhjl06Lg2Q",
        "outputId": "0cb35e83-d602-4d81-c92a-d8053b77ecf6"
      },
      "source": [
        "print_name('')"
      ],
      "execution_count": 94,
      "outputs": [
        {
          "output_type": "stream",
          "text": [
            "Your name is not in the list.\n"
          ],
          "name": "stdout"
        }
      ]
    },
    {
      "cell_type": "code",
      "metadata": {
        "colab": {
          "base_uri": "https://localhost:8080/"
        },
        "id": "-bLuSACSLijI",
        "outputId": "0ca88410-b81a-4359-92c0-fc924864288e"
      },
      "source": [
        "print_name('Leena')"
      ],
      "execution_count": 95,
      "outputs": [
        {
          "output_type": "stream",
          "text": [
            "Your name is Leena .\n"
          ],
          "name": "stdout"
        }
      ]
    },
    {
      "cell_type": "markdown",
      "metadata": {
        "id": "LwNIuYJ8LrXP"
      },
      "source": [
        "### 5) 최솟값, 최댓값, 절댓값 구하는 함수\r\n",
        "- min(), max()\r\n",
        "- abs()"
      ]
    },
    {
      "cell_type": "code",
      "metadata": {
        "colab": {
          "base_uri": "https://localhost:8080/"
        },
        "id": "d9mM7QLpLmRe",
        "outputId": "f6804720-e17f-4327-88f5-92f124d3a1ee"
      },
      "source": [
        "myStr = 'bcdazxy'\r\n",
        "print(min(myStr))\r\n",
        "print(max(myStr))"
      ],
      "execution_count": 97,
      "outputs": [
        {
          "output_type": "stream",
          "text": [
            "a\n",
            "z\n"
          ],
          "name": "stdout"
        }
      ]
    },
    {
      "cell_type": "code",
      "metadata": {
        "colab": {
          "base_uri": "https://localhost:8080/"
        },
        "id": "n28occaPMDaP",
        "outputId": "27f9e07f-335c-4ac6-b1b3-c262baafad30"
      },
      "source": [
        "myNum = {'abc','Abc','aBc','efg'}\r\n",
        "[min(myNum), max(myNum)] #list에 담아주는 방법!"
      ],
      "execution_count": 98,
      "outputs": [
        {
          "output_type": "execute_result",
          "data": {
            "text/plain": [
              "['Abc', 'efg']"
            ]
          },
          "metadata": {
            "tags": []
          },
          "execution_count": 98
        }
      ]
    },
    {
      "cell_type": "code",
      "metadata": {
        "colab": {
          "base_uri": "https://localhost:8080/"
        },
        "id": "92Q_Zz88MXkv",
        "outputId": "ce447bb5-ca49-4caf-a3c1-6247cb7a197d"
      },
      "source": [
        "#절댓값 구하는 함수\r\n",
        "abs(-150)"
      ],
      "execution_count": 99,
      "outputs": [
        {
          "output_type": "execute_result",
          "data": {
            "text/plain": [
              "150"
            ]
          },
          "metadata": {
            "tags": []
          },
          "execution_count": 99
        }
      ]
    },
    {
      "cell_type": "markdown",
      "metadata": {
        "id": "UmprKHatM8vw"
      },
      "source": [
        "###6) sum과 len 사용하여 평균과 총점 구하기"
      ]
    },
    {
      "cell_type": "code",
      "metadata": {
        "colab": {
          "base_uri": "https://localhost:8080/"
        },
        "id": "tix-thVNMz1f",
        "outputId": "d63350e8-37fc-48e1-c94d-21819ec2c529"
      },
      "source": [
        "scores = [90, 80, 75, 60, 55, 100]\r\n",
        "\r\n",
        "print(('Total Score: {}, Average Score: {}').format(sum(scores), sum(scores)/len(scores)))"
      ],
      "execution_count": 111,
      "outputs": [
        {
          "output_type": "stream",
          "text": [
            "Total Score: 460, Average Score: 76.66666666666667\n"
          ],
          "name": "stdout"
        }
      ]
    },
    {
      "cell_type": "markdown",
      "metadata": {
        "id": "bQC1tnDzQeXH"
      },
      "source": [
        "##3. 객체와 클래스"
      ]
    },
    {
      "cell_type": "markdown",
      "metadata": {
        "id": "yX4e08G_Qg2E"
      },
      "source": [
        "### 1) 객체 생성 및 활용\r\n",
        "\r\n",
        " - 자전거\r\n",
        "  - 자전거의 속성: 바퀴, 크기\r\n",
        "  - 자전거의 동작: 지정된 속도로 이동(move), 좌/우 회전(turn), 정지(stop)"
      ]
    },
    {
      "cell_type": "code",
      "metadata": {
        "id": "BjOn079PNvV4"
      },
      "source": [
        "class Bicycle(): #클래스 선언\r\n",
        "  pass"
      ],
      "execution_count": 112,
      "outputs": []
    },
    {
      "cell_type": "code",
      "metadata": {
        "id": "Id0QfsB8Q3v8"
      },
      "source": [
        "#선언된 클래스로부터 클래스의 인스턴스인 객체를 생성하는 방법은 \r\n",
        "#객체명 = 클래스명 ()\r\n",
        "my_bicycle = Bicycle() \r\n",
        "\r\n",
        "#my_bicycle 객체는 Bicycle 클래스의 인스턴스!"
      ],
      "execution_count": 113,
      "outputs": []
    },
    {
      "cell_type": "code",
      "metadata": {
        "colab": {
          "base_uri": "https://localhost:8080/"
        },
        "id": "jh2xlgVcSSNE",
        "outputId": "6e3ff199-1cfc-44bd-aadb-2c57574d9936"
      },
      "source": [
        "my_bicycle #at 뒤의 값은 생성된 객체의 메모리 주소"
      ],
      "execution_count": 114,
      "outputs": [
        {
          "output_type": "execute_result",
          "data": {
            "text/plain": [
              "<__main__.Bicycle at 0x7f6e7581a9e8>"
            ]
          },
          "metadata": {
            "tags": []
          },
          "execution_count": 114
        }
      ]
    },
    {
      "cell_type": "code",
      "metadata": {
        "id": "aBaJSA0gSUqY"
      },
      "source": [
        "#객체의 변수에 접근하여 객체의 속성을 가져오는 방법은\r\n",
        "#객체명.변수명\r\n",
        "\r\n",
        "my_bicycle.wheel_size = 26\r\n",
        "my_bicycle.color = 'purple'"
      ],
      "execution_count": 115,
      "outputs": []
    },
    {
      "cell_type": "code",
      "metadata": {
        "colab": {
          "base_uri": "https://localhost:8080/"
        },
        "id": "E1xF8SiIS4Ro",
        "outputId": "9e1ccbd9-7790-4984-f1a8-5e25f96695ca"
      },
      "source": [
        "#위에서 설정한 객체의 속성값 가져오기\r\n",
        "print('바퀴 사이즈는', my_bicycle.wheel_size)\r\n",
        "print('자전거 색은', my_bicycle.color)"
      ],
      "execution_count": 116,
      "outputs": [
        {
          "output_type": "stream",
          "text": [
            "바퀴 사이즈는 26\n",
            "자전거 색은 purple\n"
          ],
          "name": "stdout"
        }
      ]
    },
    {
      "cell_type": "code",
      "metadata": {
        "id": "k2cFQGUWTFAZ"
      },
      "source": [
        "#Bicycle 클래스에 함수 추가하기\r\n",
        "\r\n",
        "class Bicycle():\r\n",
        "\r\n",
        "  def move(self, speed):\r\n",
        "    print('자전거: 시속 {0}km로 전진'.format(speed))\r\n",
        "\r\n",
        "  def turn(self, direction):\r\n",
        "    print('자전거: {} 회전'.format(direction))\r\n",
        "\r\n",
        "  def stop(self):\r\n",
        "    print('자전거({0}, {1}): 정지'.format(self.wheel_size, self.color))"
      ],
      "execution_count": 118,
      "outputs": []
    },
    {
      "cell_type": "code",
      "metadata": {
        "id": "6pk30PakTyjp"
      },
      "source": [
        ""
      ],
      "execution_count": null,
      "outputs": []
    }
  ]
}