{
  "nbformat": 4,
  "nbformat_minor": 0,
  "metadata": {
    "colab": {
      "name": "statistics_5장.ipynb",
      "provenance": [],
      "collapsed_sections": [],
      "authorship_tag": "ABX9TyOkRZ2XSHSyOlVM93+2e+Yr",
      "include_colab_link": true
    },
    "kernelspec": {
      "name": "python3",
      "display_name": "Python 3"
    }
  },
  "cells": [
    {
      "cell_type": "markdown",
      "metadata": {
        "id": "view-in-github",
        "colab_type": "text"
      },
      "source": [
        "<a href=\"https://colab.research.google.com/github/leenago/Self_studying/blob/master/Statistics/statistics_5%EC%9E%A5.ipynb\" target=\"_parent\"><img src=\"https://colab.research.google.com/assets/colab-badge.svg\" alt=\"Open In Colab\"/></a>"
      ]
    },
    {
      "cell_type": "markdown",
      "metadata": {
        "id": "1tqx2k9yN7CD"
      },
      "source": [
        "#1.준비하기"
      ]
    },
    {
      "cell_type": "markdown",
      "metadata": {
        "id": "ScUIuOpRODJK"
      },
      "source": [
        "## 1) 한글 폰트 설치하기"
      ]
    },
    {
      "cell_type": "code",
      "metadata": {
        "id": "DErYi0YmbKl6",
        "outputId": "1cfcca67-cddc-4b56-9d92-bfd23f4c31a2",
        "colab": {
          "base_uri": "https://localhost:8080/",
          "height": 210
        }
      },
      "source": [
        "%config InlineBackend.figure_format = 'retina'\n",
        "!apt -qq -y install fonts-nanum"
      ],
      "execution_count": null,
      "outputs": [
        {
          "output_type": "stream",
          "text": [
            "The following NEW packages will be installed:\n",
            "  fonts-nanum\n",
            "0 upgraded, 1 newly installed, 0 to remove and 11 not upgraded.\n",
            "Need to get 9,604 kB of archives.\n",
            "After this operation, 29.5 MB of additional disk space will be used.\n",
            "Selecting previously unselected package fonts-nanum.\n",
            "(Reading database ... 144676 files and directories currently installed.)\n",
            "Preparing to unpack .../fonts-nanum_20170925-1_all.deb ...\n",
            "Unpacking fonts-nanum (20170925-1) ...\n",
            "Setting up fonts-nanum (20170925-1) ...\n",
            "Processing triggers for fontconfig (2.12.6-0ubuntu2) ...\n"
          ],
          "name": "stdout"
        }
      ]
    },
    {
      "cell_type": "code",
      "metadata": {
        "id": "XoIZMSIKOXsw",
        "outputId": "eb1f034d-833a-4b51-8f5a-a4c13054da1f",
        "colab": {
          "base_uri": "https://localhost:8080/",
          "height": 52
        }
      },
      "source": [
        "import seaborn as sns\n",
        "import pandas as pd\n",
        "import numpy as np\n",
        "import matplotlib.pyplot as plt\n",
        "import matplotlib as mpl\n",
        "import matplotlib.font_manager as fm"
      ],
      "execution_count": null,
      "outputs": [
        {
          "output_type": "stream",
          "text": [
            "/usr/local/lib/python3.6/dist-packages/statsmodels/tools/_testing.py:19: FutureWarning: pandas.util.testing is deprecated. Use the functions in the public API at pandas.testing instead.\n",
            "  import pandas.util.testing as tm\n"
          ],
          "name": "stderr"
        }
      ]
    },
    {
      "cell_type": "code",
      "metadata": {
        "id": "B35INw48bLM_"
      },
      "source": [
        "fontpath = '/usr/share/fonts/truetype/nanum/NanumBarunGothic.ttf'\n",
        "font = fm.FontProperties(fname=fontpath, size=9)\n",
        "plt.rc('font', family='NanumBarunGothic') \n",
        "plt.rcParams[\"figure.figsize\"] = (20, 10)\n",
        "mpl.font_manager._rebuild()\n",
        "mpl.pyplot.rc('font', family='NanumGothic')\n",
        "fm._rebuild()"
      ],
      "execution_count": null,
      "outputs": []
    },
    {
      "cell_type": "markdown",
      "metadata": {
        "id": "WttoRErTOGKH"
      },
      "source": [
        "## 2) Google Drive와 연동하기"
      ]
    },
    {
      "cell_type": "code",
      "metadata": {
        "id": "lcUjbpvDN1ai",
        "outputId": "a99006ab-5118-4f19-e2b1-39a57b8de827",
        "colab": {
          "base_uri": "https://localhost:8080/",
          "height": 70
        }
      },
      "source": [
        "from google.colab import drive # 패키지 불러오기 \n",
        "from os.path import join  \n",
        "\n",
        "ROOT = \"/content/drive\"     # 드라이브 기본 경로\n",
        "print(ROOT)                 # print content of ROOT (Optional)\n",
        "drive.mount(ROOT)           # 드라이브 기본 경로 Mount\n",
        "\n",
        "MY_GOOGLE_DRIVE_PATH = 'My Drive/파비통 데이터' # 프로젝트 경로\n",
        "PROJECT_PATH = join(ROOT, MY_GOOGLE_DRIVE_PATH) # 프로젝트 경로\n",
        "print(PROJECT_PATH)"
      ],
      "execution_count": null,
      "outputs": [
        {
          "output_type": "stream",
          "text": [
            "/content/drive\n",
            "Mounted at /content/drive\n",
            "/content/drive/My Drive/파비통 데이터\n"
          ],
          "name": "stdout"
        }
      ]
    },
    {
      "cell_type": "code",
      "metadata": {
        "id": "TCGBez2HN-Yw",
        "outputId": "e3266ded-150d-4a54-fcda-97c9027a010b",
        "colab": {
          "base_uri": "https://localhost:8080/",
          "height": 34
        }
      },
      "source": [
        "%cd /content/drive/My Drive/파비통 데이터"
      ],
      "execution_count": null,
      "outputs": [
        {
          "output_type": "stream",
          "text": [
            "/content/drive/My Drive/파비통 데이터\n"
          ],
          "name": "stdout"
        }
      ]
    },
    {
      "cell_type": "code",
      "metadata": {
        "id": "R8hsyrZwOWee",
        "outputId": "6a32714e-e90f-4d37-9840-28fae87cd800",
        "colab": {
          "base_uri": "https://localhost:8080/",
          "height": 422
        }
      },
      "source": [
        "%ls"
      ],
      "execution_count": null,
      "outputs": [
        {
          "output_type": "stream",
          "text": [
            "'실습파일_10장 분산분석.ipynb'\n",
            "'실습파일_11장 회귀분석.ipynb'\n",
            "'실습파일_12장 요인분석.ipynb'\n",
            "'실습파일_13장 분류예측분석.ipynb'\n",
            "'실습파일_14장 군집분석.ipynb'\n",
            "'실습파일_15장 포지셔닝 분석.ipynb'\n",
            "'실습파일_16장 컨조인트 분석.ipynb'\n",
            "'실습파일_17장 비모수 통계분석.ipynb'\n",
            "'실습파일_3장 파이썬 기초.ipynb'\n",
            "'실습파일_4장 데이터전처리 및 기초분석.ipynb'\n",
            "'실습파일_5장 기술통계분석.ipynb'\n",
            "'실습파일_6장 t 검정.ipynb'\n",
            "'실습파일_7장 상관관계분석.ipynb'\n",
            "'실습파일_8장 범주형 데이터 분석.ipynb'\n",
            "'실습파일_9장 신뢰성 분석.ipynb'\n",
            " Ashopping.csv\n",
            " CCA.csv\n",
            " Conjoint.csv\n",
            " Correspondence.csv\n",
            " 부록_통계표.docx\n",
            " MDS1.csv\n",
            " MDS3.csv\n",
            "'Step by Step 파이썬 비즈니스 통계분석_정오표.xlsx'\n"
          ],
          "name": "stdout"
        }
      ]
    },
    {
      "cell_type": "code",
      "metadata": {
        "id": "M3hJVioHOeWu",
        "outputId": "1c81823a-b247-4b2b-b2b5-9523de8c9bd8",
        "colab": {
          "base_uri": "https://localhost:8080/",
          "height": 674
        }
      },
      "source": [
        "#데이터 불러오기\n",
        "df = pd.read_csv('Ashopping.csv',sep=',', encoding='CP949')\n",
        "df"
      ],
      "execution_count": null,
      "outputs": [
        {
          "output_type": "execute_result",
          "data": {
            "text/html": [
              "<div>\n",
              "<style scoped>\n",
              "    .dataframe tbody tr th:only-of-type {\n",
              "        vertical-align: middle;\n",
              "    }\n",
              "\n",
              "    .dataframe tbody tr th {\n",
              "        vertical-align: top;\n",
              "    }\n",
              "\n",
              "    .dataframe thead th {\n",
              "        text-align: right;\n",
              "    }\n",
              "</style>\n",
              "<table border=\"1\" class=\"dataframe\">\n",
              "  <thead>\n",
              "    <tr style=\"text-align: right;\">\n",
              "      <th></th>\n",
              "      <th>고객ID</th>\n",
              "      <th>이탈여부</th>\n",
              "      <th>총_매출액</th>\n",
              "      <th>방문빈도</th>\n",
              "      <th>1회_평균매출액</th>\n",
              "      <th>할인권_사용 횟수</th>\n",
              "      <th>총_할인_금액</th>\n",
              "      <th>고객등급</th>\n",
              "      <th>구매유형</th>\n",
              "      <th>클레임접수여부</th>\n",
              "      <th>구매_카테고리_수</th>\n",
              "      <th>거주지역</th>\n",
              "      <th>성별</th>\n",
              "      <th>고객_나이대</th>\n",
              "      <th>거래기간</th>\n",
              "      <th>할인민감여부</th>\n",
              "      <th>멤버쉽_프로그램_가입전_만족도</th>\n",
              "      <th>멤버쉽_프로그램_가입후_만족도</th>\n",
              "      <th>Recency</th>\n",
              "      <th>Frequency</th>\n",
              "      <th>Monetary</th>\n",
              "      <th>상품_만족도</th>\n",
              "      <th>매장_만족도</th>\n",
              "      <th>서비스_만족도</th>\n",
              "      <th>상품_품질</th>\n",
              "      <th>상품_다양성</th>\n",
              "      <th>가격_적절성</th>\n",
              "      <th>상품_진열_위치</th>\n",
              "      <th>상품_설명_표시</th>\n",
              "      <th>매장_청결성</th>\n",
              "      <th>공간_편의성</th>\n",
              "      <th>시야_확보성</th>\n",
              "      <th>음향_적절성</th>\n",
              "      <th>안내_표지판_설명</th>\n",
              "      <th>친절성</th>\n",
              "      <th>신속성</th>\n",
              "      <th>책임성</th>\n",
              "      <th>정확성</th>\n",
              "      <th>전문성</th>\n",
              "    </tr>\n",
              "  </thead>\n",
              "  <tbody>\n",
              "    <tr>\n",
              "      <th>0</th>\n",
              "      <td>1</td>\n",
              "      <td>0</td>\n",
              "      <td>4007080</td>\n",
              "      <td>17</td>\n",
              "      <td>235711</td>\n",
              "      <td>1</td>\n",
              "      <td>5445</td>\n",
              "      <td>1</td>\n",
              "      <td>4</td>\n",
              "      <td>0</td>\n",
              "      <td>6</td>\n",
              "      <td>6</td>\n",
              "      <td>1</td>\n",
              "      <td>4</td>\n",
              "      <td>1079</td>\n",
              "      <td>0</td>\n",
              "      <td>5</td>\n",
              "      <td>7</td>\n",
              "      <td>7</td>\n",
              "      <td>3</td>\n",
              "      <td>4</td>\n",
              "      <td>6</td>\n",
              "      <td>5</td>\n",
              "      <td>6</td>\n",
              "      <td>7</td>\n",
              "      <td>7</td>\n",
              "      <td>6</td>\n",
              "      <td>7.0</td>\n",
              "      <td>6.0</td>\n",
              "      <td>6</td>\n",
              "      <td>7</td>\n",
              "      <td>6</td>\n",
              "      <td>6</td>\n",
              "      <td>6</td>\n",
              "      <td>6</td>\n",
              "      <td>6</td>\n",
              "      <td>6</td>\n",
              "      <td>6</td>\n",
              "      <td>6</td>\n",
              "    </tr>\n",
              "    <tr>\n",
              "      <th>1</th>\n",
              "      <td>2</td>\n",
              "      <td>1</td>\n",
              "      <td>3168400</td>\n",
              "      <td>14</td>\n",
              "      <td>226314</td>\n",
              "      <td>22</td>\n",
              "      <td>350995</td>\n",
              "      <td>2</td>\n",
              "      <td>4</td>\n",
              "      <td>0</td>\n",
              "      <td>4</td>\n",
              "      <td>4</td>\n",
              "      <td>1</td>\n",
              "      <td>1</td>\n",
              "      <td>537</td>\n",
              "      <td>0</td>\n",
              "      <td>2</td>\n",
              "      <td>3</td>\n",
              "      <td>2</td>\n",
              "      <td>3</td>\n",
              "      <td>3</td>\n",
              "      <td>2</td>\n",
              "      <td>5</td>\n",
              "      <td>4</td>\n",
              "      <td>6</td>\n",
              "      <td>7</td>\n",
              "      <td>6</td>\n",
              "      <td>6.0</td>\n",
              "      <td>NaN</td>\n",
              "      <td>7</td>\n",
              "      <td>7</td>\n",
              "      <td>6</td>\n",
              "      <td>6</td>\n",
              "      <td>6</td>\n",
              "      <td>5</td>\n",
              "      <td>3</td>\n",
              "      <td>6</td>\n",
              "      <td>6</td>\n",
              "      <td>6</td>\n",
              "    </tr>\n",
              "    <tr>\n",
              "      <th>2</th>\n",
              "      <td>3</td>\n",
              "      <td>0</td>\n",
              "      <td>2680780</td>\n",
              "      <td>18</td>\n",
              "      <td>148932</td>\n",
              "      <td>6</td>\n",
              "      <td>186045</td>\n",
              "      <td>1</td>\n",
              "      <td>4</td>\n",
              "      <td>1</td>\n",
              "      <td>6</td>\n",
              "      <td>6</td>\n",
              "      <td>1</td>\n",
              "      <td>6</td>\n",
              "      <td>1080</td>\n",
              "      <td>0</td>\n",
              "      <td>6</td>\n",
              "      <td>6</td>\n",
              "      <td>7</td>\n",
              "      <td>3</td>\n",
              "      <td>2</td>\n",
              "      <td>4</td>\n",
              "      <td>6</td>\n",
              "      <td>7</td>\n",
              "      <td>6</td>\n",
              "      <td>7</td>\n",
              "      <td>6</td>\n",
              "      <td>7.0</td>\n",
              "      <td>NaN</td>\n",
              "      <td>6</td>\n",
              "      <td>6</td>\n",
              "      <td>6</td>\n",
              "      <td>6</td>\n",
              "      <td>6</td>\n",
              "      <td>7</td>\n",
              "      <td>7</td>\n",
              "      <td>6</td>\n",
              "      <td>6</td>\n",
              "      <td>7</td>\n",
              "    </tr>\n",
              "    <tr>\n",
              "      <th>3</th>\n",
              "      <td>4</td>\n",
              "      <td>0</td>\n",
              "      <td>5946600</td>\n",
              "      <td>17</td>\n",
              "      <td>349800</td>\n",
              "      <td>1</td>\n",
              "      <td>5195</td>\n",
              "      <td>1</td>\n",
              "      <td>4</td>\n",
              "      <td>1</td>\n",
              "      <td>5</td>\n",
              "      <td>5</td>\n",
              "      <td>1</td>\n",
              "      <td>6</td>\n",
              "      <td>1019</td>\n",
              "      <td>0</td>\n",
              "      <td>3</td>\n",
              "      <td>5</td>\n",
              "      <td>7</td>\n",
              "      <td>3</td>\n",
              "      <td>5</td>\n",
              "      <td>3</td>\n",
              "      <td>5</td>\n",
              "      <td>5</td>\n",
              "      <td>6</td>\n",
              "      <td>6</td>\n",
              "      <td>6</td>\n",
              "      <td>5.0</td>\n",
              "      <td>6.0</td>\n",
              "      <td>6</td>\n",
              "      <td>6</td>\n",
              "      <td>5</td>\n",
              "      <td>6</td>\n",
              "      <td>6</td>\n",
              "      <td>6</td>\n",
              "      <td>6</td>\n",
              "      <td>6</td>\n",
              "      <td>5</td>\n",
              "      <td>6</td>\n",
              "    </tr>\n",
              "    <tr>\n",
              "      <th>4</th>\n",
              "      <td>5</td>\n",
              "      <td>0</td>\n",
              "      <td>13745950</td>\n",
              "      <td>73</td>\n",
              "      <td>188301</td>\n",
              "      <td>9</td>\n",
              "      <td>246350</td>\n",
              "      <td>1</td>\n",
              "      <td>2</td>\n",
              "      <td>0</td>\n",
              "      <td>6</td>\n",
              "      <td>6</td>\n",
              "      <td>0</td>\n",
              "      <td>6</td>\n",
              "      <td>1086</td>\n",
              "      <td>0</td>\n",
              "      <td>5</td>\n",
              "      <td>6</td>\n",
              "      <td>7</td>\n",
              "      <td>6</td>\n",
              "      <td>7</td>\n",
              "      <td>5</td>\n",
              "      <td>6</td>\n",
              "      <td>6</td>\n",
              "      <td>5</td>\n",
              "      <td>6</td>\n",
              "      <td>6</td>\n",
              "      <td>5.0</td>\n",
              "      <td>6.0</td>\n",
              "      <td>5</td>\n",
              "      <td>6</td>\n",
              "      <td>6</td>\n",
              "      <td>6</td>\n",
              "      <td>5</td>\n",
              "      <td>5</td>\n",
              "      <td>6</td>\n",
              "      <td>6</td>\n",
              "      <td>5</td>\n",
              "      <td>6</td>\n",
              "    </tr>\n",
              "    <tr>\n",
              "      <th>...</th>\n",
              "      <td>...</td>\n",
              "      <td>...</td>\n",
              "      <td>...</td>\n",
              "      <td>...</td>\n",
              "      <td>...</td>\n",
              "      <td>...</td>\n",
              "      <td>...</td>\n",
              "      <td>...</td>\n",
              "      <td>...</td>\n",
              "      <td>...</td>\n",
              "      <td>...</td>\n",
              "      <td>...</td>\n",
              "      <td>...</td>\n",
              "      <td>...</td>\n",
              "      <td>...</td>\n",
              "      <td>...</td>\n",
              "      <td>...</td>\n",
              "      <td>...</td>\n",
              "      <td>...</td>\n",
              "      <td>...</td>\n",
              "      <td>...</td>\n",
              "      <td>...</td>\n",
              "      <td>...</td>\n",
              "      <td>...</td>\n",
              "      <td>...</td>\n",
              "      <td>...</td>\n",
              "      <td>...</td>\n",
              "      <td>...</td>\n",
              "      <td>...</td>\n",
              "      <td>...</td>\n",
              "      <td>...</td>\n",
              "      <td>...</td>\n",
              "      <td>...</td>\n",
              "      <td>...</td>\n",
              "      <td>...</td>\n",
              "      <td>...</td>\n",
              "      <td>...</td>\n",
              "      <td>...</td>\n",
              "      <td>...</td>\n",
              "    </tr>\n",
              "    <tr>\n",
              "      <th>995</th>\n",
              "      <td>996</td>\n",
              "      <td>0</td>\n",
              "      <td>5135090</td>\n",
              "      <td>8</td>\n",
              "      <td>641886</td>\n",
              "      <td>3</td>\n",
              "      <td>44445</td>\n",
              "      <td>1</td>\n",
              "      <td>3</td>\n",
              "      <td>1</td>\n",
              "      <td>6</td>\n",
              "      <td>6</td>\n",
              "      <td>1</td>\n",
              "      <td>3</td>\n",
              "      <td>1051</td>\n",
              "      <td>1</td>\n",
              "      <td>6</td>\n",
              "      <td>6</td>\n",
              "      <td>7</td>\n",
              "      <td>2</td>\n",
              "      <td>4</td>\n",
              "      <td>4</td>\n",
              "      <td>2</td>\n",
              "      <td>2</td>\n",
              "      <td>6</td>\n",
              "      <td>6</td>\n",
              "      <td>5</td>\n",
              "      <td>6.0</td>\n",
              "      <td>6.0</td>\n",
              "      <td>6</td>\n",
              "      <td>6</td>\n",
              "      <td>7</td>\n",
              "      <td>6</td>\n",
              "      <td>7</td>\n",
              "      <td>6</td>\n",
              "      <td>6</td>\n",
              "      <td>6</td>\n",
              "      <td>6</td>\n",
              "      <td>6</td>\n",
              "    </tr>\n",
              "    <tr>\n",
              "      <th>996</th>\n",
              "      <td>997</td>\n",
              "      <td>0</td>\n",
              "      <td>10315690</td>\n",
              "      <td>49</td>\n",
              "      <td>210524</td>\n",
              "      <td>6</td>\n",
              "      <td>186545</td>\n",
              "      <td>1</td>\n",
              "      <td>2</td>\n",
              "      <td>0</td>\n",
              "      <td>6</td>\n",
              "      <td>6</td>\n",
              "      <td>0</td>\n",
              "      <td>6</td>\n",
              "      <td>1038</td>\n",
              "      <td>0</td>\n",
              "      <td>3</td>\n",
              "      <td>4</td>\n",
              "      <td>7</td>\n",
              "      <td>5</td>\n",
              "      <td>6</td>\n",
              "      <td>5</td>\n",
              "      <td>5</td>\n",
              "      <td>7</td>\n",
              "      <td>6</td>\n",
              "      <td>6</td>\n",
              "      <td>7</td>\n",
              "      <td>6.0</td>\n",
              "      <td>6.0</td>\n",
              "      <td>6</td>\n",
              "      <td>7</td>\n",
              "      <td>6</td>\n",
              "      <td>5</td>\n",
              "      <td>6</td>\n",
              "      <td>5</td>\n",
              "      <td>7</td>\n",
              "      <td>6</td>\n",
              "      <td>6</td>\n",
              "      <td>6</td>\n",
              "    </tr>\n",
              "    <tr>\n",
              "      <th>997</th>\n",
              "      <td>998</td>\n",
              "      <td>0</td>\n",
              "      <td>2741290</td>\n",
              "      <td>10</td>\n",
              "      <td>274129</td>\n",
              "      <td>8</td>\n",
              "      <td>260700</td>\n",
              "      <td>2</td>\n",
              "      <td>4</td>\n",
              "      <td>0</td>\n",
              "      <td>4</td>\n",
              "      <td>4</td>\n",
              "      <td>0</td>\n",
              "      <td>2</td>\n",
              "      <td>1092</td>\n",
              "      <td>1</td>\n",
              "      <td>4</td>\n",
              "      <td>5</td>\n",
              "      <td>7</td>\n",
              "      <td>3</td>\n",
              "      <td>2</td>\n",
              "      <td>3</td>\n",
              "      <td>5</td>\n",
              "      <td>5</td>\n",
              "      <td>7</td>\n",
              "      <td>6</td>\n",
              "      <td>7</td>\n",
              "      <td>6.0</td>\n",
              "      <td>NaN</td>\n",
              "      <td>5</td>\n",
              "      <td>6</td>\n",
              "      <td>6</td>\n",
              "      <td>6</td>\n",
              "      <td>5</td>\n",
              "      <td>6</td>\n",
              "      <td>4</td>\n",
              "      <td>5</td>\n",
              "      <td>6</td>\n",
              "      <td>5</td>\n",
              "    </tr>\n",
              "    <tr>\n",
              "      <th>998</th>\n",
              "      <td>999</td>\n",
              "      <td>0</td>\n",
              "      <td>11268990</td>\n",
              "      <td>15</td>\n",
              "      <td>751266</td>\n",
              "      <td>20</td>\n",
              "      <td>347700</td>\n",
              "      <td>1</td>\n",
              "      <td>3</td>\n",
              "      <td>0</td>\n",
              "      <td>5</td>\n",
              "      <td>5</td>\n",
              "      <td>1</td>\n",
              "      <td>6</td>\n",
              "      <td>1069</td>\n",
              "      <td>0</td>\n",
              "      <td>5</td>\n",
              "      <td>6</td>\n",
              "      <td>7</td>\n",
              "      <td>3</td>\n",
              "      <td>6</td>\n",
              "      <td>4</td>\n",
              "      <td>6</td>\n",
              "      <td>5</td>\n",
              "      <td>5</td>\n",
              "      <td>5</td>\n",
              "      <td>4</td>\n",
              "      <td>5.0</td>\n",
              "      <td>5.0</td>\n",
              "      <td>5</td>\n",
              "      <td>4</td>\n",
              "      <td>4</td>\n",
              "      <td>4</td>\n",
              "      <td>4</td>\n",
              "      <td>4</td>\n",
              "      <td>5</td>\n",
              "      <td>5</td>\n",
              "      <td>4</td>\n",
              "      <td>4</td>\n",
              "    </tr>\n",
              "    <tr>\n",
              "      <th>999</th>\n",
              "      <td>1000</td>\n",
              "      <td>0</td>\n",
              "      <td>3182880</td>\n",
              "      <td>23</td>\n",
              "      <td>138386</td>\n",
              "      <td>19</td>\n",
              "      <td>367045</td>\n",
              "      <td>1</td>\n",
              "      <td>4</td>\n",
              "      <td>0</td>\n",
              "      <td>5</td>\n",
              "      <td>5</td>\n",
              "      <td>1</td>\n",
              "      <td>8</td>\n",
              "      <td>1072</td>\n",
              "      <td>0</td>\n",
              "      <td>4</td>\n",
              "      <td>5</td>\n",
              "      <td>7</td>\n",
              "      <td>4</td>\n",
              "      <td>3</td>\n",
              "      <td>5</td>\n",
              "      <td>4</td>\n",
              "      <td>6</td>\n",
              "      <td>6</td>\n",
              "      <td>5</td>\n",
              "      <td>6</td>\n",
              "      <td>7.0</td>\n",
              "      <td>7.0</td>\n",
              "      <td>7</td>\n",
              "      <td>7</td>\n",
              "      <td>6</td>\n",
              "      <td>7</td>\n",
              "      <td>6</td>\n",
              "      <td>5</td>\n",
              "      <td>6</td>\n",
              "      <td>7</td>\n",
              "      <td>6</td>\n",
              "      <td>6</td>\n",
              "    </tr>\n",
              "  </tbody>\n",
              "</table>\n",
              "<p>1000 rows × 39 columns</p>\n",
              "</div>"
            ],
            "text/plain": [
              "     고객ID  이탈여부     총_매출액  방문빈도  1회_평균매출액  ...  친절성  신속성  책임성  정확성  전문성\n",
              "0       1     0   4007080    17    235711  ...    6    6    6    6    6\n",
              "1       2     1   3168400    14    226314  ...    5    3    6    6    6\n",
              "2       3     0   2680780    18    148932  ...    7    7    6    6    7\n",
              "3       4     0   5946600    17    349800  ...    6    6    6    5    6\n",
              "4       5     0  13745950    73    188301  ...    5    6    6    5    6\n",
              "..    ...   ...       ...   ...       ...  ...  ...  ...  ...  ...  ...\n",
              "995   996     0   5135090     8    641886  ...    6    6    6    6    6\n",
              "996   997     0  10315690    49    210524  ...    5    7    6    6    6\n",
              "997   998     0   2741290    10    274129  ...    6    4    5    6    5\n",
              "998   999     0  11268990    15    751266  ...    4    5    5    4    4\n",
              "999  1000     0   3182880    23    138386  ...    5    6    7    6    6\n",
              "\n",
              "[1000 rows x 39 columns]"
            ]
          },
          "metadata": {
            "tags": []
          },
          "execution_count": 6
        }
      ]
    },
    {
      "cell_type": "markdown",
      "metadata": {
        "id": "uSFpznZeOtf1"
      },
      "source": [
        "#2.본문"
      ]
    },
    {
      "cell_type": "markdown",
      "metadata": {
        "id": "Ge776z35TeDM"
      },
      "source": [
        "## 1) 평균, 분산, 표준편차\n"
      ]
    },
    {
      "cell_type": "markdown",
      "metadata": {
        "id": "KGIeKG3C1SAq"
      },
      "source": [
        "### (1)평균: 자료들의 중심 성향 특징을 나타내는 대표 값, 사용목적에 따라 **산술평균**, **기하평균**, **조화평균** 으로 나눌 수 있다.\n",
        "\n"
      ]
    },
    {
      "cell_type": "markdown",
      "metadata": {
        "id": "PSVZAh773Bal"
      },
      "source": [
        "- **산술평균**: 보통 우리가 알고 있는 평균\n",
        "\n",
        "![산술평균공식.jpg](data:image/jpeg;base64,R0lGODlhLwEyALMAAP///wAAAJiYmHZ2dqqqqrq6umZmZtzc3O7u7szMzERERCIiIoiIiFRUVDIyMhAQECH5BAEAAAAALAAAAAAvATIAAAT+EMhJq704a4vYKISBbGRpnmiqrmzrvnAsC0CQAAMh73zv/8CgcJdQSBq3oXLJbDqfPgZD8oBar9is9ocEFBqHwnZMLpthBUcyZQQgGrSzfE6XHxgJW508Wvb9UH97GnqDWgJiSohMi06NhhiFkFePQpWWiU2XkxOSnCcgBmECIiqbFqGjpSinFakFpIImrUG0E6+xZJ6fJAk6RTQLYggEbSS2AL7JCsFiBAIDBseZGMrAAMIABKGyF8g+yNbM2NRZu7waU8kBI3EEBA6z5Rbqee0Ad0cDG8j17ABxqgBooE4DsgML1khAqBBfQn7zKvi7p6thhQcBAjzYyLHjxoz+IDNGtMKggYUD8TAYaMCygQMHLRvsw1CSQoKUAoxNWNnyZcyZF2pSOCBBzQWeLH22BDohwYNyTqE+tYDUJcylGYSaOUdBQEadGQ4IaPCVjAMdFVDKM3EWwwCm3kZaaJtWSolvPfACoCuhw4cQ3ZZwpaAgY5wSCAwEIIpFzIF/AAqqvStXgmPIBd0sCNy1shd8mCcgKLDKoGdwni/3mUJDTw4rATwjwLgYRQgsAhYA3AyQMb6U0wzqzt3O90CLFmzl3l28ggGwcZ8oH85bAOMiR5AHQTCArIMB2i1n1I1iAGclB3KEyaFwcvCw6guwp4AHH0QN6QmsJ5CkmITl9zn+Ull++61hFwAC1TFARtKgcwFCa7FQQCKZRbdCAeoYAJeFmpyWQRdfhDEBNG+9hVYWDmR0ooOWDfCAdSQgcN4Gj4G0YQUytiDAjjdyMOMPObLQxhuH0TFbRsaxqOSSTKZAQEbANSnllC3gUloWigXQIwlW/kjll2WI0wxVMZUpExALiKSCmOSQUJWZW4IpZwwTAVRGjQ94KZEE9tgpwTNzBnqGVjuEZGhGs2Rk0gqE/nDoo5BGKumklFZq6aWYZqrppodSwNcZZK2IwqeClkqGahJUKMGbZcYJw3cqoBrZf4seZeZPpuaqI3XNlcGSKbz2ZidvuhaLXnzzlcFAlCf+ECgffxO4Z+y01GpDLA8DFFnttqU6laQMm2nL7bhUHjDVDwbASO66VC4g7gausiuvnArEWwEp8+aLDgEMCIDAjl1k8BwKicWm7w/8+gtweAeXEIZT7kA3wbIxjlKYRg338PCLf0qccQk6ABhZra5wquXHO4RM3sgos6DhBATRZMDMNNds8816tmzCy0eoqjMJ59bw7c9kBF0b0SY8NgE8nyF9ZwBLx+Mh0gIA9/K7TlNi9T5YZz3xYQnk8COgGhDjsdcm9NuU2GhD8Q6zbcfNi7Ry130IyWHBbffejmAjY4mAm7eQ3nwXjh7haSFu+OI+ZOuw4oxHHkO43AX+Vh8REEquuQ/pDk2BfC96vvm2EQAAOw==)\n",
        "\n",
        "\n",
        "---\n",
        "\n"
      ]
    },
    {
      "cell_type": "markdown",
      "metadata": {
        "id": "tF1yaubv3DqO"
      },
      "source": [
        "- **기하평균**: 자료들의 곱을 자료 수만큼 제곱근, 곱셈으로 계산하는 값들의 평균을 계산하고자 할 때 사용\n",
        "\n",
        "![기하평균공식.jpg](data:image/jpeg;base64,R0lGODlh8wA+ALMAAP///wAAAO7u7oiIiFRUVHZ2dtzc3KqqqiIiImZmZrq6ujIyMhAQEJiYmMzMzERERCH5BAEAAAAALAAAAADzAD4AAAT+EMhJq7046827x0LhfGRpnmiqrmyLKoniznRt33heFbLu/8CgMMUbGo/I5K2obDqf0F0vSq1acYqH6Mrtbg4FpOHhLZtTCoSyEOYE3vD3eU4VMEbKxYHO708eAxsCAzwHCQI1BgwGfo1mCgwcDQABIwV7NQVkjpxXCJMcDpsEeDUMU52pTQNqHQOBAJE3rBoCDZcDqKq7LQygHKQACgQGui6+GQYOBMKwvM8qBwGIHZsCBL81CQsauQAJBozQ4yYLm1QKAeIXCRIJDdTk8hwGAZhVDG3z+ysDAVwJZPEbeMIcF2mlCCrkICCAvioNnS2ciEGasSgMzlHcSKHANAz+cUKKFHnxBAGBHFM+aIVB1BtuGDwGQKAgHgt/61JuzCjoZQaZ2VpIu6dzYsN2G3zGfFMyhYMAEqk4aDCyqtWrWLNqxVphEAE2gQxEXfH0IcgAMC/IbIriKJcHNvkdQHBPQAKaNKQFvaBULVMbATRGcYCUIKucwv7RoMpWQl8La20wYEnlAeJ50i4DSOvCY8KznHf8rYFAMRJbuHosW5gvprZKbtD+HE1jgekjypgpgEVMIU4QrzVXeCw6QEkFhoo1OOTB9ioZ4MIxo4AcnILlcaknv878R3Xl3TEgCM0hAYHz6NObrUDgY1LZS41fcLBH1CS81W6bMJ++/3oLSL3+Y1dC9AFgHwD4WVDggQnmsOAD97EVQGE/tJedBcR1RBsFsDyFyC8H7EXBA+49IYBgHX4EigAHaJTihxKEWACFEhiAwGcA2PiZjhW8CICIFEDVYwJoAZkCiRcOB59f8mUwwHQkWHiEA+QlgKMET1ZwwAHkAZDlBGJJ8FUFDpyioJkUlFnSlxy01pU9Nkj5XpcSRJaBHiYgacR1AWRz4p1E1dglnhNQKUEDgtUW6E/kUZUBf/2h998EcmqQ4QR2ViBDPdTA0gCUGOiJAqSRjpkBAZQxQV2O7jljAGebtrrDpCrE2ikAgxQSHoIPDUPnCkQKF+SSkG14qBoNIPAhI/f+JSmBc0g81cOfFST7o7I/rvPqBNYmuywFAmC7GLLYNsAsJZYE+mQBr4zQ2KiwzTlbkxQYcEkxl5SyrQbQIrEATAMsau8B+B6Q0L453qtAvuxducLABZciipgO/+BZbL9m6kEBRkpQmhLpjPCrBghzMMAIws4CC0pGMIbxvO9WoGzHkzWBAAEBn2CjBwr0MJYOwQxTDBLpdOwYscXFTME7KQfWBFUjZ7CwLymzCgetN1iDTRL1YH10xsay0BCoSCBTVBBuyRuf0h+U5UTFZ9/gtNpMsu3BUHFTtFJPAbC89BuL9qNO3hN55KxLb4DTFVVv0OSsCe0RPlE6JVWVlj+jI9mtAQNRSw6NQ1xE5PlCCCQKBUKj+6ZfFAGlrlBDgcdoNIumq8AAja7P8wDZJWzZOQkh506QNA///gEBxgufitnV8n5BySzAqfxA1laLoAAhsKE9G9RAr0IDfk8vzycWeP988m3GLj40kEBmtKAuDFD7+uMAIrMt2W/PfY2UpWBH1fTbRbgSwrQNTM1cK7BfAAnigP4NgU0LHAgYxDC/CLogAgA7)\n",
        "\n",
        "\n",
        "\n",
        ">ex) 당신이 투자를 했는데, 첫 해는 *10%*를 벌었고, 둘째 해에는 *50%*, 셋째 해에는 *30%*를 벌었다. 그 경우 *3년간 당신의 평균 수익률*은 얼마인가?\n",
        "\n",
        "> 예시:  ![기하평균계산 예시.jpg](data:image/jpeg;base64,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)\n",
        "\n",
        "\n",
        "\n",
        "---\n",
        "\n",
        "\n",
        "\n",
        "\n",
        "\n",
        " "
      ]
    },
    {
      "cell_type": "markdown",
      "metadata": {
        "id": "881BLd8W1tc1"
      },
      "source": [
        "\n",
        "\n",
        "\n",
        "- **조화평균**: n개의 양수에 대해 그 역수들을 산술평균하고, 이를 다시 역수로 취한 값 / 데이터의 평균적인 변화율이나 업무능률의 평균을 구할 때 사용\n",
        "\n",
        "  ![조화평균공식.jpg](data:image/jpeg;base64,R0lGODlhDAEqALMAAP///wAAAHZ2diIiImZmZqqqqu7u7hAQELq6ukRERDIyMlRUVIiIiJiYmMzMzNzc3CH5BAEAAAAALAAAAAAMASoAAAT+EMhJq7046y0La0bTLA5nnmiqrqYHiiQrz3RtUw/iHE2X3MCgcJPb9QCF33DJbGoKgMZgwlg4r1gUVEq1Zr/gGkEwWTDCaPS4fE6735gDYhJ4wO9LOd2O76MfARMFCgBzfocsgIKEhoiOSw2EEmtHj5YakROUlygCAwEEUAaeBwKNhx8TDgIFBpyvFqkSq62wJglKEwpetr2+vywBbXSVwMbHyAAOASUTCHXJ0dKwDIEUAgfT2tuHC7kSCbzc4+RfBwkC6ekBxRUEC/Dx8mTl7/L39OXcgM2zzPoAAwZpYI1KwSABEipcyLChw4cQIzIUIrGixYsYM2rcyFFhGUn+E3AJHEmSRakKB4ZdsHcvXj5OBpKgYNlywUsNMb85yRmQZwZAp/iNLDAoDVGQV44GVIpBQIIAC+aMUgDq1B0DDEwVIOCqxgOkYL6GBUtOLKIDARTgWotLAdqEUyT0+MfKhtk/ZJvc1be3T4EANynE/NTPgZIYXvNi6euE8TjHdwgEsBqLAJU22ewqvgIZZ6LNGLqmEX2iM5wBB0hfyBcDwYIcid2YxtCAMofZFmq70Y0CdxpAoAGIVmJgQbtEcf8kR8E7xYPlJpqHkX4b+qG/gb8gwNaAj3bu3qPb1rCdR/gN1L+kz1C+u6UFk0veWA9p/BX6yVCrlr8CvxD/ADz+188EAlZQICb2IbOMTk1YxMRFFtCkwC4uXQChO/JMOI8FO1DWYQUfYhiPhhVa4OAhTvFHA4BAsFhfWcEJclwFPpXjog03/pfgMQmcRwNTNu7YopAvchPVEL4dk+OKRA6x5CsCzIhDVyOYkKQxT8qQJY5NwrIVB170MIABo6hjZledIbCVmlIuoSYBbAonwIA47XfBm3ESZYoJZLrRJwd4FtCmbAzSiA6BMQaoWAgAmLHdF4w6SgYCcAoRKQPbOdCDAdYhc+mjhxiggJ3CbZeQd1FauagECoSn0hJdtXpNl3yyep5h28Tqah9PWbTcmCCYeaYEz+EUF6lMcCpBV3twDqGscGX4GM2zyP5CgHvkgRcLUT8U8EAIljnBALdI8NEsEOPK5K1ctL6SbrffNhCuihUgUBsrczzwwLxM2LtdAY2ce4O/+EqAwBxQaEMwwAHuS+8Jc0p7BQLo0InkAQoMIE45ET/MwbXVeowMyBNEAAA7)\n",
        "\n",
        ">ex) 당신이 경기도 이천에서 차를 몰고 서울 강남을 다녀왔다. 갈 때는 고속도로가 막혀서 평균 속도 70km/h로 갔고 올 때는 막힘이 없어 평균속도 100km/h로 돌아왔다. 그렇다면 당신은 서울을 평균속도 얼마로 다녀왔는가?\n",
        "\n",
        "> 풀이: ![조화평균 예시.jpg](data:image/jpeg;base64,R0lGODlhcgEsALMAAP///wAAAHZ2diIiImZmZqqqqu7u7hAQELq6ukRERDIyMlRUVIiIiJiYmMzMzNzc3CH5BAEAAAAALAAAAAByASwAAAT+EMhJq704612ZIEnBjWRpnqgHimjrvq4awnRt3/gkPJIRNLmg0LTr/YbIJKAI8AGV0KjUMnBMCIOp9la9ZrfgUleCDZvPrsNzGUC7OWpd+00HxCWCeX3PlyQUfYETf4J0hIWIYA8BVol1i42OioySlUoKa5ZnmJpbnJ2gNgKZoVqjpVGnqKsnDaSsSq6wSLKzthkILACvtza5E7y9J78SwcKlDgQIywUExzjJy7nOzy3RzNTVOgMBBCIGAgMHAgiCBwHo6NnaL+fp3ewn7unr7AkJFQoL8fz97AUCPOgCIGNgBVcMFjC4EGAhhSP+IkpktWwCAxZMnFxQBaBhBQf+lCYgCMBjosmTlRYYmGCA2hgAZSwIwCfhwD4KDPTgOYCyp89AC24CKPDkDpsNGiksoDlI6M+nUMGAHLBMAIZDGRgAqnAggYCvXyFeIBC0rNkFVp+RPWs2bdQXa9kGdasprly6FB6c22oBUoYGBOoB8DsBZKS3iBMHaYkg54CSFD5paJBgJTCdBDHbeMe5s+fPoEOLRpdjtOnTqFOrVo1jtWvTNyr3UPBFh7EKWAEs4OuHqeLfwF08cNrR8q7bCyIRCGB8HFeHGOyyxZvBQAHfUKxjJyH9LPXgGrq3DSW+LPUH2JkS29U3gK4FehaVm0BYSYECvKHczw++P5LkhTn+dM00EgxnmQCWGXCAQzMFsEA54CjQzXxKPMBfhRf6pyEOHjBw0QTzqCOBAwdA1uECBrlh4RYrbujihi1OEeMUjTVADi4M2EihBAgocBgFDtCFkEK+5HgjBjUeKZKPSSS5YwVO4vTBDBYEScGQ0PU3IwnGobAlFA7wpQBkQIpZ0gMMGIbBANlw5FF1HIQ5wZgXyCkBnYOlGZIQdgKA50dm4lFSUhSwadsEb2qZ4WRPlvClElQSJBgAkTJQz55XLtAmUzYxukGlk4JaAaY5iGqBqS/FBIymOnBKHHAP1FZCA42SEOsWeyLAkwW57orojwA4kMykhF5A6wa9MhSJrqP+AntDsrwuu6tReQA57AXFAoeAAGqQycGxKGzbrRQgQQZSl8GSVBhzDwELRGAXaLUBuBiUuy669o7I7q9D5Jsuvurqiy6lvL07qbwvtlKrICOZG7BID/vb0Y9PwHulxZ7iEvHDPG5MJqk3NLyutyLr6219FdcD2KQJz7twIP6WPDLEHx8mLBmTUjbwlS+nC5nMJtPcbr8PA+2z0JGtcTNMOcv2G2wW2KWAPuYx5FoQ9RWwL317at0lpmtgjFt+UlM9VwVZb11g12qDbEPa6MJNAUfs4XzVoi1bQK8kAVBYgK8P+Q34xMAQANYACghgBYBkqH1Qzx0JzpDkQw/R9wT+f0+OOeC1FGP4V4grrptyjueNwd6OJLBGQheobhFxblNKzSLvacbzp6u/SmnuzSLhugSsn8o7j7q8ksDs7k0AX3AJkOnARVlmjNR1ARYgIPRNMoWngTxq7+3lrbeZ4ILSI+l9gSp1P+f3kL+AwPmDpQ/A++uPqAw2p4rfA/m/+fCOATTpXPkysJ9BFAMIAbwNDawHEAqRCDIMVBI44JM4m3FrHCU5UYoex4EIOrBEmLuIBAVAQdEJwYOFAaEEUFgTzqwjSAfAIPACgqLgOGA+D1jGTRywHWO1r0BbQcAOEyDEEfWwH6gznX+AYKkRDQ4DBtjZBVrUxGAtiBokQklcFJXoIgQtYXZPpEGLPlCgcYCRi2jkhwFuUsUs5oCKWLyiE9NIx2rYiEc3od8bg5hHIvaxjoDsBZHudECs1WYrskCkAgPJSEl4o3rfgYG4GsCD5wFkRCJspCZfEAEAOw==)\n"
      ]
    },
    {
      "cell_type": "markdown",
      "metadata": {
        "id": "dlS2OpuI5g6f"
      },
      "source": [
        "### (2) 분산과 표준편차 - 자료의 퍼짐 정도\n",
        "\n",
        "- 분산: 편차를 제곱한 값의 평균"
      ]
    },
    {
      "cell_type": "markdown",
      "metadata": {
        "id": "9j94EX591PCw"
      },
      "source": [
        "#### 교재 예시\n",
        "- A쇼핑몰은 고객에게 쿠폰으로 증정한 할인권의, 사용 횟수에 대해 평균, 분산, 표준편차를 성별에 따라 알아보고자 함.\n",
        "- 성별에 따른 분포가 다르다면 성별에 따른 차별화된 할인쿠폰 제공 전략을 시행하고자 함."
      ]
    },
    {
      "cell_type": "code",
      "metadata": {
        "id": "1PCjmWaqOqD7",
        "outputId": "0ef20dd8-d498-4729-bc9e-1a9decd42523",
        "colab": {
          "base_uri": "https://localhost:8080/",
          "height": 195
        }
      },
      "source": [
        "df_1=df[['할인권_사용 횟수','성별']]\n",
        "df_1.head()"
      ],
      "execution_count": null,
      "outputs": [
        {
          "output_type": "execute_result",
          "data": {
            "text/html": [
              "<div>\n",
              "<style scoped>\n",
              "    .dataframe tbody tr th:only-of-type {\n",
              "        vertical-align: middle;\n",
              "    }\n",
              "\n",
              "    .dataframe tbody tr th {\n",
              "        vertical-align: top;\n",
              "    }\n",
              "\n",
              "    .dataframe thead th {\n",
              "        text-align: right;\n",
              "    }\n",
              "</style>\n",
              "<table border=\"1\" class=\"dataframe\">\n",
              "  <thead>\n",
              "    <tr style=\"text-align: right;\">\n",
              "      <th></th>\n",
              "      <th>할인권_사용 횟수</th>\n",
              "      <th>성별</th>\n",
              "    </tr>\n",
              "  </thead>\n",
              "  <tbody>\n",
              "    <tr>\n",
              "      <th>0</th>\n",
              "      <td>1</td>\n",
              "      <td>1</td>\n",
              "    </tr>\n",
              "    <tr>\n",
              "      <th>1</th>\n",
              "      <td>22</td>\n",
              "      <td>1</td>\n",
              "    </tr>\n",
              "    <tr>\n",
              "      <th>2</th>\n",
              "      <td>6</td>\n",
              "      <td>1</td>\n",
              "    </tr>\n",
              "    <tr>\n",
              "      <th>3</th>\n",
              "      <td>1</td>\n",
              "      <td>1</td>\n",
              "    </tr>\n",
              "    <tr>\n",
              "      <th>4</th>\n",
              "      <td>9</td>\n",
              "      <td>0</td>\n",
              "    </tr>\n",
              "  </tbody>\n",
              "</table>\n",
              "</div>"
            ],
            "text/plain": [
              "   할인권_사용 횟수  성별\n",
              "0          1   1\n",
              "1         22   1\n",
              "2          6   1\n",
              "3          1   1\n",
              "4          9   0"
            ]
          },
          "metadata": {
            "tags": []
          },
          "execution_count": 7
        }
      ]
    },
    {
      "cell_type": "code",
      "metadata": {
        "id": "8to8o6DnO7ng",
        "outputId": "71f3cf26-a224-4764-a613-2e42a99cd991",
        "colab": {
          "base_uri": "https://localhost:8080/",
          "height": 351
        }
      },
      "source": [
        "#성별 평균, 분산, 표준편차 구하기\n",
        "print('*평균')\n",
        "print(df_1.groupby('성별').mean())\n",
        "print('\\n')\n",
        "print('*분산')\n",
        "print(df_1.groupby('성별').var())\n",
        "print('\\n')\n",
        "print('*표준편차')\n",
        "print(df_1.groupby('성별').std())"
      ],
      "execution_count": null,
      "outputs": [
        {
          "output_type": "stream",
          "text": [
            "*평균\n",
            "    할인권_사용 횟수\n",
            "성별           \n",
            "0   15.986577\n",
            "1   16.034078\n",
            "\n",
            "\n",
            "*분산\n",
            "    할인권_사용 횟수\n",
            "성별           \n",
            "0   69.053873\n",
            "1   69.750602\n",
            "\n",
            "\n",
            "*표준편차\n",
            "    할인권_사용 횟수\n",
            "성별           \n",
            "0    8.309866\n",
            "1    8.351683\n"
          ],
          "name": "stdout"
        }
      ]
    },
    {
      "cell_type": "markdown",
      "metadata": {
        "id": "sPEbLQCgSYLm"
      },
      "source": [
        "- 할인권 사용 횟수는 약 16회, 표준편차가 약 8.3회이다.\n",
        "- 남자(0)와 여자(1)의 패턴이 크게 차이가 나지 않는 것으로 보아, 성별에 따른 개별 마케팅은 필요하지 않다고 생각할 수 있다."
      ]
    },
    {
      "cell_type": "markdown",
      "metadata": {
        "id": "Z16hbfUgTlcE"
      },
      "source": [
        "## 2) 왜도와 첨도\n",
        "- 산포도의 치우침과 뾰족함을 나타냄으로써, 산포도의 외형적인 특징을 설명하는데 도움을 준다.\n",
        "![2131054A561B0CE743.png](data:image/png;base64,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)![222B9D4B561B05A420.png](data:image/png;base64,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)\n"
      ]
    },
    {
      "cell_type": "markdown",
      "metadata": {
        "id": "9Ms554sD7VyA"
      },
      "source": [
        "#### 교재 예시\n",
        "- A쇼핑몰의 서비스만족도에 대한 왜도와 첨도 알아보기"
      ]
    },
    {
      "cell_type": "code",
      "metadata": {
        "id": "CWoj19PZS15z",
        "outputId": "0267ea37-d69d-485d-9208-516962c76855",
        "colab": {
          "base_uri": "https://localhost:8080/",
          "height": 193
        }
      },
      "source": [
        "print('*왜도')\n",
        "print(df.서비스_만족도.skew())\n",
        "print('\\n')\n",
        "print('첨도')\n",
        "print(df.서비스_만족도.kurt())\n",
        "print('\\n')\n",
        "print('*평균')\n",
        "print(df.서비스_만족도.mean())"
      ],
      "execution_count": null,
      "outputs": [
        {
          "output_type": "stream",
          "text": [
            "*왜도\n",
            "-0.9706614720587393\n",
            "\n",
            "\n",
            "첨도\n",
            "1.1478245800949547\n",
            "\n",
            "\n",
            "*평균\n",
            "5.544\n"
          ],
          "name": "stdout"
        }
      ]
    },
    {
      "cell_type": "code",
      "metadata": {
        "id": "VOmJ7iPaS1mI",
        "outputId": "e62d65b8-3f8a-42e5-b26e-140560697a09",
        "colab": {
          "base_uri": "https://localhost:8080/",
          "height": 296
        }
      },
      "source": [
        "#왜도와 첨도 히스토그램 그리기\n",
        "%matplotlib inline\n",
        "df.서비스_만족도.hist(bins=7)\n",
        "plt.xlabel('서비스 만족도')\n",
        "plt.ylabel('고객 수')"
      ],
      "execution_count": null,
      "outputs": [
        {
          "output_type": "execute_result",
          "data": {
            "text/plain": [
              "Text(0, 0.5, '고객 수')"
            ]
          },
          "metadata": {
            "tags": []
          },
          "execution_count": 19
        },
        {
          "output_type": "display_data",
          "data": {
            "image/png": "[encoded data removed]",
            "text/plain": [
              "<Figure size 432x288 with 1 Axes>"
            ]
          },
          "metadata": {
            "tags": [],
            "needs_background": "light"
          }
        }
      ]
    },
    {
      "cell_type": "markdown",
      "metadata": {
        "id": "wKX59hHyh7dK"
      },
      "source": [
        "- 왜도 값이 음수이기 때문에, 왼쪽 꼬리 비대칭 분포의 모양이 나왔다.\n",
        "- 평균값(약 5.5)에 비해 높은 점수를 준 고객이 많음을 볼 수 있다."
      ]
    },
    {
      "cell_type": "markdown",
      "metadata": {
        "id": "3MhGM5WlgQ--"
      },
      "source": [
        "## 3)기타 기술통계량 - 중앙값, 최빈값, 사분위수\n"
      ]
    },
    {
      "cell_type": "markdown",
      "metadata": {
        "id": "F1iXJB7H8uQg"
      },
      "source": [
        "- 중앙값: 자료들을 크기 순서대로 늘어놓았을 때 가장 중앙에 위치한 값\n",
        "- 최빈값: 자료의 집단에서 가장 많이 관측되는 수치\n",
        "\n",
        "- 사분위수: 자료의 크기를 순서로 늘어놓았을 때, 누적 백분율을 4등분한 각 점에 위치한 값\n",
        "\n",
        "![20150801074342_1013503011.gif](data:image/gif;base64,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)\n"
      ]
    },
    {
      "cell_type": "markdown",
      "metadata": {
        "id": "6TziSPah8pVA"
      },
      "source": [
        "#### 교재 예시\n",
        "- A쇼핑몰은 고객들에게 정기적으로 할인쿠폰을 발송하고 있다. 고객들의 평균 할인쿠폰 사용량이 연간 약 16회 정도이므로 현재 발송횟수가 적절하다고 생각해왔다. 하지만 사용빈도의 평균만으로는 의사결정의 신뢰성이 떨어지기 때문에, 중앙값, 최빈값 등의 통계량으로 의사결정의 타당성을 알아보고자 함."
      ]
    },
    {
      "cell_type": "code",
      "metadata": {
        "id": "dkXxRDxJQGQ7",
        "outputId": "53d90ddb-f423-4ab5-a681-d6bd08931f0f",
        "colab": {
          "base_uri": "https://localhost:8080/",
          "height": 87
        }
      },
      "source": [
        "#사분위수 구하기\n",
        "print(np.percentile(df['할인권_사용 횟수'],25))\n",
        "print(np.percentile(df['할인권_사용 횟수'],50))\n",
        "print(np.percentile(df['할인권_사용 횟수'],75))\n",
        "print(np.percentile(df['할인권_사용 횟수'],100))"
      ],
      "execution_count": null,
      "outputs": [
        {
          "output_type": "stream",
          "text": [
            "9.0\n",
            "17.0\n",
            "23.0\n",
            "30.0\n"
          ],
          "name": "stdout"
        }
      ]
    },
    {
      "cell_type": "code",
      "metadata": {
        "id": "yQJMxMtnhEwO",
        "outputId": "eeb31081-0a9f-4fc5-d1fd-6ac91c35a5bf",
        "colab": {
          "base_uri": "https://localhost:8080/",
          "height": 34
        }
      },
      "source": [
        "#최빈값 구하기\n",
        "df['할인권_사용 횟수'].value_counts().idxmax()"
      ],
      "execution_count": null,
      "outputs": [
        {
          "output_type": "execute_result",
          "data": {
            "text/plain": [
              "22"
            ]
          },
          "metadata": {
            "tags": []
          },
          "execution_count": 12
        }
      ]
    },
    {
      "cell_type": "code",
      "metadata": {
        "id": "Y17_oNcKhg8R",
        "outputId": "9f4c682d-e250-4f0e-b379-99793fe6d310",
        "colab": {
          "base_uri": "https://localhost:8080/",
          "height": 175
        }
      },
      "source": [
        "#기술통계량 출력\n",
        "df['할인권_사용 횟수'].describe()"
      ],
      "execution_count": null,
      "outputs": [
        {
          "output_type": "execute_result",
          "data": {
            "text/plain": [
              "count    1000.000000\n",
              "mean       16.027000\n",
              "std         8.341334\n",
              "min         1.000000\n",
              "25%         9.000000\n",
              "50%        17.000000\n",
              "75%        23.000000\n",
              "max        30.000000\n",
              "Name: 할인권_사용 횟수, dtype: float64"
            ]
          },
          "metadata": {
            "tags": []
          },
          "execution_count": 13
        }
      ]
    },
    {
      "cell_type": "code",
      "metadata": {
        "id": "kyeGfP2IhmL6",
        "outputId": "961af18d-611e-4486-f20c-27eb38cad242",
        "colab": {
          "base_uri": "https://localhost:8080/",
          "height": 296
        }
      },
      "source": [
        "%matplotlib inline\n",
        "df['할인권_사용 횟수'].hist(bins=30)\n",
        "plt.xlabel('할인권 사용 횟수')\n",
        "plt.ylabel('고객 수')"
      ],
      "execution_count": null,
      "outputs": [
        {
          "output_type": "execute_result",
          "data": {
            "text/plain": [
              "Text(0, 0.5, '고객 수')"
            ]
          },
          "metadata": {
            "tags": []
          },
          "execution_count": 17
        },
        {
          "output_type": "display_data",
          "data": {
            "image/png": "[encoded data removed]",
            "text/plain": [
              "<Figure size 432x288 with 1 Axes>"
            ]
          },
          "metadata": {
            "tags": [],
            "needs_background": "light"
          }
        }
      ]
    },
    {
      "cell_type": "code",
      "metadata": {
        "id": "5pwYiMmQkpIQ",
        "outputId": "4b4bdd7d-8dba-4db6-849e-4e6bd19cb476",
        "colab": {
          "base_uri": "https://localhost:8080/",
          "height": 34
        }
      },
      "source": [
        "df['할인권_사용 횟수'].value_counts().sum()"
      ],
      "execution_count": null,
      "outputs": [
        {
          "output_type": "execute_result",
          "data": {
            "text/plain": [
              "1000"
            ]
          },
          "metadata": {
            "tags": []
          },
          "execution_count": 15
        }
      ]
    },
    {
      "cell_type": "markdown",
      "metadata": {
        "id": "KiB50LSEiaYu"
      },
      "source": [
        "- 고객들의 평균 할인쿠폰 사용량은 약 16회이다.\n",
        "- 중간 수준으로 할인쿠폰을 사용하는 고객은 연간 17회를 사용하며, 연간 22회를 사용하는 고객이 가장 많았다.\n",
        "- 상위고객으로 갈수록 연간 할인권 사용 횟수는 많이 높아진다."
      ]
    },
    {
      "cell_type": "markdown",
      "metadata": {
        "id": "WGHp5yRi5qoH"
      },
      "source": [
        "- [reference1 - 산술,기하,조화평균](http://piramvill2.org/wp/?p=1711)\n",
        "- [reference2 - 왜도,첨도](https://rfriend.tistory.com/123)\n",
        "- [reference3 - 기타기술통계량](http://www.ssacstat.com/base/cs/cs_05.php?com_board_basic=read_form&com_board_idx=151&topmenu=5&left=5&&com_board_search_code=&com_board_search_value1=&com_board_search_value2=&com_board_page=3&)"
      ]
    }
  ]
}