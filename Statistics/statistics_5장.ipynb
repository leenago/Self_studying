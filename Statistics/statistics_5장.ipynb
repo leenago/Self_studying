{
  "nbformat": 4,
  "nbformat_minor": 0,
  "metadata": {
    "colab": {
      "name": "statistics_5장.ipynb",
      "provenance": [],
      "collapsed_sections": [],
      "authorship_tag": "ABX9TyM8fz+/4SzpEyy1Iqlaspa7",
      "include_colab_link": true
    },
    "kernelspec": {
      "name": "python3",
      "display_name": "Python 3"
    }
  },
  "cells": [
    {
      "cell_type": "markdown",
      "metadata": {
        "id": "view-in-github",
        "colab_type": "text"
      },
      "source": [
        "<a href=\"https://colab.research.google.com/github/leenago/Self_studying/blob/master/Statistics/statistics_5%EC%9E%A5.ipynb\" target=\"_parent\"><img src=\"https://colab.research.google.com/assets/colab-badge.svg\" alt=\"Open In Colab\"/></a>"
      ]
    },
    {
      "cell_type": "markdown",
      "metadata": {
        "id": "1tqx2k9yN7CD"
      },
      "source": [
        "#1.준비하기"
      ]
    },
    {
      "cell_type": "code",
      "metadata": {
        "id": "lcUjbpvDN1ai",
        "outputId": "96d1053a-8d03-481c-cb2b-89fe9ed1d4db",
        "colab": {
          "base_uri": "https://localhost:8080/",
          "height": 70
        }
      },
      "source": [
        "from google.colab import drive # 패키지 불러오기 \n",
        "from os.path import join  \n",
        "\n",
        "ROOT = \"/content/drive\"     # 드라이브 기본 경로\n",
        "print(ROOT)                 # print content of ROOT (Optional)\n",
        "drive.mount(ROOT)           # 드라이브 기본 경로 Mount\n",
        "\n",
        "MY_GOOGLE_DRIVE_PATH = 'My Drive/파비통 데이터' # 프로젝트 경로\n",
        "PROJECT_PATH = join(ROOT, MY_GOOGLE_DRIVE_PATH) # 프로젝트 경로\n",
        "print(PROJECT_PATH)"
      ],
      "execution_count": 1,
      "outputs": [
        {
          "output_type": "stream",
          "text": [
            "/content/drive\n",
            "Mounted at /content/drive\n",
            "/content/drive/My Drive/파비통 데이터\n"
          ],
          "name": "stdout"
        }
      ]
    },
    {
      "cell_type": "code",
      "metadata": {
        "id": "TCGBez2HN-Yw",
        "outputId": "5dfe735d-d797-4370-c775-5479a1d6e9fc",
        "colab": {
          "base_uri": "https://localhost:8080/",
          "height": 34
        }
      },
      "source": [
        "%cd /content/drive/My Drive/파비통 데이터"
      ],
      "execution_count": 2,
      "outputs": [
        {
          "output_type": "stream",
          "text": [
            "/content/drive/My Drive/파비통 데이터\n"
          ],
          "name": "stdout"
        }
      ]
    },
    {
      "cell_type": "code",
      "metadata": {
        "id": "R8hsyrZwOWee",
        "outputId": "2fffee1b-b11e-4fa4-b462-1ede198c614b",
        "colab": {
          "base_uri": "https://localhost:8080/",
          "height": 422
        }
      },
      "source": [
        "%ls"
      ],
      "execution_count": 4,
      "outputs": [
        {
          "output_type": "stream",
          "text": [
            "'실습파일_10장 분산분석.ipynb'\n",
            "'실습파일_11장 회귀분석.ipynb'\n",
            "'실습파일_12장 요인분석.ipynb'\n",
            "'실습파일_13장 분류예측분석.ipynb'\n",
            "'실습파일_14장 군집분석.ipynb'\n",
            "'실습파일_15장 포지셔닝 분석.ipynb'\n",
            "'실습파일_16장 컨조인트 분석.ipynb'\n",
            "'실습파일_17장 비모수 통계분석.ipynb'\n",
            "'실습파일_3장 파이썬 기초.ipynb'\n",
            "'실습파일_4장 데이터전처리 및 기초분석.ipynb'\n",
            "'실습파일_5장 기술통계분석.ipynb'\n",
            "'실습파일_6장 t 검정.ipynb'\n",
            "'실습파일_7장 상관관계분석.ipynb'\n",
            "'실습파일_8장 범주형 데이터 분석.ipynb'\n",
            "'실습파일_9장 신뢰성 분석.ipynb'\n",
            " Ashopping.csv\n",
            " CCA.csv\n",
            " Conjoint.csv\n",
            " Correspondence.csv\n",
            " 부록_통계표.docx\n",
            " MDS1.csv\n",
            " MDS3.csv\n",
            "'Step by Step 파이썬 비즈니스 통계분석_정오표.xlsx'\n"
          ],
          "name": "stdout"
        }
      ]
    },
    {
      "cell_type": "code",
      "metadata": {
        "id": "XoIZMSIKOXsw"
      },
      "source": [
        "import pandas as pd\n",
        "import numpy as np"
      ],
      "execution_count": 5,
      "outputs": []
    },
    {
      "cell_type": "code",
      "metadata": {
        "id": "M3hJVioHOeWu",
        "outputId": "67a42696-3a4b-47c0-973b-6588f42d908f",
        "colab": {
          "base_uri": "https://localhost:8080/",
          "height": 674
        }
      },
      "source": [
        "#데이터 불러오기\n",
        "df = pd.read_csv('Ashopping.csv',sep=',', encoding='CP949')\n",
        "df"
      ],
      "execution_count": 6,
      "outputs": [
        {
          "output_type": "execute_result",
          "data": {
            "text/html": [
              "<div>\n",
              "<style scoped>\n",
              "    .dataframe tbody tr th:only-of-type {\n",
              "        vertical-align: middle;\n",
              "    }\n",
              "\n",
              "    .dataframe tbody tr th {\n",
              "        vertical-align: top;\n",
              "    }\n",
              "\n",
              "    .dataframe thead th {\n",
              "        text-align: right;\n",
              "    }\n",
              "</style>\n",
              "<table border=\"1\" class=\"dataframe\">\n",
              "  <thead>\n",
              "    <tr style=\"text-align: right;\">\n",
              "      <th></th>\n",
              "      <th>고객ID</th>\n",
              "      <th>이탈여부</th>\n",
              "      <th>총_매출액</th>\n",
              "      <th>방문빈도</th>\n",
              "      <th>1회_평균매출액</th>\n",
              "      <th>할인권_사용 횟수</th>\n",
              "      <th>총_할인_금액</th>\n",
              "      <th>고객등급</th>\n",
              "      <th>구매유형</th>\n",
              "      <th>클레임접수여부</th>\n",
              "      <th>구매_카테고리_수</th>\n",
              "      <th>거주지역</th>\n",
              "      <th>성별</th>\n",
              "      <th>고객_나이대</th>\n",
              "      <th>거래기간</th>\n",
              "      <th>할인민감여부</th>\n",
              "      <th>멤버쉽_프로그램_가입전_만족도</th>\n",
              "      <th>멤버쉽_프로그램_가입후_만족도</th>\n",
              "      <th>Recency</th>\n",
              "      <th>Frequency</th>\n",
              "      <th>Monetary</th>\n",
              "      <th>상품_만족도</th>\n",
              "      <th>매장_만족도</th>\n",
              "      <th>서비스_만족도</th>\n",
              "      <th>상품_품질</th>\n",
              "      <th>상품_다양성</th>\n",
              "      <th>가격_적절성</th>\n",
              "      <th>상품_진열_위치</th>\n",
              "      <th>상품_설명_표시</th>\n",
              "      <th>매장_청결성</th>\n",
              "      <th>공간_편의성</th>\n",
              "      <th>시야_확보성</th>\n",
              "      <th>음향_적절성</th>\n",
              "      <th>안내_표지판_설명</th>\n",
              "      <th>친절성</th>\n",
              "      <th>신속성</th>\n",
              "      <th>책임성</th>\n",
              "      <th>정확성</th>\n",
              "      <th>전문성</th>\n",
              "    </tr>\n",
              "  </thead>\n",
              "  <tbody>\n",
              "    <tr>\n",
              "      <th>0</th>\n",
              "      <td>1</td>\n",
              "      <td>0</td>\n",
              "      <td>4007080</td>\n",
              "      <td>17</td>\n",
              "      <td>235711</td>\n",
              "      <td>1</td>\n",
              "      <td>5445</td>\n",
              "      <td>1</td>\n",
              "      <td>4</td>\n",
              "      <td>0</td>\n",
              "      <td>6</td>\n",
              "      <td>6</td>\n",
              "      <td>1</td>\n",
              "      <td>4</td>\n",
              "      <td>1079</td>\n",
              "      <td>0</td>\n",
              "      <td>5</td>\n",
              "      <td>7</td>\n",
              "      <td>7</td>\n",
              "      <td>3</td>\n",
              "      <td>4</td>\n",
              "      <td>6</td>\n",
              "      <td>5</td>\n",
              "      <td>6</td>\n",
              "      <td>7</td>\n",
              "      <td>7</td>\n",
              "      <td>6</td>\n",
              "      <td>7.0</td>\n",
              "      <td>6.0</td>\n",
              "      <td>6</td>\n",
              "      <td>7</td>\n",
              "      <td>6</td>\n",
              "      <td>6</td>\n",
              "      <td>6</td>\n",
              "      <td>6</td>\n",
              "      <td>6</td>\n",
              "      <td>6</td>\n",
              "      <td>6</td>\n",
              "      <td>6</td>\n",
              "    </tr>\n",
              "    <tr>\n",
              "      <th>1</th>\n",
              "      <td>2</td>\n",
              "      <td>1</td>\n",
              "      <td>3168400</td>\n",
              "      <td>14</td>\n",
              "      <td>226314</td>\n",
              "      <td>22</td>\n",
              "      <td>350995</td>\n",
              "      <td>2</td>\n",
              "      <td>4</td>\n",
              "      <td>0</td>\n",
              "      <td>4</td>\n",
              "      <td>4</td>\n",
              "      <td>1</td>\n",
              "      <td>1</td>\n",
              "      <td>537</td>\n",
              "      <td>0</td>\n",
              "      <td>2</td>\n",
              "      <td>3</td>\n",
              "      <td>2</td>\n",
              "      <td>3</td>\n",
              "      <td>3</td>\n",
              "      <td>2</td>\n",
              "      <td>5</td>\n",
              "      <td>4</td>\n",
              "      <td>6</td>\n",
              "      <td>7</td>\n",
              "      <td>6</td>\n",
              "      <td>6.0</td>\n",
              "      <td>NaN</td>\n",
              "      <td>7</td>\n",
              "      <td>7</td>\n",
              "      <td>6</td>\n",
              "      <td>6</td>\n",
              "      <td>6</td>\n",
              "      <td>5</td>\n",
              "      <td>3</td>\n",
              "      <td>6</td>\n",
              "      <td>6</td>\n",
              "      <td>6</td>\n",
              "    </tr>\n",
              "    <tr>\n",
              "      <th>2</th>\n",
              "      <td>3</td>\n",
              "      <td>0</td>\n",
              "      <td>2680780</td>\n",
              "      <td>18</td>\n",
              "      <td>148932</td>\n",
              "      <td>6</td>\n",
              "      <td>186045</td>\n",
              "      <td>1</td>\n",
              "      <td>4</td>\n",
              "      <td>1</td>\n",
              "      <td>6</td>\n",
              "      <td>6</td>\n",
              "      <td>1</td>\n",
              "      <td>6</td>\n",
              "      <td>1080</td>\n",
              "      <td>0</td>\n",
              "      <td>6</td>\n",
              "      <td>6</td>\n",
              "      <td>7</td>\n",
              "      <td>3</td>\n",
              "      <td>2</td>\n",
              "      <td>4</td>\n",
              "      <td>6</td>\n",
              "      <td>7</td>\n",
              "      <td>6</td>\n",
              "      <td>7</td>\n",
              "      <td>6</td>\n",
              "      <td>7.0</td>\n",
              "      <td>NaN</td>\n",
              "      <td>6</td>\n",
              "      <td>6</td>\n",
              "      <td>6</td>\n",
              "      <td>6</td>\n",
              "      <td>6</td>\n",
              "      <td>7</td>\n",
              "      <td>7</td>\n",
              "      <td>6</td>\n",
              "      <td>6</td>\n",
              "      <td>7</td>\n",
              "    </tr>\n",
              "    <tr>\n",
              "      <th>3</th>\n",
              "      <td>4</td>\n",
              "      <td>0</td>\n",
              "      <td>5946600</td>\n",
              "      <td>17</td>\n",
              "      <td>349800</td>\n",
              "      <td>1</td>\n",
              "      <td>5195</td>\n",
              "      <td>1</td>\n",
              "      <td>4</td>\n",
              "      <td>1</td>\n",
              "      <td>5</td>\n",
              "      <td>5</td>\n",
              "      <td>1</td>\n",
              "      <td>6</td>\n",
              "      <td>1019</td>\n",
              "      <td>0</td>\n",
              "      <td>3</td>\n",
              "      <td>5</td>\n",
              "      <td>7</td>\n",
              "      <td>3</td>\n",
              "      <td>5</td>\n",
              "      <td>3</td>\n",
              "      <td>5</td>\n",
              "      <td>5</td>\n",
              "      <td>6</td>\n",
              "      <td>6</td>\n",
              "      <td>6</td>\n",
              "      <td>5.0</td>\n",
              "      <td>6.0</td>\n",
              "      <td>6</td>\n",
              "      <td>6</td>\n",
              "      <td>5</td>\n",
              "      <td>6</td>\n",
              "      <td>6</td>\n",
              "      <td>6</td>\n",
              "      <td>6</td>\n",
              "      <td>6</td>\n",
              "      <td>5</td>\n",
              "      <td>6</td>\n",
              "    </tr>\n",
              "    <tr>\n",
              "      <th>4</th>\n",
              "      <td>5</td>\n",
              "      <td>0</td>\n",
              "      <td>13745950</td>\n",
              "      <td>73</td>\n",
              "      <td>188301</td>\n",
              "      <td>9</td>\n",
              "      <td>246350</td>\n",
              "      <td>1</td>\n",
              "      <td>2</td>\n",
              "      <td>0</td>\n",
              "      <td>6</td>\n",
              "      <td>6</td>\n",
              "      <td>0</td>\n",
              "      <td>6</td>\n",
              "      <td>1086</td>\n",
              "      <td>0</td>\n",
              "      <td>5</td>\n",
              "      <td>6</td>\n",
              "      <td>7</td>\n",
              "      <td>6</td>\n",
              "      <td>7</td>\n",
              "      <td>5</td>\n",
              "      <td>6</td>\n",
              "      <td>6</td>\n",
              "      <td>5</td>\n",
              "      <td>6</td>\n",
              "      <td>6</td>\n",
              "      <td>5.0</td>\n",
              "      <td>6.0</td>\n",
              "      <td>5</td>\n",
              "      <td>6</td>\n",
              "      <td>6</td>\n",
              "      <td>6</td>\n",
              "      <td>5</td>\n",
              "      <td>5</td>\n",
              "      <td>6</td>\n",
              "      <td>6</td>\n",
              "      <td>5</td>\n",
              "      <td>6</td>\n",
              "    </tr>\n",
              "    <tr>\n",
              "      <th>...</th>\n",
              "      <td>...</td>\n",
              "      <td>...</td>\n",
              "      <td>...</td>\n",
              "      <td>...</td>\n",
              "      <td>...</td>\n",
              "      <td>...</td>\n",
              "      <td>...</td>\n",
              "      <td>...</td>\n",
              "      <td>...</td>\n",
              "      <td>...</td>\n",
              "      <td>...</td>\n",
              "      <td>...</td>\n",
              "      <td>...</td>\n",
              "      <td>...</td>\n",
              "      <td>...</td>\n",
              "      <td>...</td>\n",
              "      <td>...</td>\n",
              "      <td>...</td>\n",
              "      <td>...</td>\n",
              "      <td>...</td>\n",
              "      <td>...</td>\n",
              "      <td>...</td>\n",
              "      <td>...</td>\n",
              "      <td>...</td>\n",
              "      <td>...</td>\n",
              "      <td>...</td>\n",
              "      <td>...</td>\n",
              "      <td>...</td>\n",
              "      <td>...</td>\n",
              "      <td>...</td>\n",
              "      <td>...</td>\n",
              "      <td>...</td>\n",
              "      <td>...</td>\n",
              "      <td>...</td>\n",
              "      <td>...</td>\n",
              "      <td>...</td>\n",
              "      <td>...</td>\n",
              "      <td>...</td>\n",
              "      <td>...</td>\n",
              "    </tr>\n",
              "    <tr>\n",
              "      <th>995</th>\n",
              "      <td>996</td>\n",
              "      <td>0</td>\n",
              "      <td>5135090</td>\n",
              "      <td>8</td>\n",
              "      <td>641886</td>\n",
              "      <td>3</td>\n",
              "      <td>44445</td>\n",
              "      <td>1</td>\n",
              "      <td>3</td>\n",
              "      <td>1</td>\n",
              "      <td>6</td>\n",
              "      <td>6</td>\n",
              "      <td>1</td>\n",
              "      <td>3</td>\n",
              "      <td>1051</td>\n",
              "      <td>1</td>\n",
              "      <td>6</td>\n",
              "      <td>6</td>\n",
              "      <td>7</td>\n",
              "      <td>2</td>\n",
              "      <td>4</td>\n",
              "      <td>4</td>\n",
              "      <td>2</td>\n",
              "      <td>2</td>\n",
              "      <td>6</td>\n",
              "      <td>6</td>\n",
              "      <td>5</td>\n",
              "      <td>6.0</td>\n",
              "      <td>6.0</td>\n",
              "      <td>6</td>\n",
              "      <td>6</td>\n",
              "      <td>7</td>\n",
              "      <td>6</td>\n",
              "      <td>7</td>\n",
              "      <td>6</td>\n",
              "      <td>6</td>\n",
              "      <td>6</td>\n",
              "      <td>6</td>\n",
              "      <td>6</td>\n",
              "    </tr>\n",
              "    <tr>\n",
              "      <th>996</th>\n",
              "      <td>997</td>\n",
              "      <td>0</td>\n",
              "      <td>10315690</td>\n",
              "      <td>49</td>\n",
              "      <td>210524</td>\n",
              "      <td>6</td>\n",
              "      <td>186545</td>\n",
              "      <td>1</td>\n",
              "      <td>2</td>\n",
              "      <td>0</td>\n",
              "      <td>6</td>\n",
              "      <td>6</td>\n",
              "      <td>0</td>\n",
              "      <td>6</td>\n",
              "      <td>1038</td>\n",
              "      <td>0</td>\n",
              "      <td>3</td>\n",
              "      <td>4</td>\n",
              "      <td>7</td>\n",
              "      <td>5</td>\n",
              "      <td>6</td>\n",
              "      <td>5</td>\n",
              "      <td>5</td>\n",
              "      <td>7</td>\n",
              "      <td>6</td>\n",
              "      <td>6</td>\n",
              "      <td>7</td>\n",
              "      <td>6.0</td>\n",
              "      <td>6.0</td>\n",
              "      <td>6</td>\n",
              "      <td>7</td>\n",
              "      <td>6</td>\n",
              "      <td>5</td>\n",
              "      <td>6</td>\n",
              "      <td>5</td>\n",
              "      <td>7</td>\n",
              "      <td>6</td>\n",
              "      <td>6</td>\n",
              "      <td>6</td>\n",
              "    </tr>\n",
              "    <tr>\n",
              "      <th>997</th>\n",
              "      <td>998</td>\n",
              "      <td>0</td>\n",
              "      <td>2741290</td>\n",
              "      <td>10</td>\n",
              "      <td>274129</td>\n",
              "      <td>8</td>\n",
              "      <td>260700</td>\n",
              "      <td>2</td>\n",
              "      <td>4</td>\n",
              "      <td>0</td>\n",
              "      <td>4</td>\n",
              "      <td>4</td>\n",
              "      <td>0</td>\n",
              "      <td>2</td>\n",
              "      <td>1092</td>\n",
              "      <td>1</td>\n",
              "      <td>4</td>\n",
              "      <td>5</td>\n",
              "      <td>7</td>\n",
              "      <td>3</td>\n",
              "      <td>2</td>\n",
              "      <td>3</td>\n",
              "      <td>5</td>\n",
              "      <td>5</td>\n",
              "      <td>7</td>\n",
              "      <td>6</td>\n",
              "      <td>7</td>\n",
              "      <td>6.0</td>\n",
              "      <td>NaN</td>\n",
              "      <td>5</td>\n",
              "      <td>6</td>\n",
              "      <td>6</td>\n",
              "      <td>6</td>\n",
              "      <td>5</td>\n",
              "      <td>6</td>\n",
              "      <td>4</td>\n",
              "      <td>5</td>\n",
              "      <td>6</td>\n",
              "      <td>5</td>\n",
              "    </tr>\n",
              "    <tr>\n",
              "      <th>998</th>\n",
              "      <td>999</td>\n",
              "      <td>0</td>\n",
              "      <td>11268990</td>\n",
              "      <td>15</td>\n",
              "      <td>751266</td>\n",
              "      <td>20</td>\n",
              "      <td>347700</td>\n",
              "      <td>1</td>\n",
              "      <td>3</td>\n",
              "      <td>0</td>\n",
              "      <td>5</td>\n",
              "      <td>5</td>\n",
              "      <td>1</td>\n",
              "      <td>6</td>\n",
              "      <td>1069</td>\n",
              "      <td>0</td>\n",
              "      <td>5</td>\n",
              "      <td>6</td>\n",
              "      <td>7</td>\n",
              "      <td>3</td>\n",
              "      <td>6</td>\n",
              "      <td>4</td>\n",
              "      <td>6</td>\n",
              "      <td>5</td>\n",
              "      <td>5</td>\n",
              "      <td>5</td>\n",
              "      <td>4</td>\n",
              "      <td>5.0</td>\n",
              "      <td>5.0</td>\n",
              "      <td>5</td>\n",
              "      <td>4</td>\n",
              "      <td>4</td>\n",
              "      <td>4</td>\n",
              "      <td>4</td>\n",
              "      <td>4</td>\n",
              "      <td>5</td>\n",
              "      <td>5</td>\n",
              "      <td>4</td>\n",
              "      <td>4</td>\n",
              "    </tr>\n",
              "    <tr>\n",
              "      <th>999</th>\n",
              "      <td>1000</td>\n",
              "      <td>0</td>\n",
              "      <td>3182880</td>\n",
              "      <td>23</td>\n",
              "      <td>138386</td>\n",
              "      <td>19</td>\n",
              "      <td>367045</td>\n",
              "      <td>1</td>\n",
              "      <td>4</td>\n",
              "      <td>0</td>\n",
              "      <td>5</td>\n",
              "      <td>5</td>\n",
              "      <td>1</td>\n",
              "      <td>8</td>\n",
              "      <td>1072</td>\n",
              "      <td>0</td>\n",
              "      <td>4</td>\n",
              "      <td>5</td>\n",
              "      <td>7</td>\n",
              "      <td>4</td>\n",
              "      <td>3</td>\n",
              "      <td>5</td>\n",
              "      <td>4</td>\n",
              "      <td>6</td>\n",
              "      <td>6</td>\n",
              "      <td>5</td>\n",
              "      <td>6</td>\n",
              "      <td>7.0</td>\n",
              "      <td>7.0</td>\n",
              "      <td>7</td>\n",
              "      <td>7</td>\n",
              "      <td>6</td>\n",
              "      <td>7</td>\n",
              "      <td>6</td>\n",
              "      <td>5</td>\n",
              "      <td>6</td>\n",
              "      <td>7</td>\n",
              "      <td>6</td>\n",
              "      <td>6</td>\n",
              "    </tr>\n",
              "  </tbody>\n",
              "</table>\n",
              "<p>1000 rows × 39 columns</p>\n",
              "</div>"
            ],
            "text/plain": [
              "     고객ID  이탈여부     총_매출액  방문빈도  1회_평균매출액  ...  친절성  신속성  책임성  정확성  전문성\n",
              "0       1     0   4007080    17    235711  ...    6    6    6    6    6\n",
              "1       2     1   3168400    14    226314  ...    5    3    6    6    6\n",
              "2       3     0   2680780    18    148932  ...    7    7    6    6    7\n",
              "3       4     0   5946600    17    349800  ...    6    6    6    5    6\n",
              "4       5     0  13745950    73    188301  ...    5    6    6    5    6\n",
              "..    ...   ...       ...   ...       ...  ...  ...  ...  ...  ...  ...\n",
              "995   996     0   5135090     8    641886  ...    6    6    6    6    6\n",
              "996   997     0  10315690    49    210524  ...    5    7    6    6    6\n",
              "997   998     0   2741290    10    274129  ...    6    4    5    6    5\n",
              "998   999     0  11268990    15    751266  ...    4    5    5    4    4\n",
              "999  1000     0   3182880    23    138386  ...    5    6    7    6    6\n",
              "\n",
              "[1000 rows x 39 columns]"
            ]
          },
          "metadata": {
            "tags": []
          },
          "execution_count": 6
        }
      ]
    },
    {
      "cell_type": "markdown",
      "metadata": {
        "id": "uSFpznZeOtf1"
      },
      "source": [
        "#2.본문"
      ]
    },
    {
      "cell_type": "markdown",
      "metadata": {
        "id": "Ge776z35TeDM"
      },
      "source": [
        "## 1) 평균, 분산, 표준편차\n",
        "- A쇼핑몰은 고객에게 쿠폰으로 증정한 할인권의, 사용 횟수에 대해 평균, 분산, 표준편차를 성별에 따라 알아보고자 함.\n",
        "- 성별에 따른 분포가 다르다면 성별에 따른 차별화된 할인쿠폰 제공 전략을 시행하고자 함."
      ]
    },
    {
      "cell_type": "code",
      "metadata": {
        "id": "1PCjmWaqOqD7",
        "outputId": "f47dad8b-2672-42ee-c6f6-5ffdabc91163",
        "colab": {
          "base_uri": "https://localhost:8080/",
          "height": 195
        }
      },
      "source": [
        "df_1=df[['할인권_사용 횟수','성별']]\n",
        "df_1.head()"
      ],
      "execution_count": 7,
      "outputs": [
        {
          "output_type": "execute_result",
          "data": {
            "text/html": [
              "<div>\n",
              "<style scoped>\n",
              "    .dataframe tbody tr th:only-of-type {\n",
              "        vertical-align: middle;\n",
              "    }\n",
              "\n",
              "    .dataframe tbody tr th {\n",
              "        vertical-align: top;\n",
              "    }\n",
              "\n",
              "    .dataframe thead th {\n",
              "        text-align: right;\n",
              "    }\n",
              "</style>\n",
              "<table border=\"1\" class=\"dataframe\">\n",
              "  <thead>\n",
              "    <tr style=\"text-align: right;\">\n",
              "      <th></th>\n",
              "      <th>할인권_사용 횟수</th>\n",
              "      <th>성별</th>\n",
              "    </tr>\n",
              "  </thead>\n",
              "  <tbody>\n",
              "    <tr>\n",
              "      <th>0</th>\n",
              "      <td>1</td>\n",
              "      <td>1</td>\n",
              "    </tr>\n",
              "    <tr>\n",
              "      <th>1</th>\n",
              "      <td>22</td>\n",
              "      <td>1</td>\n",
              "    </tr>\n",
              "    <tr>\n",
              "      <th>2</th>\n",
              "      <td>6</td>\n",
              "      <td>1</td>\n",
              "    </tr>\n",
              "    <tr>\n",
              "      <th>3</th>\n",
              "      <td>1</td>\n",
              "      <td>1</td>\n",
              "    </tr>\n",
              "    <tr>\n",
              "      <th>4</th>\n",
              "      <td>9</td>\n",
              "      <td>0</td>\n",
              "    </tr>\n",
              "  </tbody>\n",
              "</table>\n",
              "</div>"
            ],
            "text/plain": [
              "   할인권_사용 횟수  성별\n",
              "0          1   1\n",
              "1         22   1\n",
              "2          6   1\n",
              "3          1   1\n",
              "4          9   0"
            ]
          },
          "metadata": {
            "tags": []
          },
          "execution_count": 7
        }
      ]
    },
    {
      "cell_type": "code",
      "metadata": {
        "id": "8to8o6DnO7ng",
        "outputId": "3b310c4c-a414-49a4-ffbe-dfbecd471442",
        "colab": {
          "base_uri": "https://localhost:8080/",
          "height": 351
        }
      },
      "source": [
        "#성별 평균, 분산, 표준편차 구하기\n",
        "print('*평균')\n",
        "print(df_1.groupby('성별').mean())\n",
        "print('\\n')\n",
        "print('*분산')\n",
        "print(df_1.groupby('성별').var())\n",
        "print('\\n')\n",
        "print('*표준편차')\n",
        "print(df_1.groupby('성별').std())"
      ],
      "execution_count": 9,
      "outputs": [
        {
          "output_type": "stream",
          "text": [
            "*평균\n",
            "    할인권_사용 횟수\n",
            "성별           \n",
            "0   15.986577\n",
            "1   16.034078\n",
            "\n",
            "\n",
            "*분산\n",
            "    할인권_사용 횟수\n",
            "성별           \n",
            "0   69.053873\n",
            "1   69.750602\n",
            "\n",
            "\n",
            "*표준편차\n",
            "    할인권_사용 횟수\n",
            "성별           \n",
            "0    8.309866\n",
            "1    8.351683\n"
          ],
          "name": "stdout"
        }
      ]
    },
    {
      "cell_type": "markdown",
      "metadata": {
        "id": "sPEbLQCgSYLm"
      },
      "source": [
        "- 할인권 사용 횟수는 약 16회, 표준편차가 약 8.3회이다.\n",
        "- 남자(0)와 여자(1)의 패턴이 크게 차이가 나지 않는 것으로 보아, 성별에 따른 개별 마케팅은 필요하지 않다고 생각할 수 있다."
      ]
    },
    {
      "cell_type": "markdown",
      "metadata": {
        "id": "Z16hbfUgTlcE"
      },
      "source": [
        "## 2) 왜도와 첨도\n",
        "- 산포도의 치우침과 뾰족함을 나타냄으로써, 산포도의 외형적인 특징을 설명하는데 도움을 준다.\n",
        "- A쇼핑몰의 서비스만족도에 대한 왜도와 첨도 알아보기"
      ]
    },
    {
      "cell_type": "code",
      "metadata": {
        "id": "CWoj19PZS15z",
        "outputId": "92b3fd30-d48f-44aa-a1f5-461e74de8db7",
        "colab": {
          "base_uri": "https://localhost:8080/",
          "height": 193
        }
      },
      "source": [
        "print('*왜도')\n",
        "print(df.서비스_만족도.skew())\n",
        "print('\\n')\n",
        "print('첨도')\n",
        "print(df.서비스_만족도.kurt())\n",
        "print('\\n')\n",
        "print('*평균')\n",
        "print(df.서비스_만족도.mean())"
      ],
      "execution_count": 15,
      "outputs": [
        {
          "output_type": "stream",
          "text": [
            "*왜도\n",
            "-0.9706614720587393\n",
            "\n",
            "\n",
            "첨도\n",
            "1.1478245800949547\n",
            "\n",
            "\n",
            "*평균\n",
            "5.544\n"
          ],
          "name": "stdout"
        }
      ]
    },
    {
      "cell_type": "code",
      "metadata": {
        "id": "VOmJ7iPaS1mI",
        "outputId": "41b7bb4e-4c06-4f62-a940-da4a88cfcaa8",
        "colab": {
          "base_uri": "https://localhost:8080/",
          "height": 282
        }
      },
      "source": [
        "#왜도와 첨도 히스토그램 그리기\n",
        "%matplotlib inline\n",
        "df.서비스_만족도.hist(bins=7)"
      ],
      "execution_count": 14,
      "outputs": [
        {
          "output_type": "execute_result",
          "data": {
            "text/plain": [
              "<matplotlib.axes._subplots.AxesSubplot at 0x7ffa4569b710>"
            ]
          },
          "metadata": {
            "tags": []
          },
          "execution_count": 14
        },
        {
          "output_type": "display_data",
          "data": {
            "image/png": "[encoded data removed]",
            "text/plain": [
              "<Figure size 432x288 with 1 Axes>"
            ]
          },
          "metadata": {
            "tags": [],
            "needs_background": "light"
          }
        }
      ]
    },
    {
      "cell_type": "markdown",
      "metadata": {
        "id": "wKX59hHyh7dK"
      },
      "source": [
        "- 왜도 값이 음수이기 때문에, 왼쪽 꼬리 비대칭 분포의 모양이 나왔다.\n",
        "- 평균값(약 5.5)에 비해 높은 점수를 준 고객이 많음을 볼 수 있다."
      ]
    },
    {
      "cell_type": "markdown",
      "metadata": {
        "id": "3MhGM5WlgQ--"
      },
      "source": [
        "## 3)기타 기술통계량 - 중앙값, 최빈값, 사분위수\n",
        "- A쇼핑몰은 고객들에게 정기적으로 할인쿠폰을 발송하고 있다. 고객들의 평균 할인쿠폰 사용량이 연간 약 16회 정도이므로 현재 발송횟수가 적절하다고 생각해왔다. 하지만 사용빈도의 평균만으로는 의사결정의 신뢰성이 떨어지기 때문에, 중앙값, 최빈값 등의 통계량으로 의사결정의 타당성을 알아보고자 함."
      ]
    },
    {
      "cell_type": "code",
      "metadata": {
        "id": "dkXxRDxJQGQ7",
        "outputId": "b52c170d-6496-4ec2-c82b-31a63bc27c8c",
        "colab": {
          "base_uri": "https://localhost:8080/",
          "height": 87
        }
      },
      "source": [
        "#사분위수 구하기\n",
        "print(np.percentile(df['할인권_사용 횟수'],25))\n",
        "print(np.percentile(df['할인권_사용 횟수'],50))\n",
        "print(np.percentile(df['할인권_사용 횟수'],75))\n",
        "print(np.percentile(df['할인권_사용 횟수'],100))"
      ],
      "execution_count": 17,
      "outputs": [
        {
          "output_type": "stream",
          "text": [
            "9.0\n",
            "17.0\n",
            "23.0\n",
            "30.0\n"
          ],
          "name": "stdout"
        }
      ]
    },
    {
      "cell_type": "code",
      "metadata": {
        "id": "yQJMxMtnhEwO",
        "outputId": "d294f0ad-4a29-4d2b-ac91-08064edd418a",
        "colab": {
          "base_uri": "https://localhost:8080/",
          "height": 34
        }
      },
      "source": [
        "#최빈값 구하기\n",
        "df['할인권_사용 횟수'].value_counts().idxmax()"
      ],
      "execution_count": 18,
      "outputs": [
        {
          "output_type": "execute_result",
          "data": {
            "text/plain": [
              "22"
            ]
          },
          "metadata": {
            "tags": []
          },
          "execution_count": 18
        }
      ]
    },
    {
      "cell_type": "code",
      "metadata": {
        "id": "Y17_oNcKhg8R",
        "outputId": "e549327b-a156-469e-a218-b6bc57062689",
        "colab": {
          "base_uri": "https://localhost:8080/",
          "height": 175
        }
      },
      "source": [
        "#기술통계량 출력\n",
        "df['할인권_사용 횟수'].describe()"
      ],
      "execution_count": 19,
      "outputs": [
        {
          "output_type": "execute_result",
          "data": {
            "text/plain": [
              "count    1000.000000\n",
              "mean       16.027000\n",
              "std         8.341334\n",
              "min         1.000000\n",
              "25%         9.000000\n",
              "50%        17.000000\n",
              "75%        23.000000\n",
              "max        30.000000\n",
              "Name: 할인권_사용 횟수, dtype: float64"
            ]
          },
          "metadata": {
            "tags": []
          },
          "execution_count": 19
        }
      ]
    },
    {
      "cell_type": "code",
      "metadata": {
        "id": "kyeGfP2IhmL6",
        "outputId": "8138be87-1d6a-4408-dbac-bd8dc3cbe65c",
        "colab": {
          "base_uri": "https://localhost:8080/",
          "height": 282
        }
      },
      "source": [
        "%matplotlib inline\n",
        "df['할인권_사용 횟수'].hist(bins=30)"
      ],
      "execution_count": 29,
      "outputs": [
        {
          "output_type": "execute_result",
          "data": {
            "text/plain": [
              "<matplotlib.axes._subplots.AxesSubplot at 0x7ffa44c334e0>"
            ]
          },
          "metadata": {
            "tags": []
          },
          "execution_count": 29
        },
        {
          "output_type": "display_data",
          "data": {
            "image/png": "[encoded data removed]",
            "text/plain": [
              "<Figure size 432x288 with 1 Axes>"
            ]
          },
          "metadata": {
            "tags": [],
            "needs_background": "light"
          }
        }
      ]
    },
    {
      "cell_type": "code",
      "metadata": {
        "id": "5pwYiMmQkpIQ",
        "outputId": "6796156a-b503-48e2-ca8c-73ee9af15dac",
        "colab": {
          "base_uri": "https://localhost:8080/",
          "height": 545
        }
      },
      "source": [
        "df['할인권_사용 횟수'].value_counts()."
      ],
      "execution_count": 30,
      "outputs": [
        {
          "output_type": "execute_result",
          "data": {
            "text/plain": [
              "22    61\n",
              "23    60\n",
              "19    60\n",
              "20    59\n",
              "1     57\n",
              "4     33\n",
              "14    31\n",
              "15    30\n",
              "6     30\n",
              "7     30\n",
              "11    30\n",
              "12    30\n",
              "13    30\n",
              "16    30\n",
              "24    30\n",
              "18    29\n",
              "21    29\n",
              "10    29\n",
              "9     29\n",
              "8     29\n",
              "5     29\n",
              "3     29\n",
              "29    28\n",
              "17    28\n",
              "25    28\n",
              "26    28\n",
              "27    28\n",
              "28    28\n",
              "30    28\n",
              "Name: 할인권_사용 횟수, dtype: int64"
            ]
          },
          "metadata": {
            "tags": []
          },
          "execution_count": 30
        }
      ]
    },
    {
      "cell_type": "markdown",
      "metadata": {
        "id": "KiB50LSEiaYu"
      },
      "source": [
        "- 고객들의 평균 할인쿠폰 사용량은 약 16회이다.\n",
        "- 중간 수준으로 할인쿠폰을 사용하는 고객은 연간 17회를 사용하며, 연간 22회를 사용하는 고객이 가장 많았다.\n",
        "- 상위고객으로 갈수록 연간 할인권 사용 횟수는 많이 높아진다."
      ]
    }
  ]
}