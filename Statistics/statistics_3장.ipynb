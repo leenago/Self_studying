{
  "nbformat": 4,
  "nbformat_minor": 0,
  "metadata": {
    "colab": {
      "name": "statistics_3장.ipynb",
      "provenance": [],
      "authorship_tag": "ABX9TyMi+aPcBmL3YOlVGtpuUsci",
      "include_colab_link": true
    },
    "kernelspec": {
      "name": "python3",
      "display_name": "Python 3"
    }
  },
  "cells": [
    {
      "cell_type": "markdown",
      "metadata": {
        "id": "view-in-github",
        "colab_type": "text"
      },
      "source": [
        "<a href=\"https://colab.research.google.com/github/leenago/Self_studying/blob/master/Statistics/statistics_3%EC%9E%A5.ipynb\" target=\"_parent\"><img src=\"https://colab.research.google.com/assets/colab-badge.svg\" alt=\"Open In Colab\"/></a>"
      ]
    },
    {
      "cell_type": "markdown",
      "metadata": {
        "id": "xeAVPHPbRSCh"
      },
      "source": [
        "### 1. 리스트를 활용한 데이터프레임 생성"
      ]
    },
    {
      "cell_type": "code",
      "metadata": {
        "id": "ZMhsAuJ7RN3b"
      },
      "source": [
        "import pandas as pd"
      ],
      "execution_count": 1,
      "outputs": []
    },
    {
      "cell_type": "code",
      "metadata": {
        "id": "PqXmuwEGRYxd",
        "outputId": "b81cd230-3a81-44d5-d7d2-2ac49bed8364",
        "colab": {
          "base_uri": "https://localhost:8080/",
          "height": 136
        }
      },
      "source": [
        "columns_list = ['고객이름','나이','등급']\n",
        "value_list = [['James',26,'Silver'],['JIn',25,'Gold'],['Soo',28,'Vip']]\n",
        "\n",
        "a = pd.DataFrame(data=value_list, columns= columns_list)\n",
        "a"
      ],
      "execution_count": 2,
      "outputs": [
        {
          "output_type": "execute_result",
          "data": {
            "text/html": [
              "<div>\n",
              "<style scoped>\n",
              "    .dataframe tbody tr th:only-of-type {\n",
              "        vertical-align: middle;\n",
              "    }\n",
              "\n",
              "    .dataframe tbody tr th {\n",
              "        vertical-align: top;\n",
              "    }\n",
              "\n",
              "    .dataframe thead th {\n",
              "        text-align: right;\n",
              "    }\n",
              "</style>\n",
              "<table border=\"1\" class=\"dataframe\">\n",
              "  <thead>\n",
              "    <tr style=\"text-align: right;\">\n",
              "      <th></th>\n",
              "      <th>고객이름</th>\n",
              "      <th>나이</th>\n",
              "      <th>등급</th>\n",
              "    </tr>\n",
              "  </thead>\n",
              "  <tbody>\n",
              "    <tr>\n",
              "      <th>0</th>\n",
              "      <td>James</td>\n",
              "      <td>26</td>\n",
              "      <td>Silver</td>\n",
              "    </tr>\n",
              "    <tr>\n",
              "      <th>1</th>\n",
              "      <td>JIn</td>\n",
              "      <td>25</td>\n",
              "      <td>Gold</td>\n",
              "    </tr>\n",
              "    <tr>\n",
              "      <th>2</th>\n",
              "      <td>Soo</td>\n",
              "      <td>28</td>\n",
              "      <td>Vip</td>\n",
              "    </tr>\n",
              "  </tbody>\n",
              "</table>\n",
              "</div>"
            ],
            "text/plain": [
              "    고객이름  나이      등급\n",
              "0  James  26  Silver\n",
              "1    JIn  25    Gold\n",
              "2    Soo  28     Vip"
            ]
          },
          "metadata": {
            "tags": []
          },
          "execution_count": 2
        }
      ]
    },
    {
      "cell_type": "markdown",
      "metadata": {
        "id": "eagAw2wYR05J"
      },
      "source": [
        "### 2. 딕셔너리를 활용한 데이터프레임 생성"
      ]
    },
    {
      "cell_type": "code",
      "metadata": {
        "id": "Y8ATy3RFRxgU",
        "outputId": "e7417d18-f1f3-4ddd-d0d5-4d666b059ab9",
        "colab": {
          "base_uri": "https://localhost:8080/",
          "height": 136
        }
      },
      "source": [
        "dict = {'고객이름': ['James','Jin','Soo'], '나이':[26,25,28],'등급':['Silver','Gold','Vip']}\n",
        "a = pd.DataFrame(dict)\n",
        "a"
      ],
      "execution_count": 3,
      "outputs": [
        {
          "output_type": "execute_result",
          "data": {
            "text/html": [
              "<div>\n",
              "<style scoped>\n",
              "    .dataframe tbody tr th:only-of-type {\n",
              "        vertical-align: middle;\n",
              "    }\n",
              "\n",
              "    .dataframe tbody tr th {\n",
              "        vertical-align: top;\n",
              "    }\n",
              "\n",
              "    .dataframe thead th {\n",
              "        text-align: right;\n",
              "    }\n",
              "</style>\n",
              "<table border=\"1\" class=\"dataframe\">\n",
              "  <thead>\n",
              "    <tr style=\"text-align: right;\">\n",
              "      <th></th>\n",
              "      <th>고객이름</th>\n",
              "      <th>나이</th>\n",
              "      <th>등급</th>\n",
              "    </tr>\n",
              "  </thead>\n",
              "  <tbody>\n",
              "    <tr>\n",
              "      <th>0</th>\n",
              "      <td>James</td>\n",
              "      <td>26</td>\n",
              "      <td>Silver</td>\n",
              "    </tr>\n",
              "    <tr>\n",
              "      <th>1</th>\n",
              "      <td>Jin</td>\n",
              "      <td>25</td>\n",
              "      <td>Gold</td>\n",
              "    </tr>\n",
              "    <tr>\n",
              "      <th>2</th>\n",
              "      <td>Soo</td>\n",
              "      <td>28</td>\n",
              "      <td>Vip</td>\n",
              "    </tr>\n",
              "  </tbody>\n",
              "</table>\n",
              "</div>"
            ],
            "text/plain": [
              "    고객이름  나이      등급\n",
              "0  James  26  Silver\n",
              "1    Jin  25    Gold\n",
              "2    Soo  28     Vip"
            ]
          },
          "metadata": {
            "tags": []
          },
          "execution_count": 3
        }
      ]
    },
    {
      "cell_type": "markdown",
      "metadata": {
        "id": "FmKtKrY_SPjy"
      },
      "source": [
        "### 3. Pandas를 이용한 기초통계"
      ]
    },
    {
      "cell_type": "code",
      "metadata": {
        "id": "Tuya8QjQSLRv",
        "outputId": "5ff91fa9-4a2b-47b7-f742-58eb2a202b8c",
        "colab": {
          "base_uri": "https://localhost:8080/",
          "height": 195
        }
      },
      "source": [
        "sales_data = {'Cosmetics':[300,274,150,524,211], 'Clothes':[773,654,655,496,98],'Groceries':[326,145,131,254,299],'Electronic Products':[458,667,123,512,850]}\n",
        "index_list = ['2014','2015','2016','2017','2018']\n",
        "\n",
        "a = pd.DataFrame(sales_data, index=index_list)\n",
        "a"
      ],
      "execution_count": 7,
      "outputs": [
        {
          "output_type": "execute_result",
          "data": {
            "text/html": [
              "<div>\n",
              "<style scoped>\n",
              "    .dataframe tbody tr th:only-of-type {\n",
              "        vertical-align: middle;\n",
              "    }\n",
              "\n",
              "    .dataframe tbody tr th {\n",
              "        vertical-align: top;\n",
              "    }\n",
              "\n",
              "    .dataframe thead th {\n",
              "        text-align: right;\n",
              "    }\n",
              "</style>\n",
              "<table border=\"1\" class=\"dataframe\">\n",
              "  <thead>\n",
              "    <tr style=\"text-align: right;\">\n",
              "      <th></th>\n",
              "      <th>Cosmetics</th>\n",
              "      <th>Clothes</th>\n",
              "      <th>Groceries</th>\n",
              "      <th>Electronic Products</th>\n",
              "    </tr>\n",
              "  </thead>\n",
              "  <tbody>\n",
              "    <tr>\n",
              "      <th>2014</th>\n",
              "      <td>300</td>\n",
              "      <td>773</td>\n",
              "      <td>326</td>\n",
              "      <td>458</td>\n",
              "    </tr>\n",
              "    <tr>\n",
              "      <th>2015</th>\n",
              "      <td>274</td>\n",
              "      <td>654</td>\n",
              "      <td>145</td>\n",
              "      <td>667</td>\n",
              "    </tr>\n",
              "    <tr>\n",
              "      <th>2016</th>\n",
              "      <td>150</td>\n",
              "      <td>655</td>\n",
              "      <td>131</td>\n",
              "      <td>123</td>\n",
              "    </tr>\n",
              "    <tr>\n",
              "      <th>2017</th>\n",
              "      <td>524</td>\n",
              "      <td>496</td>\n",
              "      <td>254</td>\n",
              "      <td>512</td>\n",
              "    </tr>\n",
              "    <tr>\n",
              "      <th>2018</th>\n",
              "      <td>211</td>\n",
              "      <td>98</td>\n",
              "      <td>299</td>\n",
              "      <td>850</td>\n",
              "    </tr>\n",
              "  </tbody>\n",
              "</table>\n",
              "</div>"
            ],
            "text/plain": [
              "      Cosmetics  Clothes  Groceries  Electronic Products\n",
              "2014        300      773        326                  458\n",
              "2015        274      654        145                  667\n",
              "2016        150      655        131                  123\n",
              "2017        524      496        254                  512\n",
              "2018        211       98        299                  850"
            ]
          },
          "metadata": {
            "tags": []
          },
          "execution_count": 7
        }
      ]
    },
    {
      "cell_type": "code",
      "metadata": {
        "id": "BzNQstoNTSMo",
        "outputId": "a6a57588-7783-40f2-c91b-05b2a4ea00fb",
        "colab": {
          "base_uri": "https://localhost:8080/",
          "height": 281
        }
      },
      "source": [
        "#axis의 차이\n",
        "#axis=0: 열별로 평균\n",
        "#axis=1: 행별로 평균 \n",
        "\n",
        "print('*axis=0')\n",
        "print(a.mean())\n",
        "print('\\n')\n",
        "print('*axis=1')\n",
        "print(a.mean(axis=1))\n"
      ],
      "execution_count": 15,
      "outputs": [
        {
          "output_type": "stream",
          "text": [
            "*axis=0\n",
            "Cosmetics              291.8\n",
            "Clothes                535.2\n",
            "Groceries              231.0\n",
            "Electronic Products    522.0\n",
            "dtype: float64\n",
            "\n",
            "\n",
            "*axis=1\n",
            "2014    464.25\n",
            "2015    435.00\n",
            "2016    264.75\n",
            "2017    446.50\n",
            "2018    364.50\n",
            "dtype: float64\n"
          ],
          "name": "stdout"
        }
      ]
    },
    {
      "cell_type": "code",
      "metadata": {
        "id": "o18lhqaHTnm3",
        "outputId": "e67fe981-8c79-4998-9b04-6f1f7bc3fd01",
        "colab": {
          "base_uri": "https://localhost:8080/",
          "height": 105
        }
      },
      "source": [
        "#표준편차 출력\n",
        "a.std()"
      ],
      "execution_count": 10,
      "outputs": [
        {
          "output_type": "execute_result",
          "data": {
            "text/plain": [
              "Cosmetics              142.246968\n",
              "Clothes                263.483776\n",
              "Groceries               88.845371\n",
              "Electronic Products    270.187898\n",
              "dtype: float64"
            ]
          },
          "metadata": {
            "tags": []
          },
          "execution_count": 10
        }
      ]
    },
    {
      "cell_type": "code",
      "metadata": {
        "id": "fyRApE2cT0jW",
        "outputId": "79b07737-e4e1-4860-e12f-3ea45aec99c7",
        "colab": {
          "base_uri": "https://localhost:8080/",
          "height": 284
        }
      },
      "source": [
        "a.describe()"
      ],
      "execution_count": 16,
      "outputs": [
        {
          "output_type": "execute_result",
          "data": {
            "text/html": [
              "<div>\n",
              "<style scoped>\n",
              "    .dataframe tbody tr th:only-of-type {\n",
              "        vertical-align: middle;\n",
              "    }\n",
              "\n",
              "    .dataframe tbody tr th {\n",
              "        vertical-align: top;\n",
              "    }\n",
              "\n",
              "    .dataframe thead th {\n",
              "        text-align: right;\n",
              "    }\n",
              "</style>\n",
              "<table border=\"1\" class=\"dataframe\">\n",
              "  <thead>\n",
              "    <tr style=\"text-align: right;\">\n",
              "      <th></th>\n",
              "      <th>Cosmetics</th>\n",
              "      <th>Clothes</th>\n",
              "      <th>Groceries</th>\n",
              "      <th>Electronic Products</th>\n",
              "    </tr>\n",
              "  </thead>\n",
              "  <tbody>\n",
              "    <tr>\n",
              "      <th>count</th>\n",
              "      <td>5.000000</td>\n",
              "      <td>5.000000</td>\n",
              "      <td>5.000000</td>\n",
              "      <td>5.000000</td>\n",
              "    </tr>\n",
              "    <tr>\n",
              "      <th>mean</th>\n",
              "      <td>291.800000</td>\n",
              "      <td>535.200000</td>\n",
              "      <td>231.000000</td>\n",
              "      <td>522.000000</td>\n",
              "    </tr>\n",
              "    <tr>\n",
              "      <th>std</th>\n",
              "      <td>142.246968</td>\n",
              "      <td>263.483776</td>\n",
              "      <td>88.845371</td>\n",
              "      <td>270.187898</td>\n",
              "    </tr>\n",
              "    <tr>\n",
              "      <th>min</th>\n",
              "      <td>150.000000</td>\n",
              "      <td>98.000000</td>\n",
              "      <td>131.000000</td>\n",
              "      <td>123.000000</td>\n",
              "    </tr>\n",
              "    <tr>\n",
              "      <th>25%</th>\n",
              "      <td>211.000000</td>\n",
              "      <td>496.000000</td>\n",
              "      <td>145.000000</td>\n",
              "      <td>458.000000</td>\n",
              "    </tr>\n",
              "    <tr>\n",
              "      <th>50%</th>\n",
              "      <td>274.000000</td>\n",
              "      <td>654.000000</td>\n",
              "      <td>254.000000</td>\n",
              "      <td>512.000000</td>\n",
              "    </tr>\n",
              "    <tr>\n",
              "      <th>75%</th>\n",
              "      <td>300.000000</td>\n",
              "      <td>655.000000</td>\n",
              "      <td>299.000000</td>\n",
              "      <td>667.000000</td>\n",
              "    </tr>\n",
              "    <tr>\n",
              "      <th>max</th>\n",
              "      <td>524.000000</td>\n",
              "      <td>773.000000</td>\n",
              "      <td>326.000000</td>\n",
              "      <td>850.000000</td>\n",
              "    </tr>\n",
              "  </tbody>\n",
              "</table>\n",
              "</div>"
            ],
            "text/plain": [
              "        Cosmetics     Clothes   Groceries  Electronic Products\n",
              "count    5.000000    5.000000    5.000000             5.000000\n",
              "mean   291.800000  535.200000  231.000000           522.000000\n",
              "std    142.246968  263.483776   88.845371           270.187898\n",
              "min    150.000000   98.000000  131.000000           123.000000\n",
              "25%    211.000000  496.000000  145.000000           458.000000\n",
              "50%    274.000000  654.000000  254.000000           512.000000\n",
              "75%    300.000000  655.000000  299.000000           667.000000\n",
              "max    524.000000  773.000000  326.000000           850.000000"
            ]
          },
          "metadata": {
            "tags": []
          },
          "execution_count": 16
        }
      ]
    },
    {
      "cell_type": "code",
      "metadata": {
        "id": "dRSBpjzPUVZs",
        "outputId": "0003b4e5-1f15-4c8f-d29e-030b7690833e",
        "colab": {
          "base_uri": "https://localhost:8080/",
          "height": 195
        }
      },
      "source": [
        "a[['Cosmetics','Clothes']] #Columns 기준"
      ],
      "execution_count": 17,
      "outputs": [
        {
          "output_type": "execute_result",
          "data": {
            "text/html": [
              "<div>\n",
              "<style scoped>\n",
              "    .dataframe tbody tr th:only-of-type {\n",
              "        vertical-align: middle;\n",
              "    }\n",
              "\n",
              "    .dataframe tbody tr th {\n",
              "        vertical-align: top;\n",
              "    }\n",
              "\n",
              "    .dataframe thead th {\n",
              "        text-align: right;\n",
              "    }\n",
              "</style>\n",
              "<table border=\"1\" class=\"dataframe\">\n",
              "  <thead>\n",
              "    <tr style=\"text-align: right;\">\n",
              "      <th></th>\n",
              "      <th>Cosmetics</th>\n",
              "      <th>Clothes</th>\n",
              "    </tr>\n",
              "  </thead>\n",
              "  <tbody>\n",
              "    <tr>\n",
              "      <th>2014</th>\n",
              "      <td>300</td>\n",
              "      <td>773</td>\n",
              "    </tr>\n",
              "    <tr>\n",
              "      <th>2015</th>\n",
              "      <td>274</td>\n",
              "      <td>654</td>\n",
              "    </tr>\n",
              "    <tr>\n",
              "      <th>2016</th>\n",
              "      <td>150</td>\n",
              "      <td>655</td>\n",
              "    </tr>\n",
              "    <tr>\n",
              "      <th>2017</th>\n",
              "      <td>524</td>\n",
              "      <td>496</td>\n",
              "    </tr>\n",
              "    <tr>\n",
              "      <th>2018</th>\n",
              "      <td>211</td>\n",
              "      <td>98</td>\n",
              "    </tr>\n",
              "  </tbody>\n",
              "</table>\n",
              "</div>"
            ],
            "text/plain": [
              "      Cosmetics  Clothes\n",
              "2014        300      773\n",
              "2015        274      654\n",
              "2016        150      655\n",
              "2017        524      496\n",
              "2018        211       98"
            ]
          },
          "metadata": {
            "tags": []
          },
          "execution_count": 17
        }
      ]
    },
    {
      "cell_type": "code",
      "metadata": {
        "id": "KiMcw_ogUk9Y",
        "outputId": "ea462b91-5355-424b-f92c-d57cd599ef99",
        "colab": {
          "base_uri": "https://localhost:8080/",
          "height": 106
        }
      },
      "source": [
        "a.loc[['2015','2016']]  #Index 기준"
      ],
      "execution_count": 20,
      "outputs": [
        {
          "output_type": "execute_result",
          "data": {
            "text/html": [
              "<div>\n",
              "<style scoped>\n",
              "    .dataframe tbody tr th:only-of-type {\n",
              "        vertical-align: middle;\n",
              "    }\n",
              "\n",
              "    .dataframe tbody tr th {\n",
              "        vertical-align: top;\n",
              "    }\n",
              "\n",
              "    .dataframe thead th {\n",
              "        text-align: right;\n",
              "    }\n",
              "</style>\n",
              "<table border=\"1\" class=\"dataframe\">\n",
              "  <thead>\n",
              "    <tr style=\"text-align: right;\">\n",
              "      <th></th>\n",
              "      <th>Cosmetics</th>\n",
              "      <th>Clothes</th>\n",
              "      <th>Groceries</th>\n",
              "      <th>Electronic Products</th>\n",
              "    </tr>\n",
              "  </thead>\n",
              "  <tbody>\n",
              "    <tr>\n",
              "      <th>2015</th>\n",
              "      <td>274</td>\n",
              "      <td>654</td>\n",
              "      <td>145</td>\n",
              "      <td>667</td>\n",
              "    </tr>\n",
              "    <tr>\n",
              "      <th>2016</th>\n",
              "      <td>150</td>\n",
              "      <td>655</td>\n",
              "      <td>131</td>\n",
              "      <td>123</td>\n",
              "    </tr>\n",
              "  </tbody>\n",
              "</table>\n",
              "</div>"
            ],
            "text/plain": [
              "      Cosmetics  Clothes  Groceries  Electronic Products\n",
              "2015        274      654        145                  667\n",
              "2016        150      655        131                  123"
            ]
          },
          "metadata": {
            "tags": []
          },
          "execution_count": 20
        }
      ]
    },
    {
      "cell_type": "code",
      "metadata": {
        "id": "NOeqyZHlUo8x",
        "outputId": "17cf551e-4f55-4a25-ded2-4f49abd94782",
        "colab": {
          "base_uri": "https://localhost:8080/",
          "height": 70
        }
      },
      "source": [
        "#원하는 Columns에서 필요한 Index 값만 도출할 때\n",
        "a['Groceries'][['2017','2018']]"
      ],
      "execution_count": 22,
      "outputs": [
        {
          "output_type": "execute_result",
          "data": {
            "text/plain": [
              "2017    254\n",
              "2018    299\n",
              "Name: Groceries, dtype: int64"
            ]
          },
          "metadata": {
            "tags": []
          },
          "execution_count": 22
        }
      ]
    }
  ]
}