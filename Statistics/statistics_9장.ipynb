{
  "nbformat": 4,
  "nbformat_minor": 0,
  "metadata": {
    "colab": {
      "name": "statistics_9장.ipynb",
      "provenance": [],
      "collapsed_sections": [],
      "authorship_tag": "ABX9TyPFLQ/MBFZKEv39stFiLGKH",
      "include_colab_link": true
    },
    "kernelspec": {
      "name": "python3",
      "display_name": "Python 3"
    }
  },
  "cells": [
    {
      "cell_type": "markdown",
      "metadata": {
        "id": "view-in-github",
        "colab_type": "text"
      },
      "source": [
        "<a href=\"https://colab.research.google.com/github/leenago/Self_studying/blob/master/Statistics/statistics_9%EC%9E%A5.ipynb\" target=\"_parent\"><img src=\"https://colab.research.google.com/assets/colab-badge.svg\" alt=\"Open In Colab\"/></a>"
      ]
    },
    {
      "cell_type": "markdown",
      "metadata": {
        "id": "HP59y_6Ov68Q"
      },
      "source": [
        "# 9장. 신뢰성 분석"
      ]
    },
    {
      "cell_type": "markdown",
      "metadata": {
        "id": "b0EH7isfwHQQ"
      },
      "source": [
        "##1.준비하기"
      ]
    },
    {
      "cell_type": "markdown",
      "metadata": {
        "id": "wHKFEoDVwLqw"
      },
      "source": [
        "### 1)Google Drive와 연동"
      ]
    },
    {
      "cell_type": "code",
      "metadata": {
        "id": "XQKQiIOHv0zQ",
        "outputId": "02facaa1-c9a7-4e44-9da2-88a8db077886",
        "colab": {
          "base_uri": "https://localhost:8080/"
        }
      },
      "source": [
        "from google.colab import drive\n",
        "drive.mount('/content/gdrive')"
      ],
      "execution_count": null,
      "outputs": [
        {
          "output_type": "stream",
          "text": [
            "Drive already mounted at /content/gdrive; to attempt to forcibly remount, call drive.mount(\"/content/gdrive\", force_remount=True).\n"
          ],
          "name": "stdout"
        }
      ]
    },
    {
      "cell_type": "code",
      "metadata": {
        "id": "YJyJRMd-wQwu",
        "outputId": "c51e200a-71c6-4f57-e823-b31c453188cf",
        "colab": {
          "base_uri": "https://localhost:8080/"
        }
      },
      "source": [
        "%cd /content/gdrive/My Drive/파비통 데이터"
      ],
      "execution_count": null,
      "outputs": [
        {
          "output_type": "stream",
          "text": [
            "/content/gdrive/My Drive/파비통 데이터\n"
          ],
          "name": "stdout"
        }
      ]
    },
    {
      "cell_type": "code",
      "metadata": {
        "id": "Ur5v5b_kwi73",
        "outputId": "bfb09e1c-0ff3-4727-824a-d34c44186d86",
        "colab": {
          "base_uri": "https://localhost:8080/"
        }
      },
      "source": [
        "%ls"
      ],
      "execution_count": null,
      "outputs": [
        {
          "output_type": "stream",
          "text": [
            "'실습파일_10장 분산분석.ipynb'\n",
            "'실습파일_11장 회귀분석.ipynb'\n",
            "'실습파일_12장 요인분석.ipynb'\n",
            "'실습파일_13장 분류예측분석.ipynb'\n",
            "'실습파일_14장 군집분석.ipynb'\n",
            "'실습파일_15장 포지셔닝 분석.ipynb'\n",
            "'실습파일_16장 컨조인트 분석.ipynb'\n",
            "'실습파일_17장 비모수 통계분석.ipynb'\n",
            "'실습파일_3장 파이썬 기초.ipynb'\n",
            "'실습파일_4장 데이터전처리 및 기초분석.ipynb'\n",
            "'실습파일_5장 기술통계분석.ipynb'\n",
            "'실습파일_6장 t 검정.ipynb'\n",
            "'실습파일_7장 상관관계분석.ipynb'\n",
            "'실습파일_8장 범주형 데이터 분석.ipynb'\n",
            "'실습파일_9장 신뢰성 분석.ipynb'\n",
            " Ashopping.csv\n",
            " CCA.csv\n",
            " Conjoint.csv\n",
            " Correspondence.csv\n",
            " 부록_통계표.docx\n",
            " MDS1.csv\n",
            " MDS3.csv\n",
            " 주택+선호도+조사.sav\n",
            "'Step by Step 파이썬 비즈니스 통계분석_정오표.xlsx'\n"
          ],
          "name": "stdout"
        }
      ]
    },
    {
      "cell_type": "markdown",
      "metadata": {
        "id": "RA1OrCprwu3Y"
      },
      "source": [
        "### 2) 필요 모듈 불러오기"
      ]
    },
    {
      "cell_type": "code",
      "metadata": {
        "id": "F2522zuJxlS8",
        "outputId": "1864a9aa-d705-4446-cd1a-4163240869c4",
        "colab": {
          "base_uri": "https://localhost:8080/"
        }
      },
      "source": [
        "!pip install pingouin"
      ],
      "execution_count": null,
      "outputs": [
        {
          "output_type": "stream",
          "text": [
            "Requirement already satisfied: pingouin in /usr/local/lib/python3.6/dist-packages (0.3.8)\n",
            "Requirement already satisfied: tabulate in /usr/local/lib/python3.6/dist-packages (from pingouin) (0.8.7)\n",
            "Requirement already satisfied: pandas>=0.24 in /usr/local/lib/python3.6/dist-packages (from pingouin) (1.1.2)\n",
            "Requirement already satisfied: seaborn>=0.9.0 in /usr/local/lib/python3.6/dist-packages (from pingouin) (0.11.0)\n",
            "Requirement already satisfied: statsmodels>=0.10.0 in /usr/local/lib/python3.6/dist-packages (from pingouin) (0.10.2)\n",
            "Requirement already satisfied: outdated in /usr/local/lib/python3.6/dist-packages (from pingouin) (0.2.0)\n",
            "Requirement already satisfied: pandas-flavor>=0.1.2 in /usr/local/lib/python3.6/dist-packages (from pingouin) (0.2.0)\n",
            "Requirement already satisfied: numpy>=1.15 in /usr/local/lib/python3.6/dist-packages (from pingouin) (1.18.5)\n",
            "Requirement already satisfied: scipy>=1.3 in /usr/local/lib/python3.6/dist-packages (from pingouin) (1.4.1)\n",
            "Requirement already satisfied: scikit-learn in /usr/local/lib/python3.6/dist-packages (from pingouin) (0.22.2.post1)\n",
            "Requirement already satisfied: matplotlib>=3.0.2 in /usr/local/lib/python3.6/dist-packages (from pingouin) (3.2.2)\n",
            "Requirement already satisfied: pytz>=2017.2 in /usr/local/lib/python3.6/dist-packages (from pandas>=0.24->pingouin) (2018.9)\n",
            "Requirement already satisfied: python-dateutil>=2.7.3 in /usr/local/lib/python3.6/dist-packages (from pandas>=0.24->pingouin) (2.8.1)\n",
            "Requirement already satisfied: patsy>=0.4.0 in /usr/local/lib/python3.6/dist-packages (from statsmodels>=0.10.0->pingouin) (0.5.1)\n",
            "Requirement already satisfied: requests in /usr/local/lib/python3.6/dist-packages (from outdated->pingouin) (2.23.0)\n",
            "Requirement already satisfied: littleutils in /usr/local/lib/python3.6/dist-packages (from outdated->pingouin) (0.2.2)\n",
            "Requirement already satisfied: xarray in /usr/local/lib/python3.6/dist-packages (from pandas-flavor>=0.1.2->pingouin) (0.15.1)\n",
            "Requirement already satisfied: joblib>=0.11 in /usr/local/lib/python3.6/dist-packages (from scikit-learn->pingouin) (0.16.0)\n",
            "Requirement already satisfied: kiwisolver>=1.0.1 in /usr/local/lib/python3.6/dist-packages (from matplotlib>=3.0.2->pingouin) (1.2.0)\n",
            "Requirement already satisfied: pyparsing!=2.0.4,!=2.1.2,!=2.1.6,>=2.0.1 in /usr/local/lib/python3.6/dist-packages (from matplotlib>=3.0.2->pingouin) (2.4.7)\n",
            "Requirement already satisfied: cycler>=0.10 in /usr/local/lib/python3.6/dist-packages (from matplotlib>=3.0.2->pingouin) (0.10.0)\n",
            "Requirement already satisfied: six>=1.5 in /usr/local/lib/python3.6/dist-packages (from python-dateutil>=2.7.3->pandas>=0.24->pingouin) (1.15.0)\n",
            "Requirement already satisfied: idna<3,>=2.5 in /usr/local/lib/python3.6/dist-packages (from requests->outdated->pingouin) (2.10)\n",
            "Requirement already satisfied: urllib3!=1.25.0,!=1.25.1,<1.26,>=1.21.1 in /usr/local/lib/python3.6/dist-packages (from requests->outdated->pingouin) (1.24.3)\n",
            "Requirement already satisfied: certifi>=2017.4.17 in /usr/local/lib/python3.6/dist-packages (from requests->outdated->pingouin) (2020.6.20)\n",
            "Requirement already satisfied: chardet<4,>=3.0.2 in /usr/local/lib/python3.6/dist-packages (from requests->outdated->pingouin) (3.0.4)\n",
            "Requirement already satisfied: setuptools>=41.2 in /usr/local/lib/python3.6/dist-packages (from xarray->pandas-flavor>=0.1.2->pingouin) (50.3.0)\n"
          ],
          "name": "stdout"
        }
      ]
    },
    {
      "cell_type": "code",
      "metadata": {
        "id": "0ceEBdlEwkvI"
      },
      "source": [
        "import pandas as pd\n",
        "import pingouin as pg\n",
        "#pingouin: pandas, numpy를 기반으로 한 다양한 통계기능 제공 패키지"
      ],
      "execution_count": null,
      "outputs": []
    },
    {
      "cell_type": "markdown",
      "metadata": {
        "id": "SB1hl7fwzNb3"
      },
      "source": [
        "##2.내적일관성 분석 과정"
      ]
    },
    {
      "cell_type": "markdown",
      "metadata": {
        "id": "ouMvFwEu_MyD"
      },
      "source": [
        "### 1) 파이썬 비즈니스 통계분석에서 주어진 데이터"
      ]
    },
    {
      "cell_type": "code",
      "metadata": {
        "id": "g8H5paIAxjF7",
        "outputId": "83cf964f-9b5d-44d5-941a-295f916c568b",
        "colab": {
          "base_uri": "https://localhost:8080/",
          "height": 195
        }
      },
      "source": [
        "df = pd.read_csv('Ashopping.csv',sep=',',encoding='CP949')\n",
        "\n",
        "df[['친절성', '신속성', '책임성', '정확성', '전문성']].head()\n",
        "#수치형 데이터인 것을 볼 수 있다."
      ],
      "execution_count": null,
      "outputs": [
        {
          "output_type": "execute_result",
          "data": {
            "text/html": [
              "<div>\n",
              "<style scoped>\n",
              "    .dataframe tbody tr th:only-of-type {\n",
              "        vertical-align: middle;\n",
              "    }\n",
              "\n",
              "    .dataframe tbody tr th {\n",
              "        vertical-align: top;\n",
              "    }\n",
              "\n",
              "    .dataframe thead th {\n",
              "        text-align: right;\n",
              "    }\n",
              "</style>\n",
              "<table border=\"1\" class=\"dataframe\">\n",
              "  <thead>\n",
              "    <tr style=\"text-align: right;\">\n",
              "      <th></th>\n",
              "      <th>친절성</th>\n",
              "      <th>신속성</th>\n",
              "      <th>책임성</th>\n",
              "      <th>정확성</th>\n",
              "      <th>전문성</th>\n",
              "    </tr>\n",
              "  </thead>\n",
              "  <tbody>\n",
              "    <tr>\n",
              "      <th>0</th>\n",
              "      <td>6</td>\n",
              "      <td>6</td>\n",
              "      <td>6</td>\n",
              "      <td>6</td>\n",
              "      <td>6</td>\n",
              "    </tr>\n",
              "    <tr>\n",
              "      <th>1</th>\n",
              "      <td>5</td>\n",
              "      <td>3</td>\n",
              "      <td>6</td>\n",
              "      <td>6</td>\n",
              "      <td>6</td>\n",
              "    </tr>\n",
              "    <tr>\n",
              "      <th>2</th>\n",
              "      <td>7</td>\n",
              "      <td>7</td>\n",
              "      <td>6</td>\n",
              "      <td>6</td>\n",
              "      <td>7</td>\n",
              "    </tr>\n",
              "    <tr>\n",
              "      <th>3</th>\n",
              "      <td>6</td>\n",
              "      <td>6</td>\n",
              "      <td>6</td>\n",
              "      <td>5</td>\n",
              "      <td>6</td>\n",
              "    </tr>\n",
              "    <tr>\n",
              "      <th>4</th>\n",
              "      <td>5</td>\n",
              "      <td>6</td>\n",
              "      <td>6</td>\n",
              "      <td>5</td>\n",
              "      <td>6</td>\n",
              "    </tr>\n",
              "  </tbody>\n",
              "</table>\n",
              "</div>"
            ],
            "text/plain": [
              "   친절성  신속성  책임성  정확성  전문성\n",
              "0    6    6    6    6    6\n",
              "1    5    3    6    6    6\n",
              "2    7    7    6    6    7\n",
              "3    6    6    6    5    6\n",
              "4    5    6    6    5    6"
            ]
          },
          "metadata": {
            "tags": []
          },
          "execution_count": 33
        }
      ]
    },
    {
      "cell_type": "code",
      "metadata": {
        "id": "4-0VjgIwzf0h"
      },
      "source": [
        "X = df[['친절성', '신속성', '책임성', '정확성', '전문성']]"
      ],
      "execution_count": null,
      "outputs": []
    },
    {
      "cell_type": "code",
      "metadata": {
        "id": "2roWhffcz0zT",
        "outputId": "6df660a6-31f8-4741-a762-d28b023609b3",
        "colab": {
          "base_uri": "https://localhost:8080/"
        }
      },
      "source": [
        "#크론바흐 알파 계수 출력\n",
        "pg.cronbach_alpha(data=X)\n",
        "#data: 분석의 대상이 되는 데이터 입력하는 parameter"
      ],
      "execution_count": null,
      "outputs": [
        {
          "output_type": "execute_result",
          "data": {
            "text/plain": [
              "(0.8117458883194828, array([0.793, 0.83 ]))"
            ]
          },
          "metadata": {
            "tags": []
          },
          "execution_count": 35
        }
      ]
    },
    {
      "cell_type": "markdown",
      "metadata": {
        "id": "A7Z1peAa0pCO"
      },
      "source": [
        "- 크론바흐 알파 계수\n",
        "  - *0.7* 이상: 신뢰성이 **높다**.\n",
        "\n",
        "- *'[0.793, 0.83]'* : 신뢰수준 95%의 신뢰구간"
      ]
    },
    {
      "cell_type": "markdown",
      "metadata": {
        "id": "rajpqF8B1OQM"
      },
      "source": [
        "#### 각 변수를 모두 사용하는 것의 적절성 여부 판단"
      ]
    },
    {
      "cell_type": "code",
      "metadata": {
        "id": "L_Sch8AG0FFd"
      },
      "source": [
        "X1 = df[['신속성', '책임성', '정확성', '전문성']] #친절성 제외\n",
        "X2 = df[['친절성', '책임성', '정확성', '전문성']] #신속성 제외\n",
        "X3 = df[['친절성', '신속성', '정확성', '전문성']] #책임성 제외\n",
        "X4 = df[['친절성', '신속성', '책임성', '전문성']] #정확성 제외\n",
        "X5 = df[['친절성', '신속성', '책임성', '정확성']] #전문성 제외"
      ],
      "execution_count": null,
      "outputs": []
    },
    {
      "cell_type": "code",
      "metadata": {
        "id": "KJZTaIpM1kIh",
        "outputId": "7e1b2ec7-346f-459b-9304-7bdd7aa4c91c",
        "colab": {
          "base_uri": "https://localhost:8080/"
        }
      },
      "source": [
        "print('X1')\n",
        "print(pg.cronbach_alpha(data=X1))\n",
        "print('*'*45)\n",
        "print('X2')\n",
        "print(pg.cronbach_alpha(data=X2))\n",
        "print('*'*45)\n",
        "print('X3')\n",
        "print(pg.cronbach_alpha(data=X3))\n",
        "print('*'*45)\n",
        "print('X4')\n",
        "print(pg.cronbach_alpha(data=X4))\n",
        "print('*'*45)\n",
        "print('X5')\n",
        "print(pg.cronbach_alpha(data=X5))\n",
        "print('*'*45)"
      ],
      "execution_count": null,
      "outputs": [
        {
          "output_type": "stream",
          "text": [
            "X1\n",
            "(0.8057989412964606, array([0.785, 0.825]))\n",
            "*********************************************\n",
            "X2\n",
            "(0.7836410115861367, array([0.761, 0.805]))\n",
            "*********************************************\n",
            "X3\n",
            "(0.7811976111855439, array([0.758, 0.803]))\n",
            "*********************************************\n",
            "X4\n",
            "(0.7713180205968039, array([0.747, 0.794]))\n",
            "*********************************************\n",
            "X5\n",
            "(0.7341054622297101, array([0.706, 0.76 ]))\n",
            "*********************************************\n"
          ],
          "name": "stdout"
        }
      ]
    },
    {
      "cell_type": "markdown",
      "metadata": {
        "id": "3YCoVdCx2AzW"
      },
      "source": [
        "- 각 변수를 제외했을 때의 크론바흐 알파계수는, 모든 변수를 사용했을 때의 크론바흐 알파 계수(**0.811**)보다 낮은 값을 보인다.\n",
        "\n",
        "  → 신뢰성 분석 결과, '5가지 변수를 모두 사용하는 것이 가장 적절한 직원 만족도 평가를 이끌어낸다' 라고 결론지을 수 있음. "
      ]
    },
    {
      "cell_type": "markdown",
      "metadata": {
        "id": "0KlAxJzB_KwI"
      },
      "source": [
        "### 2) 외부 데이터 사용\n",
        "- [데이터 출처: 보건과학통계 SPSS 이야기](http://blog.naver.com/PostView.nhn?blogId=y4769&logNo=220313366439)\n",
        "  - 데이터 내용: '**병원 종사자들은 어떤 기준으로 주택을 선택하는가**'에 대한 설문조사"
      ]
    },
    {
      "cell_type": "markdown",
      "metadata": {
        "id": "Bow_4S1J_7lG"
      },
      "source": [
        "####(1)데이터 불러오기"
      ]
    },
    {
      "cell_type": "code",
      "metadata": {
        "id": "z1BHirU74MBy",
        "outputId": "1dafa9bd-d6f4-4967-b958-c3be17248cee",
        "colab": {
          "base_uri": "https://localhost:8080/"
        }
      },
      "source": [
        "#주어진 데이터가 SPSS 파일이기 때문에, 이를 변환해줄 수 있는 패키지를 설치한다.\n",
        "!pip install pyreadstat"
      ],
      "execution_count": null,
      "outputs": [
        {
          "output_type": "stream",
          "text": [
            "Requirement already satisfied: pyreadstat in /usr/local/lib/python3.6/dist-packages (1.0.2)\n",
            "Requirement already satisfied: pandas>0.24.0 in /usr/local/lib/python3.6/dist-packages (from pyreadstat) (1.1.2)\n",
            "Requirement already satisfied: numpy>=1.15.4 in /usr/local/lib/python3.6/dist-packages (from pandas>0.24.0->pyreadstat) (1.18.5)\n",
            "Requirement already satisfied: pytz>=2017.2 in /usr/local/lib/python3.6/dist-packages (from pandas>0.24.0->pyreadstat) (2018.9)\n",
            "Requirement already satisfied: python-dateutil>=2.7.3 in /usr/local/lib/python3.6/dist-packages (from pandas>0.24.0->pyreadstat) (2.8.1)\n",
            "Requirement already satisfied: six>=1.5 in /usr/local/lib/python3.6/dist-packages (from python-dateutil>=2.7.3->pandas>0.24.0->pyreadstat) (1.15.0)\n"
          ],
          "name": "stdout"
        }
      ]
    },
    {
      "cell_type": "code",
      "metadata": {
        "id": "AO9ymKrR2zlL",
        "outputId": "48c89415-6d3a-4d0d-dacf-34bb1b1f0bd5",
        "colab": {
          "base_uri": "https://localhost:8080/",
          "height": 402
        }
      },
      "source": [
        "df2 = pd.read_spss('주택+선호도+조사.sav'); df2"
      ],
      "execution_count": null,
      "outputs": [
        {
          "output_type": "execute_result",
          "data": {
            "text/html": [
              "<div>\n",
              "<style scoped>\n",
              "    .dataframe tbody tr th:only-of-type {\n",
              "        vertical-align: middle;\n",
              "    }\n",
              "\n",
              "    .dataframe tbody tr th {\n",
              "        vertical-align: top;\n",
              "    }\n",
              "\n",
              "    .dataframe thead th {\n",
              "        text-align: right;\n",
              "    }\n",
              "</style>\n",
              "<table border=\"1\" class=\"dataframe\">\n",
              "  <thead>\n",
              "    <tr style=\"text-align: right;\">\n",
              "      <th></th>\n",
              "      <th>fa1</th>\n",
              "      <th>fa2</th>\n",
              "      <th>fa3</th>\n",
              "      <th>fa4</th>\n",
              "      <th>fa5</th>\n",
              "      <th>fa6</th>\n",
              "      <th>fa7</th>\n",
              "    </tr>\n",
              "  </thead>\n",
              "  <tbody>\n",
              "    <tr>\n",
              "      <th>0</th>\n",
              "      <td>2.66667</td>\n",
              "      <td>3.5</td>\n",
              "      <td>3.66667</td>\n",
              "      <td>3.33333</td>\n",
              "      <td>그렇다</td>\n",
              "      <td>그렇다</td>\n",
              "      <td>매우 그렇다</td>\n",
              "    </tr>\n",
              "    <tr>\n",
              "      <th>1</th>\n",
              "      <td>3.33333</td>\n",
              "      <td>그렇다</td>\n",
              "      <td>3.66667</td>\n",
              "      <td>2.33333</td>\n",
              "      <td>그렇다</td>\n",
              "      <td>그렇지 않다</td>\n",
              "      <td>그렇다</td>\n",
              "    </tr>\n",
              "    <tr>\n",
              "      <th>2</th>\n",
              "      <td>보통이다</td>\n",
              "      <td>보통이다</td>\n",
              "      <td>3.33333</td>\n",
              "      <td>2.66667</td>\n",
              "      <td>2.66667</td>\n",
              "      <td>그렇다</td>\n",
              "      <td>보통이다</td>\n",
              "    </tr>\n",
              "    <tr>\n",
              "      <th>3</th>\n",
              "      <td>3.33333</td>\n",
              "      <td>보통이다</td>\n",
              "      <td>3.33333</td>\n",
              "      <td>그렇지 않다</td>\n",
              "      <td>4.33333</td>\n",
              "      <td>3.66667</td>\n",
              "      <td>3.5</td>\n",
              "    </tr>\n",
              "    <tr>\n",
              "      <th>4</th>\n",
              "      <td>그렇지 않다</td>\n",
              "      <td>보통이다</td>\n",
              "      <td>2.66667</td>\n",
              "      <td>2.33333</td>\n",
              "      <td>그렇다</td>\n",
              "      <td>3.33333</td>\n",
              "      <td>3.5</td>\n",
              "    </tr>\n",
              "    <tr>\n",
              "      <th>...</th>\n",
              "      <td>...</td>\n",
              "      <td>...</td>\n",
              "      <td>...</td>\n",
              "      <td>...</td>\n",
              "      <td>...</td>\n",
              "      <td>...</td>\n",
              "      <td>...</td>\n",
              "    </tr>\n",
              "    <tr>\n",
              "      <th>195</th>\n",
              "      <td>그렇다</td>\n",
              "      <td>그렇다</td>\n",
              "      <td>그렇다</td>\n",
              "      <td>보통이다</td>\n",
              "      <td>그렇다</td>\n",
              "      <td>그렇다</td>\n",
              "      <td>매우 그렇다</td>\n",
              "    </tr>\n",
              "    <tr>\n",
              "      <th>196</th>\n",
              "      <td>보통이다</td>\n",
              "      <td>그렇다</td>\n",
              "      <td>그렇다</td>\n",
              "      <td>보통이다</td>\n",
              "      <td>그렇다</td>\n",
              "      <td>그렇다</td>\n",
              "      <td>그렇다</td>\n",
              "    </tr>\n",
              "    <tr>\n",
              "      <th>197</th>\n",
              "      <td>3.33333</td>\n",
              "      <td>그렇다</td>\n",
              "      <td>그렇다</td>\n",
              "      <td>2.33333</td>\n",
              "      <td>그렇지 않다</td>\n",
              "      <td>그렇다</td>\n",
              "      <td>그렇다</td>\n",
              "    </tr>\n",
              "    <tr>\n",
              "      <th>198</th>\n",
              "      <td>3.66667</td>\n",
              "      <td>그렇다</td>\n",
              "      <td>그렇다</td>\n",
              "      <td>그렇지 않다</td>\n",
              "      <td>3.66667</td>\n",
              "      <td>3.66667</td>\n",
              "      <td>그렇다</td>\n",
              "    </tr>\n",
              "    <tr>\n",
              "      <th>199</th>\n",
              "      <td>보통이다</td>\n",
              "      <td>보통이다</td>\n",
              "      <td>보통이다</td>\n",
              "      <td>보통이다</td>\n",
              "      <td>그렇다</td>\n",
              "      <td>보통이다</td>\n",
              "      <td>3.5</td>\n",
              "    </tr>\n",
              "  </tbody>\n",
              "</table>\n",
              "<p>200 rows × 7 columns</p>\n",
              "</div>"
            ],
            "text/plain": [
              "         fa1   fa2      fa3      fa4      fa5      fa6     fa7\n",
              "0    2.66667   3.5  3.66667  3.33333      그렇다      그렇다  매우 그렇다\n",
              "1    3.33333   그렇다  3.66667  2.33333      그렇다   그렇지 않다     그렇다\n",
              "2       보통이다  보통이다  3.33333  2.66667  2.66667      그렇다    보통이다\n",
              "3    3.33333  보통이다  3.33333   그렇지 않다  4.33333  3.66667     3.5\n",
              "4     그렇지 않다  보통이다  2.66667  2.33333      그렇다  3.33333     3.5\n",
              "..       ...   ...      ...      ...      ...      ...     ...\n",
              "195      그렇다   그렇다      그렇다     보통이다      그렇다      그렇다  매우 그렇다\n",
              "196     보통이다   그렇다      그렇다     보통이다      그렇다      그렇다     그렇다\n",
              "197  3.33333   그렇다      그렇다  2.33333   그렇지 않다      그렇다     그렇다\n",
              "198  3.66667   그렇다      그렇다   그렇지 않다  3.66667  3.66667     그렇다\n",
              "199     보통이다  보통이다     보통이다     보통이다      그렇다     보통이다     3.5\n",
              "\n",
              "[200 rows x 7 columns]"
            ]
          },
          "metadata": {
            "tags": []
          },
          "execution_count": 43
        }
      ]
    },
    {
      "cell_type": "markdown",
      "metadata": {
        "id": "eIJR-ORf_-a7"
      },
      "source": [
        "####(2)데이터 전처리"
      ]
    },
    {
      "cell_type": "code",
      "metadata": {
        "id": "UE-gm1LN4GIe",
        "outputId": "f93c5731-6b0c-4c48-d331-e366d0c85dbc",
        "colab": {
          "base_uri": "https://localhost:8080/",
          "height": 195
        }
      },
      "source": [
        "df2 = df2.rename(columns={'fa1':'주택크기','fa2':'주택방향','fa3':'자녀학군','fa4':'통근거리','fa5':'교통편리','fa6':'주변환경','fa7':'브랜드'})\n",
        "df2.head()"
      ],
      "execution_count": null,
      "outputs": [
        {
          "output_type": "execute_result",
          "data": {
            "text/html": [
              "<div>\n",
              "<style scoped>\n",
              "    .dataframe tbody tr th:only-of-type {\n",
              "        vertical-align: middle;\n",
              "    }\n",
              "\n",
              "    .dataframe tbody tr th {\n",
              "        vertical-align: top;\n",
              "    }\n",
              "\n",
              "    .dataframe thead th {\n",
              "        text-align: right;\n",
              "    }\n",
              "</style>\n",
              "<table border=\"1\" class=\"dataframe\">\n",
              "  <thead>\n",
              "    <tr style=\"text-align: right;\">\n",
              "      <th></th>\n",
              "      <th>주택크기</th>\n",
              "      <th>주택방향</th>\n",
              "      <th>자녀학군</th>\n",
              "      <th>통근거리</th>\n",
              "      <th>교통편리</th>\n",
              "      <th>주변환경</th>\n",
              "      <th>브랜드</th>\n",
              "    </tr>\n",
              "  </thead>\n",
              "  <tbody>\n",
              "    <tr>\n",
              "      <th>0</th>\n",
              "      <td>2.66667</td>\n",
              "      <td>3.5</td>\n",
              "      <td>3.66667</td>\n",
              "      <td>3.33333</td>\n",
              "      <td>그렇다</td>\n",
              "      <td>그렇다</td>\n",
              "      <td>매우 그렇다</td>\n",
              "    </tr>\n",
              "    <tr>\n",
              "      <th>1</th>\n",
              "      <td>3.33333</td>\n",
              "      <td>그렇다</td>\n",
              "      <td>3.66667</td>\n",
              "      <td>2.33333</td>\n",
              "      <td>그렇다</td>\n",
              "      <td>그렇지 않다</td>\n",
              "      <td>그렇다</td>\n",
              "    </tr>\n",
              "    <tr>\n",
              "      <th>2</th>\n",
              "      <td>보통이다</td>\n",
              "      <td>보통이다</td>\n",
              "      <td>3.33333</td>\n",
              "      <td>2.66667</td>\n",
              "      <td>2.66667</td>\n",
              "      <td>그렇다</td>\n",
              "      <td>보통이다</td>\n",
              "    </tr>\n",
              "    <tr>\n",
              "      <th>3</th>\n",
              "      <td>3.33333</td>\n",
              "      <td>보통이다</td>\n",
              "      <td>3.33333</td>\n",
              "      <td>그렇지 않다</td>\n",
              "      <td>4.33333</td>\n",
              "      <td>3.66667</td>\n",
              "      <td>3.5</td>\n",
              "    </tr>\n",
              "    <tr>\n",
              "      <th>4</th>\n",
              "      <td>그렇지 않다</td>\n",
              "      <td>보통이다</td>\n",
              "      <td>2.66667</td>\n",
              "      <td>2.33333</td>\n",
              "      <td>그렇다</td>\n",
              "      <td>3.33333</td>\n",
              "      <td>3.5</td>\n",
              "    </tr>\n",
              "  </tbody>\n",
              "</table>\n",
              "</div>"
            ],
            "text/plain": [
              "      주택크기  주택방향     자녀학군     통근거리     교통편리     주변환경     브랜드\n",
              "0  2.66667   3.5  3.66667  3.33333      그렇다      그렇다  매우 그렇다\n",
              "1  3.33333   그렇다  3.66667  2.33333      그렇다   그렇지 않다     그렇다\n",
              "2     보통이다  보통이다  3.33333  2.66667  2.66667      그렇다    보통이다\n",
              "3  3.33333  보통이다  3.33333   그렇지 않다  4.33333  3.66667     3.5\n",
              "4   그렇지 않다  보통이다  2.66667  2.33333      그렇다  3.33333     3.5"
            ]
          },
          "metadata": {
            "tags": []
          },
          "execution_count": 69
        }
      ]
    },
    {
      "cell_type": "code",
      "metadata": {
        "id": "X-ilUj7v5O5H",
        "outputId": "c91d5c84-6e9a-4568-ad73-86314e62e1f4",
        "colab": {
          "base_uri": "https://localhost:8080/",
          "height": 402
        }
      },
      "source": [
        "new_df2 = df2.replace({'전혀 그렇지 않다':1,'그렇지 않다':2,'보통이다':3,'그렇다':4,'매우 그렇다':5}).astype(int)\n",
        "new_df2"
      ],
      "execution_count": null,
      "outputs": [
        {
          "output_type": "execute_result",
          "data": {
            "text/html": [
              "<div>\n",
              "<style scoped>\n",
              "    .dataframe tbody tr th:only-of-type {\n",
              "        vertical-align: middle;\n",
              "    }\n",
              "\n",
              "    .dataframe tbody tr th {\n",
              "        vertical-align: top;\n",
              "    }\n",
              "\n",
              "    .dataframe thead th {\n",
              "        text-align: right;\n",
              "    }\n",
              "</style>\n",
              "<table border=\"1\" class=\"dataframe\">\n",
              "  <thead>\n",
              "    <tr style=\"text-align: right;\">\n",
              "      <th></th>\n",
              "      <th>주택크기</th>\n",
              "      <th>주택방향</th>\n",
              "      <th>자녀학군</th>\n",
              "      <th>통근거리</th>\n",
              "      <th>교통편리</th>\n",
              "      <th>주변환경</th>\n",
              "      <th>브랜드</th>\n",
              "    </tr>\n",
              "  </thead>\n",
              "  <tbody>\n",
              "    <tr>\n",
              "      <th>0</th>\n",
              "      <td>2</td>\n",
              "      <td>3</td>\n",
              "      <td>3</td>\n",
              "      <td>3</td>\n",
              "      <td>4</td>\n",
              "      <td>4</td>\n",
              "      <td>5</td>\n",
              "    </tr>\n",
              "    <tr>\n",
              "      <th>1</th>\n",
              "      <td>3</td>\n",
              "      <td>4</td>\n",
              "      <td>3</td>\n",
              "      <td>2</td>\n",
              "      <td>4</td>\n",
              "      <td>2</td>\n",
              "      <td>4</td>\n",
              "    </tr>\n",
              "    <tr>\n",
              "      <th>2</th>\n",
              "      <td>3</td>\n",
              "      <td>3</td>\n",
              "      <td>3</td>\n",
              "      <td>2</td>\n",
              "      <td>2</td>\n",
              "      <td>4</td>\n",
              "      <td>3</td>\n",
              "    </tr>\n",
              "    <tr>\n",
              "      <th>3</th>\n",
              "      <td>3</td>\n",
              "      <td>3</td>\n",
              "      <td>3</td>\n",
              "      <td>2</td>\n",
              "      <td>4</td>\n",
              "      <td>3</td>\n",
              "      <td>3</td>\n",
              "    </tr>\n",
              "    <tr>\n",
              "      <th>4</th>\n",
              "      <td>2</td>\n",
              "      <td>3</td>\n",
              "      <td>2</td>\n",
              "      <td>2</td>\n",
              "      <td>4</td>\n",
              "      <td>3</td>\n",
              "      <td>3</td>\n",
              "    </tr>\n",
              "    <tr>\n",
              "      <th>...</th>\n",
              "      <td>...</td>\n",
              "      <td>...</td>\n",
              "      <td>...</td>\n",
              "      <td>...</td>\n",
              "      <td>...</td>\n",
              "      <td>...</td>\n",
              "      <td>...</td>\n",
              "    </tr>\n",
              "    <tr>\n",
              "      <th>195</th>\n",
              "      <td>4</td>\n",
              "      <td>4</td>\n",
              "      <td>4</td>\n",
              "      <td>3</td>\n",
              "      <td>4</td>\n",
              "      <td>4</td>\n",
              "      <td>5</td>\n",
              "    </tr>\n",
              "    <tr>\n",
              "      <th>196</th>\n",
              "      <td>3</td>\n",
              "      <td>4</td>\n",
              "      <td>4</td>\n",
              "      <td>3</td>\n",
              "      <td>4</td>\n",
              "      <td>4</td>\n",
              "      <td>4</td>\n",
              "    </tr>\n",
              "    <tr>\n",
              "      <th>197</th>\n",
              "      <td>3</td>\n",
              "      <td>4</td>\n",
              "      <td>4</td>\n",
              "      <td>2</td>\n",
              "      <td>2</td>\n",
              "      <td>4</td>\n",
              "      <td>4</td>\n",
              "    </tr>\n",
              "    <tr>\n",
              "      <th>198</th>\n",
              "      <td>3</td>\n",
              "      <td>4</td>\n",
              "      <td>4</td>\n",
              "      <td>2</td>\n",
              "      <td>3</td>\n",
              "      <td>3</td>\n",
              "      <td>4</td>\n",
              "    </tr>\n",
              "    <tr>\n",
              "      <th>199</th>\n",
              "      <td>3</td>\n",
              "      <td>3</td>\n",
              "      <td>3</td>\n",
              "      <td>3</td>\n",
              "      <td>4</td>\n",
              "      <td>3</td>\n",
              "      <td>3</td>\n",
              "    </tr>\n",
              "  </tbody>\n",
              "</table>\n",
              "<p>200 rows × 7 columns</p>\n",
              "</div>"
            ],
            "text/plain": [
              "     주택크기  주택방향  자녀학군  통근거리  교통편리  주변환경  브랜드\n",
              "0       2     3     3     3     4     4    5\n",
              "1       3     4     3     2     4     2    4\n",
              "2       3     3     3     2     2     4    3\n",
              "3       3     3     3     2     4     3    3\n",
              "4       2     3     2     2     4     3    3\n",
              "..    ...   ...   ...   ...   ...   ...  ...\n",
              "195     4     4     4     3     4     4    5\n",
              "196     3     4     4     3     4     4    4\n",
              "197     3     4     4     2     2     4    4\n",
              "198     3     4     4     2     3     3    4\n",
              "199     3     3     3     3     4     3    3\n",
              "\n",
              "[200 rows x 7 columns]"
            ]
          },
          "metadata": {
            "tags": []
          },
          "execution_count": 103
        }
      ]
    },
    {
      "cell_type": "code",
      "metadata": {
        "id": "vBwc7mo-7nay",
        "outputId": "a1723570-008b-4c4a-9f15-71eaf4883d85",
        "colab": {
          "base_uri": "https://localhost:8080/"
        }
      },
      "source": [
        "new_df2.columns"
      ],
      "execution_count": null,
      "outputs": [
        {
          "output_type": "execute_result",
          "data": {
            "text/plain": [
              "Index(['주택크기', '주택방향', '자녀학군', '통근거리', '교통편리', '주변환경', '브랜드'], dtype='object')"
            ]
          },
          "metadata": {
            "tags": []
          },
          "execution_count": 71
        }
      ]
    },
    {
      "cell_type": "markdown",
      "metadata": {
        "id": "QQxqT90BAEb8"
      },
      "source": [
        "####(3)내적일관성 분석하기"
      ]
    },
    {
      "cell_type": "code",
      "metadata": {
        "id": "NwWGzq4O5xH0",
        "outputId": "be64a12e-73cd-449c-c765-0c575d3034e3",
        "colab": {
          "base_uri": "https://localhost:8080/"
        }
      },
      "source": [
        "#모든 변수를 포함한 크론바흐 알파 계수 출력\n",
        "X = new_df2[['주택크기', '주택방향', '자녀학군', '통근거리', '교통편리', '주변환경', '브랜드']]\n",
        "\n",
        "pg.cronbach_alpha(data=X)"
      ],
      "execution_count": null,
      "outputs": [
        {
          "output_type": "execute_result",
          "data": {
            "text/plain": [
              "(0.7622011986184487, array([0.708, 0.809]))"
            ]
          },
          "metadata": {
            "tags": []
          },
          "execution_count": 72
        }
      ]
    },
    {
      "cell_type": "code",
      "metadata": {
        "id": "c-iA1flN9aDm"
      },
      "source": [
        "#각 변수를 제외한 크론바흐 알파 계수 출력\n",
        "\n",
        "X1 = new_df2[['주택방향', '자녀학군', '통근거리', '교통편리', '주변환경', '브랜드']] #주택크기 제외\n",
        "X2 = new_df2[['주택크기', '자녀학군', '통근거리', '교통편리', '주변환경', '브랜드']] #주택방향 제외\n",
        "X3 = new_df2[['주택크기', '주택방향', '통근거리', '교통편리', '주변환경', '브랜드']] #자녀학군 제외\n",
        "X4 = new_df2[['주택크기', '주택방향', '자녀학군', '교통편리', '주변환경', '브랜드']] #통근거리 제외\n",
        "X5 = new_df2[['주택크기', '주택방향', '자녀학군', '통근거리', '주변환경', '브랜드']] #교통편리 제외\n",
        "X6 = new_df2[['주택크기', '주택방향', '자녀학군', '통근거리', '교통편리', '브랜드']] #주변환경 제외\n",
        "X7 = new_df2[['주택크기', '주택방향', '자녀학군', '통근거리', '교통편리', '주변환경']] #브랜드 제외"
      ],
      "execution_count": null,
      "outputs": []
    },
    {
      "cell_type": "code",
      "metadata": {
        "id": "4pUneZvU7wCN",
        "outputId": "16ffec26-1122-4e03-ad0a-7c604be74148",
        "colab": {
          "base_uri": "https://localhost:8080/"
        }
      },
      "source": [
        "print('X1')\n",
        "print(pg.cronbach_alpha(X1))\n",
        "print('*'*45)\n",
        "print('X2')\n",
        "print(pg.cronbach_alpha(X2))\n",
        "print('*'*45)\n",
        "print('X3')\n",
        "print(pg.cronbach_alpha(X3))\n",
        "print('*'*45)\n",
        "print('X4')\n",
        "print(pg.cronbach_alpha(X4))\n",
        "print('*'*45)\n",
        "print('X5')\n",
        "print(pg.cronbach_alpha(X5))\n",
        "print('*'*45)\n",
        "print('X6')\n",
        "print(pg.cronbach_alpha(X6))\n",
        "print('*'*45)\n",
        "print('X7')\n",
        "print(pg.cronbach_alpha(X7))\n",
        "print('*'*45)"
      ],
      "execution_count": null,
      "outputs": [
        {
          "output_type": "stream",
          "text": [
            "X1\n",
            "(0.7259898609698825, array([0.663, 0.781]))\n",
            "*********************************************\n",
            "X2\n",
            "(0.7200059501219583, array([0.655, 0.776]))\n",
            "*********************************************\n",
            "X3\n",
            "(0.7400694272253906, array([0.68 , 0.792]))\n",
            "*********************************************\n",
            "X4\n",
            "(0.7331791870187037, array([0.672, 0.787]))\n",
            "*********************************************\n",
            "X5\n",
            "(0.7083506944790559, array([0.641, 0.767]))\n",
            "*********************************************\n",
            "X6\n",
            "(0.7863046881923723, array([0.737, 0.829]))\n",
            "*********************************************\n",
            "X7\n",
            "(0.7136453717328252, array([0.647, 0.771]))\n",
            "*********************************************\n"
          ],
          "name": "stdout"
        }
      ]
    },
    {
      "cell_type": "code",
      "metadata": {
        "id": "0VG35MCR9QrU",
        "outputId": "84f10f59-c4a4-43c8-9421-19a2ed64e4be",
        "colab": {
          "base_uri": "https://localhost:8080/"
        }
      },
      "source": [
        "#변수를 5개로 주었을 때의 크론바흐 알파 계수\n",
        "X8 = new_df2[['주택크기', '주택방향', '교통편리','통근거리','브랜드']] \n",
        "pg.cronbach_alpha(X8)"
      ],
      "execution_count": null,
      "outputs": [
        {
          "output_type": "execute_result",
          "data": {
            "text/plain": [
              "(0.777601909620842, array([0.725, 0.823]))"
            ]
          },
          "metadata": {
            "tags": []
          },
          "execution_count": 113
        }
      ]
    },
    {
      "cell_type": "markdown",
      "metadata": {
        "id": "j7V8XH0bAkcI"
      },
      "source": [
        "\n",
        "\n",
        "---\n",
        "\n",
        "\n",
        "- *X6*의 크론바흐 알파 계수가 **0.786**으로 가장 높았다.\n",
        "      - X6: '주택크기', '주택방향', '자녀학군', '통근거리', '교통편리', '브랜드' / '주변환경' 제외\n",
        "\n",
        "\n",
        "---\n",
        "\n",
        "\n",
        "\n",
        "- 변수를 5개로 주었을 때(*X8*), 가장 높게 나왔던 크론바흐 알파 계수는 **0.778** 이다.\n",
        "        - X8: '주택크기', '주택방향', '교통편리','통근거리','브랜드'\n",
        "  - 이는 X6의 크론바흐 알파 계수(**0.708**) 다음으로 높은 수치이다. \n",
        "  - 통상 신뢰도는 항목이 많을수록, 척도점이 많을수록 높아진다.\n",
        "  - 하지만 변수가 5개임에도 불구하고, X8 변수 간의 크론바흐 알파 계수가 X6을 제외한 나머지의 크론바흐 알파 계수보다 높은 것으로 미루어보아, 이 변수 간의 상관관계가 매우 높다는 것을 알 수 있다.\n",
        "---\n",
        "\n",
        "\n",
        "→  '주택크기', '주택방향', '자녀학군', '통근거리', '교통편리', '브랜드'를 사용하여 설문지의 신뢰도를 높이는 것이 적절하다."
      ]
    }
  ]
}