{
  "nbformat": 4,
  "nbformat_minor": 0,
  "metadata": {
    "colab": {
      "name": "Python_Self-studying",
      "provenance": [],
      "toc_visible": true,
      "authorship_tag": "ABX9TyM9DUZv/PIpvA8MGrt0OlBg",
      "include_colab_link": true
    },
    "kernelspec": {
      "name": "python3",
      "display_name": "Python 3"
    }
  },
  "cells": [
    {
      "cell_type": "markdown",
      "metadata": {
        "id": "view-in-github",
        "colab_type": "text"
      },
      "source": [
        "<a href=\"https://colab.research.google.com/github/leenago/Self_studying/blob/master/Python_Self_studying.ipynb\" target=\"_parent\"><img src=\"https://colab.research.google.com/assets/colab-badge.svg\" alt=\"Open In Colab\"/></a>"
      ]
    },
    {
      "cell_type": "markdown",
      "metadata": {
        "id": "-dVPOQHHcDao",
        "colab_type": "text"
      },
      "source": [
        "# Python 공부하기!\n",
        "- '코딩하는 테크보이 워니'님의 '코딩 1시간만에 배우기' 강의를 들으면서 같이 코딩을 해본 것이다.\n",
        "\n",
        "- 1시간 안에 Python 마스터를 해보려는 그런 날로먹기(?)의 마인드로 한게 아니라, 그동안 배웠던 내용들을 우선 빠르게 훑고 가고 싶었다.\n",
        "  - Project를 함께 하기로 했던 친구들에게 누가 되고 싶지 않아서,,,\n",
        "\n",
        "- 수업을 듣고 '이게 이거구나!'라고만 알고 넘어가는 수준이고 응용은 쉽게 되지 않아서, 앞으로도 Python 공부는 계속 해나갈 생각이다.\n",
        "  - 다행히 적성에 맞는지, 코드를 하나하나 만들어나가는게 정말 재밌다!(나중에 어려운 코드 만질 때도 이런 마음이길ㅎㅎㅎ)"
      ]
    },
    {
      "cell_type": "markdown",
      "metadata": {
        "id": "nhvfAZdaXZyV",
        "colab_type": "text"
      },
      "source": [
        ""
      ]
    },
    {
      "cell_type": "markdown",
      "metadata": {
        "id": "Nq0_9spxcEns",
        "colab_type": "text"
      },
      "source": [
        "##1. 문자형 \n",
        "- 큰 따옴표를 이용해서 줄 내리기"
      ]
    },
    {
      "cell_type": "code",
      "metadata": {
        "id": "21YrrAn8bxvo",
        "colab_type": "code",
        "colab": {
          "base_uri": "https://localhost:8080/",
          "height": 105
        },
        "outputId": "b7a9328d-81df-4c58-d854-35b196128b7d"
      },
      "source": [
        "z = \"\"\"\n",
        "\n",
        "Hello I'm Leena.\n",
        "\n",
        "\"\"\"\n",
        "\n",
        "print(z)"
      ],
      "execution_count": null,
      "outputs": [
        {
          "output_type": "stream",
          "text": [
            "\n",
            "\n",
            "Hello I'm Leena.\n",
            "\n",
            "\n"
          ],
          "name": "stdout"
        }
      ]
    },
    {
      "cell_type": "markdown",
      "metadata": {
        "id": "S1c9QhHMcJTF",
        "colab_type": "text"
      },
      "source": [
        "- Boolean Type: True or False 표현하기"
      ]
    },
    {
      "cell_type": "code",
      "metadata": {
        "id": "sgrFc60647_A",
        "colab_type": "code",
        "colab": {
          "base_uri": "https://localhost:8080/",
          "height": 52
        },
        "outputId": "d1184076-8a4a-4bba-8ce2-2dbe3d9ae921"
      },
      "source": [
        "x = True\n",
        "y = False\n",
        "print(x,y)\n",
        "print(type(x), type(y))"
      ],
      "execution_count": null,
      "outputs": [
        {
          "output_type": "stream",
          "text": [
            "True False\n",
            "<class 'bool'> <class 'bool'>\n"
          ],
          "name": "stdout"
        }
      ]
    },
    {
      "cell_type": "markdown",
      "metadata": {
        "id": "4pvGh-9IcRGf",
        "colab_type": "text"
      },
      "source": [
        "## 2. if문"
      ]
    },
    {
      "cell_type": "code",
      "metadata": {
        "id": "m0IY4c8Yb8XG",
        "colab_type": "code",
        "colab": {
          "base_uri": "https://localhost:8080/",
          "height": 34
        },
        "outputId": "301705f3-0b09-4a4e-99ef-9e8c7a57fa89"
      },
      "source": [
        "a = 5\n",
        "b = 9\n",
        "c = 13\n",
        "\n",
        "if type(a%b) == int:\n",
        "  print (\"This is int type.\")"
      ],
      "execution_count": null,
      "outputs": [
        {
          "output_type": "stream",
          "text": [
            "This is int type.\n"
          ],
          "name": "stdout"
        }
      ]
    },
    {
      "cell_type": "code",
      "metadata": {
        "id": "Mge-WxKqcvBv",
        "colab_type": "code",
        "colab": {
          "base_uri": "https://localhost:8080/",
          "height": 34
        },
        "outputId": "7ad22659-a0d3-4e66-b957-950634ce4cb4"
      },
      "source": [
        "type(a%b)"
      ],
      "execution_count": null,
      "outputs": [
        {
          "output_type": "execute_result",
          "data": {
            "text/plain": [
              "int"
            ]
          },
          "metadata": {
            "tags": []
          },
          "execution_count": 10
        }
      ]
    },
    {
      "cell_type": "markdown",
      "metadata": {
        "id": "44ITZ_HPc-Fg",
        "colab_type": "text"
      },
      "source": [
        "- and : 둘 다 참일 때만 실행해라\n",
        "- or : 하나만 참이면 실행해라\n",
        "- not : A가 not인 것이 참, A가 A이면 거짓\n"
      ]
    },
    {
      "cell_type": "code",
      "metadata": {
        "id": "iQbx0IAVcx0B",
        "colab_type": "code",
        "colab": {
          "base_uri": "https://localhost:8080/",
          "height": 34
        },
        "outputId": "6ed255b7-364c-4afd-9eda-2171fec032de"
      },
      "source": [
        "if a<b and b<c:\n",
        "  print (\"This is True.\")"
      ],
      "execution_count": null,
      "outputs": [
        {
          "output_type": "stream",
          "text": [
            "This is True.\n"
          ],
          "name": "stdout"
        }
      ]
    },
    {
      "cell_type": "code",
      "metadata": {
        "id": "aSR4dXbedR20",
        "colab_type": "code",
        "colab": {
          "base_uri": "https://localhost:8080/",
          "height": 34
        },
        "outputId": "ea3c12c4-0dc4-45b1-cd8b-0a3704c4feff"
      },
      "source": [
        "if a<b or b>c:\n",
        "  print (\"This is half True.\")"
      ],
      "execution_count": null,
      "outputs": [
        {
          "output_type": "stream",
          "text": [
            "This is half True.\n"
          ],
          "name": "stdout"
        }
      ]
    },
    {
      "cell_type": "code",
      "metadata": {
        "id": "_OgFhSYgdWVi",
        "colab_type": "code",
        "colab": {
          "base_uri": "https://localhost:8080/",
          "height": 34
        },
        "outputId": "19e78863-f537-41bd-ed5c-82825760176d"
      },
      "source": [
        "if a>b or b>c:\n",
        "  print('Is it correct?')\n",
        "\n",
        "else:\n",
        "  print(\"This is not True.\")"
      ],
      "execution_count": null,
      "outputs": [
        {
          "output_type": "stream",
          "text": [
            "This is not True.\n"
          ],
          "name": "stdout"
        }
      ]
    },
    {
      "cell_type": "code",
      "metadata": {
        "id": "lU9mWU34dfcw",
        "colab_type": "code",
        "colab": {
          "base_uri": "https://localhost:8080/",
          "height": 34
        },
        "outputId": "40e47e01-7a98-45b3-c86c-8a78938e91e4"
      },
      "source": [
        "if a>b:\n",
        "  print(\"A is bigger than B.\")\n",
        "elif a==b:\n",
        "  print(\"A is same as B.\")\n",
        "else:\n",
        "  print(\"A is smaller than B.\")"
      ],
      "execution_count": null,
      "outputs": [
        {
          "output_type": "stream",
          "text": [
            "A is smaller than B.\n"
          ],
          "name": "stdout"
        }
      ]
    },
    {
      "cell_type": "code",
      "metadata": {
        "id": "v8zZ7pih5abW",
        "colab_type": "code",
        "colab": {
          "base_uri": "https://localhost:8080/",
          "height": 34
        },
        "outputId": "7c2695e7-7714-4f44-eb90-9e897fa07e75"
      },
      "source": [
        "if not a>b:  #a가 b보다 작기 때문에, 'a가 b보다 큰 것이 아닌' 경우가 참이 된다.\n",
        "  print('True!')\n",
        "else:\n",
        "  print('True?') #'a가 b보다 큰 경우' 를 의미"
      ],
      "execution_count": null,
      "outputs": [
        {
          "output_type": "stream",
          "text": [
            "True!\n"
          ],
          "name": "stdout"
        }
      ]
    },
    {
      "cell_type": "markdown",
      "metadata": {
        "id": "ZnYYUSEld00Z",
        "colab_type": "text"
      },
      "source": [
        "## 3. 함수\n",
        "\n",
        "- 계속 반복되는 작업이 생길 경우, 함수를 만들어서 사용하면 된다.\n",
        "- def (definition) 을 적고서 만들면 됨."
      ]
    },
    {
      "cell_type": "markdown",
      "metadata": {
        "id": "ccMcGcFOd8nf",
        "colab_type": "text"
      },
      "source": [
        "-"
      ]
    },
    {
      "cell_type": "code",
      "metadata": {
        "id": "lNwUl-49dw2w",
        "colab_type": "code",
        "colab": {}
      },
      "source": [
        "def chat():\n",
        "  print(\"A: I think Python is fun!\")\n",
        "  print(\"B: Same here.\")"
      ],
      "execution_count": null,
      "outputs": []
    },
    {
      "cell_type": "code",
      "metadata": {
        "id": "1mp3uuOteYXQ",
        "colab_type": "code",
        "colab": {
          "base_uri": "https://localhost:8080/",
          "height": 52
        },
        "outputId": "09595712-d6d8-4b27-e0da-be2b34b5cd03"
      },
      "source": [
        "chat()"
      ],
      "execution_count": null,
      "outputs": [
        {
          "output_type": "stream",
          "text": [
            "A: I think Python is fun!\n",
            "B: Same here.\n"
          ],
          "name": "stdout"
        }
      ]
    },
    {
      "cell_type": "markdown",
      "metadata": {
        "id": "co2OoIoGef3G",
        "colab_type": "text"
      },
      "source": [
        "- A와 B자리에 바꾸고 싶을 때마다 이름을 바꾸고 싶다면?\n",
        "\n",
        "  =>인수(argument) (== 매개변수, parameter)를 주면 된다."
      ]
    },
    {
      "cell_type": "code",
      "metadata": {
        "id": "6hWQvYFzeaCq",
        "colab_type": "code",
        "colab": {}
      },
      "source": [
        "def chat(name1, name2):\n",
        "  print(\"%s: I think Python is fun!\" %name1)\n",
        "  print(\"%s: Same here.\" %name2) "
      ],
      "execution_count": null,
      "outputs": []
    },
    {
      "cell_type": "code",
      "metadata": {
        "id": "IDGoq4_Be3Bz",
        "colab_type": "code",
        "colab": {
          "base_uri": "https://localhost:8080/",
          "height": 52
        },
        "outputId": "02657d91-167b-47bc-d46c-96f8d848236b"
      },
      "source": [
        "chat('Leena', 'Tom')"
      ],
      "execution_count": null,
      "outputs": [
        {
          "output_type": "stream",
          "text": [
            "Leena: I think Python is fun!\n",
            "Tom: Same here.\n"
          ],
          "name": "stdout"
        }
      ]
    },
    {
      "cell_type": "code",
      "metadata": {
        "id": "JTUiCKqxe95D",
        "colab_type": "code",
        "colab": {}
      },
      "source": [
        "def chat(name1, name2, age):\n",
        "  print(\"%s: How old are you?\" % name1) \n",
        "  print(\"%s: I'm %d old.\" %(name2, age))"
      ],
      "execution_count": null,
      "outputs": []
    },
    {
      "cell_type": "code",
      "metadata": {
        "id": "L8bdRhBifr7h",
        "colab_type": "code",
        "colab": {
          "base_uri": "https://localhost:8080/",
          "height": 52
        },
        "outputId": "c4e56754-6673-4b7a-c0dd-d608d89fb8fb"
      },
      "source": [
        "chat('Daisy','Jenny', 20)"
      ],
      "execution_count": null,
      "outputs": [
        {
          "output_type": "stream",
          "text": [
            "Daisy: How old are you?\n",
            "Jenny: I'm 20 old.\n"
          ],
          "name": "stdout"
        }
      ]
    },
    {
      "cell_type": "code",
      "metadata": {
        "id": "T3SGHjR7fwF_",
        "colab_type": "code",
        "colab": {}
      },
      "source": [
        "def chat(name1, name2, age):\n",
        "  print(\"%s: How old are you, %s?\" % (name1, name1)) \n",
        "  print(\"%s: I'm %d old.\" %(name2, age))"
      ],
      "execution_count": null,
      "outputs": []
    },
    {
      "cell_type": "code",
      "metadata": {
        "id": "5P9tA54xgJYb",
        "colab_type": "code",
        "cellView": "code",
        "colab": {
          "base_uri": "https://localhost:8080/",
          "height": 52
        },
        "outputId": "538c7cc7-983c-4837-fb0f-724a755b2251"
      },
      "source": [
        "chat(\"Daisy\",\"Lisa\", 20) "
      ],
      "execution_count": null,
      "outputs": [
        {
          "output_type": "stream",
          "text": [
            "Daisy: How old are you, Daisy?\n",
            "Lisa: I'm 20 old.\n"
          ],
          "name": "stdout"
        }
      ]
    },
    {
      "cell_type": "markdown",
      "metadata": {
        "id": "6onnZkKpgQ0q",
        "colab_type": "text"
      },
      "source": [
        "☆문장 안에 파라메터를 넣어준 수만큼 뒤에도 맞춰주어야 함!\n",
        "그렇지 않으면 이렇게 오류가 생긴다.\n",
        "![](함수오류사항.jpg)"
      ]
    },
    {
      "cell_type": "markdown",
      "metadata": {
        "id": "f0TpKp0SjqBZ",
        "colab_type": "text"
      },
      "source": [
        "- 'return' 사용하기"
      ]
    },
    {
      "cell_type": "code",
      "metadata": {
        "id": "dTfc5502gNIQ",
        "colab_type": "code",
        "colab": {}
      },
      "source": [
        "def dsum(a,b):\n",
        "  result = a+b\n",
        "  return result #func를 실행시키면 result라는 변수값을 줘라"
      ],
      "execution_count": null,
      "outputs": []
    },
    {
      "cell_type": "code",
      "metadata": {
        "id": "0U03z5z3jiaE",
        "colab_type": "code",
        "colab": {
          "base_uri": "https://localhost:8080/",
          "height": 34
        },
        "outputId": "211fcdbb-10bb-4fb5-d9ac-74a1cd0fce30"
      },
      "source": [
        "dsum(1,3)"
      ],
      "execution_count": null,
      "outputs": [
        {
          "output_type": "execute_result",
          "data": {
            "text/plain": [
              "4"
            ]
          },
          "metadata": {
            "tags": []
          },
          "execution_count": 42
        }
      ]
    },
    {
      "cell_type": "markdown",
      "metadata": {
        "id": "SQLHjew6nzCt",
        "colab_type": "text"
      },
      "source": [
        "if 우리가 'return' statement를 사용하지 않는다면...\n",
        "d에 값이 들어가지 않은 상태가 되기 때문에 'None'이라고 뜨게 되는 것이다."
      ]
    },
    {
      "cell_type": "code",
      "metadata": {
        "id": "plQlLlqZmO6r",
        "colab_type": "code",
        "colab": {
          "base_uri": "https://localhost:8080/",
          "height": 52
        },
        "outputId": "0746fc52-3f8b-42ca-a938-fe3c06891e5a"
      },
      "source": [
        "def esum(a,b):\n",
        "  result = a+b\n",
        "  print(result)\n",
        "\n",
        "d = esum(1,8) \n",
        "print(d)"
      ],
      "execution_count": null,
      "outputs": [
        {
          "output_type": "stream",
          "text": [
            "9\n",
            "None\n"
          ],
          "name": "stdout"
        }
      ]
    },
    {
      "cell_type": "code",
      "metadata": {
        "id": "6QIXQDiVoIQ0",
        "colab_type": "code",
        "colab": {}
      },
      "source": [
        "# 나이와 이름을 받고, 나이가 10살 미만이라면 '안녕', 10살 이상 20살 미만이면 '안녕하세요', 그 이상은 '안녕하십니까' 출력하기\n",
        "\n",
        "def hello(age, name):\n",
        "  if age<10:\n",
        "    print(\"안녕 %s야\" %name)\n",
        "  elif 10<=age<20:\n",
        "    print(\"안녕하세요 %s님\" %name)\n",
        "  else:\n",
        "    print(\"안녕하십니까 %s님\" %name)\n"
      ],
      "execution_count": null,
      "outputs": []
    },
    {
      "cell_type": "code",
      "metadata": {
        "id": "LwwyFJ3TpP8Y",
        "colab_type": "code",
        "colab": {
          "base_uri": "https://localhost:8080/",
          "height": 70
        },
        "outputId": "0364e3aa-e771-4a79-c2a3-71587b66ddf2"
      },
      "source": [
        "hello (15, 'Jisoo')\n",
        "hello (45, 'H')\n",
        "hello (9, \"Jamie\")"
      ],
      "execution_count": null,
      "outputs": [
        {
          "output_type": "stream",
          "text": [
            "안녕하세요 Jisoo님\n",
            "안녕하십니까 H님\n",
            "안녕 Jamie야\n"
          ],
          "name": "stdout"
        }
      ]
    },
    {
      "cell_type": "markdown",
      "metadata": {
        "id": "Urj3olQXqbdo",
        "colab_type": "text"
      },
      "source": [
        "## 4. 반복문\n",
        "- for loop: for i in range():\n",
        "  - i 라는 변수에\n",
        "  - range 안의 값을 넣어 반복해라\n",
        "  - 0부터 시작한다\n"
      ]
    },
    {
      "cell_type": "code",
      "metadata": {
        "id": "N7E4TcSpqHcs",
        "colab_type": "code",
        "colab": {
          "base_uri": "https://localhost:8080/",
          "height": 122
        },
        "outputId": "6c80b021-3737-4a99-8e38-85a4f919094a"
      },
      "source": [
        "for i in range (3):\n",
        "  print(i)\n",
        "  print(\"I'm scared of thunder.\") #지금 내 마음을 너무나 잘 담은 글,, 천둥소리 무서워ㅠㅠ"
      ],
      "execution_count": null,
      "outputs": [
        {
          "output_type": "stream",
          "text": [
            "0\n",
            "I'm scared of thunder.\n",
            "1\n",
            "I'm scared of thunder.\n",
            "2\n",
            "I'm scared of thunder.\n"
          ],
          "name": "stdout"
        }
      ]
    },
    {
      "cell_type": "markdown",
      "metadata": {
        "id": "oYFpAfuqrlrq",
        "colab_type": "text"
      },
      "source": [
        "- while loop"
      ]
    },
    {
      "cell_type": "code",
      "metadata": {
        "id": "Ct1CEnJVrVmd",
        "colab_type": "code",
        "colab": {
          "base_uri": "https://localhost:8080/",
          "height": 122
        },
        "outputId": "2560e0d9-4507-4762-a240-45c410f365f9"
      },
      "source": [
        "i = 0\n",
        "\n",
        "while i<3:\n",
        "  print(i)\n",
        "  print(\"I'm scared of thunder.\")\n",
        "  i = i+1 #1는 갈 수록 증가해야하기 때문에!"
      ],
      "execution_count": null,
      "outputs": [
        {
          "output_type": "stream",
          "text": [
            "0\n",
            "I'm scared of thunder.\n",
            "1\n",
            "I'm scared of thunder.\n",
            "2\n",
            "I'm scared of thunder.\n"
          ],
          "name": "stdout"
        }
      ]
    },
    {
      "cell_type": "markdown",
      "metadata": {
        "id": "uGxC_VUCsydK",
        "colab_type": "text"
      },
      "source": [
        "☆ 마지막 줄을 넣지 않는다면, 정말 무서운 광경을 보게 된다.\n",
        "like this...\n",
        "![](while 무한루프.jpg)"
      ]
    },
    {
      "cell_type": "markdown",
      "metadata": {
        "id": "znaSk6moty0x",
        "colab_type": "text"
      },
      "source": [
        "- break: 무한루프`while True:`를 돌다가 끝내고싶을 때 사용\n",
        "\n"
      ]
    },
    {
      "cell_type": "code",
      "metadata": {
        "id": "rC0glHRrrylO",
        "colab_type": "code",
        "colab": {
          "base_uri": "https://localhost:8080/",
          "height": 228
        },
        "outputId": "291f4ccb-d9f9-4ba9-c105-3f643a5683bb"
      },
      "source": [
        "i = 0\n",
        "\n",
        "while True:\n",
        "  print(i)\n",
        "  print(\"I'm afraid of thunder.\")\n",
        "  i = i + 1\n",
        "\n",
        "  if i>5:\n",
        "    break"
      ],
      "execution_count": null,
      "outputs": [
        {
          "output_type": "stream",
          "text": [
            "0\n",
            "I'm afraid of thunder.\n",
            "1\n",
            "I'm afraid of thunder.\n",
            "2\n",
            "I'm afraid of thunder.\n",
            "3\n",
            "I'm afraid of thunder.\n",
            "4\n",
            "I'm afraid of thunder.\n",
            "5\n",
            "I'm afraid of thunder.\n"
          ],
          "name": "stdout"
        }
      ]
    },
    {
      "cell_type": "markdown",
      "metadata": {
        "id": "izvDM200uNWA",
        "colab_type": "text"
      },
      "source": [
        "- continue: continue 밑에 있는 라인은 실행시키지 않는다. 특이조건에서 밑의 라인을 사용하고싶지 않을 때 사용하면 된다."
      ]
    },
    {
      "cell_type": "code",
      "metadata": {
        "id": "v2G6CakpuE9M",
        "colab_type": "code",
        "colab": {
          "base_uri": "https://localhost:8080/",
          "height": 158
        },
        "outputId": "3bb1096a-7916-48a6-c18a-a5578e4c1e59"
      },
      "source": [
        "for i in range (3):\n",
        "  print(i)\n",
        "  print(\"Do you know what time it is?\")\n",
        "\n",
        "\n",
        "  if i == 1: #이 조건일 경우, continue가 발동한다.\n",
        "    continue\n",
        "  print(\"I like salad.\")"
      ],
      "execution_count": null,
      "outputs": [
        {
          "output_type": "stream",
          "text": [
            "0\n",
            "Do you know what time it is?\n",
            "I like salad.\n",
            "1\n",
            "Do you know what time it is?\n",
            "2\n",
            "Do you know what time it is?\n",
            "I like salad.\n"
          ],
          "name": "stdout"
        }
      ]
    },
    {
      "cell_type": "markdown",
      "metadata": {
        "id": "vwkEy_2CvYE2",
        "colab_type": "text"
      },
      "source": [
        "## 자료구조\n",
        "- 리스트\n",
        "- 튜플\n",
        "- 딕셔너리"
      ]
    },
    {
      "cell_type": "markdown",
      "metadata": {
        "id": "zX_TcQz5viFN",
        "colab_type": "text"
      },
      "source": [
        "### 1) 리스트\n",
        "- 안의 값을 바꿀 수 있음(*mutable*)"
      ]
    },
    {
      "cell_type": "code",
      "metadata": {
        "id": "oz0TMdcBu6Ei",
        "colab_type": "code",
        "colab": {}
      },
      "source": [
        "x = [5,4,8,2,1]\n",
        "y = [\"hello\",'this',\"is\",\"Python\"]\n",
        "z = ['I','love',6]"
      ],
      "execution_count": null,
      "outputs": []
    },
    {
      "cell_type": "code",
      "metadata": {
        "id": "5rLJI1-NvhWD",
        "colab_type": "code",
        "colab": {
          "base_uri": "https://localhost:8080/",
          "height": 34
        },
        "outputId": "ac99c5e8-a94c-46bc-84c6-b2c6c45ff3d4"
      },
      "source": [
        "z[2] = 3\n",
        "print(z)"
      ],
      "execution_count": null,
      "outputs": [
        {
          "output_type": "stream",
          "text": [
            "['I', 'love', 3]\n"
          ],
          "name": "stdout"
        }
      ]
    },
    {
      "cell_type": "code",
      "metadata": {
        "id": "2tG8U0avv36M",
        "colab_type": "code",
        "colab": {
          "base_uri": "https://localhost:8080/",
          "height": 34
        },
        "outputId": "29e49723-e255-43ad-c240-9d8e0690cf96"
      },
      "source": [
        "type(y)"
      ],
      "execution_count": null,
      "outputs": [
        {
          "output_type": "execute_result",
          "data": {
            "text/plain": [
              "list"
            ]
          },
          "metadata": {
            "tags": []
          },
          "execution_count": 85
        }
      ]
    },
    {
      "cell_type": "markdown",
      "metadata": {
        "id": "H1dOUWgqwOqZ",
        "colab_type": "text"
      },
      "source": [
        "- len()"
      ]
    },
    {
      "cell_type": "code",
      "metadata": {
        "id": "loLf0D0hwFtf",
        "colab_type": "code",
        "colab": {
          "base_uri": "https://localhost:8080/",
          "height": 34
        },
        "outputId": "625fccf7-5146-48b9-b82f-a56b93aeb1de"
      },
      "source": [
        "len(y)"
      ],
      "execution_count": null,
      "outputs": [
        {
          "output_type": "execute_result",
          "data": {
            "text/plain": [
              "4"
            ]
          },
          "metadata": {
            "tags": []
          },
          "execution_count": 86
        }
      ]
    },
    {
      "cell_type": "markdown",
      "metadata": {
        "id": "UewlSzZCwcNH",
        "colab_type": "text"
      },
      "source": [
        "- sort()"
      ]
    },
    {
      "cell_type": "code",
      "metadata": {
        "id": "KzKtTub0wHdP",
        "colab_type": "code",
        "colab": {
          "base_uri": "https://localhost:8080/",
          "height": 34
        },
        "outputId": "d1edaa8d-a94f-4e47-fd0d-142b3eb33089"
      },
      "source": [
        "x.sort()\n",
        "x"
      ],
      "execution_count": null,
      "outputs": [
        {
          "output_type": "execute_result",
          "data": {
            "text/plain": [
              "[1, 2, 4, 5, 8]"
            ]
          },
          "metadata": {
            "tags": []
          },
          "execution_count": 87
        }
      ]
    },
    {
      "cell_type": "markdown",
      "metadata": {
        "id": "dZWueVTnw4XZ",
        "colab_type": "text"
      },
      "source": [
        "- index(): 리스트 안에 어떤 element가 어느 위치에 있는지 가져오는 기능"
      ]
    },
    {
      "cell_type": "code",
      "metadata": {
        "id": "FmBfRbAHxAci",
        "colab_type": "code",
        "colab": {
          "base_uri": "https://localhost:8080/",
          "height": 52
        },
        "outputId": "3c0cbf0a-f284-4253-a6e2-9efcd22bf7f4"
      },
      "source": [
        "print(y.index('Python'))\n",
        "print(z.index('I'))"
      ],
      "execution_count": null,
      "outputs": [
        {
          "output_type": "stream",
          "text": [
            "3\n",
            "0\n"
          ],
          "name": "stdout"
        }
      ]
    },
    {
      "cell_type": "markdown",
      "metadata": {
        "id": "f9YGnE2twrNb",
        "colab_type": "text"
      },
      "source": [
        "- for와 함께 사용해보기"
      ]
    },
    {
      "cell_type": "code",
      "metadata": {
        "id": "A4GPRTanwh4I",
        "colab_type": "code",
        "colab": {
          "base_uri": "https://localhost:8080/",
          "height": 87
        },
        "outputId": "e32e6e1f-5bc1-4b15-c34f-9c9036e3d396"
      },
      "source": [
        "for n in y:\n",
        "  print(n)"
      ],
      "execution_count": null,
      "outputs": [
        {
          "output_type": "stream",
          "text": [
            "hello\n",
            "this\n",
            "is\n",
            "Python\n"
          ],
          "name": "stdout"
        }
      ]
    },
    {
      "cell_type": "code",
      "metadata": {
        "id": "Mncv3bLBwwuS",
        "colab_type": "code",
        "colab": {
          "base_uri": "https://localhost:8080/",
          "height": 87
        },
        "outputId": "931ce5f8-1b47-41a2-a93a-20adaf72b3c8"
      },
      "source": [
        "for n in range(len(y)): #y리스트 안의 element 수만큼 반복을 하고,\n",
        "  print(y[n]) #y[0]부터 y[3]까지의 element를 보여준다."
      ],
      "execution_count": null,
      "outputs": [
        {
          "output_type": "stream",
          "text": [
            "hello\n",
            "this\n",
            "is\n",
            "Python\n"
          ],
          "name": "stdout"
        }
      ]
    },
    {
      "cell_type": "markdown",
      "metadata": {
        "id": "yY-TVOTgx94J",
        "colab_type": "text"
      },
      "source": [
        "### 2) 튜플\n",
        "- 튜플은 안의 값을 바꾸지 못함 (*immutable*)"
      ]
    },
    {
      "cell_type": "code",
      "metadata": {
        "id": "4-azcuN1xbHc",
        "colab_type": "code",
        "colab": {}
      },
      "source": [
        "x = (2,5,6,9,7,4)\n",
        "y = ('This','is','Python')"
      ],
      "execution_count": null,
      "outputs": []
    },
    {
      "cell_type": "code",
      "metadata": {
        "id": "BghQAX5mx9EJ",
        "colab_type": "code",
        "colab": {
          "base_uri": "https://localhost:8080/",
          "height": 34
        },
        "outputId": "8b9a370f-6339-4f10-b096-8f1934d470b1"
      },
      "source": [
        "print(y.index('is'))"
      ],
      "execution_count": null,
      "outputs": [
        {
          "output_type": "stream",
          "text": [
            "1\n"
          ],
          "name": "stdout"
        }
      ]
    },
    {
      "cell_type": "code",
      "metadata": {
        "id": "9ibVL08iyWm1",
        "colab_type": "code",
        "colab": {
          "base_uri": "https://localhost:8080/",
          "height": 34
        },
        "outputId": "0b05dc64-63b0-42ce-f3cd-a42dce31cd91"
      },
      "source": [
        "print(10 in x)"
      ],
      "execution_count": null,
      "outputs": [
        {
          "output_type": "stream",
          "text": [
            "False\n"
          ],
          "name": "stdout"
        }
      ]
    },
    {
      "cell_type": "markdown",
      "metadata": {
        "id": "jhcpddZCywkz",
        "colab_type": "text"
      },
      "source": [
        "### 3) 딕셔너리\n",
        "- key와 value로 구성되어 있다."
      ]
    },
    {
      "cell_type": "code",
      "metadata": {
        "id": "Kf3XofrLycZo",
        "colab_type": "code",
        "colab": {
          "base_uri": "https://localhost:8080/",
          "height": 34
        },
        "outputId": "cff94316-5c69-426e-a342-ddcc98cb7c52"
      },
      "source": [
        "x = {'name':'Leena', 'age':25, 'height': 175}\n",
        "print(x['height'])"
      ],
      "execution_count": null,
      "outputs": [
        {
          "output_type": "stream",
          "text": [
            "175\n"
          ],
          "name": "stdout"
        }
      ]
    },
    {
      "cell_type": "markdown",
      "metadata": {
        "id": "U8dejeKTzZZK",
        "colab_type": "text"
      },
      "source": [
        "- 딕셔너리 안에 key의 유무에 대해 알아볼 때"
      ]
    },
    {
      "cell_type": "code",
      "metadata": {
        "id": "TpPqFPsGzD16",
        "colab_type": "code",
        "colab": {
          "base_uri": "https://localhost:8080/",
          "height": 34
        },
        "outputId": "1ce79606-b9d9-4821-cf3c-d44fe251e0f8"
      },
      "source": [
        "y = {0:'name', 1:'age', 2:'height'}\n",
        "\n",
        "print(1 in y)"
      ],
      "execution_count": null,
      "outputs": [
        {
          "output_type": "stream",
          "text": [
            "True\n"
          ],
          "name": "stdout"
        }
      ]
    },
    {
      "cell_type": "markdown",
      "metadata": {
        "id": "5vLOVut0zpFX",
        "colab_type": "text"
      },
      "source": [
        "- keys()"
      ]
    },
    {
      "cell_type": "code",
      "metadata": {
        "id": "Oao0jPOLzRsA",
        "colab_type": "code",
        "colab": {
          "base_uri": "https://localhost:8080/",
          "height": 52
        },
        "outputId": "b83aa710-1bc2-47c4-c53b-4eb99df72d71"
      },
      "source": [
        "print(x.keys())\n",
        "print(y.keys())"
      ],
      "execution_count": null,
      "outputs": [
        {
          "output_type": "stream",
          "text": [
            "dict_keys(['name', 'age', 'height'])\n",
            "dict_keys([0, 1, 2])\n"
          ],
          "name": "stdout"
        }
      ]
    },
    {
      "cell_type": "markdown",
      "metadata": {
        "id": "tIL07w9tzzZv",
        "colab_type": "text"
      },
      "source": [
        "- values()"
      ]
    },
    {
      "cell_type": "code",
      "metadata": {
        "id": "hPBFTaorzuIy",
        "colab_type": "code",
        "colab": {
          "base_uri": "https://localhost:8080/",
          "height": 52
        },
        "outputId": "06c41aeb-a13b-4db0-ce5c-163a59b9fdd1"
      },
      "source": [
        "print(x.values())\n",
        "print(y.values())"
      ],
      "execution_count": null,
      "outputs": [
        {
          "output_type": "stream",
          "text": [
            "dict_values(['Leena', 25, 175])\n",
            "dict_values(['name', 'age', 'height'])\n"
          ],
          "name": "stdout"
        }
      ]
    },
    {
      "cell_type": "markdown",
      "metadata": {
        "id": "vZOOZPHhz4PE",
        "colab_type": "text"
      },
      "source": [
        "- for와 함께 사용해보기"
      ]
    },
    {
      "cell_type": "code",
      "metadata": {
        "id": "N7ZDGWKfz3nI",
        "colab_type": "code",
        "colab": {
          "base_uri": "https://localhost:8080/",
          "height": 122
        },
        "outputId": "dcf7577c-5368-49c1-e6b9-85b14e18caed"
      },
      "source": [
        "for things in x:\n",
        "  print('key:' + str(things))\n",
        "  print('value:' + str(x[things]))"
      ],
      "execution_count": null,
      "outputs": [
        {
          "output_type": "stream",
          "text": [
            "key:name\n",
            "value:Leena\n",
            "key:age\n",
            "value:25\n",
            "key:height\n",
            "value:175\n"
          ],
          "name": "stdout"
        }
      ]
    },
    {
      "cell_type": "markdown",
      "metadata": {
        "id": "MV_pNfYd0eFT",
        "colab_type": "text"
      },
      "source": [
        "- 딕셔너리 안의 value값을 바꾸거나 추가하기"
      ]
    },
    {
      "cell_type": "code",
      "metadata": {
        "id": "xpjw4YNw0KXu",
        "colab_type": "code",
        "colab": {
          "base_uri": "https://localhost:8080/",
          "height": 34
        },
        "outputId": "23677cd2-940c-41b8-ec5f-936686234e6e"
      },
      "source": [
        "x['height']=174.6\n",
        "x['univ'] = 'Dongguk'\n",
        "x"
      ],
      "execution_count": null,
      "outputs": [
        {
          "output_type": "execute_result",
          "data": {
            "text/plain": [
              "{'age': 25, 'height': 174.6, 'name': 'Leena', 'univ': 'Dongguk'}"
            ]
          },
          "metadata": {
            "tags": []
          },
          "execution_count": 117
        }
      ]
    },
    {
      "cell_type": "markdown",
      "metadata": {
        "id": "-Qd2Ax991FQi",
        "colab_type": "text"
      },
      "source": [
        "- del"
      ]
    },
    {
      "cell_type": "code",
      "metadata": {
        "id": "U1j3NUc404rT",
        "colab_type": "code",
        "colab": {
          "base_uri": "https://localhost:8080/",
          "height": 34
        },
        "outputId": "9556cf52-0e26-4770-9fec-fc1b714dc487"
      },
      "source": [
        "del x['univ']\n",
        "print(x)"
      ],
      "execution_count": null,
      "outputs": [
        {
          "output_type": "stream",
          "text": [
            "{'name': 'Leena', 'age': 25, 'height': 174.6}\n"
          ],
          "name": "stdout"
        }
      ]
    },
    {
      "cell_type": "markdown",
      "metadata": {
        "id": "pvaQ_US01xNk",
        "colab_type": "text"
      },
      "source": [
        "- 응용!"
      ]
    },
    {
      "cell_type": "code",
      "metadata": {
        "id": "I3Ecw2bH1Dz7",
        "colab_type": "code",
        "colab": {
          "base_uri": "https://localhost:8080/",
          "height": 34
        },
        "outputId": "0d90f795-559b-4ee7-cc0b-8025ff7f7c58"
      },
      "source": [
        "fruit = ['apple','apple','banana','banana','banana','cherry','cherry','cherry','grape']\n",
        "d =  {} \n",
        "#\n",
        "\n",
        "for f in fruit:\n",
        "  #1. f에는 'apple'이 들어간 상태\n",
        "  #2. f에는 'apple'이 들어간 상태\n",
        "\n",
        "  if f in d:   #'apple'이란 키가 d라는 딕셔너리 안에 있어?\n",
        "    #1. 'apple'이 없는 상태 -> else로 넘어감\n",
        "    #2. 'apple'이 있는 상태 -> if 조건이 실행됨\n",
        "\n",
        "    d[f] = d[f] + 1 #그럼 'apple' 의 갯수를 하나 올려줘\n",
        "    #2. d['apple']의 value가 1이 추가가 됨!\n",
        "\n",
        "  else:\n",
        "    d[f] = 1 #만약 'apple'이란 애가 없으면, 딕셔너리에 넣고 value는 1로 만들어줘\n",
        "    #1. d 안에 'apple'이라는 key가 새로 만들어진 상태 + value가 1이 된 상태\n",
        "\n",
        "print(d)"
      ],
      "execution_count": null,
      "outputs": [
        {
          "output_type": "stream",
          "text": [
            "{'apple': 2, 'banana': 3, 'cherry': 3, 'grape': 1}\n"
          ],
          "name": "stdout"
        }
      ]
    },
    {
      "cell_type": "markdown",
      "metadata": {
        "id": "hy1z61ru5_TC",
        "colab_type": "text"
      },
      "source": [
        "## 6. Class와 Object\n",
        "\n",
        "- class: 함수랑 변수들의 합\n",
        "  - 빵틀!\n",
        "\n",
        "- object(== instance): class를 이용하여 만들어낸 물체\n",
        "  - 빵틀을 이용해 만들어진 빵!"
      ]
    },
    {
      "cell_type": "code",
      "metadata": {
        "id": "mPFx62NU1v9Z",
        "colab_type": "code",
        "colab": {}
      },
      "source": [
        "class Person:\n",
        "  name = 'Leena'\n",
        "\n",
        "  def say_hello(self):  #self도 하나의 parameter!\n",
        "    print(\"Hi! I'm\"+' ' + self.name +'.')\n",
        "    print(self.name) #여기서 self.name은 Leena"
      ],
      "execution_count": 168,
      "outputs": []
    },
    {
      "cell_type": "code",
      "metadata": {
        "id": "4lEpWyra6kOr",
        "colab_type": "code",
        "colab": {
          "base_uri": "https://localhost:8080/",
          "height": 52
        },
        "outputId": "ea06f330-2669-4a46-be1b-a9b942fdae0d"
      },
      "source": [
        "p = Person()\n",
        "p.say_hello()"
      ],
      "execution_count": 169,
      "outputs": [
        {
          "output_type": "stream",
          "text": [
            "Hi! I'm Leena.\n",
            "Leena\n"
          ],
          "name": "stdout"
        }
      ]
    },
    {
      "cell_type": "markdown",
      "metadata": {
        "id": "fQzo4IRB_UqX",
        "colab_type": "text"
      },
      "source": [
        "☆ 계속 오류가 나길래 '왜 그러지..' 라고 생각했는데, p=Person() 뒤에 괄호를 안 넣었어서 그랬던 것이다...\n",
        "![](( )의 중요성.jpg)"
      ]
    },
    {
      "cell_type": "markdown",
      "metadata": {
        "id": "eCU68cEP-B-c",
        "colab_type": "text"
      },
      "source": [
        "- Self: 객체 생성 후에 자신을 참조하는데 사용된다.\n",
        "\n",
        "---\n"
      ]
    },
    {
      "cell_type": "code",
      "metadata": {
        "id": "5GugB21Y6qbA",
        "colab_type": "code",
        "colab": {
          "base_uri": "https://localhost:8080/",
          "height": 70
        },
        "outputId": "3df0fab8-1e73-47f8-88fa-54aca7a9d4d0"
      },
      "source": [
        "class Person:\n",
        "  name = 'Leena'\n",
        "\n",
        "  def say_hello(self):  #self도 하나의 parameter!\n",
        "    print(\"Hi! I'm\"+' ' + self.name +'.')\n",
        "\n",
        "leena = Person()\n",
        "jamie = Person()\n",
        "jessie = Person()\n",
        "\n",
        "leena.say_hello()\n",
        "jamie.say_hello()\n",
        "jessie.say_hello()"
      ],
      "execution_count": 170,
      "outputs": [
        {
          "output_type": "stream",
          "text": [
            "Hi! I'm Leena.\n",
            "Hi! I'm Leena.\n",
            "Hi! I'm Leena.\n"
          ],
          "name": "stdout"
        }
      ]
    },
    {
      "cell_type": "markdown",
      "metadata": {
        "id": "VsLHoRsGB3IU",
        "colab_type": "text"
      },
      "source": [
        "- 위와 같이 name변수를 고정시키지 않고, object를 만들 때 새로 이름을 지으려면?"
      ]
    },
    {
      "cell_type": "code",
      "metadata": {
        "id": "my4iolO5A7P4",
        "colab_type": "code",
        "colab": {}
      },
      "source": [
        "class Person:\n",
        "  def __init__(self, name):  #self를 첫 인자로 받고, name이라는 인자를 받아서 'name' 이라는 변수 안에 넣어라\n",
        "                             # 새로 쓸 변수들을 설정해주는 함수 (initialize, 초기화)\n",
        "    self.name = name\n",
        "\n",
        "  def say_hello(self, to_name):\n",
        "    print('Hi'+' '+ to_name +','+\"I'm\"+' '+ self.name + '!')\n",
        "\n",
        "leena = Person('Leena')\n",
        "jamie = Person(\"Jamie\")\n",
        "jessie = Person(\"Jessie\")\n"
      ],
      "execution_count": 171,
      "outputs": []
    },
    {
      "cell_type": "code",
      "metadata": {
        "id": "PEZXGyy2DlCD",
        "colab_type": "code",
        "colab": {
          "base_uri": "https://localhost:8080/",
          "height": 70
        },
        "outputId": "ed54d489-3792-44ed-dc62-aad078216573"
      },
      "source": [
        "leena.say_hello('Tom') \n",
        "jamie.say_hello('Doja')\n",
        "jessie.say_hello(\"Cardi\")"
      ],
      "execution_count": 172,
      "outputs": [
        {
          "output_type": "stream",
          "text": [
            "Hi Tom,I'm Leena!\n",
            "Hi Doja,I'm Jamie!\n",
            "Hi Cardi,I'm Jessie!\n"
          ],
          "name": "stdout"
        }
      ]
    },
    {
      "cell_type": "code",
      "metadata": {
        "id": "KiQFWNVYDtP6",
        "colab_type": "code",
        "colab": {}
      },
      "source": [
        "class Person:\n",
        "  def __init__(self, name, age):  #self를 첫 인자로 받고, name이라는 인자를 받아서 'name' 이라는 변수 안에 넣어라\n",
        "                             # 새로 쓸 변수들을 설정해주는 함수 (initialize, 초기화)\n",
        "    self.name = name\n",
        "    self.age = age\n",
        "\n",
        "\n",
        "  def say_hello(self, to_name):\n",
        "    print('Hi'+' '+ to_name +','+\"I'm\"+' '+ self.name + '!')\n",
        "\n",
        "  def introduce(self):\n",
        "    print('My name is'+' ' + self.name +', '+'and my age is'+ ' '+ str(self.age)) #문자열끼리 더해주려면, 문자열 처리를 해주어야 함.\n",
        "\n",
        "leena = Person('Leena', 25)\n",
        "jamie = Person(\"Jamie\", 22)\n",
        "jessie = Person(\"Jessie\", 30)\n"
      ],
      "execution_count": 176,
      "outputs": []
    },
    {
      "cell_type": "code",
      "metadata": {
        "id": "PTgLAheHEi5J",
        "colab_type": "code",
        "colab": {
          "base_uri": "https://localhost:8080/",
          "height": 34
        },
        "outputId": "5f853e86-b5c7-4448-d9d3-9909a99ac42c"
      },
      "source": [
        "leena.introduce()"
      ],
      "execution_count": 177,
      "outputs": [
        {
          "output_type": "stream",
          "text": [
            "My name is Leena, and my age is 25\n"
          ],
          "name": "stdout"
        }
      ]
    },
    {
      "cell_type": "markdown",
      "metadata": {
        "id": "IyhfR8oCZDBq",
        "colab_type": "text"
      },
      "source": [
        "### * 상속"
      ]
    },
    {
      "cell_type": "code",
      "metadata": {
        "id": "6XJ77RMwE68A",
        "colab_type": "code",
        "colab": {
          "base_uri": "https://localhost:8080/",
          "height": 87
        },
        "outputId": "29c157a0-c934-4f16-8095-717e5a3e3931"
      },
      "source": [
        "class Police(Person): #Police라는 class가 Person의 기능을 상속받음 -> Person이라는 class에 사용되었던 함수들을 안적어도 됨!\n",
        "  def arrest(self, to_arrest):\n",
        "    print(to_arrest + ' is under arrest!') \n",
        "\n",
        "class Programmer(Person):\n",
        "  def program(self, to_program):\n",
        "    print(\"What should I make next time? Oh! Let's make \" + to_program)\n",
        "\n",
        "leena = Person('Leena', 25)\n",
        "jamie = Police(\"Jamie\", 22)\n",
        "jessie = Programmer(\"Jessie\", 30)\n",
        "\n",
        "jamie.introduce()\n",
        "jamie.arrest('Timmy')\n",
        "jessie.introduce()\n",
        "jessie.program('Python')\n"
      ],
      "execution_count": 180,
      "outputs": [
        {
          "output_type": "stream",
          "text": [
            "My name is Jamie, and my age is 22\n",
            "Timmy is under arrest!\n",
            "My name is Jessie, and my age is 30\n",
            "What should I make next time? Oh! Let's make Python\n"
          ],
          "name": "stdout"
        }
      ]
    },
    {
      "cell_type": "code",
      "metadata": {
        "id": "8O8VFGPcZUXg",
        "colab_type": "code",
        "colab": {}
      },
      "source": [
        ""
      ],
      "execution_count": null,
      "outputs": []
    },
    {
      "cell_type": "markdown",
      "metadata": {
        "id": "NtEy3upqa3Vc",
        "colab_type": "text"
      },
      "source": [
        "## Package와 Module"
      ]
    },
    {
      "cell_type": "markdown",
      "metadata": {
        "id": "pHGBhhj4a7vS",
        "colab_type": "text"
      },
      "source": [
        "- Package: 어떤 기능들을 구성하는 모듈의 합, 다른 사람들도 코드 모음을 쓸 수 있도록 만들어 둔 것 (ex. 날씨정보 코드)\n",
        "\n",
        "- Module: 코드들이 모여있는 것! "
      ]
    },
    {
      "cell_type": "code",
      "metadata": {
        "id": "SzEDHnTua69R",
        "colab_type": "code",
        "colab": {}
      },
      "source": [
        "# animal package 안에 dog, cat modules를 만듦\n",
        "# 폴더를 새로 만들고, 그 안에 dog파일 cat파일을 만들어준다!"
      ],
      "execution_count": 181,
      "outputs": []
    },
    {
      "cell_type": "markdown",
      "metadata": {
        "id": "rPqV2NbCcUEN",
        "colab_type": "text"
      },
      "source": [
        "- 모듈을 불러오는 방법"
      ]
    },
    {
      "cell_type": "code",
      "metadata": {
        "id": "Tn73yGXUbifB",
        "colab_type": "code",
        "colab": {
          "base_uri": "https://localhost:8080/",
          "height": 34
        },
        "outputId": "79307e92-6846-4d65-e615-faf6e88c596f"
      },
      "source": [
        "from animal import dog #animal이라는 패키지에서 dog라는 모듈을 가지고 와라\n",
        "from animal import cat #animal이라는 패키지에서 cat이라는 모듈을 가지고 와라\n",
        "\n",
        "d= dog.Dog()\n",
        "d.hi()"
      ],
      "execution_count": 185,
      "outputs": [
        {
          "output_type": "stream",
          "text": [
            "Bark!\n"
          ],
          "name": "stdout"
        }
      ]
    },
    {
      "cell_type": "code",
      "metadata": {
        "id": "LwLDd1-Hc9Yo",
        "colab_type": "code",
        "colab": {
          "base_uri": "https://localhost:8080/",
          "height": 34
        },
        "outputId": "6bc7389d-ed9a-47cc-f3a0-e34b2caa2c7b"
      },
      "source": [
        "c= cat.Cat()\n",
        "c.hi()"
      ],
      "execution_count": 186,
      "outputs": [
        {
          "output_type": "stream",
          "text": [
            "Meow\n"
          ],
          "name": "stdout"
        }
      ]
    },
    {
      "cell_type": "code",
      "metadata": {
        "id": "ufkImCskdAY0",
        "colab_type": "code",
        "colab": {
          "base_uri": "https://localhost:8080/",
          "height": 52
        },
        "outputId": "eddaeb2a-fc22-4550-cdd1-126dacd3e89d"
      },
      "source": [
        "from animal import *\n",
        "\n",
        "d = Dog()\n",
        "c = Cat()\n",
        "\n",
        "d.hi()\n",
        "c.hi()"
      ],
      "execution_count": 187,
      "outputs": [
        {
          "output_type": "stream",
          "text": [
            "Bark!\n",
            "Meow\n"
          ],
          "name": "stdout"
        }
      ]
    },
    {
      "cell_type": "markdown",
      "metadata": {
        "id": "KPOtYA8FdZAm",
        "colab_type": "text"
      },
      "source": [
        "- Geopy를 이용해서 실습해보기"
      ]
    },
    {
      "cell_type": "code",
      "metadata": {
        "id": "iLqbsPYddRzt",
        "colab_type": "code",
        "colab": {
          "base_uri": "https://localhost:8080/",
          "height": 52
        },
        "outputId": "dbd60dee-b04c-4c7c-91c5-0b96279e6b8b"
      },
      "source": [
        "pip install geopy"
      ],
      "execution_count": 188,
      "outputs": [
        {
          "output_type": "stream",
          "text": [
            "Requirement already satisfied: geopy in /usr/local/lib/python3.6/dist-packages (1.17.0)\n",
            "Requirement already satisfied: geographiclib<2,>=1.49 in /usr/local/lib/python3.6/dist-packages (from geopy) (1.50)\n"
          ],
          "name": "stdout"
        }
      ]
    },
    {
      "cell_type": "code",
      "metadata": {
        "id": "DP3lwL5Jdlly",
        "colab_type": "code",
        "colab": {
          "base_uri": "https://localhost:8080/",
          "height": 439
        },
        "outputId": "19d4d461-64b3-4a75-fa3b-7c2d8c5b54c1"
      },
      "source": [
        "from geopy.geocoders import Nominatim  #geopy 패키지에서 geocoders 모듈로 가서 Nominatim 클래스를 가지고 오는 것\n",
        "\n",
        "geolocator = Nominatim(user_agent = 'specify_your_app_name_here')\n",
        "location = geolocator.geocode(\"Seoul, South Korea\")\n",
        "print(location)\n"
      ],
      "execution_count": 196,
      "outputs": [
        {
          "output_type": "error",
          "ename": "GeocoderInsufficientPrivileges",
          "evalue": "ignored",
          "traceback": [
            "\u001b[0;31m---------------------------------------------------------------------------\u001b[0m",
            "\u001b[0;31mHTTPError\u001b[0m                                 Traceback (most recent call last)",
            "\u001b[0;32m/usr/local/lib/python3.6/dist-packages/geopy/geocoders/base.py\u001b[0m in \u001b[0;36m_call_geocoder\u001b[0;34m(self, url, timeout, raw, requester, deserializer, **kwargs)\u001b[0m\n\u001b[1;32m    343\u001b[0m         \u001b[0;32mtry\u001b[0m\u001b[0;34m:\u001b[0m\u001b[0;34m\u001b[0m\u001b[0;34m\u001b[0m\u001b[0m\n\u001b[0;32m--> 344\u001b[0;31m             \u001b[0mpage\u001b[0m \u001b[0;34m=\u001b[0m \u001b[0mrequester\u001b[0m\u001b[0;34m(\u001b[0m\u001b[0mreq\u001b[0m\u001b[0;34m,\u001b[0m \u001b[0mtimeout\u001b[0m\u001b[0;34m=\u001b[0m\u001b[0mtimeout\u001b[0m\u001b[0;34m,\u001b[0m \u001b[0;34m**\u001b[0m\u001b[0mkwargs\u001b[0m\u001b[0;34m)\u001b[0m\u001b[0;34m\u001b[0m\u001b[0;34m\u001b[0m\u001b[0m\n\u001b[0m\u001b[1;32m    345\u001b[0m         \u001b[0;32mexcept\u001b[0m \u001b[0mException\u001b[0m \u001b[0;32mas\u001b[0m \u001b[0merror\u001b[0m\u001b[0;34m:\u001b[0m\u001b[0;34m\u001b[0m\u001b[0;34m\u001b[0m\u001b[0m\n",
            "\u001b[0;32m/usr/lib/python3.6/urllib/request.py\u001b[0m in \u001b[0;36mopen\u001b[0;34m(self, fullurl, data, timeout)\u001b[0m\n\u001b[1;32m    531\u001b[0m             \u001b[0mmeth\u001b[0m \u001b[0;34m=\u001b[0m \u001b[0mgetattr\u001b[0m\u001b[0;34m(\u001b[0m\u001b[0mprocessor\u001b[0m\u001b[0;34m,\u001b[0m \u001b[0mmeth_name\u001b[0m\u001b[0;34m)\u001b[0m\u001b[0;34m\u001b[0m\u001b[0;34m\u001b[0m\u001b[0m\n\u001b[0;32m--> 532\u001b[0;31m             \u001b[0mresponse\u001b[0m \u001b[0;34m=\u001b[0m \u001b[0mmeth\u001b[0m\u001b[0;34m(\u001b[0m\u001b[0mreq\u001b[0m\u001b[0;34m,\u001b[0m \u001b[0mresponse\u001b[0m\u001b[0;34m)\u001b[0m\u001b[0;34m\u001b[0m\u001b[0;34m\u001b[0m\u001b[0m\n\u001b[0m\u001b[1;32m    533\u001b[0m \u001b[0;34m\u001b[0m\u001b[0m\n",
            "\u001b[0;32m/usr/lib/python3.6/urllib/request.py\u001b[0m in \u001b[0;36mhttp_response\u001b[0;34m(self, request, response)\u001b[0m\n\u001b[1;32m    641\u001b[0m             response = self.parent.error(\n\u001b[0;32m--> 642\u001b[0;31m                 'http', request, response, code, msg, hdrs)\n\u001b[0m\u001b[1;32m    643\u001b[0m \u001b[0;34m\u001b[0m\u001b[0m\n",
            "\u001b[0;32m/usr/lib/python3.6/urllib/request.py\u001b[0m in \u001b[0;36merror\u001b[0;34m(self, proto, *args)\u001b[0m\n\u001b[1;32m    569\u001b[0m             \u001b[0margs\u001b[0m \u001b[0;34m=\u001b[0m \u001b[0;34m(\u001b[0m\u001b[0mdict\u001b[0m\u001b[0;34m,\u001b[0m \u001b[0;34m'default'\u001b[0m\u001b[0;34m,\u001b[0m \u001b[0;34m'http_error_default'\u001b[0m\u001b[0;34m)\u001b[0m \u001b[0;34m+\u001b[0m \u001b[0morig_args\u001b[0m\u001b[0;34m\u001b[0m\u001b[0;34m\u001b[0m\u001b[0m\n\u001b[0;32m--> 570\u001b[0;31m             \u001b[0;32mreturn\u001b[0m \u001b[0mself\u001b[0m\u001b[0;34m.\u001b[0m\u001b[0m_call_chain\u001b[0m\u001b[0;34m(\u001b[0m\u001b[0;34m*\u001b[0m\u001b[0margs\u001b[0m\u001b[0;34m)\u001b[0m\u001b[0;34m\u001b[0m\u001b[0;34m\u001b[0m\u001b[0m\n\u001b[0m\u001b[1;32m    571\u001b[0m \u001b[0;34m\u001b[0m\u001b[0m\n",
            "\u001b[0;32m/usr/lib/python3.6/urllib/request.py\u001b[0m in \u001b[0;36m_call_chain\u001b[0;34m(self, chain, kind, meth_name, *args)\u001b[0m\n\u001b[1;32m    503\u001b[0m             \u001b[0mfunc\u001b[0m \u001b[0;34m=\u001b[0m \u001b[0mgetattr\u001b[0m\u001b[0;34m(\u001b[0m\u001b[0mhandler\u001b[0m\u001b[0;34m,\u001b[0m \u001b[0mmeth_name\u001b[0m\u001b[0;34m)\u001b[0m\u001b[0;34m\u001b[0m\u001b[0;34m\u001b[0m\u001b[0m\n\u001b[0;32m--> 504\u001b[0;31m             \u001b[0mresult\u001b[0m \u001b[0;34m=\u001b[0m \u001b[0mfunc\u001b[0m\u001b[0;34m(\u001b[0m\u001b[0;34m*\u001b[0m\u001b[0margs\u001b[0m\u001b[0;34m)\u001b[0m\u001b[0;34m\u001b[0m\u001b[0;34m\u001b[0m\u001b[0m\n\u001b[0m\u001b[1;32m    505\u001b[0m             \u001b[0;32mif\u001b[0m \u001b[0mresult\u001b[0m \u001b[0;32mis\u001b[0m \u001b[0;32mnot\u001b[0m \u001b[0;32mNone\u001b[0m\u001b[0;34m:\u001b[0m\u001b[0;34m\u001b[0m\u001b[0;34m\u001b[0m\u001b[0m\n",
            "\u001b[0;32m/usr/lib/python3.6/urllib/request.py\u001b[0m in \u001b[0;36mhttp_error_default\u001b[0;34m(self, req, fp, code, msg, hdrs)\u001b[0m\n\u001b[1;32m    649\u001b[0m     \u001b[0;32mdef\u001b[0m \u001b[0mhttp_error_default\u001b[0m\u001b[0;34m(\u001b[0m\u001b[0mself\u001b[0m\u001b[0;34m,\u001b[0m \u001b[0mreq\u001b[0m\u001b[0;34m,\u001b[0m \u001b[0mfp\u001b[0m\u001b[0;34m,\u001b[0m \u001b[0mcode\u001b[0m\u001b[0;34m,\u001b[0m \u001b[0mmsg\u001b[0m\u001b[0;34m,\u001b[0m \u001b[0mhdrs\u001b[0m\u001b[0;34m)\u001b[0m\u001b[0;34m:\u001b[0m\u001b[0;34m\u001b[0m\u001b[0;34m\u001b[0m\u001b[0m\n\u001b[0;32m--> 650\u001b[0;31m         \u001b[0;32mraise\u001b[0m \u001b[0mHTTPError\u001b[0m\u001b[0;34m(\u001b[0m\u001b[0mreq\u001b[0m\u001b[0;34m.\u001b[0m\u001b[0mfull_url\u001b[0m\u001b[0;34m,\u001b[0m \u001b[0mcode\u001b[0m\u001b[0;34m,\u001b[0m \u001b[0mmsg\u001b[0m\u001b[0;34m,\u001b[0m \u001b[0mhdrs\u001b[0m\u001b[0;34m,\u001b[0m \u001b[0mfp\u001b[0m\u001b[0;34m)\u001b[0m\u001b[0;34m\u001b[0m\u001b[0;34m\u001b[0m\u001b[0m\n\u001b[0m\u001b[1;32m    651\u001b[0m \u001b[0;34m\u001b[0m\u001b[0m\n",
            "\u001b[0;31mHTTPError\u001b[0m: HTTP Error 403: Forbidden",
            "\nDuring handling of the above exception, another exception occurred:\n",
            "\u001b[0;31mGeocoderInsufficientPrivileges\u001b[0m            Traceback (most recent call last)",
            "\u001b[0;32m<ipython-input-196-d0fb0b4db397>\u001b[0m in \u001b[0;36m<module>\u001b[0;34m()\u001b[0m\n\u001b[1;32m      2\u001b[0m \u001b[0;34m\u001b[0m\u001b[0m\n\u001b[1;32m      3\u001b[0m \u001b[0mgeolocator\u001b[0m \u001b[0;34m=\u001b[0m \u001b[0mNominatim\u001b[0m\u001b[0;34m(\u001b[0m\u001b[0muser_agent\u001b[0m \u001b[0;34m=\u001b[0m \u001b[0;34m'specify_your_app_name_here'\u001b[0m\u001b[0;34m)\u001b[0m\u001b[0;34m\u001b[0m\u001b[0;34m\u001b[0m\u001b[0m\n\u001b[0;32m----> 4\u001b[0;31m \u001b[0mlocation\u001b[0m \u001b[0;34m=\u001b[0m \u001b[0mgeolocator\u001b[0m\u001b[0;34m.\u001b[0m\u001b[0mgeocode\u001b[0m\u001b[0;34m(\u001b[0m\u001b[0;34m\"Seoul, South Korea\"\u001b[0m\u001b[0;34m)\u001b[0m\u001b[0;34m\u001b[0m\u001b[0;34m\u001b[0m\u001b[0m\n\u001b[0m\u001b[1;32m      5\u001b[0m \u001b[0mprint\u001b[0m\u001b[0;34m(\u001b[0m\u001b[0mlocation\u001b[0m\u001b[0;34m)\u001b[0m\u001b[0;34m\u001b[0m\u001b[0;34m\u001b[0m\u001b[0m\n",
            "\u001b[0;32m/usr/local/lib/python3.6/dist-packages/geopy/geocoders/osm.py\u001b[0m in \u001b[0;36mgeocode\u001b[0;34m(self, query, exactly_one, timeout, limit, addressdetails, language, geometry, extratags)\u001b[0m\n\u001b[1;32m    305\u001b[0m \u001b[0;34m\u001b[0m\u001b[0m\n\u001b[1;32m    306\u001b[0m         return self._parse_json(\n\u001b[0;32m--> 307\u001b[0;31m             \u001b[0mself\u001b[0m\u001b[0;34m.\u001b[0m\u001b[0m_call_geocoder\u001b[0m\u001b[0;34m(\u001b[0m\u001b[0murl\u001b[0m\u001b[0;34m,\u001b[0m \u001b[0mtimeout\u001b[0m\u001b[0;34m=\u001b[0m\u001b[0mtimeout\u001b[0m\u001b[0;34m)\u001b[0m\u001b[0;34m,\u001b[0m \u001b[0mexactly_one\u001b[0m\u001b[0;34m\u001b[0m\u001b[0;34m\u001b[0m\u001b[0m\n\u001b[0m\u001b[1;32m    308\u001b[0m         )\n\u001b[1;32m    309\u001b[0m \u001b[0;34m\u001b[0m\u001b[0m\n",
            "\u001b[0;32m/usr/local/lib/python3.6/dist-packages/geopy/geocoders/base.py\u001b[0m in \u001b[0;36m_call_geocoder\u001b[0;34m(self, url, timeout, raw, requester, deserializer, **kwargs)\u001b[0m\n\u001b[1;32m    360\u001b[0m                                 exc_info=False)\n\u001b[1;32m    361\u001b[0m                 \u001b[0;32mtry\u001b[0m\u001b[0;34m:\u001b[0m\u001b[0;34m\u001b[0m\u001b[0;34m\u001b[0m\u001b[0m\n\u001b[0;32m--> 362\u001b[0;31m                     \u001b[0;32mraise\u001b[0m \u001b[0mERROR_CODE_MAP\u001b[0m\u001b[0;34m[\u001b[0m\u001b[0mcode\u001b[0m\u001b[0;34m]\u001b[0m\u001b[0;34m(\u001b[0m\u001b[0mmessage\u001b[0m\u001b[0;34m)\u001b[0m\u001b[0;34m\u001b[0m\u001b[0;34m\u001b[0m\u001b[0m\n\u001b[0m\u001b[1;32m    363\u001b[0m                 \u001b[0;32mexcept\u001b[0m \u001b[0mKeyError\u001b[0m\u001b[0;34m:\u001b[0m\u001b[0;34m\u001b[0m\u001b[0;34m\u001b[0m\u001b[0m\n\u001b[1;32m    364\u001b[0m                     \u001b[0;32mraise\u001b[0m \u001b[0mGeocoderServiceError\u001b[0m\u001b[0;34m(\u001b[0m\u001b[0mmessage\u001b[0m\u001b[0;34m)\u001b[0m\u001b[0;34m\u001b[0m\u001b[0;34m\u001b[0m\u001b[0m\n",
            "\u001b[0;31mGeocoderInsufficientPrivileges\u001b[0m: HTTP Error 403: Forbidden"
          ]
        }
      ]
    },
    {
      "cell_type": "code",
      "metadata": {
        "id": "de1xiFiReEaq",
        "colab_type": "code",
        "colab": {
          "base_uri": "https://localhost:8080/",
          "height": 494
        },
        "outputId": "680d5166-78ec-4dec-823e-0dc00cb2597c"
      },
      "source": [
        "from geopy.geocoders import Nominatim\n",
        "from urllib.request import Request\n",
        "\n",
        "def get_geolocator():\n",
        "    geolocator = Nominatim()\n",
        "\n",
        "    requester = geolocator.urlopen\n",
        "\n",
        "    def requester_hack(req, **kwargs):\n",
        "        req = Request(url=req, headers=geolocator.headers)\n",
        "        return requester(req, **kwargs)\n",
        "\n",
        "    geolocator.urlopen = requester_hack\n",
        "\n",
        "    return geolocator\n",
        "\n",
        "location = get_geolocator().reverse(\"https://www.google.com/maps/place/Goyang-si,+Gyeonggi-do/@37.6559448,126.7627806,13z/data=!3m1!4b1!4m5!3m4!1s0x357c908309d05a09:0xd0a0d71a3c16ef7f!8m2!3d37.6583599!4d126.8320201\")\n",
        "address = location.address"
      ],
      "execution_count": 195,
      "outputs": [
        {
          "output_type": "stream",
          "text": [
            "/usr/local/lib/python3.6/dist-packages/geopy/geocoders/osm.py:143: UserWarning: Using Nominatim with the default \"geopy/1.17.0\" `user_agent` is strongly discouraged, as it violates Nominatim's ToS https://operations.osmfoundation.org/policies/nominatim/ and may possibly cause 403 and 429 HTTP errors. Please specify a custom `user_agent` with `Nominatim(user_agent=\"my-application\")` or by overriding the default `user_agent`: `geopy.geocoders.options.default_user_agent = \"my-application\"`. In geopy 2.0 this will become an exception.\n",
            "  UserWarning\n"
          ],
          "name": "stderr"
        },
        {
          "output_type": "error",
          "ename": "GeocoderServiceError",
          "evalue": "ignored",
          "traceback": [
            "\u001b[0;31m---------------------------------------------------------------------------\u001b[0m",
            "\u001b[0;31mValueError\u001b[0m                                Traceback (most recent call last)",
            "\u001b[0;32m/usr/local/lib/python3.6/dist-packages/geopy/geocoders/base.py\u001b[0m in \u001b[0;36m_call_geocoder\u001b[0;34m(self, url, timeout, raw, requester, deserializer, **kwargs)\u001b[0m\n\u001b[1;32m    343\u001b[0m         \u001b[0;32mtry\u001b[0m\u001b[0;34m:\u001b[0m\u001b[0;34m\u001b[0m\u001b[0;34m\u001b[0m\u001b[0m\n\u001b[0;32m--> 344\u001b[0;31m             \u001b[0mpage\u001b[0m \u001b[0;34m=\u001b[0m \u001b[0mrequester\u001b[0m\u001b[0;34m(\u001b[0m\u001b[0mreq\u001b[0m\u001b[0;34m,\u001b[0m \u001b[0mtimeout\u001b[0m\u001b[0;34m=\u001b[0m\u001b[0mtimeout\u001b[0m\u001b[0;34m,\u001b[0m \u001b[0;34m**\u001b[0m\u001b[0mkwargs\u001b[0m\u001b[0;34m)\u001b[0m\u001b[0;34m\u001b[0m\u001b[0;34m\u001b[0m\u001b[0m\n\u001b[0m\u001b[1;32m    345\u001b[0m         \u001b[0;32mexcept\u001b[0m \u001b[0mException\u001b[0m \u001b[0;32mas\u001b[0m \u001b[0merror\u001b[0m\u001b[0;34m:\u001b[0m\u001b[0;34m\u001b[0m\u001b[0;34m\u001b[0m\u001b[0m\n",
            "\u001b[0;32m<ipython-input-195-756f9773aa07>\u001b[0m in \u001b[0;36mrequester_hack\u001b[0;34m(req, **kwargs)\u001b[0m\n\u001b[1;32m      9\u001b[0m     \u001b[0;32mdef\u001b[0m \u001b[0mrequester_hack\u001b[0m\u001b[0;34m(\u001b[0m\u001b[0mreq\u001b[0m\u001b[0;34m,\u001b[0m \u001b[0;34m**\u001b[0m\u001b[0mkwargs\u001b[0m\u001b[0;34m)\u001b[0m\u001b[0;34m:\u001b[0m\u001b[0;34m\u001b[0m\u001b[0;34m\u001b[0m\u001b[0m\n\u001b[0;32m---> 10\u001b[0;31m         \u001b[0mreq\u001b[0m \u001b[0;34m=\u001b[0m \u001b[0mRequest\u001b[0m\u001b[0;34m(\u001b[0m\u001b[0murl\u001b[0m\u001b[0;34m=\u001b[0m\u001b[0mreq\u001b[0m\u001b[0;34m,\u001b[0m \u001b[0mheaders\u001b[0m\u001b[0;34m=\u001b[0m\u001b[0mgeolocator\u001b[0m\u001b[0;34m.\u001b[0m\u001b[0mheaders\u001b[0m\u001b[0;34m)\u001b[0m\u001b[0;34m\u001b[0m\u001b[0;34m\u001b[0m\u001b[0m\n\u001b[0m\u001b[1;32m     11\u001b[0m         \u001b[0;32mreturn\u001b[0m \u001b[0mrequester\u001b[0m\u001b[0;34m(\u001b[0m\u001b[0mreq\u001b[0m\u001b[0;34m,\u001b[0m \u001b[0;34m**\u001b[0m\u001b[0mkwargs\u001b[0m\u001b[0;34m)\u001b[0m\u001b[0;34m\u001b[0m\u001b[0;34m\u001b[0m\u001b[0m\n",
            "\u001b[0;32m/usr/lib/python3.6/urllib/request.py\u001b[0m in \u001b[0;36m__init__\u001b[0;34m(self, url, data, headers, origin_req_host, unverifiable, method)\u001b[0m\n\u001b[1;32m    328\u001b[0m                  method=None):\n\u001b[0;32m--> 329\u001b[0;31m         \u001b[0mself\u001b[0m\u001b[0;34m.\u001b[0m\u001b[0mfull_url\u001b[0m \u001b[0;34m=\u001b[0m \u001b[0murl\u001b[0m\u001b[0;34m\u001b[0m\u001b[0;34m\u001b[0m\u001b[0m\n\u001b[0m\u001b[1;32m    330\u001b[0m         \u001b[0mself\u001b[0m\u001b[0;34m.\u001b[0m\u001b[0mheaders\u001b[0m \u001b[0;34m=\u001b[0m \u001b[0;34m{\u001b[0m\u001b[0;34m}\u001b[0m\u001b[0;34m\u001b[0m\u001b[0;34m\u001b[0m\u001b[0m\n",
            "\u001b[0;32m/usr/lib/python3.6/urllib/request.py\u001b[0m in \u001b[0;36mfull_url\u001b[0;34m(self, url)\u001b[0m\n\u001b[1;32m    354\u001b[0m         \u001b[0mself\u001b[0m\u001b[0;34m.\u001b[0m\u001b[0m_full_url\u001b[0m\u001b[0;34m,\u001b[0m \u001b[0mself\u001b[0m\u001b[0;34m.\u001b[0m\u001b[0mfragment\u001b[0m \u001b[0;34m=\u001b[0m \u001b[0msplittag\u001b[0m\u001b[0;34m(\u001b[0m\u001b[0mself\u001b[0m\u001b[0;34m.\u001b[0m\u001b[0m_full_url\u001b[0m\u001b[0;34m)\u001b[0m\u001b[0;34m\u001b[0m\u001b[0;34m\u001b[0m\u001b[0m\n\u001b[0;32m--> 355\u001b[0;31m         \u001b[0mself\u001b[0m\u001b[0;34m.\u001b[0m\u001b[0m_parse\u001b[0m\u001b[0;34m(\u001b[0m\u001b[0;34m)\u001b[0m\u001b[0;34m\u001b[0m\u001b[0;34m\u001b[0m\u001b[0m\n\u001b[0m\u001b[1;32m    356\u001b[0m \u001b[0;34m\u001b[0m\u001b[0m\n",
            "\u001b[0;32m/usr/lib/python3.6/urllib/request.py\u001b[0m in \u001b[0;36m_parse\u001b[0;34m(self)\u001b[0m\n\u001b[1;32m    383\u001b[0m         \u001b[0;32mif\u001b[0m \u001b[0mself\u001b[0m\u001b[0;34m.\u001b[0m\u001b[0mtype\u001b[0m \u001b[0;32mis\u001b[0m \u001b[0;32mNone\u001b[0m\u001b[0;34m:\u001b[0m\u001b[0;34m\u001b[0m\u001b[0;34m\u001b[0m\u001b[0m\n\u001b[0;32m--> 384\u001b[0;31m             \u001b[0;32mraise\u001b[0m \u001b[0mValueError\u001b[0m\u001b[0;34m(\u001b[0m\u001b[0;34m\"unknown url type: %r\"\u001b[0m \u001b[0;34m%\u001b[0m \u001b[0mself\u001b[0m\u001b[0;34m.\u001b[0m\u001b[0mfull_url\u001b[0m\u001b[0;34m)\u001b[0m\u001b[0;34m\u001b[0m\u001b[0;34m\u001b[0m\u001b[0m\n\u001b[0m\u001b[1;32m    385\u001b[0m         \u001b[0mself\u001b[0m\u001b[0;34m.\u001b[0m\u001b[0mhost\u001b[0m\u001b[0;34m,\u001b[0m \u001b[0mself\u001b[0m\u001b[0;34m.\u001b[0m\u001b[0mselector\u001b[0m \u001b[0;34m=\u001b[0m \u001b[0msplithost\u001b[0m\u001b[0;34m(\u001b[0m\u001b[0mrest\u001b[0m\u001b[0;34m)\u001b[0m\u001b[0;34m\u001b[0m\u001b[0;34m\u001b[0m\u001b[0m\n",
            "\u001b[0;31mValueError\u001b[0m: unknown url type: 'urllib.request.Request object at 0x7fdc1c90fe80'",
            "\nDuring handling of the above exception, another exception occurred:\n",
            "\u001b[0;31mGeocoderServiceError\u001b[0m                      Traceback (most recent call last)",
            "\u001b[0;32m<ipython-input-195-756f9773aa07>\u001b[0m in \u001b[0;36m<module>\u001b[0;34m()\u001b[0m\n\u001b[1;32m     15\u001b[0m     \u001b[0;32mreturn\u001b[0m \u001b[0mgeolocator\u001b[0m\u001b[0;34m\u001b[0m\u001b[0;34m\u001b[0m\u001b[0m\n\u001b[1;32m     16\u001b[0m \u001b[0;34m\u001b[0m\u001b[0m\n\u001b[0;32m---> 17\u001b[0;31m \u001b[0mlocation\u001b[0m \u001b[0;34m=\u001b[0m \u001b[0mget_geolocator\u001b[0m\u001b[0;34m(\u001b[0m\u001b[0;34m)\u001b[0m\u001b[0;34m.\u001b[0m\u001b[0mreverse\u001b[0m\u001b[0;34m(\u001b[0m\u001b[0;34m\"https://www.google.com/maps/place/Goyang-si,+Gyeonggi-do/@37.6559448,126.7627806,13z/data=!3m1!4b1!4m5!3m4!1s0x357c908309d05a09:0xd0a0d71a3c16ef7f!8m2!3d37.6583599!4d126.8320201\"\u001b[0m\u001b[0;34m)\u001b[0m\u001b[0;34m\u001b[0m\u001b[0;34m\u001b[0m\u001b[0m\n\u001b[0m\u001b[1;32m     18\u001b[0m \u001b[0maddress\u001b[0m \u001b[0;34m=\u001b[0m \u001b[0mlocation\u001b[0m\u001b[0;34m.\u001b[0m\u001b[0maddress\u001b[0m\u001b[0;34m\u001b[0m\u001b[0;34m\u001b[0m\u001b[0m\n",
            "\u001b[0;32m/usr/local/lib/python3.6/dist-packages/geopy/geocoders/osm.py\u001b[0m in \u001b[0;36mreverse\u001b[0;34m(self, query, exactly_one, timeout, language, addressdetails)\u001b[0m\n\u001b[1;32m    367\u001b[0m \u001b[0;34m\u001b[0m\u001b[0m\n\u001b[1;32m    368\u001b[0m         return self._parse_json(\n\u001b[0;32m--> 369\u001b[0;31m             \u001b[0mself\u001b[0m\u001b[0;34m.\u001b[0m\u001b[0m_call_geocoder\u001b[0m\u001b[0;34m(\u001b[0m\u001b[0murl\u001b[0m\u001b[0;34m,\u001b[0m \u001b[0mtimeout\u001b[0m\u001b[0;34m=\u001b[0m\u001b[0mtimeout\u001b[0m\u001b[0;34m)\u001b[0m\u001b[0;34m,\u001b[0m \u001b[0mexactly_one\u001b[0m\u001b[0;34m\u001b[0m\u001b[0;34m\u001b[0m\u001b[0m\n\u001b[0m\u001b[1;32m    370\u001b[0m         )\n\u001b[1;32m    371\u001b[0m \u001b[0;34m\u001b[0m\u001b[0m\n",
            "\u001b[0;32m/usr/local/lib/python3.6/dist-packages/geopy/geocoders/base.py\u001b[0m in \u001b[0;36m_call_geocoder\u001b[0;34m(self, url, timeout, raw, requester, deserializer, **kwargs)\u001b[0m\n\u001b[1;32m    373\u001b[0m                 \u001b[0;32mif\u001b[0m \u001b[0;34m\"timed out\"\u001b[0m \u001b[0;32min\u001b[0m \u001b[0mmessage\u001b[0m\u001b[0;34m:\u001b[0m\u001b[0;34m\u001b[0m\u001b[0;34m\u001b[0m\u001b[0m\n\u001b[1;32m    374\u001b[0m                     \u001b[0;32mraise\u001b[0m \u001b[0mGeocoderTimedOut\u001b[0m\u001b[0;34m(\u001b[0m\u001b[0;34m'Service timed out'\u001b[0m\u001b[0;34m)\u001b[0m\u001b[0;34m\u001b[0m\u001b[0;34m\u001b[0m\u001b[0m\n\u001b[0;32m--> 375\u001b[0;31m             \u001b[0;32mraise\u001b[0m \u001b[0mGeocoderServiceError\u001b[0m\u001b[0;34m(\u001b[0m\u001b[0mmessage\u001b[0m\u001b[0;34m)\u001b[0m\u001b[0;34m\u001b[0m\u001b[0;34m\u001b[0m\u001b[0m\n\u001b[0m\u001b[1;32m    376\u001b[0m \u001b[0;34m\u001b[0m\u001b[0m\n\u001b[1;32m    377\u001b[0m         \u001b[0;32mif\u001b[0m \u001b[0mhasattr\u001b[0m\u001b[0;34m(\u001b[0m\u001b[0mpage\u001b[0m\u001b[0;34m,\u001b[0m \u001b[0;34m'getcode'\u001b[0m\u001b[0;34m)\u001b[0m\u001b[0;34m:\u001b[0m\u001b[0;34m\u001b[0m\u001b[0;34m\u001b[0m\u001b[0m\n",
            "\u001b[0;31mGeocoderServiceError\u001b[0m: unknown url type: 'urllib.request.Request object at 0x7fdc1c90fe80'"
          ]
        }
      ]
    },
    {
      "cell_type": "markdown",
      "metadata": {
        "id": "DhKV8GygfhLG",
        "colab_type": "text"
      },
      "source": [
        "에러 무슨 일 ㅠㅠ"
      ]
    },
    {
      "cell_type": "code",
      "metadata": {
        "id": "NH3CGIUlfCbe",
        "colab_type": "code",
        "colab": {}
      },
      "source": [
        ""
      ],
      "execution_count": null,
      "outputs": []
    }
  ]
}