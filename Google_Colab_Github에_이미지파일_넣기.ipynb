{
  "nbformat": 4,
  "nbformat_minor": 0,
  "metadata": {
    "colab": {
      "name": "Google Colab/Github에 이미지파일 넣기.ipynb",
      "provenance": [],
      "collapsed_sections": [],
      "authorship_tag": "ABX9TyNr3mnrih0JT1i7GU9JyvxN",
      "include_colab_link": true
    },
    "kernelspec": {
      "name": "python3",
      "display_name": "Python 3"
    }
  },
  "cells": [
    {
      "cell_type": "markdown",
      "metadata": {
        "id": "view-in-github",
        "colab_type": "text"
      },
      "source": [
        "<a href=\"https://colab.research.google.com/github/leenago/Self_studying/blob/master/Google_Colab_Github%EC%97%90_%EC%9D%B4%EB%AF%B8%EC%A7%80%ED%8C%8C%EC%9D%BC_%EB%84%A3%EA%B8%B0.ipynb\" target=\"_parent\"><img src=\"https://colab.research.google.com/assets/colab-badge.svg\" alt=\"Open In Colab\"/></a>"
      ]
    },
    {
      "cell_type": "code",
      "metadata": {
        "id": "tpDnboPjo8Ze",
        "colab_type": "code",
        "colab": {}
      },
      "source": [
        ""
      ],
      "execution_count": null,
      "outputs": []
    },
    {
      "cell_type": "markdown",
      "metadata": {
        "id": "nnMgPlRKpDZb",
        "colab_type": "text"
      },
      "source": [
        "## Google Colab에서 image file 넣는 작업"
      ]
    },
    {
      "cell_type": "markdown",
      "metadata": {
        "id": "qFxMVwV5pPCD",
        "colab_type": "text"
      },
      "source": [
        "- 작성하고 싶었던 글이 있었는데, 이미지를 많이 넣게 되었다. 문득 'Google Colab에서 이미지를 가지고 코드를 다뤄볼 수 있을까?' 하고 찾아보게 되었다.\n",
        "\n",
        "- 일단 맨 처음 참고한 곳은\n",
        ": https://colab.research.google.com/drive/1Dr2kMGXjI_oi6x4Mke1PhPrWVe-3vQFm#scrollTo=G1ZaLuBrXm6d"
      ]
    },
    {
      "cell_type": "markdown",
      "metadata": {
        "id": "8udbnJSL9sZB",
        "colab_type": "text"
      },
      "source": [
        ""
      ]
    },
    {
      "cell_type": "code",
      "metadata": {
        "id": "YSaDgj_7ph9R",
        "colab_type": "code",
        "colab": {}
      },
      "source": [
        ""
      ],
      "execution_count": null,
      "outputs": []
    },
    {
      "cell_type": "code",
      "metadata": {
        "id": "g19mNtrV5dey",
        "colab_type": "code",
        "colab": {
          "base_uri": "https://localhost:8080/",
          "height": 105
        },
        "outputId": "9f7b6e8c-fee6-4308-89f3-a3de978eb192"
      },
      "source": [
        "!pip3 install torch torchvision #"
      ],
      "execution_count": null,
      "outputs": [
        {
          "output_type": "stream",
          "text": [
            "Requirement already satisfied: torch in /usr/local/lib/python3.6/dist-packages (1.6.0+cu101)\n",
            "Requirement already satisfied: torchvision in /usr/local/lib/python3.6/dist-packages (0.7.0+cu101)\n",
            "Requirement already satisfied: future in /usr/local/lib/python3.6/dist-packages (from torch) (0.16.0)\n",
            "Requirement already satisfied: numpy in /usr/local/lib/python3.6/dist-packages (from torch) (1.18.5)\n",
            "Requirement already satisfied: pillow>=4.1.1 in /usr/local/lib/python3.6/dist-packages (from torchvision) (7.0.0)\n"
          ],
          "name": "stdout"
        }
      ]
    },
    {
      "cell_type": "markdown",
      "metadata": {
        "id": "GpvMFoB2-NpZ",
        "colab_type": "text"
      },
      "source": [
        "- torchvision: The torchvision package consists of popular datasets, model architectures, and common image transformations for computer vision.\n",
        "\n",
        "- Torch is an open-source machine learning library, a scientific computing framework, and a script language based on the Lua programming language. It provides a wide range of algorithms for deep learning, and uses the scripting language LuaJIT, and an underlying C implementation.\n",
        "\n",
        "\n",
        "---\n",
        "- 그렇다고 합니다.\n"
      ]
    },
    {
      "cell_type": "code",
      "metadata": {
        "id": "RMqBMBLs-qHU",
        "colab_type": "code",
        "colab": {}
      },
      "source": [
        "import torch, matplotlib #\n",
        "import numpy as np\n",
        "import matplotlib.pyplot as plt\n",
        "import imageio"
      ],
      "execution_count": null,
      "outputs": []
    },
    {
      "cell_type": "markdown",
      "metadata": {
        "id": "XTvF-0Dn-rmY",
        "colab_type": "text"
      },
      "source": [
        "- 일단 라이브러리들을 불러온다.\n",
        "\n",
        "\n",
        "---\n",
        "- Imageio: A Python library that provides an easy interface to read and write a wide range of image data, including animated images, volumetric data, and scientific formats.\n"
      ]
    },
    {
      "cell_type": "code",
      "metadata": {
        "id": "mZqJc5_g_bEC",
        "colab_type": "code",
        "colab": {}
      },
      "source": [
        "matplotlib.rc('image')"
      ],
      "execution_count": null,
      "outputs": []
    },
    {
      "cell_type": "code",
      "metadata": {
        "id": "mkOIeAvG5eeY",
        "colab_type": "code",
        "colab": {
          "base_uri": "https://localhost:8080/",
          "height": 266
        },
        "outputId": "f471e3f7-d2c6-4076-c484-df451226a087"
      },
      "source": [
        " # \n",
        "matplotlib.rc('image')\n",
        "#rc에 대한 grouping, 'image'로 하겠다는 뜻. \n",
        "\n",
        "# Try maybe downloading the image in case the CS webserver goes down.\n",
        "img_url = 'https://scikit-learn.org/stable/_images/grid_search_workflow.png'\n",
        "img = imageio.imread(img_url)\n",
        "\n",
        "# Transform into pytorch tensor.\n",
        "img = torch.tensor(img, dtype=torch.float) / 255.0  \n",
        "\n",
        "# Show the image size.\n",
        "print('Image size: ', img.shape)\n",
        "\n",
        "# Plot the image.\n",
        "def display_image(img):\n",
        "  plt.figure(); plt.imshow(img)\n",
        "  plt.grid(False);  plt.axis('off'); plt.show()\n",
        "  \n",
        "display_image(img)"
      ],
      "execution_count": null,
      "outputs": [
        {
          "output_type": "stream",
          "text": [
            "Image size:  torch.Size([1362, 2031, 4])\n"
          ],
          "name": "stdout"
        },
        {
          "output_type": "display_data",
          "data": {
            "image/png": "[encoded data removed]",
            "text/plain": [
              "<Figure size 432x288 with 1 Axes>"
            ]
          },
          "metadata": {
            "tags": [],
            "needs_background": "light"
          }
        }
      ]
    },
    {
      "cell_type": "code",
      "metadata": {
        "id": "ng84mz6t5ygo",
        "colab_type": "code",
        "colab": {
          "base_uri": "https://localhost:8080/",
          "height": 286
        },
        "outputId": "11809404-1a5e-46d3-c6d4-00dd64710dff"
      },
      "source": [
        "import torch, matplotlib #Torch is an open-source machine learning library, a scientific computing framework, and a script language based on the Lua programming language. It provides a wide range of algorithms for deep learning, and uses the scripting language LuaJIT, and an underlying C implementation.\n",
        "import numpy as np\n",
        "import matplotlib.pyplot as plt\n",
        "import imageio # Imageio is a Python library that provides an easy interface to read and write a wide range of image data, including animated images, volumetric data, and scientific formats.\n",
        "matplotlib.rc('image')\n",
        "#rc에 대한 grouping, 'image'로 하겠다는 뜻. \n",
        "\n",
        "# Try maybe downloading the image in case the CS webserver goes down.\n",
        "img_url = 'https://scikit-learn.org/stable/_images/grid_search_workflow.png'\n",
        "img = imageio.imread(img_url)\n",
        "\n",
        "# Transform into pytorch tensor.\n",
        "img = torch.tensor(img, dtype=torch.float) / 255.0  \n",
        "\n",
        "# Show the image size.\n",
        "print('Image size: ', img.shape)\n",
        "\n",
        "# Plot the image.\n",
        "def display_image(img):\n",
        "  plt.figure(); plt.imshow(img)\n",
        "  plt.grid(True);  plt.axis('on'); plt.show()\n",
        "  \n",
        "display_image(img)"
      ],
      "execution_count": null,
      "outputs": [
        {
          "output_type": "stream",
          "text": [
            "Image size:  torch.Size([1362, 2031, 4])\n"
          ],
          "name": "stdout"
        },
        {
          "output_type": "display_data",
          "data": {
            "image/png": "[encoded data removed]",
            "text/plain": [
              "<Figure size 432x288 with 1 Axes>"
            ]
          },
          "metadata": {
            "tags": [],
            "needs_background": "light"
          }
        }
      ]
    },
    {
      "cell_type": "markdown",
      "metadata": {
        "id": "sJoHjCONLwo6",
        "colab_type": "text"
      },
      "source": [
        "+) 추가\n",
        "\n",
        "오늘 한 방법인데, \n",
        "\n",
        "1) Google Colab에서 이미지 파일 보이게 하기\n",
        "\n",
        "2) Github에 업로드시 이미지 파일 보이게 하기  -- 가 있다.\n",
        "\n"
      ]
    },
    {
      "cell_type": "markdown",
      "metadata": {
        "id": "WfN1ZhwaMyIt",
        "colab_type": "text"
      },
      "source": [
        "#### 1) Google Colab에서 이미지 파일 보이게 하기"
      ]
    },
    {
      "cell_type": "code",
      "metadata": {
        "id": "Fndyir9_MzQh",
        "colab_type": "code",
        "colab": {
          "base_uri": "https://localhost:8080/",
          "height": 52
        },
        "outputId": "cf4ec23b-833c-4b04-cc2c-ea0e30d7a702"
      },
      "source": [
        "![](https://drive.google.com/uc?export=view&id=1dil1zf3EgpLPsZR1dRf-By4Y10z__1S8)\n"
      ],
      "execution_count": 11,
      "outputs": [
        {
          "output_type": "stream",
          "text": [
            "/bin/bash: -c: line 0: syntax error near unexpected token `https://drive.google.com/uc?export=view'\n",
            "/bin/bash: -c: line 0: `[](https://drive.google.com/uc?export=view&id=1dil1zf3EgpLPsZR1dRf-By4Y10z__1S8)'\n"
          ],
          "name": "stdout"
        }
      ]
    },
    {
      "cell_type": "code",
      "metadata": {
        "id": "qjMT6910M_pZ",
        "colab_type": "code",
        "colab": {}
      },
      "source": [
        ""
      ],
      "execution_count": null,
      "outputs": []
    }
  ]
}